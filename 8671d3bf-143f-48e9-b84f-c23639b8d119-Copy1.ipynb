{
 "cells": [
  {
   "cell_type": "markdown",
   "metadata": {},
   "source": [
    "# Проектная работа 3\n",
    "# Анализ программы лояльности магазина «Строили, строили и наконец построили»"
   ]
  },
  {
   "cell_type": "markdown",
   "metadata": {},
   "source": [
    "# Описание проекта\n",
    "\n",
    "    Менеджер проекта, отвечающий за программу лояльности, хочет оценить результаты внедрения программы лояльности, понять насколько сработала программа лояльности, стоит ли ее использовать дальше.\n",
    "    Для него требуется проверить повышаются ли основные показатели у клиентов, входящих в программу лояльности.\n",
    "    Исследование будет проводиться на основе предоставленного датасета за весь период предоставленных данных.\n",
    "    Подобное исследование проводится впервые, поэтому требуется максимально изложить как работают решения.\n",
    "    Результатом исследование является оценка программы лояльности, действительно ли она показывает ожидаемый рост среднего чека и количества продуктов в покупательской корзине.\n",
    "    Задачами проекта являются: \n",
    "- проведение исследовательского анализа данных для понимания общей картины,\n",
    "- получение основных ритейл-метрик по когортам у клиентов внутри программы лояльности и вне ее,\n",
    "- анализ эффективности текущей программы лояльности,\n",
    "- предложение способов повышения эффективности, обоснование использования других программ лояльности в случае не эффективности программы,\n",
    "- определение клиентовк подключению к программе лояльности в первую очередь в случае ее эффективности,\n",
    "- проверка гипотезы.\n",
    "\n",
    "    Результыты необходимо предоставить в виде:\n",
    "- тетради JupyterNotebook со всеми расчетами, выводами и пояснениеями результатов,\n",
    "- презентации для продуктового менеджера, рассчитанной на небольшое сообщение  - пять -семь минут и содержащей ответы на главные вопросы,\n",
    "- дашборд, иллюстрирующий пример отчета, который может быть автоматизирован и использован как часть функционала системы.\n"
   ]
  },
  {
   "cell_type": "markdown",
   "metadata": {},
   "source": [
    "# Описание данных \n",
    "\n",
    "Датасет содержит данные о покупках в магазине строительных материалов «Строили, строили и наконец построили». Все покупатели могут получить доступ в магазин с использованием персональных карт. За 200 рублей в месяц они могут стать участниками программы лояльности. В программу включены скидки, специальные предложения, подарки.\n",
    "\n",
    "Файл retail_dataset.csv:\n",
    "\n",
    "- `purchaseId` — id чека;\n",
    "- `item_ID` — id товара;\n",
    "- `purchasedate` — дата покупки;\n",
    "- `Quantity` — количество товара;\n",
    "- `CustomerID` — id покупателя;\n",
    "- `ShopID` — id магазина;\n",
    "- `loyalty_program` — участвует ли покупатель в программе лояльности;\n",
    "\n",
    "Файл product_codes.csv:\n",
    "\n",
    "- `productID` — id товара;\n",
    "- `price_per_one` — стоимость одной единицы товара;\n",
    "\n"
   ]
  },
  {
   "cell_type": "markdown",
   "metadata": {},
   "source": [
    "## Ход работы"
   ]
  },
  {
   "cell_type": "markdown",
   "metadata": {},
   "source": [
    "### Шаг 1. Открытие файл с данными и изучение общей информации."
   ]
  },
  {
   "cell_type": "code",
   "execution_count": 1,
   "metadata": {},
   "outputs": [],
   "source": [
    "# импортируем нужные библиотеки\n",
    "import pandas as pd\n",
    "import datetime as dt\n",
    "import numpy as np\n",
    "import matplotlib.pyplot as plt\n",
    "from pandas.plotting import register_matplotlib_converters\n",
    "import warnings\n",
    "import seaborn as sns\n",
    "from matplotlib.ticker import FormatStrFormatter\n",
    "from matplotlib.ticker import NullFormatter\n",
    "import plotly.express as px\n",
    "from plotly import graph_objects as go\n",
    "import matplotlib.pyplot as plt\n",
    "%matplotlib inline\n",
    "# импортируем функции для работы со временем\n",
    "from datetime import datetime, timedelta\n",
    "import scipy.stats as stats"
   ]
  },
  {
   "cell_type": "code",
   "execution_count": 2,
   "metadata": {},
   "outputs": [],
   "source": [
    "# загрузим данные 1го файла\n",
    "df = pd.read_csv('/datasets/retail_dataset.csv')"
   ]
  },
  {
   "cell_type": "code",
   "execution_count": 3,
   "metadata": {},
   "outputs": [
    {
     "data": {
      "text/html": [
       "<div>\n",
       "<style scoped>\n",
       "    .dataframe tbody tr th:only-of-type {\n",
       "        vertical-align: middle;\n",
       "    }\n",
       "\n",
       "    .dataframe tbody tr th {\n",
       "        vertical-align: top;\n",
       "    }\n",
       "\n",
       "    .dataframe thead th {\n",
       "        text-align: right;\n",
       "    }\n",
       "</style>\n",
       "<table border=\"1\" class=\"dataframe\">\n",
       "  <thead>\n",
       "    <tr style=\"text-align: right;\">\n",
       "      <th></th>\n",
       "      <th>purchaseid</th>\n",
       "      <th>item_ID</th>\n",
       "      <th>Quantity</th>\n",
       "      <th>purchasedate</th>\n",
       "      <th>CustomerID</th>\n",
       "      <th>ShopID</th>\n",
       "      <th>loyalty_program</th>\n",
       "    </tr>\n",
       "  </thead>\n",
       "  <tbody>\n",
       "    <tr>\n",
       "      <th>0</th>\n",
       "      <td>538280</td>\n",
       "      <td>21873</td>\n",
       "      <td>11</td>\n",
       "      <td>2016-12-10 12:50:00</td>\n",
       "      <td>18427.0</td>\n",
       "      <td>Shop 0</td>\n",
       "      <td>0.0</td>\n",
       "    </tr>\n",
       "    <tr>\n",
       "      <th>1</th>\n",
       "      <td>538862</td>\n",
       "      <td>22195</td>\n",
       "      <td>0</td>\n",
       "      <td>2016-12-14 14:11:00</td>\n",
       "      <td>22389.0</td>\n",
       "      <td>Shop 0</td>\n",
       "      <td>1.0</td>\n",
       "    </tr>\n",
       "    <tr>\n",
       "      <th>2</th>\n",
       "      <td>538855</td>\n",
       "      <td>21239</td>\n",
       "      <td>7</td>\n",
       "      <td>2016-12-14 13:50:00</td>\n",
       "      <td>22182.0</td>\n",
       "      <td>Shop 0</td>\n",
       "      <td>1.0</td>\n",
       "    </tr>\n",
       "    <tr>\n",
       "      <th>3</th>\n",
       "      <td>543543</td>\n",
       "      <td>22271</td>\n",
       "      <td>0</td>\n",
       "      <td>2017-02-09 15:33:00</td>\n",
       "      <td>23522.0</td>\n",
       "      <td>Shop 0</td>\n",
       "      <td>1.0</td>\n",
       "    </tr>\n",
       "    <tr>\n",
       "      <th>4</th>\n",
       "      <td>543812</td>\n",
       "      <td>79321</td>\n",
       "      <td>0</td>\n",
       "      <td>2017-02-13 14:40:00</td>\n",
       "      <td>23151.0</td>\n",
       "      <td>Shop 0</td>\n",
       "      <td>1.0</td>\n",
       "    </tr>\n",
       "  </tbody>\n",
       "</table>\n",
       "</div>"
      ],
      "text/plain": [
       "  purchaseid item_ID  Quantity         purchasedate  CustomerID  ShopID  \\\n",
       "0     538280   21873        11  2016-12-10 12:50:00     18427.0  Shop 0   \n",
       "1     538862   22195         0  2016-12-14 14:11:00     22389.0  Shop 0   \n",
       "2     538855   21239         7  2016-12-14 13:50:00     22182.0  Shop 0   \n",
       "3     543543   22271         0  2017-02-09 15:33:00     23522.0  Shop 0   \n",
       "4     543812   79321         0  2017-02-13 14:40:00     23151.0  Shop 0   \n",
       "\n",
       "   loyalty_program  \n",
       "0              0.0  \n",
       "1              1.0  \n",
       "2              1.0  \n",
       "3              1.0  \n",
       "4              1.0  "
      ]
     },
     "metadata": {},
     "output_type": "display_data"
    }
   ],
   "source": [
    "# посмотрим первые 5 строк 1го файла\n",
    "pd.set_option('display.max_colwidth', 300)\n",
    "display(df.head())"
   ]
  },
  {
   "cell_type": "code",
   "execution_count": 4,
   "metadata": {},
   "outputs": [],
   "source": [
    "# загрузим данные 2го файла\n",
    "df2 = pd.read_csv('/datasets/product_codes.csv')"
   ]
  },
  {
   "cell_type": "code",
   "execution_count": 5,
   "metadata": {},
   "outputs": [
    {
     "data": {
      "text/html": [
       "<div>\n",
       "<style scoped>\n",
       "    .dataframe tbody tr th:only-of-type {\n",
       "        vertical-align: middle;\n",
       "    }\n",
       "\n",
       "    .dataframe tbody tr th {\n",
       "        vertical-align: top;\n",
       "    }\n",
       "\n",
       "    .dataframe thead th {\n",
       "        text-align: right;\n",
       "    }\n",
       "</style>\n",
       "<table border=\"1\" class=\"dataframe\">\n",
       "  <thead>\n",
       "    <tr style=\"text-align: right;\">\n",
       "      <th></th>\n",
       "      <th>productID</th>\n",
       "      <th>price_per_one</th>\n",
       "    </tr>\n",
       "  </thead>\n",
       "  <tbody>\n",
       "    <tr>\n",
       "      <th>0</th>\n",
       "      <td>85123A</td>\n",
       "      <td>2.55</td>\n",
       "    </tr>\n",
       "    <tr>\n",
       "      <th>1</th>\n",
       "      <td>71053</td>\n",
       "      <td>3.39</td>\n",
       "    </tr>\n",
       "    <tr>\n",
       "      <th>2</th>\n",
       "      <td>84406B</td>\n",
       "      <td>2.75</td>\n",
       "    </tr>\n",
       "    <tr>\n",
       "      <th>3</th>\n",
       "      <td>84029G</td>\n",
       "      <td>3.39</td>\n",
       "    </tr>\n",
       "    <tr>\n",
       "      <th>4</th>\n",
       "      <td>84029E</td>\n",
       "      <td>3.39</td>\n",
       "    </tr>\n",
       "  </tbody>\n",
       "</table>\n",
       "</div>"
      ],
      "text/plain": [
       "  productID  price_per_one\n",
       "0    85123A           2.55\n",
       "1     71053           3.39\n",
       "2    84406B           2.75\n",
       "3    84029G           3.39\n",
       "4    84029E           3.39"
      ]
     },
     "metadata": {},
     "output_type": "display_data"
    }
   ],
   "source": [
    "# посмотрим первые 5 строк 2го файла\n",
    "pd.set_option('display.max_colwidth', 300)\n",
    "display(df2.head())"
   ]
  },
  {
   "cell_type": "code",
   "execution_count": 6,
   "metadata": {},
   "outputs": [
    {
     "name": "stdout",
     "output_type": "stream",
     "text": [
      "<class 'pandas.core.frame.DataFrame'>\n",
      "RangeIndex: 105335 entries, 0 to 105334\n",
      "Data columns (total 7 columns):\n",
      " #   Column           Non-Null Count   Dtype  \n",
      "---  ------           --------------   -----  \n",
      " 0   purchaseid       105335 non-null  object \n",
      " 1   item_ID          105335 non-null  object \n",
      " 2   Quantity         105335 non-null  int64  \n",
      " 3   purchasedate     105335 non-null  object \n",
      " 4   CustomerID       69125 non-null   float64\n",
      " 5   ShopID           105335 non-null  object \n",
      " 6   loyalty_program  105335 non-null  float64\n",
      "dtypes: float64(2), int64(1), object(4)\n",
      "memory usage: 5.6+ MB\n"
     ]
    }
   ],
   "source": [
    "# выведем основную информацию о первом файле\n",
    "\n",
    "df.info()"
   ]
  },
  {
   "cell_type": "code",
   "execution_count": 7,
   "metadata": {},
   "outputs": [
    {
     "name": "stdout",
     "output_type": "stream",
     "text": [
      "<class 'pandas.core.frame.DataFrame'>\n",
      "RangeIndex: 105335 entries, 0 to 105334\n",
      "Data columns (total 7 columns):\n",
      " #   Column           Non-Null Count   Dtype         \n",
      "---  ------           --------------   -----         \n",
      " 0   purchaseid       105335 non-null  object        \n",
      " 1   item_ID          105335 non-null  object        \n",
      " 2   Quantity         105335 non-null  int64         \n",
      " 3   purchasedate     105335 non-null  datetime64[ns]\n",
      " 4   CustomerID       69125 non-null   float64       \n",
      " 5   ShopID           105335 non-null  object        \n",
      " 6   loyalty_program  105335 non-null  float64       \n",
      "dtypes: datetime64[ns](1), float64(2), int64(1), object(3)\n",
      "memory usage: 5.6+ MB\n"
     ]
    }
   ],
   "source": [
    "# Исправим тип в столбце purchasedate :\n",
    "df['purchasedate'] = df['purchasedate'].astype('datetime64')\n",
    "df.info()"
   ]
  },
  {
   "cell_type": "code",
   "execution_count": 8,
   "metadata": {},
   "outputs": [
    {
     "name": "stdout",
     "output_type": "stream",
     "text": [
      "<class 'pandas.core.frame.DataFrame'>\n",
      "RangeIndex: 9969 entries, 0 to 9968\n",
      "Data columns (total 2 columns):\n",
      " #   Column         Non-Null Count  Dtype  \n",
      "---  ------         --------------  -----  \n",
      " 0   productID      9969 non-null   object \n",
      " 1   price_per_one  9969 non-null   float64\n",
      "dtypes: float64(1), object(1)\n",
      "memory usage: 155.9+ KB\n"
     ]
    }
   ],
   "source": [
    "# выведем основную информацию о втором файле\n",
    "\n",
    "df2.info()"
   ]
  },
  {
   "cell_type": "code",
   "execution_count": 9,
   "metadata": {},
   "outputs": [
    {
     "data": {
      "text/plain": [
       "purchaseid             0\n",
       "item_ID                0\n",
       "Quantity               0\n",
       "purchasedate           0\n",
       "CustomerID         36210\n",
       "ShopID                 0\n",
       "loyalty_program        0\n",
       "dtype: int64"
      ]
     },
     "execution_count": 9,
     "metadata": {},
     "output_type": "execute_result"
    }
   ],
   "source": [
    "# проверим пропуски в первом файле\n",
    "df.isna().sum()"
   ]
  },
  {
   "cell_type": "code",
   "execution_count": 10,
   "metadata": {},
   "outputs": [
    {
     "data": {
      "text/html": [
       "<style  type=\"text/css\" >\n",
       "#T_5826e_row0_col0{\n",
       "            background-color:  #b40426;\n",
       "            color:  #f1f1f1;\n",
       "        }#T_5826e_row1_col0,#T_5826e_row2_col0,#T_5826e_row3_col0,#T_5826e_row4_col0,#T_5826e_row5_col0,#T_5826e_row6_col0{\n",
       "            background-color:  #3b4cc0;\n",
       "            color:  #f1f1f1;\n",
       "        }</style><table id=\"T_5826e_\" ><thead>    <tr>        <th class=\"blank level0\" ></th>        <th class=\"col_heading level0 col0\" >percent_space</th>    </tr></thead><tbody>\n",
       "                <tr>\n",
       "                        <th id=\"T_5826e_level0_row0\" class=\"row_heading level0 row0\" >CustomerID</th>\n",
       "                        <td id=\"T_5826e_row0_col0\" class=\"data row0 col0\" >34.4</td>\n",
       "            </tr>\n",
       "            <tr>\n",
       "                        <th id=\"T_5826e_level0_row1\" class=\"row_heading level0 row1\" >purchaseid</th>\n",
       "                        <td id=\"T_5826e_row1_col0\" class=\"data row1 col0\" >0.0</td>\n",
       "            </tr>\n",
       "            <tr>\n",
       "                        <th id=\"T_5826e_level0_row2\" class=\"row_heading level0 row2\" >item_ID</th>\n",
       "                        <td id=\"T_5826e_row2_col0\" class=\"data row2 col0\" >0.0</td>\n",
       "            </tr>\n",
       "            <tr>\n",
       "                        <th id=\"T_5826e_level0_row3\" class=\"row_heading level0 row3\" >Quantity</th>\n",
       "                        <td id=\"T_5826e_row3_col0\" class=\"data row3 col0\" >0.0</td>\n",
       "            </tr>\n",
       "            <tr>\n",
       "                        <th id=\"T_5826e_level0_row4\" class=\"row_heading level0 row4\" >purchasedate</th>\n",
       "                        <td id=\"T_5826e_row4_col0\" class=\"data row4 col0\" >0.0</td>\n",
       "            </tr>\n",
       "            <tr>\n",
       "                        <th id=\"T_5826e_level0_row5\" class=\"row_heading level0 row5\" >ShopID</th>\n",
       "                        <td id=\"T_5826e_row5_col0\" class=\"data row5 col0\" >0.0</td>\n",
       "            </tr>\n",
       "            <tr>\n",
       "                        <th id=\"T_5826e_level0_row6\" class=\"row_heading level0 row6\" >loyalty_program</th>\n",
       "                        <td id=\"T_5826e_row6_col0\" class=\"data row6 col0\" >0.0</td>\n",
       "            </tr>\n",
       "    </tbody></table>"
      ],
      "text/plain": [
       "<pandas.io.formats.style.Styler at 0x7fa4ccef08b0>"
      ]
     },
     "execution_count": 10,
     "metadata": {},
     "output_type": "execute_result"
    }
   ],
   "source": [
    "# определили процент пропусков в столбцах в первом файле\n",
    "(\n",
    "    (df.isna().mean()*100)\n",
    "    .sort_values(ascending=False)\n",
    "    .to_frame()\n",
    "    .rename(columns = {0:'percent_space'})\n",
    "    .style.background_gradient('coolwarm').format(\"{:.1f}\")\n",
    ")"
   ]
  },
  {
   "cell_type": "code",
   "execution_count": 11,
   "metadata": {},
   "outputs": [
    {
     "data": {
      "text/html": [
       "<div>\n",
       "<style scoped>\n",
       "    .dataframe tbody tr th:only-of-type {\n",
       "        vertical-align: middle;\n",
       "    }\n",
       "\n",
       "    .dataframe tbody tr th {\n",
       "        vertical-align: top;\n",
       "    }\n",
       "\n",
       "    .dataframe thead th {\n",
       "        text-align: right;\n",
       "    }\n",
       "</style>\n",
       "<table border=\"1\" class=\"dataframe\">\n",
       "  <thead>\n",
       "    <tr style=\"text-align: right;\">\n",
       "      <th></th>\n",
       "      <th>purchaseid</th>\n",
       "      <th>item_ID</th>\n",
       "      <th>Quantity</th>\n",
       "      <th>purchasedate</th>\n",
       "      <th>CustomerID</th>\n",
       "      <th>ShopID</th>\n",
       "      <th>loyalty_program</th>\n",
       "    </tr>\n",
       "  </thead>\n",
       "  <tbody>\n",
       "    <tr>\n",
       "      <th>6</th>\n",
       "      <td>540468</td>\n",
       "      <td>22189</td>\n",
       "      <td>0</td>\n",
       "      <td>2017-01-07 13:55:00</td>\n",
       "      <td>NaN</td>\n",
       "      <td>Shop 0</td>\n",
       "      <td>0.0</td>\n",
       "    </tr>\n",
       "    <tr>\n",
       "      <th>7</th>\n",
       "      <td>541424</td>\n",
       "      <td>79321</td>\n",
       "      <td>1</td>\n",
       "      <td>2017-01-17 17:57:00</td>\n",
       "      <td>NaN</td>\n",
       "      <td>Shop 0</td>\n",
       "      <td>0.0</td>\n",
       "    </tr>\n",
       "    <tr>\n",
       "      <th>8</th>\n",
       "      <td>538883</td>\n",
       "      <td>22891</td>\n",
       "      <td>0</td>\n",
       "      <td>2016-12-14 15:56:00</td>\n",
       "      <td>NaN</td>\n",
       "      <td>Shop 0</td>\n",
       "      <td>0.0</td>\n",
       "    </tr>\n",
       "    <tr>\n",
       "      <th>11</th>\n",
       "      <td>541696</td>\n",
       "      <td>22197</td>\n",
       "      <td>4</td>\n",
       "      <td>2017-01-20 18:08:00</td>\n",
       "      <td>NaN</td>\n",
       "      <td>Shop 0</td>\n",
       "      <td>0.0</td>\n",
       "    </tr>\n",
       "    <tr>\n",
       "      <th>16</th>\n",
       "      <td>539744</td>\n",
       "      <td>22300</td>\n",
       "      <td>5</td>\n",
       "      <td>2016-12-21 15:21:00</td>\n",
       "      <td>NaN</td>\n",
       "      <td>Shop 0</td>\n",
       "      <td>0.0</td>\n",
       "    </tr>\n",
       "    <tr>\n",
       "      <th>...</th>\n",
       "      <td>...</td>\n",
       "      <td>...</td>\n",
       "      <td>...</td>\n",
       "      <td>...</td>\n",
       "      <td>...</td>\n",
       "      <td>...</td>\n",
       "      <td>...</td>\n",
       "    </tr>\n",
       "    <tr>\n",
       "      <th>105325</th>\n",
       "      <td>536982</td>\n",
       "      <td>20719</td>\n",
       "      <td>69</td>\n",
       "      <td>2016-12-03 14:27:00</td>\n",
       "      <td>NaN</td>\n",
       "      <td>Shop 0</td>\n",
       "      <td>0.0</td>\n",
       "    </tr>\n",
       "    <tr>\n",
       "      <th>105326</th>\n",
       "      <td>540681</td>\n",
       "      <td>22227</td>\n",
       "      <td>1</td>\n",
       "      <td>2017-01-10 16:25:00</td>\n",
       "      <td>NaN</td>\n",
       "      <td>Shop 0</td>\n",
       "      <td>0.0</td>\n",
       "    </tr>\n",
       "    <tr>\n",
       "      <th>105327</th>\n",
       "      <td>538349</td>\n",
       "      <td>22625</td>\n",
       "      <td>0</td>\n",
       "      <td>2016-12-10 14:59:00</td>\n",
       "      <td>NaN</td>\n",
       "      <td>Shop 0</td>\n",
       "      <td>0.0</td>\n",
       "    </tr>\n",
       "    <tr>\n",
       "      <th>105329</th>\n",
       "      <td>540154</td>\n",
       "      <td>22134</td>\n",
       "      <td>3</td>\n",
       "      <td>2017-01-05 11:30:00</td>\n",
       "      <td>NaN</td>\n",
       "      <td>Shop 0</td>\n",
       "      <td>0.0</td>\n",
       "    </tr>\n",
       "    <tr>\n",
       "      <th>105330</th>\n",
       "      <td>538566</td>\n",
       "      <td>21826</td>\n",
       "      <td>1</td>\n",
       "      <td>2016-12-13 11:21:00</td>\n",
       "      <td>NaN</td>\n",
       "      <td>Shop 0</td>\n",
       "      <td>0.0</td>\n",
       "    </tr>\n",
       "  </tbody>\n",
       "</table>\n",
       "<p>36210 rows × 7 columns</p>\n",
       "</div>"
      ],
      "text/plain": [
       "       purchaseid item_ID  Quantity        purchasedate  CustomerID  ShopID  \\\n",
       "6          540468   22189         0 2017-01-07 13:55:00         NaN  Shop 0   \n",
       "7          541424   79321         1 2017-01-17 17:57:00         NaN  Shop 0   \n",
       "8          538883   22891         0 2016-12-14 15:56:00         NaN  Shop 0   \n",
       "11         541696   22197         4 2017-01-20 18:08:00         NaN  Shop 0   \n",
       "16         539744   22300         5 2016-12-21 15:21:00         NaN  Shop 0   \n",
       "...           ...     ...       ...                 ...         ...     ...   \n",
       "105325     536982   20719        69 2016-12-03 14:27:00         NaN  Shop 0   \n",
       "105326     540681   22227         1 2017-01-10 16:25:00         NaN  Shop 0   \n",
       "105327     538349   22625         0 2016-12-10 14:59:00         NaN  Shop 0   \n",
       "105329     540154   22134         3 2017-01-05 11:30:00         NaN  Shop 0   \n",
       "105330     538566   21826         1 2016-12-13 11:21:00         NaN  Shop 0   \n",
       "\n",
       "        loyalty_program  \n",
       "6                   0.0  \n",
       "7                   0.0  \n",
       "8                   0.0  \n",
       "11                  0.0  \n",
       "16                  0.0  \n",
       "...                 ...  \n",
       "105325              0.0  \n",
       "105326              0.0  \n",
       "105327              0.0  \n",
       "105329              0.0  \n",
       "105330              0.0  \n",
       "\n",
       "[36210 rows x 7 columns]"
      ]
     },
     "execution_count": 11,
     "metadata": {},
     "output_type": "execute_result"
    }
   ],
   "source": [
    "# посмотрим строки с пропуском данных о покупателях в первом файле\n",
    "df[df['CustomerID'].isna()]"
   ]
  },
  {
   "cell_type": "code",
   "execution_count": 12,
   "metadata": {},
   "outputs": [
    {
     "data": {
      "text/plain": [
       "productID        0\n",
       "price_per_one    0\n",
       "dtype: int64"
      ]
     },
     "execution_count": 12,
     "metadata": {},
     "output_type": "execute_result"
    }
   ],
   "source": [
    "# проверим пропуски во втором файле\n",
    "df2.isna().sum()"
   ]
  },
  {
   "cell_type": "markdown",
   "metadata": {},
   "source": [
    "1. В файле retail_dataset.csv отсутствуеи 34% данных об идентификаторе покупателя. Удалить такое количество нельзя, есть предположение (проверим позже), что это покупатели не участвующие в программе лояльности. Во втором файле пропусков нет.\n",
    "2. Для удобства нам так же нужно переименовать столбцы."
   ]
  },
  {
   "cell_type": "markdown",
   "metadata": {},
   "source": [
    "### Шаг 2. Предобработка  данных"
   ]
  },
  {
   "cell_type": "code",
   "execution_count": 13,
   "metadata": {},
   "outputs": [
    {
     "data": {
      "text/html": [
       "<div>\n",
       "<style scoped>\n",
       "    .dataframe tbody tr th:only-of-type {\n",
       "        vertical-align: middle;\n",
       "    }\n",
       "\n",
       "    .dataframe tbody tr th {\n",
       "        vertical-align: top;\n",
       "    }\n",
       "\n",
       "    .dataframe thead th {\n",
       "        text-align: right;\n",
       "    }\n",
       "</style>\n",
       "<table border=\"1\" class=\"dataframe\">\n",
       "  <thead>\n",
       "    <tr style=\"text-align: right;\">\n",
       "      <th></th>\n",
       "      <th>purchase</th>\n",
       "      <th>item</th>\n",
       "      <th>quantity</th>\n",
       "      <th>date</th>\n",
       "      <th>customer</th>\n",
       "      <th>shop</th>\n",
       "      <th>loyalty_program</th>\n",
       "    </tr>\n",
       "  </thead>\n",
       "  <tbody>\n",
       "    <tr>\n",
       "      <th>0</th>\n",
       "      <td>538280</td>\n",
       "      <td>21873</td>\n",
       "      <td>11</td>\n",
       "      <td>2016-12-10 12:50:00</td>\n",
       "      <td>18427.0</td>\n",
       "      <td>Shop 0</td>\n",
       "      <td>0.0</td>\n",
       "    </tr>\n",
       "    <tr>\n",
       "      <th>1</th>\n",
       "      <td>538862</td>\n",
       "      <td>22195</td>\n",
       "      <td>0</td>\n",
       "      <td>2016-12-14 14:11:00</td>\n",
       "      <td>22389.0</td>\n",
       "      <td>Shop 0</td>\n",
       "      <td>1.0</td>\n",
       "    </tr>\n",
       "    <tr>\n",
       "      <th>2</th>\n",
       "      <td>538855</td>\n",
       "      <td>21239</td>\n",
       "      <td>7</td>\n",
       "      <td>2016-12-14 13:50:00</td>\n",
       "      <td>22182.0</td>\n",
       "      <td>Shop 0</td>\n",
       "      <td>1.0</td>\n",
       "    </tr>\n",
       "    <tr>\n",
       "      <th>3</th>\n",
       "      <td>543543</td>\n",
       "      <td>22271</td>\n",
       "      <td>0</td>\n",
       "      <td>2017-02-09 15:33:00</td>\n",
       "      <td>23522.0</td>\n",
       "      <td>Shop 0</td>\n",
       "      <td>1.0</td>\n",
       "    </tr>\n",
       "    <tr>\n",
       "      <th>4</th>\n",
       "      <td>543812</td>\n",
       "      <td>79321</td>\n",
       "      <td>0</td>\n",
       "      <td>2017-02-13 14:40:00</td>\n",
       "      <td>23151.0</td>\n",
       "      <td>Shop 0</td>\n",
       "      <td>1.0</td>\n",
       "    </tr>\n",
       "    <tr>\n",
       "      <th>...</th>\n",
       "      <td>...</td>\n",
       "      <td>...</td>\n",
       "      <td>...</td>\n",
       "      <td>...</td>\n",
       "      <td>...</td>\n",
       "      <td>...</td>\n",
       "      <td>...</td>\n",
       "    </tr>\n",
       "    <tr>\n",
       "      <th>105330</th>\n",
       "      <td>538566</td>\n",
       "      <td>21826</td>\n",
       "      <td>1</td>\n",
       "      <td>2016-12-13 11:21:00</td>\n",
       "      <td>NaN</td>\n",
       "      <td>Shop 0</td>\n",
       "      <td>0.0</td>\n",
       "    </tr>\n",
       "    <tr>\n",
       "      <th>105331</th>\n",
       "      <td>540247</td>\n",
       "      <td>21742</td>\n",
       "      <td>0</td>\n",
       "      <td>2017-01-05 15:56:00</td>\n",
       "      <td>21143.0</td>\n",
       "      <td>Shop 0</td>\n",
       "      <td>0.0</td>\n",
       "    </tr>\n",
       "    <tr>\n",
       "      <th>105332</th>\n",
       "      <td>538068</td>\n",
       "      <td>85048</td>\n",
       "      <td>1</td>\n",
       "      <td>2016-12-09 14:05:00</td>\n",
       "      <td>23657.0</td>\n",
       "      <td>Shop 0</td>\n",
       "      <td>1.0</td>\n",
       "    </tr>\n",
       "    <tr>\n",
       "      <th>105333</th>\n",
       "      <td>538207</td>\n",
       "      <td>22818</td>\n",
       "      <td>11</td>\n",
       "      <td>2016-12-10 11:33:00</td>\n",
       "      <td>18427.0</td>\n",
       "      <td>Shop 0</td>\n",
       "      <td>0.0</td>\n",
       "    </tr>\n",
       "    <tr>\n",
       "      <th>105334</th>\n",
       "      <td>543977</td>\n",
       "      <td>22384</td>\n",
       "      <td>9</td>\n",
       "      <td>2017-02-14 15:35:00</td>\n",
       "      <td>21294.0</td>\n",
       "      <td>Shop 0</td>\n",
       "      <td>0.0</td>\n",
       "    </tr>\n",
       "  </tbody>\n",
       "</table>\n",
       "<p>105335 rows × 7 columns</p>\n",
       "</div>"
      ],
      "text/plain": [
       "       purchase   item  quantity                date  customer    shop  \\\n",
       "0        538280  21873        11 2016-12-10 12:50:00   18427.0  Shop 0   \n",
       "1        538862  22195         0 2016-12-14 14:11:00   22389.0  Shop 0   \n",
       "2        538855  21239         7 2016-12-14 13:50:00   22182.0  Shop 0   \n",
       "3        543543  22271         0 2017-02-09 15:33:00   23522.0  Shop 0   \n",
       "4        543812  79321         0 2017-02-13 14:40:00   23151.0  Shop 0   \n",
       "...         ...    ...       ...                 ...       ...     ...   \n",
       "105330   538566  21826         1 2016-12-13 11:21:00       NaN  Shop 0   \n",
       "105331   540247  21742         0 2017-01-05 15:56:00   21143.0  Shop 0   \n",
       "105332   538068  85048         1 2016-12-09 14:05:00   23657.0  Shop 0   \n",
       "105333   538207  22818        11 2016-12-10 11:33:00   18427.0  Shop 0   \n",
       "105334   543977  22384         9 2017-02-14 15:35:00   21294.0  Shop 0   \n",
       "\n",
       "        loyalty_program  \n",
       "0                   0.0  \n",
       "1                   1.0  \n",
       "2                   1.0  \n",
       "3                   1.0  \n",
       "4                   1.0  \n",
       "...                 ...  \n",
       "105330              0.0  \n",
       "105331              0.0  \n",
       "105332              1.0  \n",
       "105333              0.0  \n",
       "105334              0.0  \n",
       "\n",
       "[105335 rows x 7 columns]"
      ]
     },
     "execution_count": 13,
     "metadata": {},
     "output_type": "execute_result"
    }
   ],
   "source": [
    "# переименуем столбцы в первом файле\n",
    "\n",
    "df = df.rename(columns = {'purchaseid':'purchase', 'item_ID':'item', 'Quantity':'quantity','purchasedate':'date','CustomerID':'customer','ShopID':'shop'})\n",
    "df"
   ]
  },
  {
   "cell_type": "code",
   "execution_count": 14,
   "metadata": {},
   "outputs": [
    {
     "data": {
      "text/html": [
       "<div>\n",
       "<style scoped>\n",
       "    .dataframe tbody tr th:only-of-type {\n",
       "        vertical-align: middle;\n",
       "    }\n",
       "\n",
       "    .dataframe tbody tr th {\n",
       "        vertical-align: top;\n",
       "    }\n",
       "\n",
       "    .dataframe thead th {\n",
       "        text-align: right;\n",
       "    }\n",
       "</style>\n",
       "<table border=\"1\" class=\"dataframe\">\n",
       "  <thead>\n",
       "    <tr style=\"text-align: right;\">\n",
       "      <th></th>\n",
       "      <th>item</th>\n",
       "      <th>price</th>\n",
       "    </tr>\n",
       "  </thead>\n",
       "  <tbody>\n",
       "    <tr>\n",
       "      <th>0</th>\n",
       "      <td>85123A</td>\n",
       "      <td>2.55</td>\n",
       "    </tr>\n",
       "    <tr>\n",
       "      <th>1</th>\n",
       "      <td>71053</td>\n",
       "      <td>3.39</td>\n",
       "    </tr>\n",
       "    <tr>\n",
       "      <th>2</th>\n",
       "      <td>84406B</td>\n",
       "      <td>2.75</td>\n",
       "    </tr>\n",
       "    <tr>\n",
       "      <th>3</th>\n",
       "      <td>84029G</td>\n",
       "      <td>3.39</td>\n",
       "    </tr>\n",
       "    <tr>\n",
       "      <th>4</th>\n",
       "      <td>84029E</td>\n",
       "      <td>3.39</td>\n",
       "    </tr>\n",
       "    <tr>\n",
       "      <th>...</th>\n",
       "      <td>...</td>\n",
       "      <td>...</td>\n",
       "    </tr>\n",
       "    <tr>\n",
       "      <th>9964</th>\n",
       "      <td>84306</td>\n",
       "      <td>8.29</td>\n",
       "    </tr>\n",
       "    <tr>\n",
       "      <th>9965</th>\n",
       "      <td>90001A</td>\n",
       "      <td>4.15</td>\n",
       "    </tr>\n",
       "    <tr>\n",
       "      <th>9966</th>\n",
       "      <td>90118</td>\n",
       "      <td>2.46</td>\n",
       "    </tr>\n",
       "    <tr>\n",
       "      <th>9967</th>\n",
       "      <td>DOT</td>\n",
       "      <td>172.62</td>\n",
       "    </tr>\n",
       "    <tr>\n",
       "      <th>9968</th>\n",
       "      <td>20738</td>\n",
       "      <td>0.00</td>\n",
       "    </tr>\n",
       "  </tbody>\n",
       "</table>\n",
       "<p>9969 rows × 2 columns</p>\n",
       "</div>"
      ],
      "text/plain": [
       "        item   price\n",
       "0     85123A    2.55\n",
       "1      71053    3.39\n",
       "2     84406B    2.75\n",
       "3     84029G    3.39\n",
       "4     84029E    3.39\n",
       "...      ...     ...\n",
       "9964   84306    8.29\n",
       "9965  90001A    4.15\n",
       "9966   90118    2.46\n",
       "9967     DOT  172.62\n",
       "9968   20738    0.00\n",
       "\n",
       "[9969 rows x 2 columns]"
      ]
     },
     "execution_count": 14,
     "metadata": {},
     "output_type": "execute_result"
    }
   ],
   "source": [
    "# переименуем столбцы\n",
    "\n",
    "df2 = df2.rename(columns = {'price_per_one':'price', 'productID':'item'})\n",
    "df2"
   ]
  },
  {
   "cell_type": "code",
   "execution_count": 15,
   "metadata": {},
   "outputs": [
    {
     "name": "stdout",
     "output_type": "stream",
     "text": [
      "DOT       174\n",
      "M          59\n",
      "S          29\n",
      "POST       15\n",
      "D          13\n",
      "         ... \n",
      "46115B      1\n",
      "90137       1\n",
      "79051A      1\n",
      "90179A      1\n",
      "84536b      1\n",
      "Name: item, Length: 3159, dtype: int64\n"
     ]
    }
   ],
   "source": [
    "# посмотрим сколько разных цен у одного товара\n",
    "print(df2['item'].value_counts())\n",
    "# мы видим от 1 до 174 разных цен на один товар"
   ]
  },
  {
   "cell_type": "code",
   "execution_count": 16,
   "metadata": {},
   "outputs": [
    {
     "data": {
      "text/html": [
       "<div>\n",
       "<style scoped>\n",
       "    .dataframe tbody tr th:only-of-type {\n",
       "        vertical-align: middle;\n",
       "    }\n",
       "\n",
       "    .dataframe tbody tr th {\n",
       "        vertical-align: top;\n",
       "    }\n",
       "\n",
       "    .dataframe thead th {\n",
       "        text-align: right;\n",
       "    }\n",
       "</style>\n",
       "<table border=\"1\" class=\"dataframe\">\n",
       "  <thead>\n",
       "    <tr style=\"text-align: right;\">\n",
       "      <th></th>\n",
       "      <th>price</th>\n",
       "    </tr>\n",
       "  </thead>\n",
       "  <tbody>\n",
       "    <tr>\n",
       "      <th>count</th>\n",
       "      <td>174.000000</td>\n",
       "    </tr>\n",
       "    <tr>\n",
       "      <th>mean</th>\n",
       "      <td>278.734425</td>\n",
       "    </tr>\n",
       "    <tr>\n",
       "      <th>std</th>\n",
       "      <td>213.983878</td>\n",
       "    </tr>\n",
       "    <tr>\n",
       "      <th>min</th>\n",
       "      <td>2.510000</td>\n",
       "    </tr>\n",
       "    <tr>\n",
       "      <th>25%</th>\n",
       "      <td>140.715000</td>\n",
       "    </tr>\n",
       "    <tr>\n",
       "      <th>50%</th>\n",
       "      <td>198.190000</td>\n",
       "    </tr>\n",
       "    <tr>\n",
       "      <th>75%</th>\n",
       "      <td>336.462500</td>\n",
       "    </tr>\n",
       "    <tr>\n",
       "      <th>max</th>\n",
       "      <td>950.990000</td>\n",
       "    </tr>\n",
       "  </tbody>\n",
       "</table>\n",
       "</div>"
      ],
      "text/plain": [
       "            price\n",
       "count  174.000000\n",
       "mean   278.734425\n",
       "std    213.983878\n",
       "min      2.510000\n",
       "25%    140.715000\n",
       "50%    198.190000\n",
       "75%    336.462500\n",
       "max    950.990000"
      ]
     },
     "execution_count": 16,
     "metadata": {},
     "output_type": "execute_result"
    }
   ],
   "source": [
    "df2[df2['item']=='DOT'].describe()\n"
   ]
  },
  {
   "cell_type": "code",
   "execution_count": 17,
   "metadata": {},
   "outputs": [
    {
     "data": {
      "text/html": [
       "<div>\n",
       "<style scoped>\n",
       "    .dataframe tbody tr th:only-of-type {\n",
       "        vertical-align: middle;\n",
       "    }\n",
       "\n",
       "    .dataframe tbody tr th {\n",
       "        vertical-align: top;\n",
       "    }\n",
       "\n",
       "    .dataframe thead th {\n",
       "        text-align: right;\n",
       "    }\n",
       "</style>\n",
       "<table border=\"1\" class=\"dataframe\">\n",
       "  <thead>\n",
       "    <tr style=\"text-align: right;\">\n",
       "      <th></th>\n",
       "      <th>price</th>\n",
       "    </tr>\n",
       "  </thead>\n",
       "  <tbody>\n",
       "    <tr>\n",
       "      <th>count</th>\n",
       "      <td>7.00000</td>\n",
       "    </tr>\n",
       "    <tr>\n",
       "      <th>mean</th>\n",
       "      <td>1.81000</td>\n",
       "    </tr>\n",
       "    <tr>\n",
       "      <th>std</th>\n",
       "      <td>1.11475</td>\n",
       "    </tr>\n",
       "    <tr>\n",
       "      <th>min</th>\n",
       "      <td>0.42000</td>\n",
       "    </tr>\n",
       "    <tr>\n",
       "      <th>25%</th>\n",
       "      <td>1.15500</td>\n",
       "    </tr>\n",
       "    <tr>\n",
       "      <th>50%</th>\n",
       "      <td>1.63000</td>\n",
       "    </tr>\n",
       "    <tr>\n",
       "      <th>75%</th>\n",
       "      <td>2.47500</td>\n",
       "    </tr>\n",
       "    <tr>\n",
       "      <th>max</th>\n",
       "      <td>3.36000</td>\n",
       "    </tr>\n",
       "  </tbody>\n",
       "</table>\n",
       "</div>"
      ],
      "text/plain": [
       "         price\n",
       "count  7.00000\n",
       "mean   1.81000\n",
       "std    1.11475\n",
       "min    0.42000\n",
       "25%    1.15500\n",
       "50%    1.63000\n",
       "75%    2.47500\n",
       "max    3.36000"
      ]
     },
     "execution_count": 17,
     "metadata": {},
     "output_type": "execute_result"
    }
   ],
   "source": [
    "df2[df2['item']=='21873'].describe()"
   ]
  },
  {
   "cell_type": "markdown",
   "metadata": {},
   "source": [
    "Если посмотреть по DOT мы уыидем разброс цент от 2.51 до 950.99, по 21783 от 0,42 до 3,36. Очень неоднородые м масштабные колебания, чтобы брато среднюю, вощьмем медианну"
   ]
  },
  {
   "cell_type": "code",
   "execution_count": 18,
   "metadata": {},
   "outputs": [
    {
     "data": {
      "text/plain": [
       "price    2494\n",
       "dtype: int64"
      ]
     },
     "execution_count": 18,
     "metadata": {},
     "output_type": "execute_result"
    }
   ],
   "source": [
    "df2.groupby('item').agg({'price':'nunique'}).query('price>1').count()"
   ]
  },
  {
   "cell_type": "markdown",
   "metadata": {},
   "source": [
    "Как мы видим из 3159 позиций у 2494 позиций более одной цены"
   ]
  },
  {
   "cell_type": "code",
   "execution_count": 19,
   "metadata": {},
   "outputs": [
    {
     "data": {
      "text/plain": [
       "' Всего явных дубликатов 1033'"
      ]
     },
     "metadata": {},
     "output_type": "display_data"
    },
    {
     "data": {
      "text/html": [
       "<div>\n",
       "<style scoped>\n",
       "    .dataframe tbody tr th:only-of-type {\n",
       "        vertical-align: middle;\n",
       "    }\n",
       "\n",
       "    .dataframe tbody tr th {\n",
       "        vertical-align: top;\n",
       "    }\n",
       "\n",
       "    .dataframe thead th {\n",
       "        text-align: right;\n",
       "    }\n",
       "</style>\n",
       "<table border=\"1\" class=\"dataframe\">\n",
       "  <thead>\n",
       "    <tr style=\"text-align: right;\">\n",
       "      <th></th>\n",
       "      <th>purchase</th>\n",
       "      <th>item</th>\n",
       "      <th>quantity</th>\n",
       "      <th>date</th>\n",
       "      <th>customer</th>\n",
       "      <th>shop</th>\n",
       "      <th>loyalty_program</th>\n",
       "    </tr>\n",
       "  </thead>\n",
       "  <tbody>\n",
       "    <tr>\n",
       "      <th>5345</th>\n",
       "      <td>537265</td>\n",
       "      <td>21499</td>\n",
       "      <td>24</td>\n",
       "      <td>2016-12-06 11:26:00</td>\n",
       "      <td>21598.0</td>\n",
       "      <td>Shop 0</td>\n",
       "      <td>0.0</td>\n",
       "    </tr>\n",
       "    <tr>\n",
       "      <th>5863</th>\n",
       "      <td>540803</td>\n",
       "      <td>21485</td>\n",
       "      <td>0</td>\n",
       "      <td>2017-01-11 12:30:00</td>\n",
       "      <td>20348.0</td>\n",
       "      <td>Shop 0</td>\n",
       "      <td>0.0</td>\n",
       "    </tr>\n",
       "    <tr>\n",
       "      <th>6893</th>\n",
       "      <td>540524</td>\n",
       "      <td>21326</td>\n",
       "      <td>11</td>\n",
       "      <td>2017-01-09 12:53:00</td>\n",
       "      <td>22414.0</td>\n",
       "      <td>Shop 0</td>\n",
       "      <td>1.0</td>\n",
       "    </tr>\n",
       "    <tr>\n",
       "      <th>7821</th>\n",
       "      <td>537192</td>\n",
       "      <td>22585</td>\n",
       "      <td>0</td>\n",
       "      <td>2016-12-05 13:42:00</td>\n",
       "      <td>22081.0</td>\n",
       "      <td>Shop 0</td>\n",
       "      <td>1.0</td>\n",
       "    </tr>\n",
       "    <tr>\n",
       "      <th>10806</th>\n",
       "      <td>537772</td>\n",
       "      <td>22080</td>\n",
       "      <td>4</td>\n",
       "      <td>2016-12-08 12:35:00</td>\n",
       "      <td>23722.0</td>\n",
       "      <td>Shop 0</td>\n",
       "      <td>1.0</td>\n",
       "    </tr>\n",
       "    <tr>\n",
       "      <th>...</th>\n",
       "      <td>...</td>\n",
       "      <td>...</td>\n",
       "      <td>...</td>\n",
       "      <td>...</td>\n",
       "      <td>...</td>\n",
       "      <td>...</td>\n",
       "      <td>...</td>\n",
       "    </tr>\n",
       "    <tr>\n",
       "      <th>105164</th>\n",
       "      <td>542224</td>\n",
       "      <td>22178</td>\n",
       "      <td>5</td>\n",
       "      <td>2017-01-26 12:45:00</td>\n",
       "      <td>23567.0</td>\n",
       "      <td>Shop 0</td>\n",
       "      <td>1.0</td>\n",
       "    </tr>\n",
       "    <tr>\n",
       "      <th>105173</th>\n",
       "      <td>544153</td>\n",
       "      <td>82552</td>\n",
       "      <td>1</td>\n",
       "      <td>2017-02-16 12:11:00</td>\n",
       "      <td>21035.0</td>\n",
       "      <td>Shop 0</td>\n",
       "      <td>0.0</td>\n",
       "    </tr>\n",
       "    <tr>\n",
       "      <th>105178</th>\n",
       "      <td>540839</td>\n",
       "      <td>21123</td>\n",
       "      <td>0</td>\n",
       "      <td>2017-01-11 15:42:00</td>\n",
       "      <td>22470.0</td>\n",
       "      <td>Shop 0</td>\n",
       "      <td>1.0</td>\n",
       "    </tr>\n",
       "    <tr>\n",
       "      <th>105229</th>\n",
       "      <td>543277</td>\n",
       "      <td>21533</td>\n",
       "      <td>0</td>\n",
       "      <td>2017-02-06 14:33:00</td>\n",
       "      <td>21487.0</td>\n",
       "      <td>Shop 0</td>\n",
       "      <td>0.0</td>\n",
       "    </tr>\n",
       "    <tr>\n",
       "      <th>105233</th>\n",
       "      <td>538313</td>\n",
       "      <td>22725</td>\n",
       "      <td>0</td>\n",
       "      <td>2016-12-10 13:50:00</td>\n",
       "      <td>21193.0</td>\n",
       "      <td>Shop 0</td>\n",
       "      <td>0.0</td>\n",
       "    </tr>\n",
       "  </tbody>\n",
       "</table>\n",
       "<p>1033 rows × 7 columns</p>\n",
       "</div>"
      ],
      "text/plain": [
       "       purchase   item  quantity                date  customer    shop  \\\n",
       "5345     537265  21499        24 2016-12-06 11:26:00   21598.0  Shop 0   \n",
       "5863     540803  21485         0 2017-01-11 12:30:00   20348.0  Shop 0   \n",
       "6893     540524  21326        11 2017-01-09 12:53:00   22414.0  Shop 0   \n",
       "7821     537192  22585         0 2016-12-05 13:42:00   22081.0  Shop 0   \n",
       "10806    537772  22080         4 2016-12-08 12:35:00   23722.0  Shop 0   \n",
       "...         ...    ...       ...                 ...       ...     ...   \n",
       "105164   542224  22178         5 2017-01-26 12:45:00   23567.0  Shop 0   \n",
       "105173   544153  82552         1 2017-02-16 12:11:00   21035.0  Shop 0   \n",
       "105178   540839  21123         0 2017-01-11 15:42:00   22470.0  Shop 0   \n",
       "105229   543277  21533         0 2017-02-06 14:33:00   21487.0  Shop 0   \n",
       "105233   538313  22725         0 2016-12-10 13:50:00   21193.0  Shop 0   \n",
       "\n",
       "        loyalty_program  \n",
       "5345                0.0  \n",
       "5863                0.0  \n",
       "6893                1.0  \n",
       "7821                1.0  \n",
       "10806               1.0  \n",
       "...                 ...  \n",
       "105164              1.0  \n",
       "105173              0.0  \n",
       "105178              1.0  \n",
       "105229              0.0  \n",
       "105233              0.0  \n",
       "\n",
       "[1033 rows x 7 columns]"
      ]
     },
     "execution_count": 19,
     "metadata": {},
     "output_type": "execute_result"
    }
   ],
   "source": [
    "# проверим наличие дубликатов.\n",
    "display(f' Всего явных дубликатов {df.duplicated().sum()}') \n",
    "df[df.duplicated()]\n"
   ]
  },
  {
   "cell_type": "code",
   "execution_count": 20,
   "metadata": {},
   "outputs": [
    {
     "data": {
      "text/plain": [
       "' Всего явных дубликатов 0'"
      ]
     },
     "metadata": {},
     "output_type": "display_data"
    },
    {
     "data": {
      "text/html": [
       "<div>\n",
       "<style scoped>\n",
       "    .dataframe tbody tr th:only-of-type {\n",
       "        vertical-align: middle;\n",
       "    }\n",
       "\n",
       "    .dataframe tbody tr th {\n",
       "        vertical-align: top;\n",
       "    }\n",
       "\n",
       "    .dataframe thead th {\n",
       "        text-align: right;\n",
       "    }\n",
       "</style>\n",
       "<table border=\"1\" class=\"dataframe\">\n",
       "  <thead>\n",
       "    <tr style=\"text-align: right;\">\n",
       "      <th></th>\n",
       "      <th>item</th>\n",
       "      <th>price</th>\n",
       "    </tr>\n",
       "  </thead>\n",
       "  <tbody>\n",
       "  </tbody>\n",
       "</table>\n",
       "</div>"
      ],
      "text/plain": [
       "Empty DataFrame\n",
       "Columns: [item, price]\n",
       "Index: []"
      ]
     },
     "execution_count": 20,
     "metadata": {},
     "output_type": "execute_result"
    }
   ],
   "source": [
    "# проверим наличие дубликатов.\n",
    "display(f' Всего явных дубликатов {df2.duplicated().sum()}') \n",
    "df2[df2.duplicated()]"
   ]
  },
  {
   "cell_type": "code",
   "execution_count": 21,
   "metadata": {},
   "outputs": [],
   "source": [
    "# удалим все явные дубликаты, \n",
    "\n",
    "data = df.drop_duplicates().reset_index(drop=True)"
   ]
  },
  {
   "cell_type": "code",
   "execution_count": 22,
   "metadata": {},
   "outputs": [
    {
     "name": "stdout",
     "output_type": "stream",
     "text": [
      " Всего было удалено  1033, что составляет 0.99 процентов от первоначального количества\n"
     ]
    }
   ],
   "source": [
    "print(f' Всего было удалено  {df.shape[0]-data.shape[0]}, что составляет {round((df.shape[0]-data.shape[0])/data.shape[0]*100,2)} процентов от первоначального количества')"
   ]
  },
  {
   "cell_type": "markdown",
   "metadata": {},
   "source": [
    "Менее 1% - допустимое удаление"
   ]
  },
  {
   "cell_type": "code",
   "execution_count": 23,
   "metadata": {},
   "outputs": [],
   "source": [
    "# в столбце с данными о покупателях заменим пропуски на 0, та как пропусков много, удалять нельзя.\n",
    "data['customer'] = data['customer'].fillna(0)"
   ]
  },
  {
   "cell_type": "code",
   "execution_count": 24,
   "metadata": {},
   "outputs": [
    {
     "data": {
      "text/plain": [
       "loyalty_program    0\n",
       "dtype: int64"
      ]
     },
     "execution_count": 24,
     "metadata": {},
     "output_type": "execute_result"
    }
   ],
   "source": [
    "# проверим есть ли у нас покупатели, которые участвуют и не участвуют в программе лояльности\n",
    "\n",
    "data.groupby('customer').agg({'loyalty_program':'nunique'}).query('loyalty_program>1').count()\n",
    "\n",
    "# как мы видим таковых нет"
   ]
  },
  {
   "cell_type": "code",
   "execution_count": 25,
   "metadata": {},
   "outputs": [
    {
     "name": "stdout",
     "output_type": "stream",
     "text": [
      "0.0    80890\n",
      "1.0    23412\n",
      "Name: loyalty_program, dtype: int64\n"
     ]
    }
   ],
   "source": [
    "# сгруппируем по количеству данных по программам лояльности \n",
    "print(data['loyalty_program'].value_counts())\n",
    "\n",
    "# Как видим в у нас большая часть покупок совершается учатниками, не входящими в программу лояльности"
   ]
  },
  {
   "cell_type": "code",
   "execution_count": 26,
   "metadata": {},
   "outputs": [
    {
     "data": {
      "text/plain": [
       "shop    3\n",
       "dtype: int64"
      ]
     },
     "execution_count": 26,
     "metadata": {},
     "output_type": "execute_result"
    }
   ],
   "source": [
    "# проверим есть ли у нас покупатели, которые покупают в разных магазинах\n",
    "\n",
    "data.groupby('customer').agg({'shop':'nunique'}).query('shop>1').count()\n",
    "\n",
    "# как мы видим таких всего 3 - слишком мало, чтобы рассматривать это как дополнительный фактор"
   ]
  },
  {
   "cell_type": "code",
   "execution_count": 27,
   "metadata": {},
   "outputs": [
    {
     "data": {
      "text/plain": [
       "0.0        36148\n",
       "18427.0      774\n",
       "23520.0      751\n",
       "20285.0      745\n",
       "20990.0      715\n",
       "           ...  \n",
       "21269.0        1\n",
       "23912.0        1\n",
       "22272.0        1\n",
       "19093.0        1\n",
       "18182.0        1\n",
       "Name: customer, Length: 1750, dtype: int64"
      ]
     },
     "execution_count": 27,
     "metadata": {},
     "output_type": "execute_result"
    }
   ],
   "source": [
    "# посмотрим сколько покупок совершал каждый клиент\n",
    "\n",
    "data['customer'].value_counts()\n",
    "\n",
    "# как мы видим не иденцифицированные пользователи совершили 36 148 покупок, иденцифицированные покупатели максимум - 774, минимум - 1"
   ]
  },
  {
   "cell_type": "code",
   "execution_count": 28,
   "metadata": {},
   "outputs": [
    {
     "name": "stdout",
     "output_type": "stream",
     "text": [
      "            quantity       customer  loyalty_program\n",
      "count  104302.000000  104302.000000    104302.000000\n",
      "mean        7.883003   13729.314874         0.224464\n",
      "std       329.565540   10100.257229         0.417231\n",
      "min    -74216.000000       0.000000         0.000000\n",
      "25%         0.000000       0.000000         0.000000\n",
      "50%         2.000000   19423.000000         0.000000\n",
      "75%         7.000000   21692.000000         0.000000\n",
      "max     74214.000000   23962.000000         1.000000\n",
      "              price\n",
      "count   9969.000000\n",
      "mean      19.503697\n",
      "std      330.880754\n",
      "min        0.000000\n",
      "25%        1.250000\n",
      "50%        2.550000\n",
      "75%        5.510000\n",
      "max    16888.020000\n"
     ]
    }
   ],
   "source": [
    "# посмотрим общую информацию. как мы видим эта информация не дает нам общего понимания, но мы виим, что в файле кроме продаж скорей всего были и возвраты, которые отражаются с минусовым значение.\n",
    "print(data.describe())\n",
    "print(df2.describe())"
   ]
  },
  {
   "cell_type": "code",
   "execution_count": 29,
   "metadata": {},
   "outputs": [
    {
     "data": {
      "text/plain": [
       "Shop 0     96370\n",
       "Shop 4      1739\n",
       "Shop 1      1540\n",
       "Shop 6      1030\n",
       "Shop 8       560\n",
       "Shop 3       492\n",
       "Shop 7       312\n",
       "Shop 10      299\n",
       "Shop 12      278\n",
       "Shop 18      255\n",
       "Shop 2       252\n",
       "Shop 5       179\n",
       "Shop 11      169\n",
       "Shop 14      154\n",
       "Shop 19       74\n",
       "Shop 9        61\n",
       "Shop 15       60\n",
       "Shop 16       59\n",
       "Shop 26       56\n",
       "Shop 25       53\n",
       "Shop 27       45\n",
       "Shop 17       40\n",
       "Shop 22       40\n",
       "Shop 13       35\n",
       "Shop 21       32\n",
       "Shop 24       32\n",
       "Shop 20       30\n",
       "Shop 28       30\n",
       "Shop 30       15\n",
       "Shop 29        9\n",
       "Shop 23        2\n",
       "Name: shop, dtype: int64"
      ]
     },
     "execution_count": 29,
     "metadata": {},
     "output_type": "execute_result"
    }
   ],
   "source": [
    "# посмотрим сколько пользователей по каждому магазину\n",
    "data['shop'].value_counts()"
   ]
  },
  {
   "cell_type": "code",
   "execution_count": 30,
   "metadata": {},
   "outputs": [
    {
     "data": {
      "text/plain": [
       "537434     675\n",
       "538071     651\n",
       "538349     613\n",
       "537638     601\n",
       "537237     597\n",
       "          ... \n",
       "C543772      1\n",
       "538041       1\n",
       "C540057      1\n",
       "538175       1\n",
       "541407       1\n",
       "Name: purchase, Length: 4894, dtype: int64"
      ]
     },
     "execution_count": 30,
     "metadata": {},
     "output_type": "execute_result"
    }
   ],
   "source": [
    "data['purchase'].value_counts()"
   ]
  },
  {
   "cell_type": "code",
   "execution_count": 31,
   "metadata": {},
   "outputs": [
    {
     "data": {
      "text/plain": [
       "0.0    80890\n",
       "1.0    23412\n",
       "Name: loyalty_program, dtype: int64"
      ]
     },
     "execution_count": 31,
     "metadata": {},
     "output_type": "execute_result"
    }
   ],
   "source": [
    "# посмотрим сколько пользователей поподают в каждую группу эксперимента\n",
    "\n",
    "data['loyalty_program'].value_counts()"
   ]
  },
  {
   "cell_type": "code",
   "execution_count": 32,
   "metadata": {},
   "outputs": [
    {
     "data": {
      "text/plain": [
       "loyalty_program\n",
       "0.0    1163\n",
       "1.0     587\n",
       "Name: customer, dtype: int64"
      ]
     },
     "execution_count": 32,
     "metadata": {},
     "output_type": "execute_result"
    }
   ],
   "source": [
    "data.groupby('loyalty_program')['customer'].nunique()"
   ]
  },
  {
   "cell_type": "markdown",
   "metadata": {},
   "source": [
    "__Как мы видим у нас учатвует в программе 587 пользователей, которые сделали 23412 операций, а не участвует - 1162 пользователей,которые совершили 80890 операций и 36210 из них совершено неавторизированными пользователями."
   ]
  },
  {
   "cell_type": "code",
   "execution_count": 33,
   "metadata": {},
   "outputs": [
    {
     "name": "stdout",
     "output_type": "stream",
     "text": [
      "              item   price\n",
      "0            10002   1.630\n",
      "1            10080   0.850\n",
      "2            10120   0.210\n",
      "3           10123C   0.650\n",
      "4           10124A   0.420\n",
      "...            ...     ...\n",
      "3154  gift_0001_20  16.845\n",
      "3155  gift_0001_30  25.265\n",
      "3156  gift_0001_40  34.040\n",
      "3157  gift_0001_50  42.550\n",
      "3158             m   2.550\n",
      "\n",
      "[3159 rows x 2 columns]\n"
     ]
    }
   ],
   "source": [
    "# посчитаем медианные значения цены\n",
    "\n",
    "df2_grouped = df2.groupby(['item'])['price'].median().reset_index()\n",
    "print(df2_grouped)"
   ]
  },
  {
   "cell_type": "code",
   "execution_count": 34,
   "metadata": {},
   "outputs": [
    {
     "data": {
      "text/html": [
       "<div>\n",
       "<style scoped>\n",
       "    .dataframe tbody tr th:only-of-type {\n",
       "        vertical-align: middle;\n",
       "    }\n",
       "\n",
       "    .dataframe tbody tr th {\n",
       "        vertical-align: top;\n",
       "    }\n",
       "\n",
       "    .dataframe thead th {\n",
       "        text-align: right;\n",
       "    }\n",
       "</style>\n",
       "<table border=\"1\" class=\"dataframe\">\n",
       "  <thead>\n",
       "    <tr style=\"text-align: right;\">\n",
       "      <th></th>\n",
       "      <th>purchase</th>\n",
       "      <th>item</th>\n",
       "      <th>quantity</th>\n",
       "      <th>date</th>\n",
       "      <th>customer</th>\n",
       "      <th>shop</th>\n",
       "      <th>loyalty_program</th>\n",
       "      <th>price</th>\n",
       "      <th>sales</th>\n",
       "      <th>day</th>\n",
       "    </tr>\n",
       "  </thead>\n",
       "  <tbody>\n",
       "    <tr>\n",
       "      <th>0</th>\n",
       "      <td>538280</td>\n",
       "      <td>21873</td>\n",
       "      <td>11</td>\n",
       "      <td>2016-12-10 12:50:00</td>\n",
       "      <td>18427.0</td>\n",
       "      <td>Shop 0</td>\n",
       "      <td>0.0</td>\n",
       "      <td>1.630</td>\n",
       "      <td>17.93</td>\n",
       "      <td>2016-12-10</td>\n",
       "    </tr>\n",
       "    <tr>\n",
       "      <th>1</th>\n",
       "      <td>538862</td>\n",
       "      <td>22195</td>\n",
       "      <td>0</td>\n",
       "      <td>2016-12-14 14:11:00</td>\n",
       "      <td>22389.0</td>\n",
       "      <td>Shop 0</td>\n",
       "      <td>1.0</td>\n",
       "      <td>3.290</td>\n",
       "      <td>0.00</td>\n",
       "      <td>2016-12-14</td>\n",
       "    </tr>\n",
       "    <tr>\n",
       "      <th>2</th>\n",
       "      <td>538855</td>\n",
       "      <td>21239</td>\n",
       "      <td>7</td>\n",
       "      <td>2016-12-14 13:50:00</td>\n",
       "      <td>22182.0</td>\n",
       "      <td>Shop 0</td>\n",
       "      <td>1.0</td>\n",
       "      <td>1.630</td>\n",
       "      <td>11.41</td>\n",
       "      <td>2016-12-14</td>\n",
       "    </tr>\n",
       "    <tr>\n",
       "      <th>3</th>\n",
       "      <td>543543</td>\n",
       "      <td>22271</td>\n",
       "      <td>0</td>\n",
       "      <td>2017-02-09 15:33:00</td>\n",
       "      <td>23522.0</td>\n",
       "      <td>Shop 0</td>\n",
       "      <td>1.0</td>\n",
       "      <td>4.370</td>\n",
       "      <td>0.00</td>\n",
       "      <td>2017-02-09</td>\n",
       "    </tr>\n",
       "    <tr>\n",
       "      <th>4</th>\n",
       "      <td>543812</td>\n",
       "      <td>79321</td>\n",
       "      <td>0</td>\n",
       "      <td>2017-02-13 14:40:00</td>\n",
       "      <td>23151.0</td>\n",
       "      <td>Shop 0</td>\n",
       "      <td>1.0</td>\n",
       "      <td>5.750</td>\n",
       "      <td>0.00</td>\n",
       "      <td>2017-02-13</td>\n",
       "    </tr>\n",
       "    <tr>\n",
       "      <th>...</th>\n",
       "      <td>...</td>\n",
       "      <td>...</td>\n",
       "      <td>...</td>\n",
       "      <td>...</td>\n",
       "      <td>...</td>\n",
       "      <td>...</td>\n",
       "      <td>...</td>\n",
       "      <td>...</td>\n",
       "      <td>...</td>\n",
       "      <td>...</td>\n",
       "    </tr>\n",
       "    <tr>\n",
       "      <th>104297</th>\n",
       "      <td>538566</td>\n",
       "      <td>21826</td>\n",
       "      <td>1</td>\n",
       "      <td>2016-12-13 11:21:00</td>\n",
       "      <td>0.0</td>\n",
       "      <td>Shop 0</td>\n",
       "      <td>0.0</td>\n",
       "      <td>2.460</td>\n",
       "      <td>2.46</td>\n",
       "      <td>2016-12-13</td>\n",
       "    </tr>\n",
       "    <tr>\n",
       "      <th>104298</th>\n",
       "      <td>540247</td>\n",
       "      <td>21742</td>\n",
       "      <td>0</td>\n",
       "      <td>2017-01-05 15:56:00</td>\n",
       "      <td>21143.0</td>\n",
       "      <td>Shop 0</td>\n",
       "      <td>0.0</td>\n",
       "      <td>9.335</td>\n",
       "      <td>0.00</td>\n",
       "      <td>2017-01-05</td>\n",
       "    </tr>\n",
       "    <tr>\n",
       "      <th>104299</th>\n",
       "      <td>538068</td>\n",
       "      <td>85048</td>\n",
       "      <td>1</td>\n",
       "      <td>2016-12-09 14:05:00</td>\n",
       "      <td>23657.0</td>\n",
       "      <td>Shop 0</td>\n",
       "      <td>1.0</td>\n",
       "      <td>8.330</td>\n",
       "      <td>8.33</td>\n",
       "      <td>2016-12-09</td>\n",
       "    </tr>\n",
       "    <tr>\n",
       "      <th>104300</th>\n",
       "      <td>538207</td>\n",
       "      <td>22818</td>\n",
       "      <td>11</td>\n",
       "      <td>2016-12-10 11:33:00</td>\n",
       "      <td>18427.0</td>\n",
       "      <td>Shop 0</td>\n",
       "      <td>0.0</td>\n",
       "      <td>0.830</td>\n",
       "      <td>9.13</td>\n",
       "      <td>2016-12-10</td>\n",
       "    </tr>\n",
       "    <tr>\n",
       "      <th>104301</th>\n",
       "      <td>543977</td>\n",
       "      <td>22384</td>\n",
       "      <td>9</td>\n",
       "      <td>2017-02-14 15:35:00</td>\n",
       "      <td>21294.0</td>\n",
       "      <td>Shop 0</td>\n",
       "      <td>0.0</td>\n",
       "      <td>4.130</td>\n",
       "      <td>37.17</td>\n",
       "      <td>2017-02-14</td>\n",
       "    </tr>\n",
       "  </tbody>\n",
       "</table>\n",
       "<p>104302 rows × 10 columns</p>\n",
       "</div>"
      ],
      "text/plain": [
       "       purchase   item  quantity                date  customer    shop  \\\n",
       "0        538280  21873        11 2016-12-10 12:50:00   18427.0  Shop 0   \n",
       "1        538862  22195         0 2016-12-14 14:11:00   22389.0  Shop 0   \n",
       "2        538855  21239         7 2016-12-14 13:50:00   22182.0  Shop 0   \n",
       "3        543543  22271         0 2017-02-09 15:33:00   23522.0  Shop 0   \n",
       "4        543812  79321         0 2017-02-13 14:40:00   23151.0  Shop 0   \n",
       "...         ...    ...       ...                 ...       ...     ...   \n",
       "104297   538566  21826         1 2016-12-13 11:21:00       0.0  Shop 0   \n",
       "104298   540247  21742         0 2017-01-05 15:56:00   21143.0  Shop 0   \n",
       "104299   538068  85048         1 2016-12-09 14:05:00   23657.0  Shop 0   \n",
       "104300   538207  22818        11 2016-12-10 11:33:00   18427.0  Shop 0   \n",
       "104301   543977  22384         9 2017-02-14 15:35:00   21294.0  Shop 0   \n",
       "\n",
       "        loyalty_program  price  sales        day  \n",
       "0                   0.0  1.630  17.93 2016-12-10  \n",
       "1                   1.0  3.290   0.00 2016-12-14  \n",
       "2                   1.0  1.630  11.41 2016-12-14  \n",
       "3                   1.0  4.370   0.00 2017-02-09  \n",
       "4                   1.0  5.750   0.00 2017-02-13  \n",
       "...                 ...    ...    ...        ...  \n",
       "104297              0.0  2.460   2.46 2016-12-13  \n",
       "104298              0.0  9.335   0.00 2017-01-05  \n",
       "104299              1.0  8.330   8.33 2016-12-09  \n",
       "104300              0.0  0.830   9.13 2016-12-10  \n",
       "104301              0.0  4.130  37.17 2017-02-14  \n",
       "\n",
       "[104302 rows x 10 columns]"
      ]
     },
     "metadata": {},
     "output_type": "display_data"
    }
   ],
   "source": [
    "# добавим в основную таблицу медианное значение цены и посчитаем выручку\n",
    "\n",
    "data_final=data.merge(df2_grouped,on='item',how='left')\n",
    "data_final['sales']= data_final['quantity']*data_final['price']\n",
    "data_final['day'] = data_final['date'].dt.date.astype('datetime64')\n",
    "display(data_final)"
   ]
  },
  {
   "cell_type": "code",
   "execution_count": 35,
   "metadata": {},
   "outputs": [
    {
     "name": "stdout",
     "output_type": "stream",
     "text": [
      "Период, за который имеются данные: с 2016-12-01 08:26:00 по 2017-02-28 17:04:00\n",
      "или 89 days 08:38:00\n"
     ]
    }
   ],
   "source": [
    "# Проверим за какой период предоставлены данные эксперимента (найдем максимальную и минимальную даты):\n",
    "print(f\"Период, за который имеются данные: с {data_final['date'].min()} по {data_final['date'].max()}\")\n",
    "print(f\"или {data_final['date'].max() - data_final['date'].min()}\")"
   ]
  },
  {
   "cell_type": "code",
   "execution_count": 36,
   "metadata": {},
   "outputs": [
    {
     "data": {
      "text/html": [
       "<div>\n",
       "<style scoped>\n",
       "    .dataframe tbody tr th:only-of-type {\n",
       "        vertical-align: middle;\n",
       "    }\n",
       "\n",
       "    .dataframe tbody tr th {\n",
       "        vertical-align: top;\n",
       "    }\n",
       "\n",
       "    .dataframe thead th {\n",
       "        text-align: right;\n",
       "    }\n",
       "</style>\n",
       "<table border=\"1\" class=\"dataframe\">\n",
       "  <thead>\n",
       "    <tr style=\"text-align: right;\">\n",
       "      <th></th>\n",
       "      <th>purchase</th>\n",
       "      <th>customer</th>\n",
       "      <th>day</th>\n",
       "      <th>shop</th>\n",
       "      <th>quantity</th>\n",
       "      <th>sales</th>\n",
       "      <th>loyalty_program</th>\n",
       "    </tr>\n",
       "  </thead>\n",
       "  <tbody>\n",
       "    <tr>\n",
       "      <th>0</th>\n",
       "      <td>536365</td>\n",
       "      <td>23529.0</td>\n",
       "      <td>2016-12-01</td>\n",
       "      <td>Shop 0</td>\n",
       "      <td>33</td>\n",
       "      <td>186.515</td>\n",
       "      <td>1.0</td>\n",
       "    </tr>\n",
       "    <tr>\n",
       "      <th>1</th>\n",
       "      <td>536366</td>\n",
       "      <td>23529.0</td>\n",
       "      <td>2016-12-01</td>\n",
       "      <td>Shop 0</td>\n",
       "      <td>10</td>\n",
       "      <td>19.750</td>\n",
       "      <td>1.0</td>\n",
       "    </tr>\n",
       "    <tr>\n",
       "      <th>2</th>\n",
       "      <td>536367</td>\n",
       "      <td>18726.0</td>\n",
       "      <td>2016-12-01</td>\n",
       "      <td>Shop 0</td>\n",
       "      <td>71</td>\n",
       "      <td>285.395</td>\n",
       "      <td>0.0</td>\n",
       "    </tr>\n",
       "    <tr>\n",
       "      <th>3</th>\n",
       "      <td>536368</td>\n",
       "      <td>18726.0</td>\n",
       "      <td>2016-12-01</td>\n",
       "      <td>Shop 0</td>\n",
       "      <td>11</td>\n",
       "      <td>96.090</td>\n",
       "      <td>0.0</td>\n",
       "    </tr>\n",
       "    <tr>\n",
       "      <th>4</th>\n",
       "      <td>536369</td>\n",
       "      <td>18726.0</td>\n",
       "      <td>2016-12-01</td>\n",
       "      <td>Shop 0</td>\n",
       "      <td>2</td>\n",
       "      <td>13.200</td>\n",
       "      <td>0.0</td>\n",
       "    </tr>\n",
       "    <tr>\n",
       "      <th>...</th>\n",
       "      <td>...</td>\n",
       "      <td>...</td>\n",
       "      <td>...</td>\n",
       "      <td>...</td>\n",
       "      <td>...</td>\n",
       "      <td>...</td>\n",
       "      <td>...</td>\n",
       "    </tr>\n",
       "    <tr>\n",
       "      <th>4889</th>\n",
       "      <td>C545003</td>\n",
       "      <td>23910.0</td>\n",
       "      <td>2017-02-25</td>\n",
       "      <td>Shop 0</td>\n",
       "      <td>-15</td>\n",
       "      <td>-32.455</td>\n",
       "      <td>1.0</td>\n",
       "    </tr>\n",
       "    <tr>\n",
       "      <th>4890</th>\n",
       "      <td>C545033</td>\n",
       "      <td>19835.0</td>\n",
       "      <td>2017-02-25</td>\n",
       "      <td>Shop 6</td>\n",
       "      <td>-678</td>\n",
       "      <td>-4497.495</td>\n",
       "      <td>0.0</td>\n",
       "    </tr>\n",
       "    <tr>\n",
       "      <th>4891</th>\n",
       "      <td>C545040</td>\n",
       "      <td>19363.0</td>\n",
       "      <td>2017-02-27</td>\n",
       "      <td>Shop 0</td>\n",
       "      <td>-2</td>\n",
       "      <td>-11.820</td>\n",
       "      <td>0.0</td>\n",
       "    </tr>\n",
       "    <tr>\n",
       "      <th>4892</th>\n",
       "      <td>C545068</td>\n",
       "      <td>19836.0</td>\n",
       "      <td>2017-02-27</td>\n",
       "      <td>Shop 0</td>\n",
       "      <td>-12</td>\n",
       "      <td>-35.400</td>\n",
       "      <td>0.0</td>\n",
       "    </tr>\n",
       "    <tr>\n",
       "      <th>4893</th>\n",
       "      <td>C545189</td>\n",
       "      <td>23520.0</td>\n",
       "      <td>2017-02-28</td>\n",
       "      <td>Shop 0</td>\n",
       "      <td>-2</td>\n",
       "      <td>-3.610</td>\n",
       "      <td>1.0</td>\n",
       "    </tr>\n",
       "  </tbody>\n",
       "</table>\n",
       "<p>4894 rows × 7 columns</p>\n",
       "</div>"
      ],
      "text/plain": [
       "     purchase  customer        day    shop  quantity     sales  \\\n",
       "0      536365   23529.0 2016-12-01  Shop 0        33   186.515   \n",
       "1      536366   23529.0 2016-12-01  Shop 0        10    19.750   \n",
       "2      536367   18726.0 2016-12-01  Shop 0        71   285.395   \n",
       "3      536368   18726.0 2016-12-01  Shop 0        11    96.090   \n",
       "4      536369   18726.0 2016-12-01  Shop 0         2    13.200   \n",
       "...       ...       ...        ...     ...       ...       ...   \n",
       "4889  C545003   23910.0 2017-02-25  Shop 0       -15   -32.455   \n",
       "4890  C545033   19835.0 2017-02-25  Shop 6      -678 -4497.495   \n",
       "4891  C545040   19363.0 2017-02-27  Shop 0        -2   -11.820   \n",
       "4892  C545068   19836.0 2017-02-27  Shop 0       -12   -35.400   \n",
       "4893  C545189   23520.0 2017-02-28  Shop 0        -2    -3.610   \n",
       "\n",
       "      loyalty_program  \n",
       "0                 1.0  \n",
       "1                 1.0  \n",
       "2                 0.0  \n",
       "3                 0.0  \n",
       "4                 0.0  \n",
       "...               ...  \n",
       "4889              1.0  \n",
       "4890              0.0  \n",
       "4891              0.0  \n",
       "4892              0.0  \n",
       "4893              1.0  \n",
       "\n",
       "[4894 rows x 7 columns]"
      ]
     },
     "metadata": {},
     "output_type": "display_data"
    }
   ],
   "source": [
    "data_final_grouped = data_final.groupby(['purchase','customer','day','shop']).agg({'quantity':'sum', 'sales':'sum','loyalty_program':'median'}).reset_index()#.sort_values(by='name', ascending=False)\n",
    "\n",
    "display(data_final_grouped)"
   ]
  },
  {
   "cell_type": "code",
   "execution_count": 37,
   "metadata": {},
   "outputs": [
    {
     "data": {
      "image/png": "[encoded data removed]",
      "text/plain": [
       "<Figure size 1224x288 with 1 Axes>"
      ]
     },
     "metadata": {
      "needs_background": "light"
     },
     "output_type": "display_data"
    }
   ],
   "source": [
    "# построим гистограмму по дате и времени\n",
    "plt.figure(figsize=(17,4))\n",
    "plt.style.use('seaborn-muted')\n",
    "plt.hist(data_final_grouped['day'], bins=90)\n",
    "plt.xlabel('Время')\n",
    "plt.ylabel('Число событий')\n",
    "plt.rcParams['axes.grid'] = True\n",
    "#plt.rcParams['grid.alpha'] = 0.6\n",
    "plt.title('Распределение событий по времени')\n",
    "plt.show()"
   ]
  },
  {
   "cell_type": "markdown",
   "metadata": {},
   "source": [
    "На графике видно отсутствие продаж в период в последнюю неделю декабря и первые дни января, а так же цикличные колебания. Мы будем это анализировать позднее, но масштаб увеличивать не будем.\n",
    "Гораздно меньше продаж в январе, но они достаточно стабильны."
   ]
  },
  {
   "cell_type": "markdown",
   "metadata": {},
   "source": [
    "__В процессе предобработке данных:\n",
    "- были переименованы столбцы, \n",
    "- удалены задублированные данные (менее 1%),\n",
    "- проверено, что у нас нет пользователей одновременно участвующих и нет в программе,\n",
    "- была создана таблица с суммами (к основной таблице были присоединены медианные цены на каждый товар и посчитана сумма чека)\n",
    "- на графике событий мы видим отсутствие событий в конце декабря, но в начале и конце периода событий достаточно, поэтому будем анализировать весь период не сокращая."
   ]
  },
  {
   "cell_type": "markdown",
   "metadata": {},
   "source": [
    "### Шаг 3. Проведение исследовательского анализа данных"
   ]
  },
  {
   "cell_type": "markdown",
   "metadata": {},
   "source": [
    "#### Создание профилей покупателей"
   ]
  },
  {
   "cell_type": "code",
   "execution_count": 38,
   "metadata": {},
   "outputs": [],
   "source": [
    "# Для создания пользовательских профилей с датой первой покупки напишем функцию get_profiles(). В ней сгруппируем значения датафрейма по покупателям и применим функцию first():\n",
    "\n",
    "def get_profiles(data_final_grouped):\n",
    "\n",
    "    # сортируем сессии по ID пользователя и дате посещения\n",
    "    # группируем по ID и находим первые значения session_start и channel\n",
    "    # столбец с временем первого посещения назовём first_ts\n",
    "    # от англ. first timestamp — первая временная отметка\n",
    "    profiles = (\n",
    "        data_final_grouped.sort_values(by=['customer', 'day'])\n",
    "        .groupby('customer')\n",
    "        .agg({'day': 'first', 'purchase': 'first', 'loyalty_program':'first'})\n",
    "        .rename(columns={'day': 'first_ts'})\n",
    "        .reset_index() # возвращаем user_id из индекса\n",
    "    )\n",
    "\n",
    "    # определяем дату первого посещения\n",
    "    # и первый день месяца, в который это посещение произошло\n",
    "    # эти данные понадобятся для когортного анализа\n",
    "    profiles['dt'] = profiles['first_ts'].dt.date\n",
    "    profiles['month'] = profiles['first_ts'].astype('datetime64[M]')\n",
    "   \n",
    "    return profiles\n"
   ]
  },
  {
   "cell_type": "code",
   "execution_count": 39,
   "metadata": {},
   "outputs": [
    {
     "data": {
      "text/html": [
       "<div>\n",
       "<style scoped>\n",
       "    .dataframe tbody tr th:only-of-type {\n",
       "        vertical-align: middle;\n",
       "    }\n",
       "\n",
       "    .dataframe tbody tr th {\n",
       "        vertical-align: top;\n",
       "    }\n",
       "\n",
       "    .dataframe thead th {\n",
       "        text-align: right;\n",
       "    }\n",
       "</style>\n",
       "<table border=\"1\" class=\"dataframe\">\n",
       "  <thead>\n",
       "    <tr style=\"text-align: right;\">\n",
       "      <th></th>\n",
       "      <th>customer</th>\n",
       "      <th>first_ts</th>\n",
       "      <th>purchase</th>\n",
       "      <th>loyalty_program</th>\n",
       "      <th>dt</th>\n",
       "      <th>month</th>\n",
       "    </tr>\n",
       "  </thead>\n",
       "  <tbody>\n",
       "    <tr>\n",
       "      <th>0</th>\n",
       "      <td>0.0</td>\n",
       "      <td>2016-12-01</td>\n",
       "      <td>536414</td>\n",
       "      <td>0.0</td>\n",
       "      <td>2016-12-01</td>\n",
       "      <td>2016-12-01</td>\n",
       "    </tr>\n",
       "    <tr>\n",
       "      <th>1</th>\n",
       "      <td>18025.0</td>\n",
       "      <td>2017-01-18</td>\n",
       "      <td>541431</td>\n",
       "      <td>0.0</td>\n",
       "      <td>2017-01-18</td>\n",
       "      <td>2017-01-01</td>\n",
       "    </tr>\n",
       "    <tr>\n",
       "      <th>2</th>\n",
       "      <td>18026.0</td>\n",
       "      <td>2016-12-07</td>\n",
       "      <td>537626</td>\n",
       "      <td>0.0</td>\n",
       "      <td>2016-12-07</td>\n",
       "      <td>2016-12-01</td>\n",
       "    </tr>\n",
       "    <tr>\n",
       "      <th>3</th>\n",
       "      <td>18027.0</td>\n",
       "      <td>2016-12-16</td>\n",
       "      <td>539318</td>\n",
       "      <td>0.0</td>\n",
       "      <td>2016-12-16</td>\n",
       "      <td>2016-12-01</td>\n",
       "    </tr>\n",
       "    <tr>\n",
       "      <th>4</th>\n",
       "      <td>18029.0</td>\n",
       "      <td>2017-02-02</td>\n",
       "      <td>543037</td>\n",
       "      <td>0.0</td>\n",
       "      <td>2017-02-02</td>\n",
       "      <td>2017-02-01</td>\n",
       "    </tr>\n",
       "    <tr>\n",
       "      <th>...</th>\n",
       "      <td>...</td>\n",
       "      <td>...</td>\n",
       "      <td>...</td>\n",
       "      <td>...</td>\n",
       "      <td>...</td>\n",
       "      <td>...</td>\n",
       "    </tr>\n",
       "    <tr>\n",
       "      <th>1745</th>\n",
       "      <td>23938.0</td>\n",
       "      <td>2016-12-08</td>\n",
       "      <td>537813</td>\n",
       "      <td>1.0</td>\n",
       "      <td>2016-12-08</td>\n",
       "      <td>2016-12-01</td>\n",
       "    </tr>\n",
       "    <tr>\n",
       "      <th>1746</th>\n",
       "      <td>23939.0</td>\n",
       "      <td>2016-12-16</td>\n",
       "      <td>539315</td>\n",
       "      <td>1.0</td>\n",
       "      <td>2016-12-16</td>\n",
       "      <td>2016-12-01</td>\n",
       "    </tr>\n",
       "    <tr>\n",
       "      <th>1747</th>\n",
       "      <td>23948.0</td>\n",
       "      <td>2016-12-08</td>\n",
       "      <td>537817</td>\n",
       "      <td>1.0</td>\n",
       "      <td>2016-12-08</td>\n",
       "      <td>2016-12-01</td>\n",
       "    </tr>\n",
       "    <tr>\n",
       "      <th>1748</th>\n",
       "      <td>23956.0</td>\n",
       "      <td>2017-01-25</td>\n",
       "      <td>C542086</td>\n",
       "      <td>1.0</td>\n",
       "      <td>2017-01-25</td>\n",
       "      <td>2017-01-01</td>\n",
       "    </tr>\n",
       "    <tr>\n",
       "      <th>1749</th>\n",
       "      <td>23962.0</td>\n",
       "      <td>2017-01-06</td>\n",
       "      <td>540350</td>\n",
       "      <td>1.0</td>\n",
       "      <td>2017-01-06</td>\n",
       "      <td>2017-01-01</td>\n",
       "    </tr>\n",
       "  </tbody>\n",
       "</table>\n",
       "<p>1750 rows × 6 columns</p>\n",
       "</div>"
      ],
      "text/plain": [
       "      customer   first_ts purchase  loyalty_program          dt      month\n",
       "0          0.0 2016-12-01   536414              0.0  2016-12-01 2016-12-01\n",
       "1      18025.0 2017-01-18   541431              0.0  2017-01-18 2017-01-01\n",
       "2      18026.0 2016-12-07   537626              0.0  2016-12-07 2016-12-01\n",
       "3      18027.0 2016-12-16   539318              0.0  2016-12-16 2016-12-01\n",
       "4      18029.0 2017-02-02   543037              0.0  2017-02-02 2017-02-01\n",
       "...        ...        ...      ...              ...         ...        ...\n",
       "1745   23938.0 2016-12-08   537813              1.0  2016-12-08 2016-12-01\n",
       "1746   23939.0 2016-12-16   539315              1.0  2016-12-16 2016-12-01\n",
       "1747   23948.0 2016-12-08   537817              1.0  2016-12-08 2016-12-01\n",
       "1748   23956.0 2017-01-25  C542086              1.0  2017-01-25 2017-01-01\n",
       "1749   23962.0 2017-01-06   540350              1.0  2017-01-06 2017-01-01\n",
       "\n",
       "[1750 rows x 6 columns]"
      ]
     },
     "metadata": {},
     "output_type": "display_data"
    }
   ],
   "source": [
    "# Вызовем функцию get_profiles(), чтобы составить профили пользователей по данным покупок из датафрейма data:\n",
    "profiles = get_profiles(data_final_grouped)\n",
    "display(profiles)"
   ]
  },
  {
   "cell_type": "markdown",
   "metadata": {},
   "source": [
    "__Результат — 1750 пользовательских профилей, в каждом из которых есть данные о дате первой покупки и участии или нет в программе лояльности. Такие данные значительно упрощают дальнейший анализ.\n",
    "\n",
    "__Имея готовые профили пользователей, легко узнать количество покупателей участвющих или нет в программе лояльности, достаточно сгруппировать профили по программе лояльности и посчитать количество уникальных ID функцией nunique():"
   ]
  },
  {
   "cell_type": "markdown",
   "metadata": {},
   "source": [
    "##### Когортный анализ по датам первой покупки"
   ]
  },
  {
   "cell_type": "code",
   "execution_count": 40,
   "metadata": {},
   "outputs": [
    {
     "data": {
      "image/png": "[encoded data removed]",
      "text/plain": [
       "<Figure size 1080x360 with 1 Axes>"
      ]
     },
     "metadata": {
      "needs_background": "light"
     },
     "output_type": "display_data"
    }
   ],
   "source": [
    "# Построим график, отображающий динамику привлечения новых покупателей, участвующих и не учатвующих в программе лояльности. Применим метод plot():\n",
    "\n",
    "profiles.pivot_table(\n",
    "    index='dt',  # даты первых посещений\n",
    "    columns='loyalty_program',  # участвует или нет в программе\n",
    "    values='customer',  # покупатели\n",
    "    aggfunc='nunique'  # подсчёт уникальных значений\n",
    ").plot(figsize=(15, 5), grid=True)\n",
    "plt.xlabel('Дата')\n",
    "plt.ylabel('Количество новых покупателей')\n",
    "\n",
    "plt.title('Динамика привлечения новых покупателей')\n",
    "plt.show()"
   ]
  },
  {
   "cell_type": "markdown",
   "metadata": {},
   "source": [
    "Динамики очень похожи, видно, что по программе лояльности  с  20 декабря 2016 по 3 января 2017 не было ни одного нового покупателя. \n",
    "С начала  и до середины декабря наблюдается резкое падение новых покупателей, потом с первых чисел января слегка оживает картина и далее наблюдается колебание в коридоре от 3 до 13 новых покупателей, не участвующих в програме лояльности и от 1 до 10 новых покупателей, участвующих в пограмме лояльности.\n"
   ]
  },
  {
   "cell_type": "markdown",
   "metadata": {},
   "source": [
    "##### Когортный анализ по участвующим в программе и нет"
   ]
  },
  {
   "cell_type": "code",
   "execution_count": 41,
   "metadata": {},
   "outputs": [
    {
     "data": {
      "text/html": [
       "<div>\n",
       "<style scoped>\n",
       "    .dataframe tbody tr th:only-of-type {\n",
       "        vertical-align: middle;\n",
       "    }\n",
       "\n",
       "    .dataframe tbody tr th {\n",
       "        vertical-align: top;\n",
       "    }\n",
       "\n",
       "    .dataframe thead th {\n",
       "        text-align: right;\n",
       "    }\n",
       "</style>\n",
       "<table border=\"1\" class=\"dataframe\">\n",
       "  <thead>\n",
       "    <tr style=\"text-align: right;\">\n",
       "      <th></th>\n",
       "      <th>customer</th>\n",
       "      <th>%</th>\n",
       "    </tr>\n",
       "    <tr>\n",
       "      <th>loyalty_program</th>\n",
       "      <th></th>\n",
       "      <th></th>\n",
       "    </tr>\n",
       "  </thead>\n",
       "  <tbody>\n",
       "    <tr>\n",
       "      <th>0.0</th>\n",
       "      <td>1163</td>\n",
       "      <td>66.5</td>\n",
       "    </tr>\n",
       "    <tr>\n",
       "      <th>1.0</th>\n",
       "      <td>587</td>\n",
       "      <td>33.5</td>\n",
       "    </tr>\n",
       "  </tbody>\n",
       "</table>\n",
       "</div>"
      ],
      "text/plain": [
       "                 customer     %\n",
       "loyalty_program                \n",
       "0.0                  1163  66.5\n",
       "1.0                   587  33.5"
      ]
     },
     "metadata": {},
     "output_type": "display_data"
    }
   ],
   "source": [
    "by_program = profiles.groupby('loyalty_program').agg({'customer': 'nunique'})\n",
    "by_program['%']= round(by_program['customer']*100/by_program['customer'].sum(),1)\n",
    "display(by_program)"
   ]
  },
  {
   "cell_type": "markdown",
   "metadata": {},
   "source": [
    "Как мы видим 33,5% участвуют в программе, но большая часть нет."
   ]
  },
  {
   "cell_type": "markdown",
   "metadata": {},
   "source": [
    "#### Расчет ритейл-метрик"
   ]
  },
  {
   "cell_type": "markdown",
   "metadata": {},
   "source": [
    "##### Расчет среднего чека и среднего количесва покупок в чеке"
   ]
  },
  {
   "cell_type": "markdown",
   "metadata": {},
   "source": [
    "На основании имеющихся у нас данных мы сможем рассчитать средний чек и среднее количество товара в чеке "
   ]
  },
  {
   "cell_type": "code",
   "execution_count": 42,
   "metadata": {},
   "outputs": [
    {
     "data": {
      "text/html": [
       "<div>\n",
       "<style scoped>\n",
       "    .dataframe tbody tr th:only-of-type {\n",
       "        vertical-align: middle;\n",
       "    }\n",
       "\n",
       "    .dataframe tbody tr th {\n",
       "        vertical-align: top;\n",
       "    }\n",
       "\n",
       "    .dataframe thead th {\n",
       "        text-align: right;\n",
       "    }\n",
       "</style>\n",
       "<table border=\"1\" class=\"dataframe\">\n",
       "  <thead>\n",
       "    <tr style=\"text-align: right;\">\n",
       "      <th></th>\n",
       "      <th>loyalty_program</th>\n",
       "      <th>quantity</th>\n",
       "      <th>sales</th>\n",
       "    </tr>\n",
       "  </thead>\n",
       "  <tbody>\n",
       "    <tr>\n",
       "      <th>0</th>\n",
       "      <td>0.0</td>\n",
       "      <td>167.188732</td>\n",
       "      <td>409.806504</td>\n",
       "    </tr>\n",
       "    <tr>\n",
       "      <th>1</th>\n",
       "      <td>1.0</td>\n",
       "      <td>170.158482</td>\n",
       "      <td>426.360510</td>\n",
       "    </tr>\n",
       "  </tbody>\n",
       "</table>\n",
       "</div>"
      ],
      "text/plain": [
       "   loyalty_program    quantity       sales\n",
       "0              0.0  167.188732  409.806504\n",
       "1              1.0  170.158482  426.360510"
      ]
     },
     "metadata": {},
     "output_type": "display_data"
    }
   ],
   "source": [
    "# посчитаем всего за период средний чек и среднее количество товара в чеке у участвующих и не участвующий в программе лояльности покупателей\n",
    "loyalty = (\n",
    "    data_final_grouped.groupby('loyalty_program', as_index=False)\n",
    "    .agg({'quantity': 'mean', 'sales': 'mean'})\n",
    "    \n",
    ")\n",
    "\n",
    "display(loyalty)"
   ]
  },
  {
   "cell_type": "markdown",
   "metadata": {},
   "source": [
    "Как мы видим среднее количество товара в чеке у покупателей, входящих в программу лояльности на почти 2% выше, а сумма среднего чека выше на 4%"
   ]
  },
  {
   "cell_type": "code",
   "execution_count": 43,
   "metadata": {},
   "outputs": [
    {
     "data": {
      "text/html": [
       "<div>\n",
       "<style scoped>\n",
       "    .dataframe tbody tr th:only-of-type {\n",
       "        vertical-align: middle;\n",
       "    }\n",
       "\n",
       "    .dataframe tbody tr th {\n",
       "        vertical-align: top;\n",
       "    }\n",
       "\n",
       "    .dataframe thead th {\n",
       "        text-align: right;\n",
       "    }\n",
       "</style>\n",
       "<table border=\"1\" class=\"dataframe\">\n",
       "  <thead>\n",
       "    <tr style=\"text-align: right;\">\n",
       "      <th></th>\n",
       "      <th>loyalty_program</th>\n",
       "      <th>day</th>\n",
       "      <th>quantity</th>\n",
       "      <th>sales</th>\n",
       "      <th>purchase</th>\n",
       "    </tr>\n",
       "  </thead>\n",
       "  <tbody>\n",
       "    <tr>\n",
       "      <th>0</th>\n",
       "      <td>0.0</td>\n",
       "      <td>2016-12-01</td>\n",
       "      <td>198.159574</td>\n",
       "      <td>580.681277</td>\n",
       "      <td>94</td>\n",
       "    </tr>\n",
       "    <tr>\n",
       "      <th>1</th>\n",
       "      <td>0.0</td>\n",
       "      <td>2016-12-02</td>\n",
       "      <td>87.366337</td>\n",
       "      <td>93.167673</td>\n",
       "      <td>101</td>\n",
       "    </tr>\n",
       "    <tr>\n",
       "      <th>2</th>\n",
       "      <td>0.0</td>\n",
       "      <td>2016-12-03</td>\n",
       "      <td>123.831325</td>\n",
       "      <td>367.712048</td>\n",
       "      <td>83</td>\n",
       "    </tr>\n",
       "    <tr>\n",
       "      <th>3</th>\n",
       "      <td>0.0</td>\n",
       "      <td>2016-12-05</td>\n",
       "      <td>126.782609</td>\n",
       "      <td>366.630000</td>\n",
       "      <td>69</td>\n",
       "    </tr>\n",
       "    <tr>\n",
       "      <th>4</th>\n",
       "      <td>0.0</td>\n",
       "      <td>2016-12-06</td>\n",
       "      <td>125.280899</td>\n",
       "      <td>345.313764</td>\n",
       "      <td>89</td>\n",
       "    </tr>\n",
       "  </tbody>\n",
       "</table>\n",
       "</div>"
      ],
      "text/plain": [
       "   loyalty_program        day    quantity       sales  purchase\n",
       "0              0.0 2016-12-01  198.159574  580.681277        94\n",
       "1              0.0 2016-12-02   87.366337   93.167673       101\n",
       "2              0.0 2016-12-03  123.831325  367.712048        83\n",
       "3              0.0 2016-12-05  126.782609  366.630000        69\n",
       "4              0.0 2016-12-06  125.280899  345.313764        89"
      ]
     },
     "metadata": {},
     "output_type": "display_data"
    }
   ],
   "source": [
    "# посчитаем по дням средний чек и среднее количество товара в чеке у участвующих и не у\n",
    "loyalty_per_day = (\n",
    "    data_final_grouped.groupby(['loyalty_program','day'], as_index=False)\n",
    "    .agg({'quantity': 'mean', 'sales': 'mean', 'purchase':'count'})\n",
    ")\n",
    "\n",
    "display(loyalty_per_day.head())"
   ]
  },
  {
   "cell_type": "code",
   "execution_count": 44,
   "metadata": {},
   "outputs": [
    {
     "data": {
      "image/png": "[encoded data removed]",
      "text/plain": [
       "<Figure size 1080x360 with 1 Axes>"
      ]
     },
     "metadata": {
      "needs_background": "light"
     },
     "output_type": "display_data"
    }
   ],
   "source": [
    "# Построим график, отображающий динамику количества покупок покупателей, участвуюзих и не учатвующих в программе лояльности. Применим метод plot():\n",
    "\n",
    "loyalty_per_day.pivot_table(\n",
    "    index='day',  \n",
    "    columns='loyalty_program',  \n",
    "    values='purchase'\n",
    ").plot(figsize=(15, 5), grid=True)\n",
    "plt.xlabel('Дата')\n",
    "plt.ylabel('Количество покупок')\n",
    "\n",
    "plt.title('Динамика покупок покупателей в программе лояльности и вне ее')\n",
    "plt.show()"
   ]
  },
  {
   "cell_type": "code",
   "execution_count": 45,
   "metadata": {},
   "outputs": [
    {
     "data": {
      "image/png": "[encoded data removed]",
      "text/plain": [
       "<Figure size 1080x504 with 1 Axes>"
      ]
     },
     "metadata": {
      "needs_background": "light"
     },
     "output_type": "display_data"
    }
   ],
   "source": [
    "# Построим график, отображающий динамику среднего количества товаров в чеке у покупателей, участвуюзих и не учатвующих в программе лояльности. Применим метод plot():\n",
    "\n",
    "loyalty_per_day.pivot_table(\n",
    "    index='day',  \n",
    "    columns='loyalty_program',  \n",
    "    values='quantity'\n",
    ").plot(figsize=(15, 7), grid=True)\n",
    "plt.xlabel('Дата')\n",
    "plt.ylabel('Среднее количество товара в чеке')\n",
    "\n",
    "plt.title('Динамика среднего количества товаров в чеке покупателей в программе лояльности и вне ее')\n",
    "plt.show()"
   ]
  },
  {
   "cell_type": "code",
   "execution_count": 46,
   "metadata": {},
   "outputs": [
    {
     "data": {
      "image/png": "[encoded data removed]",
      "text/plain": [
       "<Figure size 1080x504 with 1 Axes>"
      ]
     },
     "metadata": {
      "needs_background": "light"
     },
     "output_type": "display_data"
    }
   ],
   "source": [
    "# Построим график, отображающий динамику среднего чека покупателей, участвуюзих и не учатвующих в программе лояльности. Применим метод plot():\n",
    "\n",
    "loyalty_per_day.pivot_table(\n",
    "    index='day',  \n",
    "    columns='loyalty_program',  \n",
    "    values='sales'\n",
    ").plot(figsize=(15,7), grid=True)\n",
    "plt.xlabel('Дата')\n",
    "plt.ylabel('Средний чек (в руб.)')\n",
    "\n",
    "plt.title('Динамика среднего чека покупателей в программе лояльности и вне ее')\n",
    "plt.show()"
   ]
  },
  {
   "cell_type": "markdown",
   "metadata": {},
   "source": [
    "__Как мы видим на вышеприведенных графиках:\n",
    " - количество покупок, совершаемых покупателями, не входящими в программу лояльности, выше чем входящих за исключением пары дней, но колебания очень похожи\n",
    " - но и амплитуда колебаний по количеству покупок у покупателей вне программы гораздо выше,\n",
    " - в целом за период среднее количеств товара в чеке у покупателей в программе выше на 2%, если посмотреть по дням, то наблюдается некая цикличность, и пиковые значения (например 2 февраля), которые говорят о крупных покупках покупателей по программе лояльности, что и влияет на общие цифры. Но при этом после пиковых покупок наблюдаются периоды затишья, когда в течение долгого периода времени сренее количество товаров в чеке у покупателей, не входящих в програму лояльности выше.\n",
    " - динамика среднего чека вцелом похожа на динамику среднего количества, и так же после крупных покупоку покупателей по программе лояльности натупает некий спад, наблюдаются пиковые покупки (если судить по среднему чеку) в первые полторы недели месяца, потом в середине месяца средний чек по покупателям вне пограммы лояльности становится выше и опять ближе к конце месяца наблюдается рост среднего чека по покупателям в программе."
   ]
  },
  {
   "cell_type": "markdown",
   "metadata": {},
   "source": [
    "##### Расчет коэффициента повторных покупок (RPR)"
   ]
  },
  {
   "cell_type": "code",
   "execution_count": 47,
   "metadata": {},
   "outputs": [
    {
     "data": {
      "text/html": [
       "<div>\n",
       "<style scoped>\n",
       "    .dataframe tbody tr th:only-of-type {\n",
       "        vertical-align: middle;\n",
       "    }\n",
       "\n",
       "    .dataframe tbody tr th {\n",
       "        vertical-align: top;\n",
       "    }\n",
       "\n",
       "    .dataframe thead th {\n",
       "        text-align: right;\n",
       "    }\n",
       "</style>\n",
       "<table border=\"1\" class=\"dataframe\">\n",
       "  <thead>\n",
       "    <tr style=\"text-align: right;\">\n",
       "      <th></th>\n",
       "      <th>purchase</th>\n",
       "      <th>customer</th>\n",
       "      <th>day</th>\n",
       "      <th>shop</th>\n",
       "      <th>quantity</th>\n",
       "      <th>sales</th>\n",
       "      <th>loyalty_program</th>\n",
       "    </tr>\n",
       "  </thead>\n",
       "  <tbody>\n",
       "    <tr>\n",
       "      <th>0</th>\n",
       "      <td>536365</td>\n",
       "      <td>23529.0</td>\n",
       "      <td>2016-12-01</td>\n",
       "      <td>Shop 0</td>\n",
       "      <td>33</td>\n",
       "      <td>186.515</td>\n",
       "      <td>1.0</td>\n",
       "    </tr>\n",
       "    <tr>\n",
       "      <th>1</th>\n",
       "      <td>536366</td>\n",
       "      <td>23529.0</td>\n",
       "      <td>2016-12-01</td>\n",
       "      <td>Shop 0</td>\n",
       "      <td>10</td>\n",
       "      <td>19.750</td>\n",
       "      <td>1.0</td>\n",
       "    </tr>\n",
       "    <tr>\n",
       "      <th>2</th>\n",
       "      <td>536367</td>\n",
       "      <td>18726.0</td>\n",
       "      <td>2016-12-01</td>\n",
       "      <td>Shop 0</td>\n",
       "      <td>71</td>\n",
       "      <td>285.395</td>\n",
       "      <td>0.0</td>\n",
       "    </tr>\n",
       "    <tr>\n",
       "      <th>3</th>\n",
       "      <td>536368</td>\n",
       "      <td>18726.0</td>\n",
       "      <td>2016-12-01</td>\n",
       "      <td>Shop 0</td>\n",
       "      <td>11</td>\n",
       "      <td>96.090</td>\n",
       "      <td>0.0</td>\n",
       "    </tr>\n",
       "    <tr>\n",
       "      <th>4</th>\n",
       "      <td>536369</td>\n",
       "      <td>18726.0</td>\n",
       "      <td>2016-12-01</td>\n",
       "      <td>Shop 0</td>\n",
       "      <td>2</td>\n",
       "      <td>13.200</td>\n",
       "      <td>0.0</td>\n",
       "    </tr>\n",
       "  </tbody>\n",
       "</table>\n",
       "</div>"
      ],
      "text/plain": [
       "  purchase  customer        day    shop  quantity    sales  loyalty_program\n",
       "0   536365   23529.0 2016-12-01  Shop 0        33  186.515              1.0\n",
       "1   536366   23529.0 2016-12-01  Shop 0        10   19.750              1.0\n",
       "2   536367   18726.0 2016-12-01  Shop 0        71  285.395              0.0\n",
       "3   536368   18726.0 2016-12-01  Shop 0        11   96.090              0.0\n",
       "4   536369   18726.0 2016-12-01  Shop 0         2   13.200              0.0"
      ]
     },
     "metadata": {},
     "output_type": "display_data"
    }
   ],
   "source": [
    "display(data_final_grouped.head())"
   ]
  },
  {
   "cell_type": "code",
   "execution_count": 48,
   "metadata": {},
   "outputs": [
    {
     "data": {
      "text/html": [
       "<div>\n",
       "<style scoped>\n",
       "    .dataframe tbody tr th:only-of-type {\n",
       "        vertical-align: middle;\n",
       "    }\n",
       "\n",
       "    .dataframe tbody tr th {\n",
       "        vertical-align: top;\n",
       "    }\n",
       "\n",
       "    .dataframe thead th {\n",
       "        text-align: right;\n",
       "    }\n",
       "</style>\n",
       "<table border=\"1\" class=\"dataframe\">\n",
       "  <thead>\n",
       "    <tr style=\"text-align: right;\">\n",
       "      <th></th>\n",
       "      <th>purchase</th>\n",
       "    </tr>\n",
       "    <tr>\n",
       "      <th>loyalty_program</th>\n",
       "      <th></th>\n",
       "    </tr>\n",
       "  </thead>\n",
       "  <tbody>\n",
       "    <tr>\n",
       "      <th>0.0</th>\n",
       "      <td>2.411360</td>\n",
       "    </tr>\n",
       "    <tr>\n",
       "      <th>1.0</th>\n",
       "      <td>2.289608</td>\n",
       "    </tr>\n",
       "  </tbody>\n",
       "</table>\n",
       "</div>"
      ],
      "text/plain": [
       "                 purchase\n",
       "loyalty_program          \n",
       "0.0              2.411360\n",
       "1.0              2.289608"
      ]
     },
     "metadata": {},
     "output_type": "display_data"
    }
   ],
   "source": [
    "# Посчитаем среднее количество покупок, совершаемых покупателями, участвующих в прогрумме лояльности и нет\n",
    "# для более точного подсчета уберем пользователей, который нельзя идентифицировать\n",
    "\n",
    "purchase_user = data_final_grouped[data_final_grouped['customer']!=0].groupby(['loyalty_program','customer'], as_index=False).agg({'purchase':'count'}).reset_index()\n",
    "RPR=purchase_user.groupby('loyalty_program').agg({'purchase':'mean'})\n",
    "\n",
    "display(RPR)"
   ]
  },
  {
   "cell_type": "markdown",
   "metadata": {},
   "source": [
    "__Как мы видим пользователи, не участвующие в программе лояльности чуть чаще совершают повторные покупки - примерно на 5,3%."
   ]
  },
  {
   "cell_type": "code",
   "execution_count": 49,
   "metadata": {},
   "outputs": [
    {
     "name": "stdout",
     "output_type": "stream",
     "text": [
      "<class 'pandas.core.frame.DataFrame'>\n",
      "RangeIndex: 4894 entries, 0 to 4893\n",
      "Data columns (total 7 columns):\n",
      " #   Column           Non-Null Count  Dtype         \n",
      "---  ------           --------------  -----         \n",
      " 0   purchase         4894 non-null   object        \n",
      " 1   customer         4894 non-null   float64       \n",
      " 2   day              4894 non-null   datetime64[ns]\n",
      " 3   shop             4894 non-null   object        \n",
      " 4   quantity         4894 non-null   int64         \n",
      " 5   sales            4894 non-null   float64       \n",
      " 6   loyalty_program  4894 non-null   float64       \n",
      "dtypes: datetime64[ns](1), float64(3), int64(1), object(2)\n",
      "memory usage: 267.8+ KB\n"
     ]
    }
   ],
   "source": [
    "data_final_grouped.head()\n",
    "data_final_grouped.info()"
   ]
  },
  {
   "cell_type": "markdown",
   "metadata": {},
   "source": [
    "##### Расчет пожизненной ценности клиента LTV"
   ]
  },
  {
   "cell_type": "code",
   "execution_count": 50,
   "metadata": {},
   "outputs": [],
   "source": [
    "# функция для создания пользовательских профилей\n",
    "\n",
    "def get_profiles(data_final_grouped, dimensions=[]):\n",
    "\n",
    "    # находим параметры первых посещений\n",
    "    profiles = (\n",
    "        data_final_grouped.sort_values(by=['customer', 'day'])\n",
    "        .groupby(['customer'])\n",
    "        .agg({'day': 'first', 'loyalty_program':'first'})\n",
    "        .rename(columns={'day': 'first'})\n",
    "        .reset_index()\n",
    "    )\n",
    "\n",
    "    # для когортного анализа определяем дату первого посещения\n",
    "    # и первый день месяца, в который это посещение произошло\n",
    "    profiles['dt'] = profiles['first'].dt.date\n",
    "    profiles['month'] = profiles['first'].astype('datetime64[M]')\n",
    "\n",
    "   \n",
    "    return profiles"
   ]
  },
  {
   "cell_type": "code",
   "execution_count": 51,
   "metadata": {},
   "outputs": [
    {
     "name": "stdout",
     "output_type": "stream",
     "text": [
      "<class 'pandas.core.frame.DataFrame'>\n",
      "RangeIndex: 1750 entries, 0 to 1749\n",
      "Data columns (total 5 columns):\n",
      " #   Column           Non-Null Count  Dtype         \n",
      "---  ------           --------------  -----         \n",
      " 0   customer         1750 non-null   float64       \n",
      " 1   first            1750 non-null   datetime64[ns]\n",
      " 2   loyalty_program  1750 non-null   float64       \n",
      " 3   dt               1750 non-null   object        \n",
      " 4   month            1750 non-null   datetime64[ns]\n",
      "dtypes: datetime64[ns](2), float64(2), object(1)\n",
      "memory usage: 68.5+ KB\n",
      "None\n"
     ]
    }
   ],
   "source": [
    "profiles = get_profiles(data_final_grouped)\n",
    "print(profiles.info())"
   ]
  },
  {
   "cell_type": "code",
   "execution_count": 52,
   "metadata": {},
   "outputs": [
    {
     "name": "stdout",
     "output_type": "stream",
     "text": [
      "<class 'pandas.core.frame.DataFrame'>\n",
      "RangeIndex: 3659 entries, 0 to 3658\n",
      "Data columns (total 4 columns):\n",
      " #   Column           Non-Null Count  Dtype         \n",
      "---  ------           --------------  -----         \n",
      " 0   customer         3659 non-null   float64       \n",
      " 1   day              3659 non-null   datetime64[ns]\n",
      " 2   loyalty_program  3659 non-null   float64       \n",
      " 3   sales            3659 non-null   float64       \n",
      "dtypes: datetime64[ns](1), float64(3)\n",
      "memory usage: 114.5 KB\n"
     ]
    }
   ],
   "source": [
    "sales_per_day=data_final.groupby(['customer','day','loyalty_program']).agg({'sales': 'sum'})\n",
    "sales_per_day = sales_per_day.reset_index()\n",
    "sales_per_day.info()"
   ]
  },
  {
   "cell_type": "code",
   "execution_count": 53,
   "metadata": {},
   "outputs": [],
   "source": [
    "# преобразуем данные о времени\n",
    "profiles['dt'] = pd.to_datetime(profiles['dt']).dt.date\n",
    "profiles['first'] = pd.to_datetime(profiles['first'])\n",
    "data_final_grouped['day'] = pd.to_datetime(data_final_grouped['day'])\n",
    "sales_per_day['day'] = pd.to_datetime(sales_per_day['day'])"
   ]
  },
  {
   "cell_type": "code",
   "execution_count": 54,
   "metadata": {},
   "outputs": [],
   "source": [
    "# задаём момент и горизонт анализа данных\n",
    "observation_date = datetime(2017, 2, 28).date()\n",
    "horizon_days = 14\n",
    "\n",
    "# создаём опцию «игнорировать горизонт»\n",
    "ignore_horizon = False"
   ]
  },
  {
   "cell_type": "code",
   "execution_count": 55,
   "metadata": {},
   "outputs": [],
   "source": [
    "# напишем функцию для расчёта LTV \n",
    "\n",
    "def get_ltv(\n",
    "    profiles,\n",
    "    data_final_grouped,\n",
    "    observation_date,\n",
    "    horizon_days,\n",
    "    dimensions=[],\n",
    "    ignore_horizon=False,\n",
    "):\n",
    "\n",
    "   # исключаем пользователей, не «доживших» до горизонта анализа\n",
    "    last_suitable_acquisition_date = observation_date\n",
    "    if not ignore_horizon:\n",
    "        last_suitable_acquisition_date = observation_date - timedelta(\n",
    "            days=horizon_days - 1\n",
    "        )\n",
    "        \n",
    "      # исключаем пользователей, пришедших после максимальной даты привлечения\n",
    "    result_raw = profiles.query('dt <= @last_suitable_acquisition_date')  \n",
    "     \n",
    "    # присоединяем дату покупки и сумму к профилям по столбцу customer\n",
    "\n",
    "    result_raw = result_raw.merge(sales_per_day[['customer', 'day','sales']], on='customer', how='left')\n",
    "\n",
    "    # вычисляем лайфтайм для каждой сессии в днях\n",
    "\n",
    "    result_raw['lifetime'] = (result_raw['day'] - result_raw['first']).dt.days\n",
    "\n",
    "        \n",
    "    # группируем по cohort, если в dimensions ничего нет\n",
    "    if len(dimensions) == 0:\n",
    "        result_raw['cohort'] = 'All users'\n",
    "        dimensions = dimensions + ['cohort']\n",
    "\n",
    "    # функция группировки по желаемым признакам\n",
    "    def group_by_dimensions(result_raw, dims, horizon_days):\n",
    "        # строим «треугольную» таблицу выручки\n",
    "        result = result_raw.pivot_table(\n",
    "            index=dims, columns='lifetime', values='sales', aggfunc='sum',\n",
    "        )\n",
    "        # находим сумму выручки с накоплением\n",
    "        result = result.fillna(0).cumsum(axis=1)\n",
    "        # вычисляем размеры когорт\n",
    "        cohort_sizes = (\n",
    "             result_raw.groupby(dims)\n",
    "            .agg({'customer': 'nunique'})\n",
    "            .rename(columns={'customer': 'cohort_size'})\n",
    "        )\n",
    "        # объединяем размеры когорт и таблицу выручки\n",
    "        result = cohort_sizes.merge(result, on=dims, how='left').fillna(0)\n",
    "        # считаем LTV: делим каждую «ячейку» в строке на размер когорты\n",
    "        result = result.div(result['cohort_size'], axis=0)\n",
    "        # исключаем все лайфтаймы, превышающие горизонт анализа\n",
    "        result = result[['cohort_size'] + list(range(horizon_days))]\n",
    "        # восстанавливаем размеры когорт\n",
    "        result['cohort_size'] = cohort_sizes\n",
    "\n",
    "        # возвращаем таблицы LTV \n",
    "        return result\n",
    "\n",
    "    # получаем таблицы LTV \n",
    "    result_grouped = group_by_dimensions(\n",
    "        result_raw, dimensions, horizon_days\n",
    "    )\n",
    "\n",
    "    # для таблиц динамики убираем 'cohort' из dimensions\n",
    "    if 'cohort' in dimensions:\n",
    "        dimensions = []\n",
    "\n",
    "    # получаем таблицы динамики LTV \n",
    "    result_in_time = group_by_dimensions(\n",
    "        result_raw, dimensions+['dt'], horizon_days\n",
    "    )\n",
    "\n",
    "    return result_raw, result_grouped, result_in_time\n",
    "\n"
   ]
  },
  {
   "cell_type": "code",
   "execution_count": 56,
   "metadata": {},
   "outputs": [
    {
     "data": {
      "text/html": [
       "<div>\n",
       "<style scoped>\n",
       "    .dataframe tbody tr th:only-of-type {\n",
       "        vertical-align: middle;\n",
       "    }\n",
       "\n",
       "    .dataframe tbody tr th {\n",
       "        vertical-align: top;\n",
       "    }\n",
       "\n",
       "    .dataframe thead th {\n",
       "        text-align: right;\n",
       "    }\n",
       "</style>\n",
       "<table border=\"1\" class=\"dataframe\">\n",
       "  <thead>\n",
       "    <tr style=\"text-align: right;\">\n",
       "      <th></th>\n",
       "      <th>customer</th>\n",
       "      <th>first</th>\n",
       "      <th>loyalty_program</th>\n",
       "      <th>dt</th>\n",
       "      <th>month</th>\n",
       "      <th>day</th>\n",
       "      <th>sales</th>\n",
       "      <th>lifetime</th>\n",
       "    </tr>\n",
       "  </thead>\n",
       "  <tbody>\n",
       "    <tr>\n",
       "      <th>0</th>\n",
       "      <td>0.0</td>\n",
       "      <td>2016-12-01</td>\n",
       "      <td>0.0</td>\n",
       "      <td>2016-12-01</td>\n",
       "      <td>2016-12-01</td>\n",
       "      <td>2016-12-01</td>\n",
       "      <td>5272.365</td>\n",
       "      <td>0</td>\n",
       "    </tr>\n",
       "    <tr>\n",
       "      <th>1</th>\n",
       "      <td>0.0</td>\n",
       "      <td>2016-12-01</td>\n",
       "      <td>0.0</td>\n",
       "      <td>2016-12-01</td>\n",
       "      <td>2016-12-01</td>\n",
       "      <td>2016-12-02</td>\n",
       "      <td>269.945</td>\n",
       "      <td>1</td>\n",
       "    </tr>\n",
       "    <tr>\n",
       "      <th>2</th>\n",
       "      <td>0.0</td>\n",
       "      <td>2016-12-01</td>\n",
       "      <td>0.0</td>\n",
       "      <td>2016-12-01</td>\n",
       "      <td>2016-12-01</td>\n",
       "      <td>2016-12-03</td>\n",
       "      <td>9013.010</td>\n",
       "      <td>2</td>\n",
       "    </tr>\n",
       "    <tr>\n",
       "      <th>3</th>\n",
       "      <td>0.0</td>\n",
       "      <td>2016-12-01</td>\n",
       "      <td>0.0</td>\n",
       "      <td>2016-12-01</td>\n",
       "      <td>2016-12-01</td>\n",
       "      <td>2016-12-05</td>\n",
       "      <td>0.000</td>\n",
       "      <td>4</td>\n",
       "    </tr>\n",
       "    <tr>\n",
       "      <th>4</th>\n",
       "      <td>0.0</td>\n",
       "      <td>2016-12-01</td>\n",
       "      <td>0.0</td>\n",
       "      <td>2016-12-01</td>\n",
       "      <td>2016-12-01</td>\n",
       "      <td>2016-12-06</td>\n",
       "      <td>9131.005</td>\n",
       "      <td>5</td>\n",
       "    </tr>\n",
       "    <tr>\n",
       "      <th>...</th>\n",
       "      <td>...</td>\n",
       "      <td>...</td>\n",
       "      <td>...</td>\n",
       "      <td>...</td>\n",
       "      <td>...</td>\n",
       "      <td>...</td>\n",
       "      <td>...</td>\n",
       "      <td>...</td>\n",
       "    </tr>\n",
       "    <tr>\n",
       "      <th>3454</th>\n",
       "      <td>23948.0</td>\n",
       "      <td>2016-12-08</td>\n",
       "      <td>1.0</td>\n",
       "      <td>2016-12-08</td>\n",
       "      <td>2016-12-01</td>\n",
       "      <td>2016-12-16</td>\n",
       "      <td>-32.200</td>\n",
       "      <td>8</td>\n",
       "    </tr>\n",
       "    <tr>\n",
       "      <th>3455</th>\n",
       "      <td>23956.0</td>\n",
       "      <td>2017-01-25</td>\n",
       "      <td>1.0</td>\n",
       "      <td>2017-01-25</td>\n",
       "      <td>2017-01-01</td>\n",
       "      <td>2017-01-25</td>\n",
       "      <td>-25.470</td>\n",
       "      <td>0</td>\n",
       "    </tr>\n",
       "    <tr>\n",
       "      <th>3456</th>\n",
       "      <td>23962.0</td>\n",
       "      <td>2017-01-06</td>\n",
       "      <td>1.0</td>\n",
       "      <td>2017-01-06</td>\n",
       "      <td>2017-01-01</td>\n",
       "      <td>2017-01-06</td>\n",
       "      <td>12.520</td>\n",
       "      <td>0</td>\n",
       "    </tr>\n",
       "    <tr>\n",
       "      <th>3457</th>\n",
       "      <td>23962.0</td>\n",
       "      <td>2017-01-06</td>\n",
       "      <td>1.0</td>\n",
       "      <td>2017-01-06</td>\n",
       "      <td>2017-01-01</td>\n",
       "      <td>2017-01-23</td>\n",
       "      <td>39.160</td>\n",
       "      <td>17</td>\n",
       "    </tr>\n",
       "    <tr>\n",
       "      <th>3458</th>\n",
       "      <td>23962.0</td>\n",
       "      <td>2017-01-06</td>\n",
       "      <td>1.0</td>\n",
       "      <td>2017-01-06</td>\n",
       "      <td>2017-01-01</td>\n",
       "      <td>2017-02-28</td>\n",
       "      <td>53.250</td>\n",
       "      <td>53</td>\n",
       "    </tr>\n",
       "  </tbody>\n",
       "</table>\n",
       "<p>3459 rows × 8 columns</p>\n",
       "</div>"
      ],
      "text/plain": [
       "      customer      first  loyalty_program          dt      month        day  \\\n",
       "0          0.0 2016-12-01              0.0  2016-12-01 2016-12-01 2016-12-01   \n",
       "1          0.0 2016-12-01              0.0  2016-12-01 2016-12-01 2016-12-02   \n",
       "2          0.0 2016-12-01              0.0  2016-12-01 2016-12-01 2016-12-03   \n",
       "3          0.0 2016-12-01              0.0  2016-12-01 2016-12-01 2016-12-05   \n",
       "4          0.0 2016-12-01              0.0  2016-12-01 2016-12-01 2016-12-06   \n",
       "...        ...        ...              ...         ...        ...        ...   \n",
       "3454   23948.0 2016-12-08              1.0  2016-12-08 2016-12-01 2016-12-16   \n",
       "3455   23956.0 2017-01-25              1.0  2017-01-25 2017-01-01 2017-01-25   \n",
       "3456   23962.0 2017-01-06              1.0  2017-01-06 2017-01-01 2017-01-06   \n",
       "3457   23962.0 2017-01-06              1.0  2017-01-06 2017-01-01 2017-01-23   \n",
       "3458   23962.0 2017-01-06              1.0  2017-01-06 2017-01-01 2017-02-28   \n",
       "\n",
       "         sales  lifetime  \n",
       "0     5272.365         0  \n",
       "1      269.945         1  \n",
       "2     9013.010         2  \n",
       "3        0.000         4  \n",
       "4     9131.005         5  \n",
       "...        ...       ...  \n",
       "3454   -32.200         8  \n",
       "3455   -25.470         0  \n",
       "3456    12.520         0  \n",
       "3457    39.160        17  \n",
       "3458    53.250        53  \n",
       "\n",
       "[3459 rows x 8 columns]"
      ]
     },
     "execution_count": 56,
     "metadata": {},
     "output_type": "execute_result"
    }
   ],
   "source": [
    "# исключаем пользователей, не «доживших» до горизонта анализа\n",
    "last_suitable_acquisition_date = observation_date\n",
    "if not ignore_horizon:\n",
    "    last_suitable_acquisition_date = observation_date - timedelta(\n",
    "            days=horizon_days - 1\n",
    "        )\n",
    "    # исключаем пользователей, пришедших после максимальной даты привлечения\n",
    "result_raw = profiles.query('dt <= @last_suitable_acquisition_date')  \n",
    "     \n",
    "    # присоединяем дату покупки и сумму к профилям по столбцу customer\n",
    "\n",
    "result_raw = result_raw.merge(sales_per_day[['customer', 'day','sales']], on='customer', how='left')\n",
    "\n",
    "    # вычисляем лайфтайм для каждой сессии в днях\n",
    "\n",
    "result_raw['lifetime'] = (result_raw['day'] - result_raw['first']).dt.days\n",
    "result_raw"
   ]
  },
  {
   "cell_type": "code",
   "execution_count": 57,
   "metadata": {},
   "outputs": [],
   "source": [
    "# функция для сглаживания фрейма\n",
    "\n",
    "def filter_data(data_final_grouped, window):\n",
    "    # для каждого столбца применяем скользящее среднее\n",
    "    for column in data_final_grouped.columns.values:\n",
    "        data_final_grouped[column] = data_final_grouped[column].rolling(window).mean() \n",
    "    return data_final_grouped "
   ]
  },
  {
   "cell_type": "code",
   "execution_count": 58,
   "metadata": {},
   "outputs": [],
   "source": [
    "# функция для визуализации LTV \n",
    "\n",
    "def plot_ltv(ltv, ltv_history, horizon, window=7):\n",
    "\n",
    "    # задаём сетку отрисовки графиков\n",
    "    plt.figure(figsize=(20, 10))\n",
    "\n",
    "    # из таблицы ltv исключаем размеры когорт\n",
    "    ltv = ltv.drop(columns=['cohort_size'])\n",
    "    # в таблице динамики ltv оставляем только нужный лайфтайм\n",
    "    ltv_history = ltv_history.drop(columns=['cohort_size'])[[horizon - 1]]\n",
    "\n",
    "\n",
    "    # первый график — кривые ltv\n",
    "    ax1 = plt.subplot(2, 3, 1)\n",
    "    ltv.T.plot(grid=True, ax=ax1)\n",
    "    plt.legend()\n",
    "    plt.xlabel('Лайфтайм')\n",
    "    plt.title('LTV')\n",
    "\n",
    "    # второй график — динамика ltv\n",
    "    ax2 = plt.subplot(2, 3, 2, sharey=ax1)\n",
    "    # столбцами сводной таблицы станут все столбцы индекса, кроме даты\n",
    "    columns = [name for name in ltv_history.index.names if name not in ['dt']]\n",
    "    filtered_data = ltv_history.pivot_table(\n",
    "        index='dt', columns=columns, values=horizon - 1, aggfunc='mean'\n",
    "    )\n",
    "    filter_data(filtered_data, window).plot(grid=True, ax=ax2)\n",
    "    plt.xlabel('Дата привлечения')\n",
    "    plt.title('Динамика LTV пользователей на {}-й день'.format(horizon))\n",
    "\n",
    "    plt.tight_layout()\n",
    "    plt.show()"
   ]
  },
  {
   "cell_type": "code",
   "execution_count": 59,
   "metadata": {},
   "outputs": [],
   "source": [
    "#ltv_grouped"
   ]
  },
  {
   "cell_type": "code",
   "execution_count": 60,
   "metadata": {},
   "outputs": [],
   "source": [
    "#ltv_history.head()"
   ]
  },
  {
   "cell_type": "code",
   "execution_count": 61,
   "metadata": {},
   "outputs": [],
   "source": [
    "#ltv_history.drop(columns=['cohort_size'])[[horizon_days - 1]].head()"
   ]
  },
  {
   "cell_type": "code",
   "execution_count": 62,
   "metadata": {},
   "outputs": [
    {
     "data": {
      "image/png": "[encoded data removed]",
      "text/plain": [
       "<Figure size 1440x720 with 2 Axes>"
      ]
     },
     "metadata": {
      "needs_background": "light"
     },
     "output_type": "display_data"
    }
   ],
   "source": [
    "# смотрим ltv с разбивкой по покупателям в программе и вне \n",
    "\n",
    "dimensions = ['loyalty_program']\n",
    "\n",
    "ltv_raw, ltv_grouped, ltv_history = get_ltv(\n",
    "    profiles, data_final_grouped, observation_date, horizon_days, dimensions=dimensions\n",
    ")\n",
    "\n",
    "plot_ltv(ltv_grouped, ltv_history, horizon_days, window=14)"
   ]
  },
  {
   "cell_type": "code",
   "execution_count": 63,
   "metadata": {},
   "outputs": [
    {
     "data": {
      "image/png": "[encoded data removed]",
      "text/plain": [
       "<Figure size 1440x720 with 2 Axes>"
      ]
     },
     "metadata": {
      "needs_background": "light"
     },
     "output_type": "display_data"
    }
   ],
   "source": [
    "# считаем LTV \n",
    "ltv_raw, ltv_grouped, ltv_history = get_ltv(\n",
    "    profiles, data_final_grouped, observation_date, horizon_days\n",
    ")\n",
    "\n",
    "# строим графики\n",
    "plot_ltv(ltv_grouped, ltv_history, horizon_days) "
   ]
  },
  {
   "cell_type": "markdown",
   "metadata": {},
   "source": [
    "__Мы видим, что LTV чуть лучше у покупателей, не входящих в программу, по ним наблюдается проседание на 6 день, но в остальное время LTV по покупателям в программе лояльности и вне ее идут практически параллельно.\n",
    "_ А вот в динамике мы видим не очень хорошую динамику LTV на 14й день по покупателям вне программы, показывая небольщой рост в период с 15 декабря 2016 года по 22 января 2017 года, а далее  наблюдается резкое падение с обновлением минимальных значений\n",
    "__По покупателям, входящим в программу лояльности мы видим падение  LTV на 14й день в первую неделю, далее отсутствие данных в период с 22 декабря 2016 года, данные появлюются с большим гэпом вниз 18 января 2017 года а с 25 января 2017 года показывают хороший рост. Рост настолько хорош, что перекрывает падение по покупателям вне группы - что наглядно демонстрируют графики."
   ]
  },
  {
   "cell_type": "markdown",
   "metadata": {},
   "source": [
    "### Шаг 5. Проверка статистических гипотез"
   ]
  },
  {
   "cell_type": "markdown",
   "metadata": {},
   "source": [
    "#### Проверка статестической гиппотезы о влиянии программы лояльности на средний чек"
   ]
  },
  {
   "cell_type": "code",
   "execution_count": 64,
   "metadata": {},
   "outputs": [],
   "source": [
    "# переименуем для наглядности данные в столбце по входящим и нет в программу лояльности: А - не входят, В - входят.\n",
    "data_final_grouped['loyalty_program'] = data_final_grouped['loyalty_program'].apply(lambda x: 'A' if x==0 else 'B')"
   ]
  },
  {
   "cell_type": "markdown",
   "metadata": {},
   "source": [
    "##### Сформулируем гипотезы\n",
    "\n",
    "    Зададим критический уровень статистической значимости alpha = .05.\n",
    "    Используем напараметрический тест Уилкоксона-Манна-Уитни\n",
    "\n",
    "    Сформулируем нулевую гипотезу:\n",
    "\n",
    "Н0 - статистически значимых различий в среднем чеке между сегментами А и В нет\n",
    "\n",
    "    Сформулируем альтернативную гипотезу:\n",
    "\n",
    "Н1 - статистически значимые различия в среднем чеке заказов между сегментами А и В есть\n"
   ]
  },
  {
   "cell_type": "code",
   "execution_count": 65,
   "metadata": {},
   "outputs": [
    {
     "name": "stdout",
     "output_type": "stream",
     "text": [
      "0.002\n",
      "0.040\n"
     ]
    }
   ],
   "source": [
    "# найдём относительные различия в среднем чеке между группами.\n",
    "print('{0:.3f}'.format(stats.mannwhitneyu(data_final_grouped[data_final_grouped['loyalty_program']=='A']['sales'], data_final_grouped[data_final_grouped['loyalty_program']=='B']['sales'])[1]))\n",
    "print('{0:.3f}'.format(data_final_grouped[data_final_grouped['loyalty_program']=='B']['sales'].mean()/data_final_grouped[data_final_grouped['loyalty_program']=='A']['sales'].mean()-1))"
   ]
  },
  {
   "cell_type": "markdown",
   "metadata": {},
   "source": [
    "P-value значительно меньше 0.05 (p-value=0.002), значит нулевую гипотезу отвергаем и считаем, что в среднем чеке нет различий по покупателям входящим и не входящим в программу лояльности.\n",
    "Мы видим, что средний чек группы B (покупателей, входящих в программу лояльности) незначительно выше среднего чека группы A (покупателей, не входящих в программу лояльности)  - всего на 4%)."
   ]
  },
  {
   "cell_type": "markdown",
   "metadata": {},
   "source": [
    "#### Проверка статестической гиппотезы о влиянии программы лояльности на количество продуктов в покупательской корзине"
   ]
  },
  {
   "cell_type": "markdown",
   "metadata": {},
   "source": [
    "##### Сформулируем гипотезы\n",
    "\n",
    "    Зададим критический уровень статистической значимости alpha = .05.\n",
    "    Используем напараметрический тест Уилкоксона-Манна-Уитни\n",
    "\n",
    "    Сформулируем нулевую гипотезу:\n",
    "\n",
    "Н0 - статистически значимых различий в среднем количестве товаров в чеке между сегментами А и В нет\n",
    "\n",
    "    Сформулируем альтернативную гипотезу:\n",
    "\n",
    "Н1 - статистически значимые различия в среднем количестве товаров в чеке между сегментами А и В есть\n"
   ]
  },
  {
   "cell_type": "code",
   "execution_count": 66,
   "metadata": {},
   "outputs": [
    {
     "name": "stdout",
     "output_type": "stream",
     "text": [
      "0.00020\n",
      "0.018\n"
     ]
    }
   ],
   "source": [
    "# найдём относительные различия в среднем количестве товаров в чеке между группами.\n",
    "print('{0:.5f}'.format(stats.mannwhitneyu(data_final_grouped[data_final_grouped['loyalty_program']=='A']['quantity'], data_final_grouped[data_final_grouped['loyalty_program']=='B']['quantity'])[1]))\n",
    "print('{0:.3f}'.format(data_final_grouped[data_final_grouped['loyalty_program']=='B']['quantity'].mean()/data_final_grouped[data_final_grouped['loyalty_program']=='A']['quantity'].mean()-1))"
   ]
  },
  {
   "cell_type": "markdown",
   "metadata": {},
   "source": [
    "P-value значительно меньше 0.05 (p-value=0.0002), значит нулевую гипотезу отвергаем и считаем, что по среднему количеству товаров в чеке  нет различий по покупателям входящим и не входящим в программу лояльности.\n",
    "Мы видим, что средний чек группы B (покупателей, входящих в программу лояльности) незначительно выше среднего чека группы A (покупателей, не входящих в программу лояльности)  - всего на 1,8%)."
   ]
  },
  {
   "cell_type": "markdown",
   "metadata": {},
   "source": [
    "### Шаг 6. Выводы и рекомендации"
   ]
  },
  {
   "cell_type": "markdown",
   "metadata": {},
   "source": [
    "- Анализ проводился за период с 01 декабря 2016 года по 28 февраля 2017 года (3 месяца). \n",
    " - Были проанализированы 587 пользователей, участвующих в программе лояльности и совершивших 23412 операций, и 1162 пользователей, не участвующих в программе лояльности и совершивших 80890 операций. Стоит отметить тот факт, что 36210 операций было совершено неавторизированными пользователями. Т.е. в программе участвует около трети покупателей.\n",
    "- Отсутствуют данные или продажи за период с 22 декабря 2016 года по 3 января 2017 года, что может значительно повлиять на правильность выводов.\n",
    "- Динамики привлечения новых покупателей очень походи для покупателей в программе и вне\n",
    " \n",
    "- Количество продаж в декабре значительно превышает январский уровень.\n",
    "- Пользователи, не участвующие в программе лояльности чуть чаще совершают повторные покупки - примерно на 5,3%.\n",
    "- Среднее количество товара в чеке у покупателей, входящих в программу лояльности на почти 2% выше, а сумма среднего чека выше на 4%.\n",
    "- LTV чуть лучше у покупателей, не входящих в программу, по ним наблюдается проседание на 6 день, но в остальное время LTV по покупателям в программе лояльности и вне ее идут практически параллельно. \n",
    "- А вот в динамике мы видим не очень хорошую динамику LTV на 14й день по покупателям вне программы, показывая небольшой рост в период с 15 декабря 2016 года по 22 января 2017 года, а далее наблюдается резкое падение с обновлением минимальных значений.\n",
    "- По покупателям, входящим в программу лояльности мы видим падение LTV на 14й день в первую неделю, далее отсутствие данных в период с 22 декабря 2016 года, данные появляются с большим гэпом вниз 18 января 2017 года, а с 25 января 2017 года показывают хороший рост. Рост настолько хорош, что перекрывает падение по покупателям вне группы - что наглядно демонстрируют графики.\n",
    "- Проверка статистических гипотез показала, что:\n",
    "-- в среднем чеке нет различий по покупателям входящим и не входящим в программу лояльности. Мы видим, что средний чек группы B (покупателей, входящих в программу лояльности) незначительно выше среднего чека группы A (покупателей, не входящих в программу лояльности) - всего на 4%);\n",
    "--среднему количеству товаров в чеке нет различий по покупателям входящим и не входящим в программу лояльности. Мы видим, что средний чек группы B (покупателей, входящих в программу лояльности) незначительно выше среднего чека группы A (покупателей, не входящих в программу лояльности) - всего на 1,8%).\n",
    "  "
   ]
  },
  {
   "cell_type": "markdown",
   "metadata": {},
   "source": [
    "__Рекомендации:\n",
    "На основании результатов анализов и проверенных статистических гипотез можно порекомендовать изменить программу лояльности.\n",
    "Как мы видим, ни одна из ритейл-метрик не показала значительных успехов программы лояльности.\n",
    "Необходимо проанализировать изменения, произошедшие 25 января 2017 года, повлекшие резкое улучшение LTV по покупателям, входящим в программу лояльности, возможно применение их в дальнейшем могли бы положительно сказаться на эффективности программы лояльности.\n",
    "Возможно, стоит проанализировать данные за 3 месяца с 25 января 2017 года, чтобы проверить изменились ли показатели по ритейл-метрикам, но на данный момент это невозможно ввиду слишком короткого периода (чуть более месяца). \n"
   ]
  },
  {
   "cell_type": "markdown",
   "metadata": {},
   "source": [
    "### Шаг 7. Презентация"
   ]
  },
  {
   "cell_type": "markdown",
   "metadata": {},
   "source": [
    "Ссылка на презентацию\n",
    "\n",
    "https://disk.yandex.ru/i/K9yx5uC5wFmxRw"
   ]
  },
  {
   "cell_type": "markdown",
   "metadata": {},
   "source": [
    "### Шаг 8. Создание дашборда"
   ]
  },
  {
   "cell_type": "code",
   "execution_count": 67,
   "metadata": {},
   "outputs": [
    {
     "data": {
      "text/html": [
       "<div>\n",
       "<style scoped>\n",
       "    .dataframe tbody tr th:only-of-type {\n",
       "        vertical-align: middle;\n",
       "    }\n",
       "\n",
       "    .dataframe tbody tr th {\n",
       "        vertical-align: top;\n",
       "    }\n",
       "\n",
       "    .dataframe thead th {\n",
       "        text-align: right;\n",
       "    }\n",
       "</style>\n",
       "<table border=\"1\" class=\"dataframe\">\n",
       "  <thead>\n",
       "    <tr style=\"text-align: right;\">\n",
       "      <th></th>\n",
       "      <th>loyalty_program</th>\n",
       "      <th>day</th>\n",
       "      <th>quantity</th>\n",
       "      <th>sales</th>\n",
       "      <th>purchase</th>\n",
       "    </tr>\n",
       "  </thead>\n",
       "  <tbody>\n",
       "    <tr>\n",
       "      <th>0</th>\n",
       "      <td>0.0</td>\n",
       "      <td>2016-12-01</td>\n",
       "      <td>198.159574</td>\n",
       "      <td>580.681277</td>\n",
       "      <td>94</td>\n",
       "    </tr>\n",
       "    <tr>\n",
       "      <th>1</th>\n",
       "      <td>0.0</td>\n",
       "      <td>2016-12-02</td>\n",
       "      <td>87.366337</td>\n",
       "      <td>93.167673</td>\n",
       "      <td>101</td>\n",
       "    </tr>\n",
       "    <tr>\n",
       "      <th>2</th>\n",
       "      <td>0.0</td>\n",
       "      <td>2016-12-03</td>\n",
       "      <td>123.831325</td>\n",
       "      <td>367.712048</td>\n",
       "      <td>83</td>\n",
       "    </tr>\n",
       "    <tr>\n",
       "      <th>3</th>\n",
       "      <td>0.0</td>\n",
       "      <td>2016-12-05</td>\n",
       "      <td>126.782609</td>\n",
       "      <td>366.630000</td>\n",
       "      <td>69</td>\n",
       "    </tr>\n",
       "    <tr>\n",
       "      <th>4</th>\n",
       "      <td>0.0</td>\n",
       "      <td>2016-12-06</td>\n",
       "      <td>125.280899</td>\n",
       "      <td>345.313764</td>\n",
       "      <td>89</td>\n",
       "    </tr>\n",
       "  </tbody>\n",
       "</table>\n",
       "</div>"
      ],
      "text/plain": [
       "   loyalty_program        day    quantity       sales  purchase\n",
       "0              0.0 2016-12-01  198.159574  580.681277        94\n",
       "1              0.0 2016-12-02   87.366337   93.167673       101\n",
       "2              0.0 2016-12-03  123.831325  367.712048        83\n",
       "3              0.0 2016-12-05  126.782609  366.630000        69\n",
       "4              0.0 2016-12-06  125.280899  345.313764        89"
      ]
     },
     "execution_count": 67,
     "metadata": {},
     "output_type": "execute_result"
    }
   ],
   "source": [
    "# выгрузим файл для построение графиков в tableau\n",
    "\n",
    "loyalty_per_day.to_csv('loyalty_per_day.csv', index = False)\n",
    "\n",
    "loyalty_per_day.head(5) "
   ]
  },
  {
   "cell_type": "markdown",
   "metadata": {},
   "source": [
    " Ссылка на дашборд\n",
    "\n",
    "https://public.tableau.com/authoring/Final_project_16714784142990/Sheet5#1"
   ]
  }
 ],
 "metadata": {
  "ExecuteTimeLog": [
   {
    "duration": 84,
    "start_time": "2022-12-05T09:31:33.671Z"
   },
   {
    "duration": 1545,
    "start_time": "2022-12-06T16:05:02.657Z"
   },
   {
    "duration": 220,
    "start_time": "2022-12-06T16:05:45.125Z"
   },
   {
    "duration": 15,
    "start_time": "2022-12-06T16:06:04.294Z"
   },
   {
    "duration": 118,
    "start_time": "2022-12-06T16:09:43.662Z"
   },
   {
    "duration": 9,
    "start_time": "2022-12-06T16:09:45.060Z"
   },
   {
    "duration": 32,
    "start_time": "2022-12-06T16:10:12.161Z"
   },
   {
    "duration": 17,
    "start_time": "2022-12-06T16:10:19.645Z"
   },
   {
    "duration": 24,
    "start_time": "2022-12-06T16:10:45.914Z"
   },
   {
    "duration": 8,
    "start_time": "2022-12-06T16:10:49.386Z"
   },
   {
    "duration": 70,
    "start_time": "2022-12-06T16:14:24.439Z"
   },
   {
    "duration": 20,
    "start_time": "2022-12-06T16:15:05.356Z"
   },
   {
    "duration": 1596,
    "start_time": "2022-12-09T20:55:02.973Z"
   },
   {
    "duration": 203,
    "start_time": "2022-12-09T20:55:04.572Z"
   },
   {
    "duration": 18,
    "start_time": "2022-12-09T20:55:04.777Z"
   },
   {
    "duration": 99,
    "start_time": "2022-12-09T20:55:04.797Z"
   },
   {
    "duration": 10,
    "start_time": "2022-12-09T20:55:04.898Z"
   },
   {
    "duration": 34,
    "start_time": "2022-12-09T20:55:04.911Z"
   },
   {
    "duration": 11,
    "start_time": "2022-12-09T20:55:04.947Z"
   },
   {
    "duration": 24,
    "start_time": "2022-12-09T20:55:04.960Z"
   },
   {
    "duration": 97,
    "start_time": "2022-12-09T20:55:04.985Z"
   },
   {
    "duration": 20,
    "start_time": "2022-12-09T20:55:05.084Z"
   },
   {
    "duration": 7,
    "start_time": "2022-12-09T20:55:05.106Z"
   },
   {
    "duration": 49,
    "start_time": "2022-12-09T20:55:05.114Z"
   },
   {
    "duration": 28,
    "start_time": "2022-12-09T20:55:05.165Z"
   },
   {
    "duration": 134,
    "start_time": "2022-12-09T20:55:05.198Z"
   },
   {
    "duration": 118,
    "start_time": "2022-12-09T21:01:58.019Z"
   },
   {
    "duration": 35,
    "start_time": "2022-12-09T21:04:07.258Z"
   },
   {
    "duration": 34,
    "start_time": "2022-12-09T21:05:01.597Z"
   },
   {
    "duration": 73,
    "start_time": "2022-12-10T19:56:19.758Z"
   },
   {
    "duration": 1898,
    "start_time": "2022-12-10T19:59:05.382Z"
   },
   {
    "duration": 309,
    "start_time": "2022-12-10T19:59:07.282Z"
   },
   {
    "duration": 25,
    "start_time": "2022-12-10T19:59:07.594Z"
   },
   {
    "duration": 56,
    "start_time": "2022-12-11T12:47:25.324Z"
   },
   {
    "duration": 1449,
    "start_time": "2022-12-11T12:47:34.120Z"
   },
   {
    "duration": 427,
    "start_time": "2022-12-11T12:47:35.571Z"
   },
   {
    "duration": 15,
    "start_time": "2022-12-11T12:47:35.999Z"
   },
   {
    "duration": 73,
    "start_time": "2022-12-11T12:47:36.016Z"
   },
   {
    "duration": 8,
    "start_time": "2022-12-11T12:47:36.091Z"
   },
   {
    "duration": 27,
    "start_time": "2022-12-11T12:47:36.101Z"
   },
   {
    "duration": 12,
    "start_time": "2022-12-11T12:47:36.130Z"
   },
   {
    "duration": 36,
    "start_time": "2022-12-11T12:47:36.144Z"
   },
   {
    "duration": 67,
    "start_time": "2022-12-11T12:47:36.181Z"
   },
   {
    "duration": 24,
    "start_time": "2022-12-11T12:47:36.250Z"
   },
   {
    "duration": 6,
    "start_time": "2022-12-11T12:47:36.276Z"
   },
   {
    "duration": 24,
    "start_time": "2022-12-11T12:47:36.284Z"
   },
   {
    "duration": 61,
    "start_time": "2022-12-11T12:47:36.310Z"
   },
   {
    "duration": 117,
    "start_time": "2022-12-11T12:47:36.374Z"
   },
   {
    "duration": 11,
    "start_time": "2022-12-11T12:47:36.493Z"
   },
   {
    "duration": 33,
    "start_time": "2022-12-11T12:47:36.505Z"
   },
   {
    "duration": 36,
    "start_time": "2022-12-11T12:47:36.539Z"
   },
   {
    "duration": 10,
    "start_time": "2022-12-11T12:48:08.940Z"
   },
   {
    "duration": 16,
    "start_time": "2022-12-11T12:48:31.327Z"
   },
   {
    "duration": 14,
    "start_time": "2022-12-11T12:55:55.596Z"
   },
   {
    "duration": 45,
    "start_time": "2022-12-11T19:36:12.233Z"
   },
   {
    "duration": 1393,
    "start_time": "2022-12-11T19:36:26.118Z"
   },
   {
    "duration": 494,
    "start_time": "2022-12-11T19:36:27.515Z"
   },
   {
    "duration": 15,
    "start_time": "2022-12-11T19:36:28.011Z"
   },
   {
    "duration": 65,
    "start_time": "2022-12-11T19:36:28.028Z"
   },
   {
    "duration": 10,
    "start_time": "2022-12-11T19:36:28.095Z"
   },
   {
    "duration": 26,
    "start_time": "2022-12-11T19:36:29.314Z"
   },
   {
    "duration": 10,
    "start_time": "2022-12-11T19:36:30.048Z"
   },
   {
    "duration": 19,
    "start_time": "2022-12-11T19:36:31.135Z"
   },
   {
    "duration": 60,
    "start_time": "2022-12-11T19:36:32.226Z"
   },
   {
    "duration": 20,
    "start_time": "2022-12-11T19:36:33.331Z"
   },
   {
    "duration": 7,
    "start_time": "2022-12-11T19:36:34.242Z"
   },
   {
    "duration": 32,
    "start_time": "2022-12-11T19:36:37.837Z"
   },
   {
    "duration": 12,
    "start_time": "2022-12-11T19:36:39.914Z"
   },
   {
    "duration": 101,
    "start_time": "2022-12-11T19:36:54.742Z"
   },
   {
    "duration": 54,
    "start_time": "2022-12-11T19:38:51.289Z"
   },
   {
    "duration": 15,
    "start_time": "2022-12-11T19:38:58.859Z"
   },
   {
    "duration": 876,
    "start_time": "2022-12-11T19:43:17.707Z"
   },
   {
    "duration": 18,
    "start_time": "2022-12-11T19:43:34.916Z"
   },
   {
    "duration": 15,
    "start_time": "2022-12-11T19:43:56.894Z"
   },
   {
    "duration": 18,
    "start_time": "2022-12-11T19:46:45.833Z"
   },
   {
    "duration": 9,
    "start_time": "2022-12-11T19:47:00.258Z"
   },
   {
    "duration": 14,
    "start_time": "2022-12-11T19:49:24.275Z"
   },
   {
    "duration": 6,
    "start_time": "2022-12-11T19:52:53.154Z"
   },
   {
    "duration": 34,
    "start_time": "2022-12-11T20:00:15.079Z"
   },
   {
    "duration": 26,
    "start_time": "2022-12-11T20:00:39.284Z"
   },
   {
    "duration": 23,
    "start_time": "2022-12-11T20:01:04.521Z"
   },
   {
    "duration": 1310,
    "start_time": "2022-12-12T07:23:35.861Z"
   },
   {
    "duration": 451,
    "start_time": "2022-12-12T07:23:37.173Z"
   },
   {
    "duration": 13,
    "start_time": "2022-12-12T07:23:37.626Z"
   },
   {
    "duration": 63,
    "start_time": "2022-12-12T07:23:37.640Z"
   },
   {
    "duration": 6,
    "start_time": "2022-12-12T07:23:37.705Z"
   },
   {
    "duration": 26,
    "start_time": "2022-12-12T07:23:37.713Z"
   },
   {
    "duration": 9,
    "start_time": "2022-12-12T07:23:37.741Z"
   },
   {
    "duration": 19,
    "start_time": "2022-12-12T07:23:37.752Z"
   },
   {
    "duration": 73,
    "start_time": "2022-12-12T07:23:37.772Z"
   },
   {
    "duration": 16,
    "start_time": "2022-12-12T07:23:37.847Z"
   },
   {
    "duration": 5,
    "start_time": "2022-12-12T07:23:37.865Z"
   },
   {
    "duration": 25,
    "start_time": "2022-12-12T07:23:37.872Z"
   },
   {
    "duration": 30,
    "start_time": "2022-12-12T07:23:37.898Z"
   },
   {
    "duration": 102,
    "start_time": "2022-12-12T07:23:37.930Z"
   },
   {
    "duration": 46,
    "start_time": "2022-12-12T07:23:38.034Z"
   },
   {
    "duration": 22,
    "start_time": "2022-12-12T07:23:38.082Z"
   },
   {
    "duration": 31,
    "start_time": "2022-12-12T07:23:38.120Z"
   },
   {
    "duration": 16,
    "start_time": "2022-12-12T07:23:38.153Z"
   },
   {
    "duration": 43,
    "start_time": "2022-12-12T07:23:38.171Z"
   },
   {
    "duration": 0,
    "start_time": "2022-12-12T07:23:38.216Z"
   },
   {
    "duration": 0,
    "start_time": "2022-12-12T07:23:38.217Z"
   },
   {
    "duration": 0,
    "start_time": "2022-12-12T07:23:38.218Z"
   },
   {
    "duration": 53,
    "start_time": "2022-12-12T07:32:45.899Z"
   },
   {
    "duration": 4,
    "start_time": "2022-12-12T07:34:54.235Z"
   },
   {
    "duration": 3,
    "start_time": "2022-12-12T07:35:19.659Z"
   },
   {
    "duration": 13,
    "start_time": "2022-12-12T07:39:25.033Z"
   },
   {
    "duration": 4,
    "start_time": "2022-12-12T07:39:31.891Z"
   },
   {
    "duration": 130,
    "start_time": "2022-12-12T07:39:31.896Z"
   },
   {
    "duration": 9,
    "start_time": "2022-12-12T07:39:32.028Z"
   },
   {
    "duration": 50,
    "start_time": "2022-12-12T07:39:32.039Z"
   },
   {
    "duration": 7,
    "start_time": "2022-12-12T07:39:32.091Z"
   },
   {
    "duration": 44,
    "start_time": "2022-12-12T07:39:32.099Z"
   },
   {
    "duration": 22,
    "start_time": "2022-12-12T07:39:32.145Z"
   },
   {
    "duration": 34,
    "start_time": "2022-12-12T07:39:32.169Z"
   },
   {
    "duration": 31,
    "start_time": "2022-12-12T07:39:32.205Z"
   },
   {
    "duration": 21,
    "start_time": "2022-12-12T07:39:32.238Z"
   },
   {
    "duration": 21,
    "start_time": "2022-12-12T07:39:32.260Z"
   },
   {
    "duration": 37,
    "start_time": "2022-12-12T07:39:32.282Z"
   },
   {
    "duration": 26,
    "start_time": "2022-12-12T07:39:32.321Z"
   },
   {
    "duration": 86,
    "start_time": "2022-12-12T07:39:38.643Z"
   },
   {
    "duration": 4,
    "start_time": "2022-12-12T07:39:41.723Z"
   },
   {
    "duration": 43,
    "start_time": "2022-12-12T07:39:45.528Z"
   },
   {
    "duration": 4,
    "start_time": "2022-12-12T07:39:49.394Z"
   },
   {
    "duration": 3,
    "start_time": "2022-12-12T07:40:21.145Z"
   },
   {
    "duration": 3,
    "start_time": "2022-12-12T07:41:59.346Z"
   },
   {
    "duration": 4,
    "start_time": "2022-12-12T07:42:49.754Z"
   },
   {
    "duration": 4,
    "start_time": "2022-12-12T07:43:37.698Z"
   },
   {
    "duration": 4,
    "start_time": "2022-12-12T07:44:09.794Z"
   },
   {
    "duration": 19,
    "start_time": "2022-12-12T07:47:08.458Z"
   },
   {
    "duration": 19,
    "start_time": "2022-12-12T07:47:39.450Z"
   },
   {
    "duration": 31,
    "start_time": "2022-12-12T07:48:20.419Z"
   },
   {
    "duration": 6,
    "start_time": "2022-12-12T07:49:22.929Z"
   },
   {
    "duration": 4,
    "start_time": "2022-12-12T07:53:28.670Z"
   },
   {
    "duration": 27,
    "start_time": "2022-12-12T07:53:32.481Z"
   },
   {
    "duration": 6,
    "start_time": "2022-12-12T07:53:33.873Z"
   },
   {
    "duration": 22,
    "start_time": "2022-12-12T07:53:41.577Z"
   },
   {
    "duration": 97,
    "start_time": "2022-12-12T07:54:42.400Z"
   },
   {
    "duration": 6,
    "start_time": "2022-12-12T07:54:48.136Z"
   },
   {
    "duration": 10,
    "start_time": "2022-12-12T07:54:56.897Z"
   },
   {
    "duration": 4,
    "start_time": "2022-12-12T07:55:22.385Z"
   },
   {
    "duration": 8,
    "start_time": "2022-12-12T07:55:26.840Z"
   },
   {
    "duration": 29,
    "start_time": "2022-12-12T07:57:33.761Z"
   },
   {
    "duration": 6,
    "start_time": "2022-12-12T08:00:40.223Z"
   },
   {
    "duration": 9,
    "start_time": "2022-12-12T08:01:04.559Z"
   },
   {
    "duration": 9,
    "start_time": "2022-12-12T08:01:19.631Z"
   },
   {
    "duration": 5,
    "start_time": "2022-12-12T08:01:25.207Z"
   },
   {
    "duration": 124,
    "start_time": "2022-12-13T11:39:39.397Z"
   },
   {
    "duration": 110,
    "start_time": "2022-12-13T11:41:31.361Z"
   },
   {
    "duration": 7,
    "start_time": "2022-12-13T11:41:56.458Z"
   },
   {
    "duration": 7,
    "start_time": "2022-12-13T11:42:06.962Z"
   },
   {
    "duration": 13,
    "start_time": "2022-12-13T11:42:34.344Z"
   },
   {
    "duration": 38,
    "start_time": "2022-12-13T11:45:04.048Z"
   },
   {
    "duration": 6,
    "start_time": "2022-12-13T11:47:14.792Z"
   },
   {
    "duration": 6,
    "start_time": "2022-12-13T11:47:33.993Z"
   },
   {
    "duration": 10,
    "start_time": "2022-12-13T11:48:10.530Z"
   },
   {
    "duration": 127,
    "start_time": "2022-12-13T12:00:25.927Z"
   },
   {
    "duration": 122,
    "start_time": "2022-12-13T12:04:44.752Z"
   },
   {
    "duration": 132,
    "start_time": "2022-12-13T12:04:50.480Z"
   },
   {
    "duration": 10,
    "start_time": "2022-12-13T12:04:56.697Z"
   },
   {
    "duration": 128,
    "start_time": "2022-12-13T12:07:04.205Z"
   },
   {
    "duration": 9,
    "start_time": "2022-12-13T12:07:10.253Z"
   },
   {
    "duration": 9,
    "start_time": "2022-12-13T12:07:13.795Z"
   },
   {
    "duration": 127,
    "start_time": "2022-12-13T12:07:19.447Z"
   },
   {
    "duration": 15,
    "start_time": "2022-12-13T12:10:28.332Z"
   },
   {
    "duration": 13,
    "start_time": "2022-12-13T12:11:12.359Z"
   },
   {
    "duration": 14,
    "start_time": "2022-12-13T12:44:15.243Z"
   },
   {
    "duration": 123,
    "start_time": "2022-12-13T12:44:58.348Z"
   },
   {
    "duration": 119,
    "start_time": "2022-12-13T12:45:03.708Z"
   },
   {
    "duration": 361,
    "start_time": "2022-12-13T12:45:41.887Z"
   },
   {
    "duration": 9,
    "start_time": "2022-12-13T12:52:38.572Z"
   },
   {
    "duration": 40,
    "start_time": "2022-12-13T12:55:38.203Z"
   },
   {
    "duration": 8,
    "start_time": "2022-12-13T12:55:44.273Z"
   },
   {
    "duration": 93,
    "start_time": "2022-12-13T12:55:49.744Z"
   },
   {
    "duration": 433,
    "start_time": "2022-12-13T12:55:52.757Z"
   },
   {
    "duration": 85,
    "start_time": "2022-12-13T12:55:53.937Z"
   },
   {
    "duration": 97,
    "start_time": "2022-12-13T12:56:06.489Z"
   },
   {
    "duration": 12,
    "start_time": "2022-12-13T12:58:09.728Z"
   },
   {
    "duration": 10,
    "start_time": "2022-12-13T12:58:14.164Z"
   },
   {
    "duration": 6,
    "start_time": "2022-12-13T12:58:24.036Z"
   },
   {
    "duration": 8,
    "start_time": "2022-12-13T13:00:13.577Z"
   },
   {
    "duration": 11,
    "start_time": "2022-12-13T13:01:23.920Z"
   },
   {
    "duration": 12,
    "start_time": "2022-12-13T13:02:39.657Z"
   },
   {
    "duration": 12,
    "start_time": "2022-12-13T13:12:58.108Z"
   },
   {
    "duration": 10,
    "start_time": "2022-12-13T13:15:01.761Z"
   },
   {
    "duration": 32,
    "start_time": "2022-12-13T13:20:55.256Z"
   },
   {
    "duration": 727,
    "start_time": "2022-12-13T13:22:46.256Z"
   },
   {
    "duration": 1091,
    "start_time": "2022-12-13T13:23:32.878Z"
   },
   {
    "duration": 114,
    "start_time": "2022-12-13T13:23:33.971Z"
   },
   {
    "duration": 13,
    "start_time": "2022-12-13T13:23:34.087Z"
   },
   {
    "duration": 27,
    "start_time": "2022-12-13T13:23:34.101Z"
   },
   {
    "duration": 7,
    "start_time": "2022-12-13T13:23:34.130Z"
   },
   {
    "duration": 31,
    "start_time": "2022-12-13T13:23:34.138Z"
   },
   {
    "duration": 801,
    "start_time": "2022-12-13T13:23:34.170Z"
   },
   {
    "duration": 0,
    "start_time": "2022-12-13T13:23:34.973Z"
   },
   {
    "duration": 0,
    "start_time": "2022-12-13T13:23:34.974Z"
   },
   {
    "duration": 0,
    "start_time": "2022-12-13T13:23:34.975Z"
   },
   {
    "duration": 0,
    "start_time": "2022-12-13T13:23:34.976Z"
   },
   {
    "duration": 0,
    "start_time": "2022-12-13T13:23:34.977Z"
   },
   {
    "duration": 0,
    "start_time": "2022-12-13T13:23:34.979Z"
   },
   {
    "duration": 0,
    "start_time": "2022-12-13T13:23:34.980Z"
   },
   {
    "duration": 0,
    "start_time": "2022-12-13T13:23:34.981Z"
   },
   {
    "duration": 0,
    "start_time": "2022-12-13T13:23:34.982Z"
   },
   {
    "duration": 0,
    "start_time": "2022-12-13T13:23:34.983Z"
   },
   {
    "duration": 0,
    "start_time": "2022-12-13T13:23:34.984Z"
   },
   {
    "duration": 0,
    "start_time": "2022-12-13T13:23:34.985Z"
   },
   {
    "duration": 0,
    "start_time": "2022-12-13T13:23:34.986Z"
   },
   {
    "duration": 0,
    "start_time": "2022-12-13T13:23:34.987Z"
   },
   {
    "duration": 0,
    "start_time": "2022-12-13T13:23:34.988Z"
   },
   {
    "duration": 0,
    "start_time": "2022-12-13T13:23:34.991Z"
   },
   {
    "duration": 0,
    "start_time": "2022-12-13T13:23:34.992Z"
   },
   {
    "duration": 0,
    "start_time": "2022-12-13T13:23:34.994Z"
   },
   {
    "duration": 0,
    "start_time": "2022-12-13T13:23:34.995Z"
   },
   {
    "duration": 0,
    "start_time": "2022-12-13T13:23:34.996Z"
   },
   {
    "duration": 0,
    "start_time": "2022-12-13T13:23:34.997Z"
   },
   {
    "duration": 0,
    "start_time": "2022-12-13T13:23:34.999Z"
   },
   {
    "duration": 41,
    "start_time": "2022-12-13T13:23:55.094Z"
   },
   {
    "duration": 4,
    "start_time": "2022-12-13T13:24:00.420Z"
   },
   {
    "duration": 127,
    "start_time": "2022-12-13T13:24:00.425Z"
   },
   {
    "duration": 11,
    "start_time": "2022-12-13T13:24:00.553Z"
   },
   {
    "duration": 29,
    "start_time": "2022-12-13T13:24:00.566Z"
   },
   {
    "duration": 18,
    "start_time": "2022-12-13T13:24:00.597Z"
   },
   {
    "duration": 48,
    "start_time": "2022-12-13T13:24:00.616Z"
   },
   {
    "duration": 45,
    "start_time": "2022-12-13T13:24:00.666Z"
   },
   {
    "duration": 13,
    "start_time": "2022-12-13T13:24:00.713Z"
   },
   {
    "duration": 37,
    "start_time": "2022-12-13T13:24:00.728Z"
   },
   {
    "duration": 81,
    "start_time": "2022-12-13T13:24:00.767Z"
   },
   {
    "duration": 18,
    "start_time": "2022-12-13T13:24:00.849Z"
   },
   {
    "duration": 24,
    "start_time": "2022-12-13T13:24:00.868Z"
   },
   {
    "duration": 62,
    "start_time": "2022-12-13T13:24:00.893Z"
   },
   {
    "duration": 25,
    "start_time": "2022-12-13T13:24:00.956Z"
   },
   {
    "duration": 25,
    "start_time": "2022-12-13T13:24:00.983Z"
   },
   {
    "duration": 32,
    "start_time": "2022-12-13T13:24:01.010Z"
   },
   {
    "duration": 91,
    "start_time": "2022-12-13T13:24:01.044Z"
   },
   {
    "duration": 10,
    "start_time": "2022-12-13T13:24:01.137Z"
   },
   {
    "duration": 65,
    "start_time": "2022-12-13T13:24:01.148Z"
   },
   {
    "duration": 3,
    "start_time": "2022-12-13T13:24:01.215Z"
   },
   {
    "duration": 32,
    "start_time": "2022-12-13T13:24:01.219Z"
   },
   {
    "duration": 39,
    "start_time": "2022-12-13T13:24:01.252Z"
   },
   {
    "duration": 37,
    "start_time": "2022-12-13T13:24:01.293Z"
   },
   {
    "duration": 36,
    "start_time": "2022-12-13T13:24:01.332Z"
   },
   {
    "duration": 40,
    "start_time": "2022-12-13T13:24:01.370Z"
   },
   {
    "duration": 21,
    "start_time": "2022-12-13T13:24:01.411Z"
   },
   {
    "duration": 24,
    "start_time": "2022-12-13T13:24:01.434Z"
   },
   {
    "duration": 22,
    "start_time": "2022-12-13T13:24:01.460Z"
   },
   {
    "duration": 38,
    "start_time": "2022-12-13T13:24:01.484Z"
   },
   {
    "duration": 13,
    "start_time": "2022-12-13T13:25:11.593Z"
   },
   {
    "duration": 7,
    "start_time": "2022-12-13T13:25:29.958Z"
   },
   {
    "duration": 578,
    "start_time": "2022-12-13T13:25:57.248Z"
   },
   {
    "duration": 18,
    "start_time": "2022-12-13T13:43:09.617Z"
   },
   {
    "duration": 4,
    "start_time": "2022-12-13T14:03:10.632Z"
   },
   {
    "duration": 43,
    "start_time": "2022-12-13T14:03:35.095Z"
   },
   {
    "duration": 4,
    "start_time": "2022-12-13T14:04:54.792Z"
   },
   {
    "duration": 48,
    "start_time": "2022-12-13T14:04:57.293Z"
   },
   {
    "duration": 10,
    "start_time": "2022-12-13T14:08:07.946Z"
   },
   {
    "duration": 6,
    "start_time": "2022-12-13T14:09:24.839Z"
   },
   {
    "duration": 341,
    "start_time": "2022-12-13T14:10:06.335Z"
   },
   {
    "duration": 16,
    "start_time": "2022-12-13T14:15:25.671Z"
   },
   {
    "duration": 13,
    "start_time": "2022-12-13T14:15:43.128Z"
   },
   {
    "duration": 15,
    "start_time": "2022-12-13T14:16:17.220Z"
   },
   {
    "duration": 2216,
    "start_time": "2022-12-13T14:31:28.974Z"
   },
   {
    "duration": 2291,
    "start_time": "2022-12-13T14:32:00.598Z"
   },
   {
    "duration": 45,
    "start_time": "2022-12-13T19:44:08.297Z"
   },
   {
    "duration": 1372,
    "start_time": "2022-12-13T19:44:17.038Z"
   },
   {
    "duration": 462,
    "start_time": "2022-12-13T19:44:18.412Z"
   },
   {
    "duration": 13,
    "start_time": "2022-12-13T19:44:18.876Z"
   },
   {
    "duration": 64,
    "start_time": "2022-12-13T19:44:18.891Z"
   },
   {
    "duration": 7,
    "start_time": "2022-12-13T19:44:18.957Z"
   },
   {
    "duration": 27,
    "start_time": "2022-12-13T19:44:18.965Z"
   },
   {
    "duration": 38,
    "start_time": "2022-12-13T19:44:18.994Z"
   },
   {
    "duration": 10,
    "start_time": "2022-12-13T19:44:19.033Z"
   },
   {
    "duration": 22,
    "start_time": "2022-12-13T19:44:19.044Z"
   },
   {
    "duration": 78,
    "start_time": "2022-12-13T19:44:19.068Z"
   },
   {
    "duration": 21,
    "start_time": "2022-12-13T19:44:19.148Z"
   },
   {
    "duration": 6,
    "start_time": "2022-12-13T19:44:19.171Z"
   },
   {
    "duration": 50,
    "start_time": "2022-12-13T19:44:19.178Z"
   },
   {
    "duration": 11,
    "start_time": "2022-12-13T19:44:19.230Z"
   },
   {
    "duration": 7,
    "start_time": "2022-12-13T19:44:19.242Z"
   },
   {
    "duration": 80,
    "start_time": "2022-12-13T19:44:19.250Z"
   },
   {
    "duration": 0,
    "start_time": "2022-12-13T19:44:19.332Z"
   },
   {
    "duration": 0,
    "start_time": "2022-12-13T19:44:19.333Z"
   },
   {
    "duration": 0,
    "start_time": "2022-12-13T19:44:19.334Z"
   },
   {
    "duration": 0,
    "start_time": "2022-12-13T19:44:19.335Z"
   },
   {
    "duration": 0,
    "start_time": "2022-12-13T19:44:19.336Z"
   },
   {
    "duration": 0,
    "start_time": "2022-12-13T19:44:19.337Z"
   },
   {
    "duration": 0,
    "start_time": "2022-12-13T19:44:19.338Z"
   },
   {
    "duration": 0,
    "start_time": "2022-12-13T19:44:19.340Z"
   },
   {
    "duration": 0,
    "start_time": "2022-12-13T19:44:19.340Z"
   },
   {
    "duration": 0,
    "start_time": "2022-12-13T19:44:19.341Z"
   },
   {
    "duration": 0,
    "start_time": "2022-12-13T19:44:19.343Z"
   },
   {
    "duration": 0,
    "start_time": "2022-12-13T19:44:19.344Z"
   },
   {
    "duration": 0,
    "start_time": "2022-12-13T19:44:19.345Z"
   },
   {
    "duration": 0,
    "start_time": "2022-12-13T19:44:19.346Z"
   },
   {
    "duration": 0,
    "start_time": "2022-12-13T19:44:19.347Z"
   },
   {
    "duration": 0,
    "start_time": "2022-12-13T19:44:19.348Z"
   },
   {
    "duration": 0,
    "start_time": "2022-12-13T19:44:19.349Z"
   },
   {
    "duration": 0,
    "start_time": "2022-12-13T19:44:19.351Z"
   },
   {
    "duration": 0,
    "start_time": "2022-12-13T19:44:19.352Z"
   },
   {
    "duration": 0,
    "start_time": "2022-12-13T19:44:19.352Z"
   },
   {
    "duration": 0,
    "start_time": "2022-12-13T19:44:19.354Z"
   },
   {
    "duration": 0,
    "start_time": "2022-12-13T19:44:19.354Z"
   },
   {
    "duration": 0,
    "start_time": "2022-12-13T19:44:19.355Z"
   },
   {
    "duration": 0,
    "start_time": "2022-12-13T19:44:19.356Z"
   },
   {
    "duration": 12,
    "start_time": "2022-12-13T19:44:43.006Z"
   },
   {
    "duration": 12,
    "start_time": "2022-12-13T19:45:09.839Z"
   },
   {
    "duration": 8,
    "start_time": "2022-12-13T19:46:06.149Z"
   },
   {
    "duration": 12,
    "start_time": "2022-12-13T19:46:14.739Z"
   },
   {
    "duration": 25,
    "start_time": "2022-12-13T19:49:55.265Z"
   },
   {
    "duration": 13,
    "start_time": "2022-12-13T19:50:30.999Z"
   },
   {
    "duration": 12,
    "start_time": "2022-12-13T19:50:32.372Z"
   },
   {
    "duration": 15,
    "start_time": "2022-12-13T19:53:38.648Z"
   },
   {
    "duration": 87,
    "start_time": "2022-12-13T19:53:39.396Z"
   },
   {
    "duration": 10,
    "start_time": "2022-12-13T19:53:40.369Z"
   },
   {
    "duration": 50,
    "start_time": "2022-12-13T19:53:41.193Z"
   },
   {
    "duration": 4,
    "start_time": "2022-12-13T19:53:41.891Z"
   },
   {
    "duration": 4,
    "start_time": "2022-12-13T19:53:44.230Z"
   },
   {
    "duration": 20,
    "start_time": "2022-12-13T19:53:45.161Z"
   },
   {
    "duration": 7,
    "start_time": "2022-12-13T19:53:46.912Z"
   },
   {
    "duration": 8,
    "start_time": "2022-12-13T19:53:47.792Z"
   },
   {
    "duration": 23,
    "start_time": "2022-12-13T19:53:48.471Z"
   },
   {
    "duration": 13,
    "start_time": "2022-12-13T19:53:48.925Z"
   },
   {
    "duration": 30,
    "start_time": "2022-12-13T19:54:13.098Z"
   },
   {
    "duration": 8,
    "start_time": "2022-12-13T19:54:55.435Z"
   },
   {
    "duration": 20,
    "start_time": "2022-12-13T19:54:56.309Z"
   },
   {
    "duration": 10,
    "start_time": "2022-12-13T19:54:57.612Z"
   },
   {
    "duration": 6,
    "start_time": "2022-12-13T19:54:58.611Z"
   },
   {
    "duration": 8,
    "start_time": "2022-12-13T19:54:59.489Z"
   },
   {
    "duration": 601,
    "start_time": "2022-12-13T19:55:00.183Z"
   },
   {
    "duration": 14,
    "start_time": "2022-12-13T19:55:32.713Z"
   },
   {
    "duration": 28,
    "start_time": "2022-12-13T19:59:47.265Z"
   },
   {
    "duration": 50,
    "start_time": "2022-12-14T06:53:39.008Z"
   },
   {
    "duration": 1402,
    "start_time": "2022-12-14T06:53:45.553Z"
   },
   {
    "duration": 487,
    "start_time": "2022-12-14T06:53:46.957Z"
   },
   {
    "duration": 14,
    "start_time": "2022-12-14T06:53:47.445Z"
   },
   {
    "duration": 84,
    "start_time": "2022-12-14T06:53:47.461Z"
   },
   {
    "duration": 7,
    "start_time": "2022-12-14T06:53:47.546Z"
   },
   {
    "duration": 50,
    "start_time": "2022-12-14T06:53:47.555Z"
   },
   {
    "duration": 54,
    "start_time": "2022-12-14T06:53:47.607Z"
   },
   {
    "duration": 9,
    "start_time": "2022-12-14T06:53:47.663Z"
   },
   {
    "duration": 38,
    "start_time": "2022-12-14T06:53:47.674Z"
   },
   {
    "duration": 77,
    "start_time": "2022-12-14T06:53:47.717Z"
   },
   {
    "duration": 24,
    "start_time": "2022-12-14T06:53:47.795Z"
   },
   {
    "duration": 34,
    "start_time": "2022-12-14T06:53:47.821Z"
   },
   {
    "duration": 66,
    "start_time": "2022-12-14T06:53:47.857Z"
   },
   {
    "duration": 12,
    "start_time": "2022-12-14T06:53:47.925Z"
   },
   {
    "duration": 27,
    "start_time": "2022-12-14T06:53:47.939Z"
   },
   {
    "duration": 46,
    "start_time": "2022-12-14T06:53:47.967Z"
   },
   {
    "duration": 41,
    "start_time": "2022-12-14T06:53:48.016Z"
   },
   {
    "duration": 44,
    "start_time": "2022-12-14T06:53:48.058Z"
   },
   {
    "duration": 122,
    "start_time": "2022-12-14T06:53:48.104Z"
   },
   {
    "duration": 9,
    "start_time": "2022-12-14T06:53:48.228Z"
   },
   {
    "duration": 87,
    "start_time": "2022-12-14T06:53:48.238Z"
   },
   {
    "duration": 3,
    "start_time": "2022-12-14T06:53:48.327Z"
   },
   {
    "duration": 41,
    "start_time": "2022-12-14T06:53:48.332Z"
   },
   {
    "duration": 32,
    "start_time": "2022-12-14T06:53:48.375Z"
   },
   {
    "duration": 27,
    "start_time": "2022-12-14T06:53:48.410Z"
   },
   {
    "duration": 39,
    "start_time": "2022-12-14T06:53:48.438Z"
   },
   {
    "duration": 7,
    "start_time": "2022-12-14T06:53:48.478Z"
   },
   {
    "duration": 47,
    "start_time": "2022-12-14T06:53:48.487Z"
   },
   {
    "duration": 12,
    "start_time": "2022-12-14T06:53:48.536Z"
   },
   {
    "duration": 32,
    "start_time": "2022-12-14T06:53:48.549Z"
   },
   {
    "duration": 23,
    "start_time": "2022-12-14T06:53:48.583Z"
   },
   {
    "duration": 15,
    "start_time": "2022-12-14T06:53:48.607Z"
   },
   {
    "duration": 17,
    "start_time": "2022-12-14T06:53:48.623Z"
   },
   {
    "duration": 37,
    "start_time": "2022-12-14T06:53:48.642Z"
   },
   {
    "duration": 661,
    "start_time": "2022-12-14T06:53:48.680Z"
   },
   {
    "duration": 4,
    "start_time": "2022-12-14T06:53:49.343Z"
   },
   {
    "duration": 82,
    "start_time": "2022-12-14T06:53:49.348Z"
   },
   {
    "duration": 8,
    "start_time": "2022-12-14T06:53:49.432Z"
   },
   {
    "duration": 305,
    "start_time": "2022-12-14T06:53:49.441Z"
   },
   {
    "duration": 15,
    "start_time": "2022-12-14T06:53:49.748Z"
   },
   {
    "duration": 2259,
    "start_time": "2022-12-14T06:53:49.765Z"
   },
   {
    "duration": 0,
    "start_time": "2022-12-14T06:53:52.026Z"
   },
   {
    "duration": 12,
    "start_time": "2022-12-14T06:54:36.323Z"
   },
   {
    "duration": 3280,
    "start_time": "2022-12-14T06:58:48.089Z"
   },
   {
    "duration": 3390,
    "start_time": "2022-12-14T07:04:00.463Z"
   },
   {
    "duration": 140,
    "start_time": "2022-12-14T07:05:21.457Z"
   },
   {
    "duration": 885,
    "start_time": "2022-12-14T07:07:02.880Z"
   },
   {
    "duration": 1121,
    "start_time": "2022-12-14T07:07:17.739Z"
   },
   {
    "duration": 45,
    "start_time": "2022-12-14T07:07:32.679Z"
   },
   {
    "duration": 5,
    "start_time": "2022-12-14T07:18:19.848Z"
   },
   {
    "duration": 4,
    "start_time": "2022-12-14T07:21:43.609Z"
   },
   {
    "duration": 74,
    "start_time": "2022-12-14T07:21:44.665Z"
   },
   {
    "duration": 8,
    "start_time": "2022-12-14T07:21:52.839Z"
   },
   {
    "duration": 746,
    "start_time": "2022-12-14T07:23:57.521Z"
   },
   {
    "duration": 7,
    "start_time": "2022-12-14T07:24:06.160Z"
   },
   {
    "duration": 11,
    "start_time": "2022-12-14T07:24:29.403Z"
   },
   {
    "duration": 11,
    "start_time": "2022-12-14T07:24:53.484Z"
   },
   {
    "duration": 10,
    "start_time": "2022-12-14T07:27:56.230Z"
   },
   {
    "duration": 46,
    "start_time": "2022-12-14T07:28:48.703Z"
   },
   {
    "duration": 44,
    "start_time": "2022-12-14T07:29:08.267Z"
   },
   {
    "duration": 215,
    "start_time": "2022-12-14T07:39:09.250Z"
   },
   {
    "duration": 351,
    "start_time": "2022-12-14T07:41:13.095Z"
   },
   {
    "duration": 19,
    "start_time": "2022-12-14T07:41:26.145Z"
   },
   {
    "duration": 47,
    "start_time": "2022-12-14T13:05:04.722Z"
   },
   {
    "duration": 1321,
    "start_time": "2022-12-14T13:05:16.428Z"
   },
   {
    "duration": 184,
    "start_time": "2022-12-14T13:05:17.752Z"
   },
   {
    "duration": 16,
    "start_time": "2022-12-14T13:05:17.938Z"
   },
   {
    "duration": 103,
    "start_time": "2022-12-14T13:05:17.956Z"
   },
   {
    "duration": 8,
    "start_time": "2022-12-14T13:05:18.061Z"
   },
   {
    "duration": 38,
    "start_time": "2022-12-14T13:05:18.071Z"
   },
   {
    "duration": 38,
    "start_time": "2022-12-14T13:05:18.110Z"
   },
   {
    "duration": 9,
    "start_time": "2022-12-14T13:05:18.149Z"
   },
   {
    "duration": 24,
    "start_time": "2022-12-14T13:05:18.160Z"
   },
   {
    "duration": 58,
    "start_time": "2022-12-14T13:05:18.186Z"
   },
   {
    "duration": 17,
    "start_time": "2022-12-14T13:05:18.245Z"
   },
   {
    "duration": 6,
    "start_time": "2022-12-14T13:05:18.278Z"
   },
   {
    "duration": 24,
    "start_time": "2022-12-14T13:05:18.285Z"
   },
   {
    "duration": 10,
    "start_time": "2022-12-14T13:05:18.311Z"
   },
   {
    "duration": 19,
    "start_time": "2022-12-14T13:05:18.322Z"
   },
   {
    "duration": 16,
    "start_time": "2022-12-14T13:05:18.342Z"
   },
   {
    "duration": 28,
    "start_time": "2022-12-14T13:05:18.360Z"
   },
   {
    "duration": 13,
    "start_time": "2022-12-14T13:05:18.389Z"
   },
   {
    "duration": 101,
    "start_time": "2022-12-14T13:05:18.404Z"
   },
   {
    "duration": 10,
    "start_time": "2022-12-14T13:05:18.507Z"
   },
   {
    "duration": 41,
    "start_time": "2022-12-14T13:05:18.519Z"
   },
   {
    "duration": 18,
    "start_time": "2022-12-14T13:05:18.561Z"
   },
   {
    "duration": 10,
    "start_time": "2022-12-14T13:05:18.581Z"
   },
   {
    "duration": 21,
    "start_time": "2022-12-14T13:05:18.593Z"
   },
   {
    "duration": 5,
    "start_time": "2022-12-14T13:05:18.615Z"
   },
   {
    "duration": 28,
    "start_time": "2022-12-14T13:05:18.622Z"
   },
   {
    "duration": 29,
    "start_time": "2022-12-14T13:05:18.652Z"
   },
   {
    "duration": 33,
    "start_time": "2022-12-14T13:05:18.684Z"
   },
   {
    "duration": 11,
    "start_time": "2022-12-14T13:05:18.718Z"
   },
   {
    "duration": 11,
    "start_time": "2022-12-14T13:05:18.730Z"
   },
   {
    "duration": 38,
    "start_time": "2022-12-14T13:05:18.742Z"
   },
   {
    "duration": 11,
    "start_time": "2022-12-14T13:05:18.782Z"
   },
   {
    "duration": 37,
    "start_time": "2022-12-14T13:05:18.795Z"
   },
   {
    "duration": 6,
    "start_time": "2022-12-14T13:05:18.833Z"
   },
   {
    "duration": 37,
    "start_time": "2022-12-14T13:05:18.841Z"
   },
   {
    "duration": 699,
    "start_time": "2022-12-14T13:05:18.880Z"
   },
   {
    "duration": 4,
    "start_time": "2022-12-14T13:05:19.580Z"
   },
   {
    "duration": 64,
    "start_time": "2022-12-14T13:05:19.586Z"
   },
   {
    "duration": 11,
    "start_time": "2022-12-14T13:05:19.652Z"
   },
   {
    "duration": 254,
    "start_time": "2022-12-14T13:05:19.664Z"
   },
   {
    "duration": 17,
    "start_time": "2022-12-14T13:05:19.920Z"
   },
   {
    "duration": 2299,
    "start_time": "2022-12-14T13:05:19.938Z"
   },
   {
    "duration": 0,
    "start_time": "2022-12-14T13:05:22.239Z"
   },
   {
    "duration": 0,
    "start_time": "2022-12-14T13:05:22.241Z"
   },
   {
    "duration": 881,
    "start_time": "2022-12-14T13:05:53.854Z"
   },
   {
    "duration": 68,
    "start_time": "2022-12-14T13:10:17.680Z"
   },
   {
    "duration": 287,
    "start_time": "2022-12-14T13:10:55.661Z"
   },
   {
    "duration": 55,
    "start_time": "2022-12-14T13:13:59.266Z"
   },
   {
    "duration": 40,
    "start_time": "2022-12-14T13:15:15.728Z"
   },
   {
    "duration": 137,
    "start_time": "2022-12-14T13:16:28.499Z"
   },
   {
    "duration": 42,
    "start_time": "2022-12-14T13:16:33.516Z"
   },
   {
    "duration": 720,
    "start_time": "2022-12-14T13:16:45.950Z"
   },
   {
    "duration": 598,
    "start_time": "2022-12-14T13:21:50.182Z"
   },
   {
    "duration": 843,
    "start_time": "2022-12-14T13:23:25.601Z"
   },
   {
    "duration": 616,
    "start_time": "2022-12-14T13:24:19.301Z"
   },
   {
    "duration": 1979,
    "start_time": "2022-12-14T14:01:48.331Z"
   },
   {
    "duration": 5,
    "start_time": "2022-12-14T14:01:55.618Z"
   },
   {
    "duration": 187,
    "start_time": "2022-12-14T14:01:55.625Z"
   },
   {
    "duration": 14,
    "start_time": "2022-12-14T14:01:55.813Z"
   },
   {
    "duration": 20,
    "start_time": "2022-12-14T14:01:55.879Z"
   },
   {
    "duration": 7,
    "start_time": "2022-12-14T14:01:55.901Z"
   },
   {
    "duration": 77,
    "start_time": "2022-12-14T14:01:55.910Z"
   },
   {
    "duration": 99,
    "start_time": "2022-12-14T14:01:55.990Z"
   },
   {
    "duration": 11,
    "start_time": "2022-12-14T14:01:56.092Z"
   },
   {
    "duration": 77,
    "start_time": "2022-12-14T14:01:56.105Z"
   },
   {
    "duration": 116,
    "start_time": "2022-12-14T14:01:56.184Z"
   },
   {
    "duration": 18,
    "start_time": "2022-12-14T14:01:56.302Z"
   },
   {
    "duration": 6,
    "start_time": "2022-12-14T14:01:56.379Z"
   },
   {
    "duration": 30,
    "start_time": "2022-12-14T14:01:56.387Z"
   },
   {
    "duration": 15,
    "start_time": "2022-12-14T14:01:56.477Z"
   },
   {
    "duration": 11,
    "start_time": "2022-12-14T14:01:56.494Z"
   },
   {
    "duration": 78,
    "start_time": "2022-12-14T14:01:56.506Z"
   },
   {
    "duration": 12,
    "start_time": "2022-12-14T14:01:56.585Z"
   },
   {
    "duration": 18,
    "start_time": "2022-12-14T14:01:56.599Z"
   },
   {
    "duration": 191,
    "start_time": "2022-12-14T14:01:56.619Z"
   },
   {
    "duration": 69,
    "start_time": "2022-12-14T14:01:56.812Z"
   },
   {
    "duration": 95,
    "start_time": "2022-12-14T14:01:56.883Z"
   },
   {
    "duration": 4,
    "start_time": "2022-12-14T14:01:56.980Z"
   },
   {
    "duration": 19,
    "start_time": "2022-12-14T14:01:56.986Z"
   },
   {
    "duration": 74,
    "start_time": "2022-12-14T14:01:57.007Z"
   },
   {
    "duration": 5,
    "start_time": "2022-12-14T14:01:57.084Z"
   },
   {
    "duration": 23,
    "start_time": "2022-12-14T14:01:57.091Z"
   },
   {
    "duration": 66,
    "start_time": "2022-12-14T14:01:57.115Z"
   },
   {
    "duration": 29,
    "start_time": "2022-12-14T14:01:57.184Z"
   },
   {
    "duration": 70,
    "start_time": "2022-12-14T14:01:57.214Z"
   },
   {
    "duration": 10,
    "start_time": "2022-12-14T14:01:57.286Z"
   },
   {
    "duration": 16,
    "start_time": "2022-12-14T14:01:57.297Z"
   },
   {
    "duration": 11,
    "start_time": "2022-12-14T14:01:57.379Z"
   },
   {
    "duration": 119,
    "start_time": "2022-12-14T14:01:57.392Z"
   },
   {
    "duration": 79,
    "start_time": "2022-12-14T14:01:57.512Z"
   },
   {
    "duration": 5,
    "start_time": "2022-12-14T14:01:57.593Z"
   },
   {
    "duration": 10,
    "start_time": "2022-12-14T14:01:57.600Z"
   },
   {
    "duration": 1367,
    "start_time": "2022-12-14T14:01:57.612Z"
   },
   {
    "duration": 4,
    "start_time": "2022-12-14T14:01:58.981Z"
   },
   {
    "duration": 191,
    "start_time": "2022-12-14T14:01:58.987Z"
   },
   {
    "duration": 12,
    "start_time": "2022-12-14T14:01:59.180Z"
   },
   {
    "duration": 504,
    "start_time": "2022-12-14T14:01:59.193Z"
   },
   {
    "duration": 17,
    "start_time": "2022-12-14T14:01:59.699Z"
   },
   {
    "duration": 1169,
    "start_time": "2022-12-14T14:01:59.718Z"
   },
   {
    "duration": 0,
    "start_time": "2022-12-14T14:02:00.890Z"
   },
   {
    "duration": 0,
    "start_time": "2022-12-14T14:02:00.891Z"
   },
   {
    "duration": 891,
    "start_time": "2022-12-14T14:06:21.951Z"
   },
   {
    "duration": 112,
    "start_time": "2022-12-14T14:46:13.479Z"
   },
   {
    "duration": 3222,
    "start_time": "2022-12-14T14:46:27.977Z"
   },
   {
    "duration": 296,
    "start_time": "2022-12-14T14:46:31.201Z"
   },
   {
    "duration": 88,
    "start_time": "2022-12-14T14:46:31.499Z"
   },
   {
    "duration": 107,
    "start_time": "2022-12-14T14:46:31.590Z"
   },
   {
    "duration": 82,
    "start_time": "2022-12-14T14:46:31.699Z"
   },
   {
    "duration": 109,
    "start_time": "2022-12-14T14:46:31.783Z"
   },
   {
    "duration": 202,
    "start_time": "2022-12-14T14:46:31.894Z"
   },
   {
    "duration": 83,
    "start_time": "2022-12-14T14:46:32.098Z"
   },
   {
    "duration": 103,
    "start_time": "2022-12-14T14:46:32.184Z"
   },
   {
    "duration": 312,
    "start_time": "2022-12-14T14:46:32.290Z"
   },
   {
    "duration": 98,
    "start_time": "2022-12-14T14:46:32.605Z"
   },
   {
    "duration": 10,
    "start_time": "2022-12-14T14:46:32.778Z"
   },
   {
    "duration": 98,
    "start_time": "2022-12-14T14:46:32.790Z"
   },
   {
    "duration": 94,
    "start_time": "2022-12-14T14:46:32.890Z"
   },
   {
    "duration": 22,
    "start_time": "2022-12-14T14:46:32.986Z"
   },
   {
    "duration": 168,
    "start_time": "2022-12-14T14:46:33.010Z"
   },
   {
    "duration": 96,
    "start_time": "2022-12-14T14:46:33.182Z"
   },
   {
    "duration": 102,
    "start_time": "2022-12-14T14:46:33.281Z"
   },
   {
    "duration": 405,
    "start_time": "2022-12-14T14:46:33.385Z"
   },
   {
    "duration": 87,
    "start_time": "2022-12-14T14:46:33.792Z"
   },
   {
    "duration": 217,
    "start_time": "2022-12-14T14:46:33.882Z"
   },
   {
    "duration": 5,
    "start_time": "2022-12-14T14:46:34.102Z"
   },
   {
    "duration": 37,
    "start_time": "2022-12-14T14:46:34.179Z"
   },
   {
    "duration": 28,
    "start_time": "2022-12-14T14:46:34.278Z"
   },
   {
    "duration": 72,
    "start_time": "2022-12-14T14:46:34.308Z"
   },
   {
    "duration": 101,
    "start_time": "2022-12-14T14:46:34.382Z"
   },
   {
    "duration": 11,
    "start_time": "2022-12-14T14:46:34.485Z"
   },
   {
    "duration": 108,
    "start_time": "2022-12-14T14:46:34.500Z"
   },
   {
    "duration": 12,
    "start_time": "2022-12-14T14:46:34.681Z"
   },
   {
    "duration": 88,
    "start_time": "2022-12-14T14:46:34.695Z"
   },
   {
    "duration": 94,
    "start_time": "2022-12-14T14:46:34.785Z"
   },
   {
    "duration": 15,
    "start_time": "2022-12-14T14:46:34.881Z"
   },
   {
    "duration": 304,
    "start_time": "2022-12-14T14:46:34.899Z"
   },
   {
    "duration": 24,
    "start_time": "2022-12-14T14:46:35.279Z"
   },
   {
    "duration": 78,
    "start_time": "2022-12-14T14:46:35.305Z"
   },
   {
    "duration": 12,
    "start_time": "2022-12-14T14:46:35.385Z"
   },
   {
    "duration": 2088,
    "start_time": "2022-12-14T14:46:35.399Z"
   },
   {
    "duration": 5,
    "start_time": "2022-12-14T14:46:37.489Z"
   },
   {
    "duration": 210,
    "start_time": "2022-12-14T14:46:37.496Z"
   },
   {
    "duration": 11,
    "start_time": "2022-12-14T14:46:37.779Z"
   },
   {
    "duration": 1094,
    "start_time": "2022-12-14T14:46:37.792Z"
   },
   {
    "duration": 93,
    "start_time": "2022-12-14T14:46:38.888Z"
   },
   {
    "duration": 696,
    "start_time": "2022-12-14T14:46:38.983Z"
   },
   {
    "duration": 0,
    "start_time": "2022-12-14T14:46:39.681Z"
   },
   {
    "duration": 0,
    "start_time": "2022-12-14T14:46:39.682Z"
   },
   {
    "duration": 411,
    "start_time": "2022-12-14T14:47:02.478Z"
   },
   {
    "duration": 95,
    "start_time": "2022-12-14T14:47:08.986Z"
   },
   {
    "duration": 7,
    "start_time": "2022-12-14T14:47:52.979Z"
   },
   {
    "duration": 9,
    "start_time": "2022-12-14T14:47:54.077Z"
   },
   {
    "duration": 2004,
    "start_time": "2022-12-14T14:47:55.178Z"
   },
   {
    "duration": 7,
    "start_time": "2022-12-14T14:48:04.679Z"
   },
   {
    "duration": 925,
    "start_time": "2022-12-14T14:48:41.677Z"
   },
   {
    "duration": 535,
    "start_time": "2022-12-14T15:12:47.668Z"
   },
   {
    "duration": 17,
    "start_time": "2022-12-14T15:20:18.911Z"
   },
   {
    "duration": 19,
    "start_time": "2022-12-14T15:21:12.041Z"
   },
   {
    "duration": 10,
    "start_time": "2022-12-14T15:26:01.601Z"
   },
   {
    "duration": 70,
    "start_time": "2022-12-14T15:26:09.656Z"
   },
   {
    "duration": 70,
    "start_time": "2022-12-14T15:26:20.695Z"
   },
   {
    "duration": 25,
    "start_time": "2022-12-14T15:26:43.030Z"
   },
   {
    "duration": 272,
    "start_time": "2022-12-14T15:26:47.956Z"
   },
   {
    "duration": 340,
    "start_time": "2022-12-14T15:27:10.217Z"
   },
   {
    "duration": 16,
    "start_time": "2022-12-14T15:27:40.187Z"
   },
   {
    "duration": 11,
    "start_time": "2022-12-14T15:28:27.205Z"
   },
   {
    "duration": 27,
    "start_time": "2022-12-14T15:29:13.422Z"
   },
   {
    "duration": 11,
    "start_time": "2022-12-14T15:29:19.263Z"
   },
   {
    "duration": 30,
    "start_time": "2022-12-14T15:29:31.973Z"
   },
   {
    "duration": 12,
    "start_time": "2022-12-14T15:29:35.124Z"
   },
   {
    "duration": 203,
    "start_time": "2022-12-14T15:29:37.611Z"
   },
   {
    "duration": 29,
    "start_time": "2022-12-14T15:31:04.665Z"
   },
   {
    "duration": 11,
    "start_time": "2022-12-14T15:31:13.495Z"
   },
   {
    "duration": 194,
    "start_time": "2022-12-14T15:31:14.295Z"
   },
   {
    "duration": 209,
    "start_time": "2022-12-14T15:32:27.034Z"
   },
   {
    "duration": 235,
    "start_time": "2022-12-14T15:33:18.836Z"
   },
   {
    "duration": 1400,
    "start_time": "2022-12-15T06:51:48.927Z"
   },
   {
    "duration": 183,
    "start_time": "2022-12-15T06:51:50.330Z"
   },
   {
    "duration": 15,
    "start_time": "2022-12-15T06:51:50.514Z"
   },
   {
    "duration": 97,
    "start_time": "2022-12-15T06:51:50.531Z"
   },
   {
    "duration": 7,
    "start_time": "2022-12-15T06:51:50.630Z"
   },
   {
    "duration": 30,
    "start_time": "2022-12-15T06:51:50.639Z"
   },
   {
    "duration": 43,
    "start_time": "2022-12-15T06:51:50.671Z"
   },
   {
    "duration": 10,
    "start_time": "2022-12-15T06:51:50.715Z"
   },
   {
    "duration": 18,
    "start_time": "2022-12-15T06:51:50.727Z"
   },
   {
    "duration": 72,
    "start_time": "2022-12-15T06:51:50.747Z"
   },
   {
    "duration": 19,
    "start_time": "2022-12-15T06:51:50.821Z"
   },
   {
    "duration": 6,
    "start_time": "2022-12-15T06:51:50.841Z"
   },
   {
    "duration": 23,
    "start_time": "2022-12-15T06:51:50.849Z"
   },
   {
    "duration": 11,
    "start_time": "2022-12-15T06:51:50.874Z"
   },
   {
    "duration": 8,
    "start_time": "2022-12-15T06:51:50.914Z"
   },
   {
    "duration": 13,
    "start_time": "2022-12-15T06:51:50.924Z"
   },
   {
    "duration": 19,
    "start_time": "2022-12-15T06:51:50.939Z"
   },
   {
    "duration": 20,
    "start_time": "2022-12-15T06:51:50.959Z"
   },
   {
    "duration": 102,
    "start_time": "2022-12-15T06:51:50.981Z"
   },
   {
    "duration": 11,
    "start_time": "2022-12-15T06:51:51.084Z"
   },
   {
    "duration": 57,
    "start_time": "2022-12-15T06:51:51.096Z"
   },
   {
    "duration": 4,
    "start_time": "2022-12-15T06:51:51.155Z"
   },
   {
    "duration": 7,
    "start_time": "2022-12-15T06:51:51.161Z"
   },
   {
    "duration": 27,
    "start_time": "2022-12-15T06:51:51.170Z"
   },
   {
    "duration": 6,
    "start_time": "2022-12-15T06:51:51.214Z"
   },
   {
    "duration": 26,
    "start_time": "2022-12-15T06:51:51.221Z"
   },
   {
    "duration": 8,
    "start_time": "2022-12-15T06:51:51.248Z"
   },
   {
    "duration": 54,
    "start_time": "2022-12-15T06:51:51.259Z"
   },
   {
    "duration": 12,
    "start_time": "2022-12-15T06:51:51.315Z"
   },
   {
    "duration": 8,
    "start_time": "2022-12-15T06:51:51.328Z"
   },
   {
    "duration": 15,
    "start_time": "2022-12-15T06:51:51.338Z"
   },
   {
    "duration": 10,
    "start_time": "2022-12-15T06:51:51.354Z"
   },
   {
    "duration": 116,
    "start_time": "2022-12-15T06:51:51.366Z"
   },
   {
    "duration": 31,
    "start_time": "2022-12-15T06:51:51.484Z"
   },
   {
    "duration": 6,
    "start_time": "2022-12-15T06:51:51.517Z"
   },
   {
    "duration": 614,
    "start_time": "2022-12-15T06:51:51.525Z"
   },
   {
    "duration": 5,
    "start_time": "2022-12-15T06:51:52.141Z"
   },
   {
    "duration": 76,
    "start_time": "2022-12-15T06:51:52.148Z"
   },
   {
    "duration": 12,
    "start_time": "2022-12-15T06:51:52.225Z"
   },
   {
    "duration": 319,
    "start_time": "2022-12-15T06:51:52.238Z"
   },
   {
    "duration": 18,
    "start_time": "2022-12-15T06:51:52.559Z"
   },
   {
    "duration": 34,
    "start_time": "2022-12-15T06:51:52.579Z"
   },
   {
    "duration": 26,
    "start_time": "2022-12-15T06:51:52.614Z"
   },
   {
    "duration": 10,
    "start_time": "2022-12-15T06:51:52.642Z"
   },
   {
    "duration": 230,
    "start_time": "2022-12-15T06:51:52.654Z"
   },
   {
    "duration": 263,
    "start_time": "2022-12-15T06:51:52.886Z"
   },
   {
    "duration": 243,
    "start_time": "2022-12-15T06:51:53.151Z"
   },
   {
    "duration": 686,
    "start_time": "2022-12-15T06:51:53.396Z"
   },
   {
    "duration": 0,
    "start_time": "2022-12-15T06:51:54.083Z"
   },
   {
    "duration": 0,
    "start_time": "2022-12-15T06:51:54.085Z"
   },
   {
    "duration": 224,
    "start_time": "2022-12-15T06:57:37.775Z"
   },
   {
    "duration": 240,
    "start_time": "2022-12-15T07:02:44.830Z"
   },
   {
    "duration": 4,
    "start_time": "2022-12-15T08:54:44.877Z"
   },
   {
    "duration": 5,
    "start_time": "2022-12-15T08:55:03.188Z"
   },
   {
    "duration": 43,
    "start_time": "2022-12-15T10:08:43.146Z"
   },
   {
    "duration": 1340,
    "start_time": "2022-12-15T10:08:49.887Z"
   },
   {
    "duration": 169,
    "start_time": "2022-12-15T10:08:51.229Z"
   },
   {
    "duration": 13,
    "start_time": "2022-12-15T10:08:51.400Z"
   },
   {
    "duration": 100,
    "start_time": "2022-12-15T10:08:51.415Z"
   },
   {
    "duration": 7,
    "start_time": "2022-12-15T10:08:51.517Z"
   },
   {
    "duration": 32,
    "start_time": "2022-12-15T10:08:51.526Z"
   },
   {
    "duration": 47,
    "start_time": "2022-12-15T10:08:51.559Z"
   },
   {
    "duration": 28,
    "start_time": "2022-12-15T10:08:51.608Z"
   },
   {
    "duration": 25,
    "start_time": "2022-12-15T10:08:51.638Z"
   },
   {
    "duration": 62,
    "start_time": "2022-12-15T10:08:51.665Z"
   },
   {
    "duration": 17,
    "start_time": "2022-12-15T10:08:51.729Z"
   },
   {
    "duration": 6,
    "start_time": "2022-12-15T10:08:51.748Z"
   },
   {
    "duration": 33,
    "start_time": "2022-12-15T10:08:51.755Z"
   },
   {
    "duration": 10,
    "start_time": "2022-12-15T10:08:51.790Z"
   },
   {
    "duration": 29,
    "start_time": "2022-12-15T10:08:51.801Z"
   },
   {
    "duration": 26,
    "start_time": "2022-12-15T10:08:51.832Z"
   },
   {
    "duration": 19,
    "start_time": "2022-12-15T10:08:51.860Z"
   },
   {
    "duration": 17,
    "start_time": "2022-12-15T10:08:51.881Z"
   },
   {
    "duration": 80,
    "start_time": "2022-12-15T10:08:51.900Z"
   },
   {
    "duration": 10,
    "start_time": "2022-12-15T10:08:51.981Z"
   },
   {
    "duration": 60,
    "start_time": "2022-12-15T10:08:51.992Z"
   },
   {
    "duration": 3,
    "start_time": "2022-12-15T10:08:52.053Z"
   },
   {
    "duration": 7,
    "start_time": "2022-12-15T10:08:52.058Z"
   },
   {
    "duration": 19,
    "start_time": "2022-12-15T10:08:52.067Z"
   },
   {
    "duration": 5,
    "start_time": "2022-12-15T10:08:52.087Z"
   },
   {
    "duration": 52,
    "start_time": "2022-12-15T10:08:52.093Z"
   },
   {
    "duration": 6,
    "start_time": "2022-12-15T10:08:52.147Z"
   },
   {
    "duration": 27,
    "start_time": "2022-12-15T10:08:52.155Z"
   },
   {
    "duration": 11,
    "start_time": "2022-12-15T10:08:52.184Z"
   },
   {
    "duration": 32,
    "start_time": "2022-12-15T10:08:52.197Z"
   },
   {
    "duration": 21,
    "start_time": "2022-12-15T10:08:52.231Z"
   },
   {
    "duration": 11,
    "start_time": "2022-12-15T10:08:52.253Z"
   },
   {
    "duration": 81,
    "start_time": "2022-12-15T10:09:00.974Z"
   },
   {
    "duration": 20,
    "start_time": "2022-12-15T10:09:03.631Z"
   },
   {
    "duration": 66,
    "start_time": "2022-12-15T10:09:46.748Z"
   },
   {
    "duration": 83,
    "start_time": "2022-12-15T10:09:58.090Z"
   },
   {
    "duration": 31,
    "start_time": "2022-12-15T10:09:59.419Z"
   },
   {
    "duration": 14,
    "start_time": "2022-12-15T10:10:43.067Z"
   },
   {
    "duration": 79,
    "start_time": "2022-12-15T10:10:46.342Z"
   },
   {
    "duration": 32,
    "start_time": "2022-12-15T10:10:46.976Z"
   },
   {
    "duration": 17,
    "start_time": "2022-12-15T10:11:00.913Z"
   },
   {
    "duration": 16,
    "start_time": "2022-12-15T10:14:19.735Z"
   },
   {
    "duration": 656,
    "start_time": "2022-12-15T10:15:15.438Z"
   },
   {
    "duration": 13,
    "start_time": "2022-12-15T11:33:43.089Z"
   },
   {
    "duration": 13,
    "start_time": "2022-12-15T11:34:15.006Z"
   },
   {
    "duration": 5,
    "start_time": "2022-12-15T11:34:24.035Z"
   },
   {
    "duration": 111,
    "start_time": "2022-12-15T11:34:24.042Z"
   },
   {
    "duration": 10,
    "start_time": "2022-12-15T11:34:24.155Z"
   },
   {
    "duration": 63,
    "start_time": "2022-12-15T11:34:24.167Z"
   },
   {
    "duration": 29,
    "start_time": "2022-12-15T11:34:24.232Z"
   },
   {
    "duration": 80,
    "start_time": "2022-12-15T11:34:24.263Z"
   },
   {
    "duration": 47,
    "start_time": "2022-12-15T11:34:24.345Z"
   },
   {
    "duration": 10,
    "start_time": "2022-12-15T11:34:24.393Z"
   },
   {
    "duration": 27,
    "start_time": "2022-12-15T11:34:24.404Z"
   },
   {
    "duration": 98,
    "start_time": "2022-12-15T11:34:24.432Z"
   },
   {
    "duration": 16,
    "start_time": "2022-12-15T11:34:24.533Z"
   },
   {
    "duration": 19,
    "start_time": "2022-12-15T11:34:24.550Z"
   },
   {
    "duration": 36,
    "start_time": "2022-12-15T11:34:24.570Z"
   },
   {
    "duration": 17,
    "start_time": "2022-12-15T11:34:24.608Z"
   },
   {
    "duration": 24,
    "start_time": "2022-12-15T11:34:24.627Z"
   },
   {
    "duration": 28,
    "start_time": "2022-12-15T11:34:24.653Z"
   },
   {
    "duration": 43,
    "start_time": "2022-12-15T11:34:24.683Z"
   },
   {
    "duration": 39,
    "start_time": "2022-12-15T11:34:24.727Z"
   },
   {
    "duration": 89,
    "start_time": "2022-12-15T11:34:24.767Z"
   },
   {
    "duration": 9,
    "start_time": "2022-12-15T11:34:24.858Z"
   },
   {
    "duration": 64,
    "start_time": "2022-12-15T11:34:24.869Z"
   },
   {
    "duration": 3,
    "start_time": "2022-12-15T11:34:24.935Z"
   },
   {
    "duration": 28,
    "start_time": "2022-12-15T11:34:24.939Z"
   },
   {
    "duration": 33,
    "start_time": "2022-12-15T11:34:24.969Z"
   },
   {
    "duration": 6,
    "start_time": "2022-12-15T11:34:25.004Z"
   },
   {
    "duration": 36,
    "start_time": "2022-12-15T11:34:25.011Z"
   },
   {
    "duration": 8,
    "start_time": "2022-12-15T11:34:25.051Z"
   },
   {
    "duration": 66,
    "start_time": "2022-12-15T11:34:25.061Z"
   },
   {
    "duration": 18,
    "start_time": "2022-12-15T11:34:25.131Z"
   },
   {
    "duration": 33,
    "start_time": "2022-12-15T11:34:25.150Z"
   },
   {
    "duration": 42,
    "start_time": "2022-12-15T11:34:25.185Z"
   },
   {
    "duration": 32,
    "start_time": "2022-12-15T11:34:25.229Z"
   },
   {
    "duration": 116,
    "start_time": "2022-12-15T11:34:25.264Z"
   },
   {
    "duration": 9,
    "start_time": "2022-12-15T11:34:29.130Z"
   },
   {
    "duration": 51,
    "start_time": "2022-12-15T11:34:30.318Z"
   },
   {
    "duration": 487,
    "start_time": "2022-12-15T13:39:56.991Z"
   },
   {
    "duration": 33,
    "start_time": "2022-12-15T13:41:08.276Z"
   },
   {
    "duration": 32,
    "start_time": "2022-12-15T13:41:43.528Z"
   },
   {
    "duration": 34,
    "start_time": "2022-12-15T13:41:52.533Z"
   },
   {
    "duration": 41,
    "start_time": "2022-12-15T13:42:40.119Z"
   },
   {
    "duration": 8,
    "start_time": "2022-12-15T13:43:07.964Z"
   },
   {
    "duration": 14,
    "start_time": "2022-12-15T13:43:22.738Z"
   },
   {
    "duration": 5,
    "start_time": "2022-12-15T13:44:22.972Z"
   },
   {
    "duration": 577,
    "start_time": "2022-12-15T13:44:31.140Z"
   },
   {
    "duration": 4,
    "start_time": "2022-12-15T13:45:28.658Z"
   },
   {
    "duration": 16,
    "start_time": "2022-12-15T13:45:31.334Z"
   },
   {
    "duration": 4,
    "start_time": "2022-12-15T13:45:43.541Z"
   },
   {
    "duration": 17,
    "start_time": "2022-12-15T13:45:46.470Z"
   },
   {
    "duration": 4,
    "start_time": "2022-12-15T13:46:24.350Z"
   },
   {
    "duration": 4,
    "start_time": "2022-12-15T13:46:29.772Z"
   },
   {
    "duration": 17,
    "start_time": "2022-12-15T13:46:31.781Z"
   },
   {
    "duration": 4,
    "start_time": "2022-12-15T13:46:53.131Z"
   },
   {
    "duration": 34,
    "start_time": "2022-12-15T13:46:56.413Z"
   },
   {
    "duration": 15,
    "start_time": "2022-12-15T13:47:07.350Z"
   },
   {
    "duration": 218,
    "start_time": "2022-12-15T13:47:12.571Z"
   },
   {
    "duration": 15,
    "start_time": "2022-12-15T13:47:21.941Z"
   },
   {
    "duration": 4,
    "start_time": "2022-12-15T13:49:21.496Z"
   },
   {
    "duration": 238,
    "start_time": "2022-12-15T13:51:24.402Z"
   },
   {
    "duration": 22,
    "start_time": "2022-12-15T14:44:57.351Z"
   },
   {
    "duration": 4,
    "start_time": "2022-12-15T14:45:15.028Z"
   },
   {
    "duration": 23,
    "start_time": "2022-12-15T14:45:16.229Z"
   },
   {
    "duration": 24,
    "start_time": "2022-12-15T14:46:18.738Z"
   },
   {
    "duration": 10,
    "start_time": "2022-12-15T14:46:23.521Z"
   },
   {
    "duration": 87,
    "start_time": "2022-12-15T14:53:38.565Z"
   },
   {
    "duration": 11,
    "start_time": "2022-12-15T14:54:27.934Z"
   },
   {
    "duration": 11,
    "start_time": "2022-12-15T14:55:47.784Z"
   },
   {
    "duration": 12,
    "start_time": "2022-12-15T14:57:00.068Z"
   },
   {
    "duration": 9,
    "start_time": "2022-12-15T14:58:52.952Z"
   },
   {
    "duration": 8,
    "start_time": "2022-12-15T15:04:03.019Z"
   },
   {
    "duration": 7,
    "start_time": "2022-12-15T15:04:03.850Z"
   },
   {
    "duration": 7,
    "start_time": "2022-12-15T15:04:04.626Z"
   },
   {
    "duration": 12,
    "start_time": "2022-12-15T15:04:05.450Z"
   },
   {
    "duration": 6,
    "start_time": "2022-12-15T15:04:54.791Z"
   },
   {
    "duration": 3,
    "start_time": "2022-12-15T15:05:06.461Z"
   },
   {
    "duration": 7,
    "start_time": "2022-12-15T15:05:10.914Z"
   },
   {
    "duration": 7,
    "start_time": "2022-12-15T15:05:11.770Z"
   },
   {
    "duration": 1210,
    "start_time": "2022-12-15T15:05:13.491Z"
   },
   {
    "duration": 81,
    "start_time": "2022-12-15T15:06:34.638Z"
   },
   {
    "duration": 6,
    "start_time": "2022-12-15T15:06:42.956Z"
   },
   {
    "duration": 52,
    "start_time": "2022-12-15T15:06:52.839Z"
   },
   {
    "duration": 512,
    "start_time": "2022-12-15T15:07:02.403Z"
   },
   {
    "duration": 5,
    "start_time": "2022-12-15T15:07:36.349Z"
   },
   {
    "duration": 26,
    "start_time": "2022-12-15T15:07:37.444Z"
   },
   {
    "duration": 12,
    "start_time": "2022-12-15T15:07:44.842Z"
   },
   {
    "duration": 290,
    "start_time": "2022-12-15T15:07:51.494Z"
   },
   {
    "duration": 17,
    "start_time": "2022-12-15T15:07:57.917Z"
   },
   {
    "duration": 3,
    "start_time": "2022-12-15T15:07:58.930Z"
   },
   {
    "duration": 7,
    "start_time": "2022-12-15T15:08:24.631Z"
   },
   {
    "duration": 7,
    "start_time": "2022-12-15T15:08:30.607Z"
   },
   {
    "duration": 1144,
    "start_time": "2022-12-15T15:08:31.784Z"
   },
   {
    "duration": 9,
    "start_time": "2022-12-15T15:09:37.912Z"
   },
   {
    "duration": 8,
    "start_time": "2022-12-15T15:09:51.239Z"
   },
   {
    "duration": 21,
    "start_time": "2022-12-15T15:11:04.208Z"
   },
   {
    "duration": 13,
    "start_time": "2022-12-15T15:15:40.175Z"
   },
   {
    "duration": 106,
    "start_time": "2022-12-15T15:16:00.201Z"
   },
   {
    "duration": 51,
    "start_time": "2022-12-15T15:16:19.506Z"
   },
   {
    "duration": 594,
    "start_time": "2022-12-15T15:16:27.651Z"
   },
   {
    "duration": 5,
    "start_time": "2022-12-15T15:16:59.685Z"
   },
   {
    "duration": 1241,
    "start_time": "2022-12-15T15:17:03.917Z"
   },
   {
    "duration": 4,
    "start_time": "2022-12-15T15:17:29.511Z"
   },
   {
    "duration": 4,
    "start_time": "2022-12-15T15:20:18.265Z"
   },
   {
    "duration": 26,
    "start_time": "2022-12-15T15:20:20.878Z"
   },
   {
    "duration": 210,
    "start_time": "2022-12-15T15:23:59.181Z"
   },
   {
    "duration": 3,
    "start_time": "2022-12-15T15:24:09.063Z"
   },
   {
    "duration": 25,
    "start_time": "2022-12-15T15:24:48.333Z"
   },
   {
    "duration": 14,
    "start_time": "2022-12-15T15:24:53.752Z"
   },
   {
    "duration": 12,
    "start_time": "2022-12-15T15:25:04.842Z"
   },
   {
    "duration": 1261,
    "start_time": "2022-12-15T15:25:05.880Z"
   },
   {
    "duration": 7,
    "start_time": "2022-12-15T15:26:03.174Z"
   },
   {
    "duration": 1169,
    "start_time": "2022-12-15T15:26:04.104Z"
   },
   {
    "duration": 15,
    "start_time": "2022-12-15T15:26:06.912Z"
   },
   {
    "duration": 257,
    "start_time": "2022-12-15T15:26:10.725Z"
   },
   {
    "duration": 32,
    "start_time": "2022-12-15T15:26:12.624Z"
   },
   {
    "duration": 5,
    "start_time": "2022-12-15T15:26:13.666Z"
   },
   {
    "duration": 19,
    "start_time": "2022-12-15T15:26:15.318Z"
   },
   {
    "duration": 8,
    "start_time": "2022-12-15T15:26:16.344Z"
   },
   {
    "duration": 11,
    "start_time": "2022-12-15T15:26:17.308Z"
   },
   {
    "duration": 11,
    "start_time": "2022-12-15T15:26:18.364Z"
   },
   {
    "duration": 1215,
    "start_time": "2022-12-15T15:26:19.533Z"
   },
   {
    "duration": 4,
    "start_time": "2022-12-15T15:27:07.744Z"
   },
   {
    "duration": 44,
    "start_time": "2022-12-15T15:27:09.372Z"
   },
   {
    "duration": 11,
    "start_time": "2022-12-15T15:27:11.856Z"
   },
   {
    "duration": 236,
    "start_time": "2022-12-15T15:27:13.367Z"
   },
   {
    "duration": 26,
    "start_time": "2022-12-15T15:27:14.820Z"
   },
   {
    "duration": 5,
    "start_time": "2022-12-15T15:27:15.567Z"
   },
   {
    "duration": 23,
    "start_time": "2022-12-15T15:27:16.422Z"
   },
   {
    "duration": 10,
    "start_time": "2022-12-15T15:27:19.842Z"
   },
   {
    "duration": 11,
    "start_time": "2022-12-15T15:27:20.759Z"
   },
   {
    "duration": 8,
    "start_time": "2022-12-15T15:27:22.082Z"
   },
   {
    "duration": 56,
    "start_time": "2022-12-15T15:27:23.342Z"
   },
   {
    "duration": 10,
    "start_time": "2022-12-15T15:29:10.081Z"
   },
   {
    "duration": 10,
    "start_time": "2022-12-15T15:30:33.005Z"
   },
   {
    "duration": 13,
    "start_time": "2022-12-15T15:30:33.847Z"
   },
   {
    "duration": 10,
    "start_time": "2022-12-15T15:30:35.263Z"
   },
   {
    "duration": 37,
    "start_time": "2022-12-15T15:30:36.059Z"
   },
   {
    "duration": 9,
    "start_time": "2022-12-15T15:37:34.411Z"
   },
   {
    "duration": 9,
    "start_time": "2022-12-15T15:37:36.646Z"
   },
   {
    "duration": 12,
    "start_time": "2022-12-15T15:38:03.873Z"
   },
   {
    "duration": 9,
    "start_time": "2022-12-15T15:38:16.053Z"
   },
   {
    "duration": 11,
    "start_time": "2022-12-15T15:38:16.852Z"
   },
   {
    "duration": 12,
    "start_time": "2022-12-15T15:38:51.618Z"
   },
   {
    "duration": 17,
    "start_time": "2022-12-15T15:39:13.793Z"
   },
   {
    "duration": 8,
    "start_time": "2022-12-15T15:41:47.121Z"
   },
   {
    "duration": 11,
    "start_time": "2022-12-15T15:41:50.054Z"
   },
   {
    "duration": 7,
    "start_time": "2022-12-15T15:41:51.496Z"
   },
   {
    "duration": 9,
    "start_time": "2022-12-15T15:45:59.033Z"
   },
   {
    "duration": 4,
    "start_time": "2022-12-15T15:51:08.592Z"
   },
   {
    "duration": 11,
    "start_time": "2022-12-15T15:51:29.065Z"
   },
   {
    "duration": 15,
    "start_time": "2022-12-15T15:51:55.528Z"
   },
   {
    "duration": 14,
    "start_time": "2022-12-15T15:54:21.615Z"
   },
   {
    "duration": 21,
    "start_time": "2022-12-15T15:54:51.621Z"
   },
   {
    "duration": 18,
    "start_time": "2022-12-15T15:56:44.104Z"
   },
   {
    "duration": 10,
    "start_time": "2022-12-15T16:01:25.998Z"
   },
   {
    "duration": 11,
    "start_time": "2022-12-15T16:01:50.900Z"
   },
   {
    "duration": 13,
    "start_time": "2022-12-15T16:02:39.287Z"
   },
   {
    "duration": 1336,
    "start_time": "2022-12-17T14:44:20.870Z"
   },
   {
    "duration": 175,
    "start_time": "2022-12-17T14:44:22.208Z"
   },
   {
    "duration": 17,
    "start_time": "2022-12-17T14:44:22.386Z"
   },
   {
    "duration": 115,
    "start_time": "2022-12-17T14:44:22.405Z"
   },
   {
    "duration": 11,
    "start_time": "2022-12-17T14:44:22.522Z"
   },
   {
    "duration": 45,
    "start_time": "2022-12-17T14:44:22.535Z"
   },
   {
    "duration": 43,
    "start_time": "2022-12-17T14:44:22.582Z"
   },
   {
    "duration": 10,
    "start_time": "2022-12-17T14:44:22.626Z"
   },
   {
    "duration": 15,
    "start_time": "2022-12-17T14:44:22.652Z"
   },
   {
    "duration": 55,
    "start_time": "2022-12-17T14:44:22.671Z"
   },
   {
    "duration": 37,
    "start_time": "2022-12-17T14:44:22.728Z"
   },
   {
    "duration": 6,
    "start_time": "2022-12-17T14:44:22.767Z"
   },
   {
    "duration": 24,
    "start_time": "2022-12-17T14:44:22.775Z"
   },
   {
    "duration": 11,
    "start_time": "2022-12-17T14:44:22.801Z"
   },
   {
    "duration": 40,
    "start_time": "2022-12-17T14:44:22.814Z"
   },
   {
    "duration": 14,
    "start_time": "2022-12-17T14:44:22.856Z"
   },
   {
    "duration": 12,
    "start_time": "2022-12-17T14:44:22.872Z"
   },
   {
    "duration": 13,
    "start_time": "2022-12-17T14:44:22.886Z"
   },
   {
    "duration": 115,
    "start_time": "2022-12-17T14:44:22.901Z"
   },
   {
    "duration": 11,
    "start_time": "2022-12-17T14:44:23.018Z"
   },
   {
    "duration": 57,
    "start_time": "2022-12-17T14:44:23.031Z"
   },
   {
    "duration": 4,
    "start_time": "2022-12-17T14:44:23.089Z"
   },
   {
    "duration": 6,
    "start_time": "2022-12-17T14:44:23.095Z"
   },
   {
    "duration": 20,
    "start_time": "2022-12-17T14:44:23.103Z"
   },
   {
    "duration": 29,
    "start_time": "2022-12-17T14:44:23.124Z"
   },
   {
    "duration": 23,
    "start_time": "2022-12-17T14:44:23.155Z"
   },
   {
    "duration": 8,
    "start_time": "2022-12-17T14:44:23.180Z"
   },
   {
    "duration": 30,
    "start_time": "2022-12-17T14:44:23.191Z"
   },
   {
    "duration": 11,
    "start_time": "2022-12-17T14:44:23.252Z"
   },
   {
    "duration": 17,
    "start_time": "2022-12-17T14:44:23.264Z"
   },
   {
    "duration": 9,
    "start_time": "2022-12-17T14:44:23.282Z"
   },
   {
    "duration": 19,
    "start_time": "2022-12-17T14:44:23.292Z"
   },
   {
    "duration": 9,
    "start_time": "2022-12-17T14:44:23.312Z"
   },
   {
    "duration": 95,
    "start_time": "2022-12-17T14:44:23.323Z"
   },
   {
    "duration": 4,
    "start_time": "2022-12-17T14:44:23.420Z"
   },
   {
    "duration": 53,
    "start_time": "2022-12-17T14:44:23.426Z"
   },
   {
    "duration": 3,
    "start_time": "2022-12-17T14:44:23.481Z"
   },
   {
    "duration": 585,
    "start_time": "2022-12-17T14:44:23.485Z"
   },
   {
    "duration": 1185,
    "start_time": "2022-12-17T14:44:42.620Z"
   },
   {
    "duration": 104,
    "start_time": "2022-12-17T14:44:43.807Z"
   },
   {
    "duration": 14,
    "start_time": "2022-12-17T14:44:43.913Z"
   },
   {
    "duration": 49,
    "start_time": "2022-12-17T14:44:43.929Z"
   },
   {
    "duration": 32,
    "start_time": "2022-12-17T14:44:43.980Z"
   },
   {
    "duration": 63,
    "start_time": "2022-12-17T14:44:44.014Z"
   },
   {
    "duration": 77,
    "start_time": "2022-12-17T14:44:44.079Z"
   },
   {
    "duration": 22,
    "start_time": "2022-12-17T14:44:44.158Z"
   },
   {
    "duration": 57,
    "start_time": "2022-12-17T14:44:44.182Z"
   },
   {
    "duration": 76,
    "start_time": "2022-12-17T14:44:44.242Z"
   },
   {
    "duration": 18,
    "start_time": "2022-12-17T14:44:44.319Z"
   },
   {
    "duration": 6,
    "start_time": "2022-12-17T14:44:44.338Z"
   },
   {
    "duration": 29,
    "start_time": "2022-12-17T14:44:44.352Z"
   },
   {
    "duration": 11,
    "start_time": "2022-12-17T14:44:44.383Z"
   },
   {
    "duration": 20,
    "start_time": "2022-12-17T14:44:44.395Z"
   },
   {
    "duration": 23,
    "start_time": "2022-12-17T14:44:44.417Z"
   },
   {
    "duration": 18,
    "start_time": "2022-12-17T14:44:44.441Z"
   },
   {
    "duration": 17,
    "start_time": "2022-12-17T14:44:44.461Z"
   },
   {
    "duration": 98,
    "start_time": "2022-12-17T14:44:44.480Z"
   },
   {
    "duration": 12,
    "start_time": "2022-12-17T14:44:44.579Z"
   },
   {
    "duration": 72,
    "start_time": "2022-12-17T14:44:44.593Z"
   },
   {
    "duration": 4,
    "start_time": "2022-12-17T14:44:44.667Z"
   },
   {
    "duration": 28,
    "start_time": "2022-12-17T14:44:44.672Z"
   },
   {
    "duration": 26,
    "start_time": "2022-12-17T14:44:44.702Z"
   },
   {
    "duration": 5,
    "start_time": "2022-12-17T14:44:44.729Z"
   },
   {
    "duration": 35,
    "start_time": "2022-12-17T14:44:44.735Z"
   },
   {
    "duration": 6,
    "start_time": "2022-12-17T14:44:44.772Z"
   },
   {
    "duration": 32,
    "start_time": "2022-12-17T14:44:44.781Z"
   },
   {
    "duration": 38,
    "start_time": "2022-12-17T14:44:44.815Z"
   },
   {
    "duration": 13,
    "start_time": "2022-12-17T14:44:44.854Z"
   },
   {
    "duration": 14,
    "start_time": "2022-12-17T14:44:44.868Z"
   },
   {
    "duration": 25,
    "start_time": "2022-12-17T14:44:44.884Z"
   },
   {
    "duration": 10,
    "start_time": "2022-12-17T14:44:44.910Z"
   },
   {
    "duration": 91,
    "start_time": "2022-12-17T14:44:44.921Z"
   },
   {
    "duration": 5,
    "start_time": "2022-12-17T14:44:45.014Z"
   },
   {
    "duration": 64,
    "start_time": "2022-12-17T14:44:45.020Z"
   },
   {
    "duration": 3,
    "start_time": "2022-12-17T14:44:45.086Z"
   },
   {
    "duration": 580,
    "start_time": "2022-12-17T14:44:45.091Z"
   },
   {
    "duration": 4,
    "start_time": "2022-12-17T14:44:45.673Z"
   },
   {
    "duration": 36,
    "start_time": "2022-12-17T14:44:45.678Z"
   },
   {
    "duration": 11,
    "start_time": "2022-12-17T14:44:45.715Z"
   },
   {
    "duration": 314,
    "start_time": "2022-12-17T14:44:45.727Z"
   },
   {
    "duration": 3,
    "start_time": "2022-12-17T14:44:46.042Z"
   },
   {
    "duration": 25,
    "start_time": "2022-12-17T14:44:46.052Z"
   },
   {
    "duration": 17,
    "start_time": "2022-12-17T14:44:46.079Z"
   },
   {
    "duration": 19,
    "start_time": "2022-12-17T14:44:46.098Z"
   },
   {
    "duration": 19,
    "start_time": "2022-12-17T14:44:46.119Z"
   },
   {
    "duration": 11,
    "start_time": "2022-12-17T14:44:46.140Z"
   },
   {
    "duration": 105,
    "start_time": "2022-12-17T14:44:46.152Z"
   },
   {
    "duration": 0,
    "start_time": "2022-12-17T14:44:46.259Z"
   },
   {
    "duration": 0,
    "start_time": "2022-12-17T14:44:46.260Z"
   },
   {
    "duration": 0,
    "start_time": "2022-12-17T14:44:46.262Z"
   },
   {
    "duration": 0,
    "start_time": "2022-12-17T14:44:46.264Z"
   },
   {
    "duration": 0,
    "start_time": "2022-12-17T14:44:46.265Z"
   },
   {
    "duration": 0,
    "start_time": "2022-12-17T14:44:46.266Z"
   },
   {
    "duration": 0,
    "start_time": "2022-12-17T14:44:46.268Z"
   },
   {
    "duration": 16,
    "start_time": "2022-12-17T14:49:20.812Z"
   },
   {
    "duration": 11,
    "start_time": "2022-12-17T14:53:44.064Z"
   },
   {
    "duration": 11,
    "start_time": "2022-12-17T14:53:53.132Z"
   },
   {
    "duration": 89,
    "start_time": "2022-12-17T15:00:04.025Z"
   },
   {
    "duration": 9,
    "start_time": "2022-12-17T15:00:19.834Z"
   },
   {
    "duration": 9,
    "start_time": "2022-12-17T15:05:56.999Z"
   },
   {
    "duration": 10,
    "start_time": "2022-12-17T15:06:15.188Z"
   },
   {
    "duration": 8,
    "start_time": "2022-12-17T15:07:05.605Z"
   },
   {
    "duration": 8,
    "start_time": "2022-12-17T15:08:03.918Z"
   },
   {
    "duration": 9,
    "start_time": "2022-12-17T15:09:37.287Z"
   },
   {
    "duration": 9,
    "start_time": "2022-12-17T15:10:14.337Z"
   },
   {
    "duration": 13,
    "start_time": "2022-12-17T15:15:24.563Z"
   },
   {
    "duration": 12,
    "start_time": "2022-12-17T15:17:57.238Z"
   },
   {
    "duration": 79,
    "start_time": "2022-12-17T15:22:12.784Z"
   },
   {
    "duration": 9,
    "start_time": "2022-12-17T15:22:25.684Z"
   },
   {
    "duration": 13,
    "start_time": "2022-12-17T15:25:25.270Z"
   },
   {
    "duration": 12,
    "start_time": "2022-12-17T15:26:36.262Z"
   },
   {
    "duration": 17,
    "start_time": "2022-12-17T15:26:52.993Z"
   },
   {
    "duration": 5,
    "start_time": "2022-12-17T15:27:53.308Z"
   },
   {
    "duration": 41,
    "start_time": "2022-12-17T15:27:54.210Z"
   },
   {
    "duration": 5,
    "start_time": "2022-12-17T15:28:31.807Z"
   },
   {
    "duration": 5,
    "start_time": "2022-12-17T15:28:46.971Z"
   },
   {
    "duration": 1172,
    "start_time": "2022-12-17T15:28:48.430Z"
   },
   {
    "duration": 4,
    "start_time": "2022-12-17T15:29:23.085Z"
   },
   {
    "duration": 24,
    "start_time": "2022-12-17T15:29:23.760Z"
   },
   {
    "duration": 21,
    "start_time": "2022-12-17T15:29:38.782Z"
   },
   {
    "duration": 24,
    "start_time": "2022-12-17T15:29:54.278Z"
   },
   {
    "duration": 1111,
    "start_time": "2022-12-17T15:32:04.928Z"
   },
   {
    "duration": 1110,
    "start_time": "2022-12-17T15:32:17.132Z"
   },
   {
    "duration": 1110,
    "start_time": "2022-12-17T15:33:23.245Z"
   },
   {
    "duration": 1138,
    "start_time": "2022-12-17T15:33:58.014Z"
   },
   {
    "duration": 111,
    "start_time": "2022-12-17T15:34:38.819Z"
   },
   {
    "duration": 4,
    "start_time": "2022-12-17T15:34:48.993Z"
   },
   {
    "duration": 20,
    "start_time": "2022-12-17T15:34:50.305Z"
   },
   {
    "duration": 4,
    "start_time": "2022-12-17T15:37:09.683Z"
   },
   {
    "duration": 16,
    "start_time": "2022-12-17T15:37:11.956Z"
   },
   {
    "duration": 4,
    "start_time": "2022-12-17T15:37:30.630Z"
   },
   {
    "duration": 17,
    "start_time": "2022-12-17T15:37:31.433Z"
   },
   {
    "duration": 18,
    "start_time": "2022-12-17T15:38:56.601Z"
   },
   {
    "duration": 21,
    "start_time": "2022-12-17T15:39:14.753Z"
   },
   {
    "duration": 11,
    "start_time": "2022-12-17T15:39:30.162Z"
   },
   {
    "duration": 16,
    "start_time": "2022-12-17T15:39:36.436Z"
   },
   {
    "duration": 75,
    "start_time": "2022-12-17T15:40:21.412Z"
   },
   {
    "duration": 21,
    "start_time": "2022-12-17T15:40:22.752Z"
   },
   {
    "duration": 117,
    "start_time": "2022-12-17T15:40:40.718Z"
   },
   {
    "duration": 20,
    "start_time": "2022-12-17T15:40:41.966Z"
   },
   {
    "duration": 5,
    "start_time": "2022-12-17T15:41:02.437Z"
   },
   {
    "duration": 27,
    "start_time": "2022-12-17T15:41:03.814Z"
   },
   {
    "duration": 273,
    "start_time": "2022-12-17T15:41:12.974Z"
   },
   {
    "duration": 2,
    "start_time": "2022-12-17T15:41:18.040Z"
   },
   {
    "duration": 21,
    "start_time": "2022-12-17T15:41:19.897Z"
   },
   {
    "duration": 28,
    "start_time": "2022-12-17T15:54:34.381Z"
   },
   {
    "duration": 28,
    "start_time": "2022-12-17T15:54:52.385Z"
   },
   {
    "duration": 16,
    "start_time": "2022-12-17T16:00:33.095Z"
   },
   {
    "duration": 18,
    "start_time": "2022-12-17T16:01:07.178Z"
   },
   {
    "duration": 10,
    "start_time": "2022-12-17T16:02:44.203Z"
   },
   {
    "duration": 10,
    "start_time": "2022-12-17T16:04:49.006Z"
   },
   {
    "duration": 49,
    "start_time": "2022-12-17T16:05:27.512Z"
   },
   {
    "duration": 44,
    "start_time": "2022-12-17T16:06:48.030Z"
   },
   {
    "duration": 31,
    "start_time": "2022-12-17T16:06:56.718Z"
   },
   {
    "duration": 29,
    "start_time": "2022-12-17T16:19:20.913Z"
   },
   {
    "duration": 18,
    "start_time": "2022-12-17T16:20:06.157Z"
   },
   {
    "duration": 40,
    "start_time": "2022-12-17T16:24:07.729Z"
   },
   {
    "duration": 73,
    "start_time": "2022-12-17T16:29:35.391Z"
   },
   {
    "duration": 62,
    "start_time": "2022-12-17T16:29:49.711Z"
   },
   {
    "duration": 54,
    "start_time": "2022-12-17T16:30:58.970Z"
   },
   {
    "duration": 45,
    "start_time": "2022-12-17T16:31:54.563Z"
   },
   {
    "duration": 42,
    "start_time": "2022-12-17T16:32:45.836Z"
   },
   {
    "duration": 556,
    "start_time": "2022-12-17T16:33:34.140Z"
   },
   {
    "duration": 3,
    "start_time": "2022-12-17T16:34:07.501Z"
   },
   {
    "duration": 27,
    "start_time": "2022-12-17T16:34:12.468Z"
   },
   {
    "duration": 45,
    "start_time": "2022-12-17T16:34:28.494Z"
   },
   {
    "duration": 7,
    "start_time": "2022-12-17T16:36:12.833Z"
   },
   {
    "duration": 7,
    "start_time": "2022-12-17T16:38:18.003Z"
   },
   {
    "duration": 11,
    "start_time": "2022-12-17T16:41:06.124Z"
   },
   {
    "duration": 20,
    "start_time": "2022-12-17T16:41:24.505Z"
   },
   {
    "duration": 20,
    "start_time": "2022-12-17T16:42:33.647Z"
   },
   {
    "duration": 10,
    "start_time": "2022-12-17T16:44:04.422Z"
   },
   {
    "duration": 10,
    "start_time": "2022-12-17T16:45:03.092Z"
   },
   {
    "duration": 7,
    "start_time": "2022-12-17T16:45:50.138Z"
   },
   {
    "duration": 11,
    "start_time": "2022-12-17T16:45:50.887Z"
   },
   {
    "duration": 11,
    "start_time": "2022-12-17T16:46:10.236Z"
   },
   {
    "duration": 15,
    "start_time": "2022-12-17T16:47:17.477Z"
   },
   {
    "duration": 4,
    "start_time": "2022-12-17T16:49:44.651Z"
   },
   {
    "duration": 4,
    "start_time": "2022-12-17T16:50:06.144Z"
   },
   {
    "duration": 92,
    "start_time": "2022-12-17T16:50:18.836Z"
   },
   {
    "duration": 79,
    "start_time": "2022-12-17T16:50:43.274Z"
   },
   {
    "duration": 9,
    "start_time": "2022-12-17T16:50:57.979Z"
   },
   {
    "duration": 1160,
    "start_time": "2022-12-17T16:51:02.829Z"
   },
   {
    "duration": 12,
    "start_time": "2022-12-17T16:51:44.225Z"
   },
   {
    "duration": 1167,
    "start_time": "2022-12-17T16:51:47.977Z"
   },
   {
    "duration": 4,
    "start_time": "2022-12-17T16:53:25.344Z"
   },
   {
    "duration": 8,
    "start_time": "2022-12-17T16:53:39.242Z"
   },
   {
    "duration": 1195,
    "start_time": "2022-12-17T16:53:43.494Z"
   },
   {
    "duration": 37,
    "start_time": "2022-12-17T16:54:05.623Z"
   },
   {
    "duration": 8,
    "start_time": "2022-12-17T16:54:22.320Z"
   },
   {
    "duration": 9,
    "start_time": "2022-12-17T16:54:50.267Z"
   },
   {
    "duration": 9,
    "start_time": "2022-12-17T16:55:19.185Z"
   },
   {
    "duration": 8,
    "start_time": "2022-12-17T16:56:36.788Z"
   },
   {
    "duration": 7,
    "start_time": "2022-12-17T16:56:40.618Z"
   },
   {
    "duration": 11,
    "start_time": "2022-12-17T16:57:40.378Z"
   },
   {
    "duration": 8,
    "start_time": "2022-12-17T16:58:46.402Z"
   },
   {
    "duration": 12,
    "start_time": "2022-12-17T16:58:47.585Z"
   },
   {
    "duration": 8,
    "start_time": "2022-12-17T16:59:14.652Z"
   },
   {
    "duration": 11,
    "start_time": "2022-12-17T16:59:18.716Z"
   },
   {
    "duration": 4,
    "start_time": "2022-12-17T17:00:40.108Z"
   },
   {
    "duration": 13,
    "start_time": "2022-12-17T17:00:41.123Z"
   },
   {
    "duration": 4,
    "start_time": "2022-12-17T17:00:55.720Z"
   },
   {
    "duration": 10,
    "start_time": "2022-12-17T17:00:56.791Z"
   },
   {
    "duration": 1259,
    "start_time": "2022-12-17T17:01:25.927Z"
   },
   {
    "duration": 112,
    "start_time": "2022-12-17T17:01:27.188Z"
   },
   {
    "duration": 16,
    "start_time": "2022-12-17T17:01:27.302Z"
   },
   {
    "duration": 19,
    "start_time": "2022-12-17T17:01:27.320Z"
   },
   {
    "duration": 14,
    "start_time": "2022-12-17T17:01:27.341Z"
   },
   {
    "duration": 28,
    "start_time": "2022-12-17T17:01:27.357Z"
   },
   {
    "duration": 55,
    "start_time": "2022-12-17T17:01:27.387Z"
   },
   {
    "duration": 13,
    "start_time": "2022-12-17T17:01:27.444Z"
   },
   {
    "duration": 16,
    "start_time": "2022-12-17T17:01:27.459Z"
   },
   {
    "duration": 75,
    "start_time": "2022-12-17T17:01:27.478Z"
   },
   {
    "duration": 18,
    "start_time": "2022-12-17T17:01:27.555Z"
   },
   {
    "duration": 7,
    "start_time": "2022-12-17T17:01:27.574Z"
   },
   {
    "duration": 30,
    "start_time": "2022-12-17T17:01:27.583Z"
   },
   {
    "duration": 10,
    "start_time": "2022-12-17T17:01:27.615Z"
   },
   {
    "duration": 30,
    "start_time": "2022-12-17T17:01:27.627Z"
   },
   {
    "duration": 13,
    "start_time": "2022-12-17T17:01:27.659Z"
   },
   {
    "duration": 20,
    "start_time": "2022-12-17T17:01:27.674Z"
   },
   {
    "duration": 28,
    "start_time": "2022-12-17T17:01:27.696Z"
   },
   {
    "duration": 95,
    "start_time": "2022-12-17T17:01:27.726Z"
   },
   {
    "duration": 11,
    "start_time": "2022-12-17T17:01:27.823Z"
   },
   {
    "duration": 46,
    "start_time": "2022-12-17T17:01:27.852Z"
   },
   {
    "duration": 4,
    "start_time": "2022-12-17T17:01:27.900Z"
   },
   {
    "duration": 17,
    "start_time": "2022-12-17T17:01:27.905Z"
   },
   {
    "duration": 40,
    "start_time": "2022-12-17T17:01:27.923Z"
   },
   {
    "duration": 7,
    "start_time": "2022-12-17T17:01:27.965Z"
   },
   {
    "duration": 27,
    "start_time": "2022-12-17T17:01:27.974Z"
   },
   {
    "duration": 7,
    "start_time": "2022-12-17T17:01:28.003Z"
   },
   {
    "duration": 44,
    "start_time": "2022-12-17T17:01:28.013Z"
   },
   {
    "duration": 11,
    "start_time": "2022-12-17T17:01:28.059Z"
   },
   {
    "duration": 16,
    "start_time": "2022-12-17T17:01:28.073Z"
   },
   {
    "duration": 8,
    "start_time": "2022-12-17T17:01:28.090Z"
   },
   {
    "duration": 16,
    "start_time": "2022-12-17T17:01:28.100Z"
   },
   {
    "duration": 43,
    "start_time": "2022-12-17T17:01:28.118Z"
   },
   {
    "duration": 99,
    "start_time": "2022-12-17T17:01:28.164Z"
   },
   {
    "duration": 5,
    "start_time": "2022-12-17T17:01:28.265Z"
   },
   {
    "duration": 46,
    "start_time": "2022-12-17T17:01:28.271Z"
   },
   {
    "duration": 585,
    "start_time": "2022-12-17T17:01:44.368Z"
   },
   {
    "duration": 5,
    "start_time": "2022-12-17T17:01:53.843Z"
   },
   {
    "duration": 87,
    "start_time": "2022-12-17T17:02:03.562Z"
   },
   {
    "duration": 4,
    "start_time": "2022-12-17T17:02:34.959Z"
   },
   {
    "duration": 14,
    "start_time": "2022-12-17T17:02:53.040Z"
   },
   {
    "duration": 112,
    "start_time": "2022-12-17T17:02:54.491Z"
   },
   {
    "duration": 8,
    "start_time": "2022-12-17T17:03:09.119Z"
   },
   {
    "duration": 30,
    "start_time": "2022-12-17T17:03:58.689Z"
   },
   {
    "duration": 9,
    "start_time": "2022-12-17T17:04:56.031Z"
   },
   {
    "duration": 8,
    "start_time": "2022-12-17T17:05:39.002Z"
   },
   {
    "duration": 54,
    "start_time": "2022-12-17T17:05:55.027Z"
   },
   {
    "duration": 8,
    "start_time": "2022-12-17T17:06:34.906Z"
   },
   {
    "duration": 12,
    "start_time": "2022-12-17T17:06:36.027Z"
   },
   {
    "duration": 9,
    "start_time": "2022-12-17T17:06:39.967Z"
   },
   {
    "duration": 8,
    "start_time": "2022-12-17T17:07:04.809Z"
   },
   {
    "duration": 12,
    "start_time": "2022-12-17T17:07:07.026Z"
   },
   {
    "duration": 11,
    "start_time": "2022-12-17T17:07:10.774Z"
   },
   {
    "duration": 7,
    "start_time": "2022-12-17T17:15:45.989Z"
   },
   {
    "duration": 13,
    "start_time": "2022-12-17T17:15:48.254Z"
   },
   {
    "duration": 9,
    "start_time": "2022-12-17T17:15:49.887Z"
   },
   {
    "duration": 55,
    "start_time": "2022-12-17T19:38:06.752Z"
   },
   {
    "duration": 5,
    "start_time": "2022-12-17T19:38:34.609Z"
   },
   {
    "duration": 1472,
    "start_time": "2022-12-17T19:39:06.015Z"
   },
   {
    "duration": 862,
    "start_time": "2022-12-17T19:39:07.489Z"
   },
   {
    "duration": 16,
    "start_time": "2022-12-17T19:39:08.353Z"
   },
   {
    "duration": 76,
    "start_time": "2022-12-17T19:39:08.371Z"
   },
   {
    "duration": 7,
    "start_time": "2022-12-17T19:39:08.449Z"
   },
   {
    "duration": 28,
    "start_time": "2022-12-17T19:39:08.458Z"
   },
   {
    "duration": 41,
    "start_time": "2022-12-17T19:39:08.488Z"
   },
   {
    "duration": 10,
    "start_time": "2022-12-17T19:39:08.531Z"
   },
   {
    "duration": 17,
    "start_time": "2022-12-17T19:39:08.543Z"
   },
   {
    "duration": 81,
    "start_time": "2022-12-17T19:39:08.563Z"
   },
   {
    "duration": 19,
    "start_time": "2022-12-17T19:39:08.645Z"
   },
   {
    "duration": 6,
    "start_time": "2022-12-17T19:39:08.666Z"
   },
   {
    "duration": 48,
    "start_time": "2022-12-17T19:39:08.674Z"
   },
   {
    "duration": 11,
    "start_time": "2022-12-17T19:39:08.724Z"
   },
   {
    "duration": 9,
    "start_time": "2022-12-17T19:39:08.737Z"
   },
   {
    "duration": 13,
    "start_time": "2022-12-17T19:39:08.747Z"
   },
   {
    "duration": 14,
    "start_time": "2022-12-17T19:39:08.762Z"
   },
   {
    "duration": 43,
    "start_time": "2022-12-17T19:39:08.778Z"
   },
   {
    "duration": 101,
    "start_time": "2022-12-17T19:39:08.823Z"
   },
   {
    "duration": 11,
    "start_time": "2022-12-17T19:39:08.925Z"
   },
   {
    "duration": 49,
    "start_time": "2022-12-17T19:39:08.938Z"
   },
   {
    "duration": 3,
    "start_time": "2022-12-17T19:39:08.989Z"
   },
   {
    "duration": 4,
    "start_time": "2022-12-17T19:39:09.013Z"
   },
   {
    "duration": 22,
    "start_time": "2022-12-17T19:39:09.019Z"
   },
   {
    "duration": 5,
    "start_time": "2022-12-17T19:39:09.043Z"
   },
   {
    "duration": 26,
    "start_time": "2022-12-17T19:39:09.049Z"
   },
   {
    "duration": 42,
    "start_time": "2022-12-17T19:39:09.076Z"
   },
   {
    "duration": 30,
    "start_time": "2022-12-17T19:39:09.121Z"
   },
   {
    "duration": 11,
    "start_time": "2022-12-17T19:39:09.153Z"
   },
   {
    "duration": 21,
    "start_time": "2022-12-17T19:39:09.165Z"
   },
   {
    "duration": 25,
    "start_time": "2022-12-17T19:39:09.188Z"
   },
   {
    "duration": 17,
    "start_time": "2022-12-17T19:39:09.214Z"
   },
   {
    "duration": 12,
    "start_time": "2022-12-17T19:39:09.232Z"
   },
   {
    "duration": 119,
    "start_time": "2022-12-17T19:39:09.245Z"
   },
   {
    "duration": 6,
    "start_time": "2022-12-17T19:39:09.365Z"
   },
   {
    "duration": 67,
    "start_time": "2022-12-17T19:39:09.372Z"
   },
   {
    "duration": 641,
    "start_time": "2022-12-17T19:39:09.441Z"
   },
   {
    "duration": 5,
    "start_time": "2022-12-17T19:39:10.084Z"
   },
   {
    "duration": 41,
    "start_time": "2022-12-17T19:39:10.090Z"
   },
   {
    "duration": 11,
    "start_time": "2022-12-17T19:39:10.133Z"
   },
   {
    "duration": 336,
    "start_time": "2022-12-17T19:39:10.146Z"
   },
   {
    "duration": 3,
    "start_time": "2022-12-17T19:39:10.484Z"
   },
   {
    "duration": 30,
    "start_time": "2022-12-17T19:39:10.488Z"
   },
   {
    "duration": 8,
    "start_time": "2022-12-17T19:39:10.520Z"
   },
   {
    "duration": 46,
    "start_time": "2022-12-17T19:39:10.530Z"
   },
   {
    "duration": 9,
    "start_time": "2022-12-17T19:39:36.517Z"
   },
   {
    "duration": 19,
    "start_time": "2022-12-17T19:50:41.480Z"
   },
   {
    "duration": 11,
    "start_time": "2022-12-17T19:51:37.733Z"
   },
   {
    "duration": 14,
    "start_time": "2022-12-17T19:52:26.264Z"
   },
   {
    "duration": 14,
    "start_time": "2022-12-17T19:52:32.798Z"
   },
   {
    "duration": 14,
    "start_time": "2022-12-17T19:54:13.022Z"
   },
   {
    "duration": 104,
    "start_time": "2022-12-17T19:55:47.777Z"
   },
   {
    "duration": 15,
    "start_time": "2022-12-17T19:55:59.648Z"
   },
   {
    "duration": 25,
    "start_time": "2022-12-17T19:56:34.381Z"
   },
   {
    "duration": 28,
    "start_time": "2022-12-17T19:57:28.843Z"
   },
   {
    "duration": 23,
    "start_time": "2022-12-17T19:57:43.443Z"
   },
   {
    "duration": 24,
    "start_time": "2022-12-17T19:58:36.764Z"
   },
   {
    "duration": 54,
    "start_time": "2022-12-17T20:00:28.839Z"
   },
   {
    "duration": 264,
    "start_time": "2022-12-17T20:00:36.342Z"
   },
   {
    "duration": 240,
    "start_time": "2022-12-17T20:01:19.939Z"
   },
   {
    "duration": 399,
    "start_time": "2022-12-17T20:02:19.561Z"
   },
   {
    "duration": 15,
    "start_time": "2022-12-17T20:04:25.882Z"
   },
   {
    "duration": 241,
    "start_time": "2022-12-17T20:04:37.800Z"
   },
   {
    "duration": 237,
    "start_time": "2022-12-17T20:06:23.038Z"
   },
   {
    "duration": 249,
    "start_time": "2022-12-17T20:06:32.221Z"
   },
   {
    "duration": 242,
    "start_time": "2022-12-17T20:07:21.148Z"
   },
   {
    "duration": 237,
    "start_time": "2022-12-17T20:07:40.754Z"
   },
   {
    "duration": 254,
    "start_time": "2022-12-17T20:10:02.939Z"
   },
   {
    "duration": 237,
    "start_time": "2022-12-17T20:10:09.347Z"
   },
   {
    "duration": 46,
    "start_time": "2022-12-17T20:14:59.973Z"
   },
   {
    "duration": 5,
    "start_time": "2022-12-17T20:28:15.213Z"
   },
   {
    "duration": 134,
    "start_time": "2022-12-17T20:28:15.220Z"
   },
   {
    "duration": 12,
    "start_time": "2022-12-17T20:28:15.356Z"
   },
   {
    "duration": 29,
    "start_time": "2022-12-17T20:28:15.370Z"
   },
   {
    "duration": 12,
    "start_time": "2022-12-17T20:28:15.401Z"
   },
   {
    "duration": 36,
    "start_time": "2022-12-17T20:28:15.415Z"
   },
   {
    "duration": 41,
    "start_time": "2022-12-17T20:28:15.453Z"
   },
   {
    "duration": 25,
    "start_time": "2022-12-17T20:28:15.495Z"
   },
   {
    "duration": 18,
    "start_time": "2022-12-17T20:28:15.522Z"
   },
   {
    "duration": 24,
    "start_time": "2022-12-17T20:28:15.665Z"
   },
   {
    "duration": 29,
    "start_time": "2022-12-17T20:28:15.691Z"
   },
   {
    "duration": 7,
    "start_time": "2022-12-17T20:28:15.722Z"
   },
   {
    "duration": 25,
    "start_time": "2022-12-17T20:28:15.731Z"
   },
   {
    "duration": 12,
    "start_time": "2022-12-17T20:28:15.757Z"
   },
   {
    "duration": 41,
    "start_time": "2022-12-17T20:28:15.771Z"
   },
   {
    "duration": 15,
    "start_time": "2022-12-17T20:28:15.814Z"
   },
   {
    "duration": 17,
    "start_time": "2022-12-17T20:28:15.831Z"
   },
   {
    "duration": 22,
    "start_time": "2022-12-17T20:28:15.850Z"
   },
   {
    "duration": 110,
    "start_time": "2022-12-17T20:28:15.874Z"
   },
   {
    "duration": 14,
    "start_time": "2022-12-17T20:28:15.986Z"
   },
   {
    "duration": 45,
    "start_time": "2022-12-17T20:28:16.013Z"
   },
   {
    "duration": 13,
    "start_time": "2022-12-17T20:28:16.060Z"
   },
   {
    "duration": 39,
    "start_time": "2022-12-17T20:28:16.074Z"
   },
   {
    "duration": 50,
    "start_time": "2022-12-17T20:28:16.117Z"
   },
   {
    "duration": 8,
    "start_time": "2022-12-17T20:28:16.169Z"
   },
   {
    "duration": 48,
    "start_time": "2022-12-17T20:28:16.179Z"
   },
   {
    "duration": 12,
    "start_time": "2022-12-17T20:28:16.229Z"
   },
   {
    "duration": 65,
    "start_time": "2022-12-17T20:28:16.245Z"
   },
   {
    "duration": 18,
    "start_time": "2022-12-17T20:28:16.313Z"
   },
   {
    "duration": 23,
    "start_time": "2022-12-17T20:28:16.333Z"
   },
   {
    "duration": 11,
    "start_time": "2022-12-17T20:28:16.358Z"
   },
   {
    "duration": 31,
    "start_time": "2022-12-17T20:28:16.371Z"
   },
   {
    "duration": 20,
    "start_time": "2022-12-17T20:28:16.403Z"
   },
   {
    "duration": 127,
    "start_time": "2022-12-17T20:28:16.426Z"
   },
   {
    "duration": 7,
    "start_time": "2022-12-17T20:28:16.556Z"
   },
   {
    "duration": 75,
    "start_time": "2022-12-17T20:28:16.565Z"
   },
   {
    "duration": 603,
    "start_time": "2022-12-17T20:28:16.643Z"
   },
   {
    "duration": 4,
    "start_time": "2022-12-17T20:28:17.249Z"
   },
   {
    "duration": 56,
    "start_time": "2022-12-17T20:28:17.254Z"
   },
   {
    "duration": 14,
    "start_time": "2022-12-17T20:28:17.312Z"
   },
   {
    "duration": 274,
    "start_time": "2022-12-17T20:28:17.328Z"
   },
   {
    "duration": 8,
    "start_time": "2022-12-17T20:28:17.604Z"
   },
   {
    "duration": 22,
    "start_time": "2022-12-17T20:28:17.614Z"
   },
   {
    "duration": 8,
    "start_time": "2022-12-17T20:28:17.637Z"
   },
   {
    "duration": 42,
    "start_time": "2022-12-17T20:28:17.647Z"
   },
   {
    "duration": 22,
    "start_time": "2022-12-17T20:28:17.691Z"
   },
   {
    "duration": 16,
    "start_time": "2022-12-17T20:28:17.715Z"
   },
   {
    "duration": 9,
    "start_time": "2022-12-17T20:28:17.733Z"
   },
   {
    "duration": 9,
    "start_time": "2022-12-17T20:28:17.744Z"
   },
   {
    "duration": 12,
    "start_time": "2022-12-17T20:28:17.754Z"
   },
   {
    "duration": 8,
    "start_time": "2022-12-17T20:28:17.768Z"
   },
   {
    "duration": 761,
    "start_time": "2022-12-17T20:28:17.778Z"
   },
   {
    "duration": 0,
    "start_time": "2022-12-17T20:28:18.542Z"
   },
   {
    "duration": 0,
    "start_time": "2022-12-17T20:28:18.543Z"
   },
   {
    "duration": 0,
    "start_time": "2022-12-17T20:28:18.544Z"
   },
   {
    "duration": 0,
    "start_time": "2022-12-17T20:28:18.545Z"
   },
   {
    "duration": 0,
    "start_time": "2022-12-17T20:28:18.546Z"
   },
   {
    "duration": 0,
    "start_time": "2022-12-17T20:28:18.547Z"
   },
   {
    "duration": 0,
    "start_time": "2022-12-17T20:28:18.548Z"
   },
   {
    "duration": 0,
    "start_time": "2022-12-17T20:28:18.550Z"
   },
   {
    "duration": 0,
    "start_time": "2022-12-17T20:28:18.551Z"
   },
   {
    "duration": 0,
    "start_time": "2022-12-17T20:28:18.553Z"
   },
   {
    "duration": 0,
    "start_time": "2022-12-17T20:28:18.554Z"
   },
   {
    "duration": 0,
    "start_time": "2022-12-17T20:28:18.555Z"
   },
   {
    "duration": 0,
    "start_time": "2022-12-17T20:28:18.556Z"
   },
   {
    "duration": 0,
    "start_time": "2022-12-17T20:28:18.557Z"
   },
   {
    "duration": 15,
    "start_time": "2022-12-17T20:35:48.732Z"
   },
   {
    "duration": 24,
    "start_time": "2022-12-17T20:35:53.939Z"
   },
   {
    "duration": 25,
    "start_time": "2022-12-17T20:36:22.918Z"
   },
   {
    "duration": 248,
    "start_time": "2022-12-17T20:36:27.567Z"
   },
   {
    "duration": 255,
    "start_time": "2022-12-17T20:36:29.424Z"
   },
   {
    "duration": 251,
    "start_time": "2022-12-17T20:36:30.673Z"
   },
   {
    "duration": 262,
    "start_time": "2022-12-17T20:40:58.268Z"
   },
   {
    "duration": 256,
    "start_time": "2022-12-17T20:56:34.442Z"
   },
   {
    "duration": 43,
    "start_time": "2022-12-17T21:10:54.387Z"
   },
   {
    "duration": 47,
    "start_time": "2022-12-17T21:11:09.294Z"
   },
   {
    "duration": 50,
    "start_time": "2022-12-17T21:11:35.994Z"
   },
   {
    "duration": 10,
    "start_time": "2022-12-17T21:11:53.978Z"
   },
   {
    "duration": 15,
    "start_time": "2022-12-17T21:12:23.865Z"
   },
   {
    "duration": 36,
    "start_time": "2022-12-17T21:13:53.054Z"
   },
   {
    "duration": 27,
    "start_time": "2022-12-17T21:14:24.732Z"
   },
   {
    "duration": 721,
    "start_time": "2022-12-17T21:16:43.837Z"
   },
   {
    "duration": 27,
    "start_time": "2022-12-17T21:16:59.013Z"
   },
   {
    "duration": 26,
    "start_time": "2022-12-17T21:17:28.364Z"
   },
   {
    "duration": 27,
    "start_time": "2022-12-17T21:19:28.471Z"
   },
   {
    "duration": 25,
    "start_time": "2022-12-17T21:19:42.235Z"
   },
   {
    "duration": 43,
    "start_time": "2022-12-17T21:20:34.664Z"
   },
   {
    "duration": 37,
    "start_time": "2022-12-17T21:21:04.165Z"
   },
   {
    "duration": 31,
    "start_time": "2022-12-17T21:23:02.040Z"
   },
   {
    "duration": 5,
    "start_time": "2022-12-17T21:26:50.482Z"
   },
   {
    "duration": 26,
    "start_time": "2022-12-17T21:26:51.497Z"
   },
   {
    "duration": 37,
    "start_time": "2022-12-17T21:27:45.709Z"
   },
   {
    "duration": 5,
    "start_time": "2022-12-17T21:28:14.983Z"
   },
   {
    "duration": 9,
    "start_time": "2022-12-17T21:29:03.752Z"
   },
   {
    "duration": 3,
    "start_time": "2022-12-17T21:29:16.958Z"
   },
   {
    "duration": 4,
    "start_time": "2022-12-17T21:29:19.928Z"
   },
   {
    "duration": 26,
    "start_time": "2022-12-17T21:29:20.897Z"
   },
   {
    "duration": 5,
    "start_time": "2022-12-17T21:29:21.778Z"
   },
   {
    "duration": 14,
    "start_time": "2022-12-17T21:29:22.704Z"
   },
   {
    "duration": 6,
    "start_time": "2022-12-17T21:30:14.195Z"
   },
   {
    "duration": 11,
    "start_time": "2022-12-17T21:30:17.072Z"
   },
   {
    "duration": 4,
    "start_time": "2022-12-17T21:34:50.337Z"
   },
   {
    "duration": 4,
    "start_time": "2022-12-17T21:34:54.477Z"
   },
   {
    "duration": 25,
    "start_time": "2022-12-17T21:34:56.036Z"
   },
   {
    "duration": 4,
    "start_time": "2022-12-17T21:35:04.950Z"
   },
   {
    "duration": 7,
    "start_time": "2022-12-17T21:35:14.712Z"
   },
   {
    "duration": 8,
    "start_time": "2022-12-17T21:35:18.742Z"
   },
   {
    "duration": 1246,
    "start_time": "2022-12-17T21:35:54.240Z"
   },
   {
    "duration": 111,
    "start_time": "2022-12-17T21:35:55.488Z"
   },
   {
    "duration": 20,
    "start_time": "2022-12-17T21:35:55.601Z"
   },
   {
    "duration": 32,
    "start_time": "2022-12-17T21:35:55.623Z"
   },
   {
    "duration": 9,
    "start_time": "2022-12-17T21:35:55.657Z"
   },
   {
    "duration": 65,
    "start_time": "2022-12-17T21:35:55.668Z"
   },
   {
    "duration": 50,
    "start_time": "2022-12-17T21:35:55.735Z"
   },
   {
    "duration": 11,
    "start_time": "2022-12-17T21:35:55.787Z"
   },
   {
    "duration": 25,
    "start_time": "2022-12-17T21:35:55.800Z"
   },
   {
    "duration": 60,
    "start_time": "2022-12-17T21:35:55.827Z"
   },
   {
    "duration": 37,
    "start_time": "2022-12-17T21:35:55.889Z"
   },
   {
    "duration": 7,
    "start_time": "2022-12-17T21:35:55.928Z"
   },
   {
    "duration": 27,
    "start_time": "2022-12-17T21:35:55.937Z"
   },
   {
    "duration": 11,
    "start_time": "2022-12-17T21:35:55.967Z"
   },
   {
    "duration": 36,
    "start_time": "2022-12-17T21:35:55.980Z"
   },
   {
    "duration": 14,
    "start_time": "2022-12-17T21:35:56.017Z"
   },
   {
    "duration": 13,
    "start_time": "2022-12-17T21:35:56.033Z"
   },
   {
    "duration": 18,
    "start_time": "2022-12-17T21:35:56.048Z"
   },
   {
    "duration": 125,
    "start_time": "2022-12-17T21:35:56.068Z"
   },
   {
    "duration": 21,
    "start_time": "2022-12-17T21:35:56.195Z"
   },
   {
    "duration": 76,
    "start_time": "2022-12-17T21:35:56.218Z"
   },
   {
    "duration": 18,
    "start_time": "2022-12-17T21:35:56.295Z"
   },
   {
    "duration": 15,
    "start_time": "2022-12-17T21:35:56.314Z"
   },
   {
    "duration": 39,
    "start_time": "2022-12-17T21:35:56.332Z"
   },
   {
    "duration": 7,
    "start_time": "2022-12-17T21:35:56.373Z"
   },
   {
    "duration": 51,
    "start_time": "2022-12-17T21:35:56.382Z"
   },
   {
    "duration": 8,
    "start_time": "2022-12-17T21:35:56.436Z"
   },
   {
    "duration": 48,
    "start_time": "2022-12-17T21:35:56.446Z"
   },
   {
    "duration": 20,
    "start_time": "2022-12-17T21:35:56.497Z"
   },
   {
    "duration": 31,
    "start_time": "2022-12-17T21:35:56.520Z"
   },
   {
    "duration": 16,
    "start_time": "2022-12-17T21:35:56.553Z"
   },
   {
    "duration": 23,
    "start_time": "2022-12-17T21:35:56.571Z"
   },
   {
    "duration": 29,
    "start_time": "2022-12-17T21:35:56.597Z"
   },
   {
    "duration": 101,
    "start_time": "2022-12-17T21:35:56.628Z"
   },
   {
    "duration": 6,
    "start_time": "2022-12-17T21:35:56.731Z"
   },
   {
    "duration": 51,
    "start_time": "2022-12-17T21:35:56.738Z"
   },
   {
    "duration": 636,
    "start_time": "2022-12-17T21:35:56.791Z"
   },
   {
    "duration": 103,
    "start_time": "2022-12-17T21:35:57.428Z"
   },
   {
    "duration": 0,
    "start_time": "2022-12-17T21:35:57.533Z"
   },
   {
    "duration": 0,
    "start_time": "2022-12-17T21:35:57.534Z"
   },
   {
    "duration": 0,
    "start_time": "2022-12-17T21:35:57.535Z"
   },
   {
    "duration": 0,
    "start_time": "2022-12-17T21:35:57.536Z"
   },
   {
    "duration": 0,
    "start_time": "2022-12-17T21:35:57.537Z"
   },
   {
    "duration": 0,
    "start_time": "2022-12-17T21:35:57.538Z"
   },
   {
    "duration": 0,
    "start_time": "2022-12-17T21:35:57.539Z"
   },
   {
    "duration": 0,
    "start_time": "2022-12-17T21:35:57.540Z"
   },
   {
    "duration": 0,
    "start_time": "2022-12-17T21:35:57.541Z"
   },
   {
    "duration": 0,
    "start_time": "2022-12-17T21:35:57.542Z"
   },
   {
    "duration": 0,
    "start_time": "2022-12-17T21:35:57.543Z"
   },
   {
    "duration": 0,
    "start_time": "2022-12-17T21:35:57.544Z"
   },
   {
    "duration": 0,
    "start_time": "2022-12-17T21:35:57.647Z"
   },
   {
    "duration": 0,
    "start_time": "2022-12-17T21:35:57.649Z"
   },
   {
    "duration": 0,
    "start_time": "2022-12-17T21:35:57.651Z"
   },
   {
    "duration": 0,
    "start_time": "2022-12-17T21:35:57.652Z"
   },
   {
    "duration": 0,
    "start_time": "2022-12-17T21:35:57.652Z"
   },
   {
    "duration": 0,
    "start_time": "2022-12-17T21:35:57.654Z"
   },
   {
    "duration": 12,
    "start_time": "2022-12-17T21:37:16.232Z"
   },
   {
    "duration": 5,
    "start_time": "2022-12-17T21:38:07.566Z"
   },
   {
    "duration": 10,
    "start_time": "2022-12-17T21:38:08.538Z"
   },
   {
    "duration": 4,
    "start_time": "2022-12-17T21:38:41.762Z"
   },
   {
    "duration": 21,
    "start_time": "2022-12-17T21:38:42.499Z"
   },
   {
    "duration": 237,
    "start_time": "2022-12-17T21:38:44.363Z"
   },
   {
    "duration": 13,
    "start_time": "2022-12-17T21:38:50.847Z"
   },
   {
    "duration": 26,
    "start_time": "2022-12-17T21:39:53.404Z"
   },
   {
    "duration": 12,
    "start_time": "2022-12-17T21:40:45.411Z"
   },
   {
    "duration": 15,
    "start_time": "2022-12-17T21:40:48.134Z"
   },
   {
    "duration": 38,
    "start_time": "2022-12-17T21:40:49.149Z"
   },
   {
    "duration": 247,
    "start_time": "2022-12-17T21:40:49.302Z"
   },
   {
    "duration": 287,
    "start_time": "2022-12-17T21:40:50.166Z"
   },
   {
    "duration": 253,
    "start_time": "2022-12-17T21:40:50.760Z"
   },
   {
    "duration": 18,
    "start_time": "2022-12-17T21:40:53.361Z"
   },
   {
    "duration": 33,
    "start_time": "2022-12-17T21:40:54.398Z"
   },
   {
    "duration": 3,
    "start_time": "2022-12-17T21:40:59.905Z"
   },
   {
    "duration": 6,
    "start_time": "2022-12-17T21:41:01.233Z"
   },
   {
    "duration": 14,
    "start_time": "2022-12-17T21:41:02.455Z"
   },
   {
    "duration": 5,
    "start_time": "2022-12-17T21:41:42.562Z"
   },
   {
    "duration": 4,
    "start_time": "2022-12-17T21:41:59.148Z"
   },
   {
    "duration": 6,
    "start_time": "2022-12-17T21:42:24.433Z"
   },
   {
    "duration": 10,
    "start_time": "2022-12-17T21:42:27.005Z"
   },
   {
    "duration": 10,
    "start_time": "2022-12-17T21:43:21.734Z"
   },
   {
    "duration": 9,
    "start_time": "2022-12-17T21:43:45.962Z"
   },
   {
    "duration": 1424,
    "start_time": "2022-12-17T21:46:33.373Z"
   },
   {
    "duration": 131,
    "start_time": "2022-12-17T21:46:34.799Z"
   },
   {
    "duration": 22,
    "start_time": "2022-12-17T21:46:34.932Z"
   },
   {
    "duration": 20,
    "start_time": "2022-12-17T21:46:34.957Z"
   },
   {
    "duration": 8,
    "start_time": "2022-12-17T21:46:34.979Z"
   },
   {
    "duration": 35,
    "start_time": "2022-12-17T21:46:34.989Z"
   },
   {
    "duration": 62,
    "start_time": "2022-12-17T21:46:35.026Z"
   },
   {
    "duration": 11,
    "start_time": "2022-12-17T21:46:35.090Z"
   },
   {
    "duration": 30,
    "start_time": "2022-12-17T21:46:35.102Z"
   },
   {
    "duration": 64,
    "start_time": "2022-12-17T21:46:35.135Z"
   },
   {
    "duration": 37,
    "start_time": "2022-12-17T21:46:35.214Z"
   },
   {
    "duration": 6,
    "start_time": "2022-12-17T21:46:35.253Z"
   },
   {
    "duration": 30,
    "start_time": "2022-12-17T21:46:35.261Z"
   },
   {
    "duration": 30,
    "start_time": "2022-12-17T21:46:35.293Z"
   },
   {
    "duration": 8,
    "start_time": "2022-12-17T21:46:35.324Z"
   },
   {
    "duration": 30,
    "start_time": "2022-12-17T21:46:35.333Z"
   },
   {
    "duration": 13,
    "start_time": "2022-12-17T21:46:35.364Z"
   },
   {
    "duration": 34,
    "start_time": "2022-12-17T21:46:35.379Z"
   },
   {
    "duration": 98,
    "start_time": "2022-12-17T21:46:35.415Z"
   },
   {
    "duration": 11,
    "start_time": "2022-12-17T21:46:35.515Z"
   },
   {
    "duration": 45,
    "start_time": "2022-12-17T21:46:35.527Z"
   },
   {
    "duration": 3,
    "start_time": "2022-12-17T21:46:35.574Z"
   },
   {
    "duration": 36,
    "start_time": "2022-12-17T21:46:35.579Z"
   },
   {
    "duration": 20,
    "start_time": "2022-12-17T21:46:35.616Z"
   },
   {
    "duration": 5,
    "start_time": "2022-12-17T21:46:35.638Z"
   },
   {
    "duration": 32,
    "start_time": "2022-12-17T21:46:35.644Z"
   },
   {
    "duration": 34,
    "start_time": "2022-12-17T21:46:35.678Z"
   },
   {
    "duration": 30,
    "start_time": "2022-12-17T21:46:35.716Z"
   },
   {
    "duration": 11,
    "start_time": "2022-12-17T21:46:35.747Z"
   },
   {
    "duration": 18,
    "start_time": "2022-12-17T21:46:35.760Z"
   },
   {
    "duration": 34,
    "start_time": "2022-12-17T21:46:35.779Z"
   },
   {
    "duration": 17,
    "start_time": "2022-12-17T21:46:35.814Z"
   },
   {
    "duration": 10,
    "start_time": "2022-12-17T21:46:35.832Z"
   },
   {
    "duration": 119,
    "start_time": "2022-12-17T21:46:35.844Z"
   },
   {
    "duration": 5,
    "start_time": "2022-12-17T21:46:35.965Z"
   },
   {
    "duration": 62,
    "start_time": "2022-12-17T21:46:35.972Z"
   },
   {
    "duration": 734,
    "start_time": "2022-12-17T21:46:36.036Z"
   },
   {
    "duration": 4,
    "start_time": "2022-12-17T21:46:36.772Z"
   },
   {
    "duration": 47,
    "start_time": "2022-12-17T21:46:36.778Z"
   },
   {
    "duration": 339,
    "start_time": "2022-12-17T21:46:36.827Z"
   },
   {
    "duration": 12,
    "start_time": "2022-12-17T21:46:37.168Z"
   },
   {
    "duration": 31,
    "start_time": "2022-12-17T21:46:37.182Z"
   },
   {
    "duration": 24,
    "start_time": "2022-12-17T21:46:37.215Z"
   },
   {
    "duration": 262,
    "start_time": "2022-12-17T21:46:37.241Z"
   },
   {
    "duration": 281,
    "start_time": "2022-12-17T21:46:37.504Z"
   },
   {
    "duration": 263,
    "start_time": "2022-12-17T21:46:37.787Z"
   },
   {
    "duration": 15,
    "start_time": "2022-12-17T21:46:38.052Z"
   },
   {
    "duration": 53,
    "start_time": "2022-12-17T21:46:38.068Z"
   },
   {
    "duration": 2,
    "start_time": "2022-12-17T21:46:38.123Z"
   },
   {
    "duration": 13,
    "start_time": "2022-12-17T21:46:38.127Z"
   },
   {
    "duration": 121,
    "start_time": "2022-12-17T21:46:38.141Z"
   },
   {
    "duration": 0,
    "start_time": "2022-12-17T21:46:38.263Z"
   },
   {
    "duration": 0,
    "start_time": "2022-12-17T21:46:38.265Z"
   },
   {
    "duration": 0,
    "start_time": "2022-12-17T21:46:38.266Z"
   },
   {
    "duration": 0,
    "start_time": "2022-12-17T21:46:38.267Z"
   },
   {
    "duration": 0,
    "start_time": "2022-12-17T21:46:38.269Z"
   },
   {
    "duration": 0,
    "start_time": "2022-12-17T21:46:38.270Z"
   },
   {
    "duration": 5,
    "start_time": "2022-12-17T21:47:52.621Z"
   },
   {
    "duration": 9,
    "start_time": "2022-12-17T21:47:53.460Z"
   },
   {
    "duration": 4,
    "start_time": "2022-12-17T21:48:19.488Z"
   },
   {
    "duration": 37,
    "start_time": "2022-12-17T21:48:21.787Z"
   },
   {
    "duration": 5,
    "start_time": "2022-12-17T21:48:46.793Z"
   },
   {
    "duration": 54,
    "start_time": "2022-12-17T21:48:47.723Z"
   },
   {
    "duration": 4,
    "start_time": "2022-12-17T21:49:07.149Z"
   },
   {
    "duration": 7,
    "start_time": "2022-12-17T21:49:30.598Z"
   },
   {
    "duration": 9,
    "start_time": "2022-12-17T21:49:33.677Z"
   },
   {
    "duration": 1162,
    "start_time": "2022-12-18T05:56:27.424Z"
   },
   {
    "duration": 183,
    "start_time": "2022-12-18T05:56:28.588Z"
   },
   {
    "duration": 13,
    "start_time": "2022-12-18T05:56:28.773Z"
   },
   {
    "duration": 106,
    "start_time": "2022-12-18T05:56:28.787Z"
   },
   {
    "duration": 7,
    "start_time": "2022-12-18T05:56:28.895Z"
   },
   {
    "duration": 26,
    "start_time": "2022-12-18T05:56:28.903Z"
   },
   {
    "duration": 36,
    "start_time": "2022-12-18T05:56:28.930Z"
   },
   {
    "duration": 9,
    "start_time": "2022-12-18T05:56:28.967Z"
   },
   {
    "duration": 16,
    "start_time": "2022-12-18T05:56:28.977Z"
   },
   {
    "duration": 75,
    "start_time": "2022-12-18T05:56:28.995Z"
   },
   {
    "duration": 17,
    "start_time": "2022-12-18T05:56:29.071Z"
   },
   {
    "duration": 6,
    "start_time": "2022-12-18T05:56:29.089Z"
   },
   {
    "duration": 39,
    "start_time": "2022-12-18T05:56:29.096Z"
   },
   {
    "duration": 10,
    "start_time": "2022-12-18T05:56:29.138Z"
   },
   {
    "duration": 9,
    "start_time": "2022-12-18T05:56:29.149Z"
   },
   {
    "duration": 13,
    "start_time": "2022-12-18T05:56:29.160Z"
   },
   {
    "duration": 13,
    "start_time": "2022-12-18T05:56:29.174Z"
   },
   {
    "duration": 40,
    "start_time": "2022-12-18T05:56:29.188Z"
   },
   {
    "duration": 81,
    "start_time": "2022-12-18T05:56:29.229Z"
   },
   {
    "duration": 10,
    "start_time": "2022-12-18T05:56:29.322Z"
   },
   {
    "duration": 41,
    "start_time": "2022-12-18T05:56:29.334Z"
   },
   {
    "duration": 3,
    "start_time": "2022-12-18T05:56:29.377Z"
   },
   {
    "duration": 7,
    "start_time": "2022-12-18T05:56:29.381Z"
   },
   {
    "duration": 43,
    "start_time": "2022-12-18T05:56:29.390Z"
   },
   {
    "duration": 5,
    "start_time": "2022-12-18T05:56:29.435Z"
   },
   {
    "duration": 24,
    "start_time": "2022-12-18T05:56:29.442Z"
   },
   {
    "duration": 7,
    "start_time": "2022-12-18T05:56:29.467Z"
   },
   {
    "duration": 56,
    "start_time": "2022-12-18T05:56:29.475Z"
   },
   {
    "duration": 11,
    "start_time": "2022-12-18T05:56:29.532Z"
   },
   {
    "duration": 16,
    "start_time": "2022-12-18T05:56:29.544Z"
   },
   {
    "duration": 7,
    "start_time": "2022-12-18T05:56:29.561Z"
   },
   {
    "duration": 16,
    "start_time": "2022-12-18T05:56:29.569Z"
   },
   {
    "duration": 41,
    "start_time": "2022-12-18T05:56:29.587Z"
   },
   {
    "duration": 82,
    "start_time": "2022-12-18T05:56:29.630Z"
   },
   {
    "duration": 12,
    "start_time": "2022-12-18T05:56:29.713Z"
   },
   {
    "duration": 52,
    "start_time": "2022-12-18T05:56:29.727Z"
   },
   {
    "duration": 596,
    "start_time": "2022-12-18T05:56:29.781Z"
   },
   {
    "duration": 4,
    "start_time": "2022-12-18T05:56:30.378Z"
   },
   {
    "duration": 51,
    "start_time": "2022-12-18T05:56:30.384Z"
   },
   {
    "duration": 315,
    "start_time": "2022-12-18T05:56:30.437Z"
   },
   {
    "duration": 11,
    "start_time": "2022-12-18T05:56:30.755Z"
   },
   {
    "duration": 17,
    "start_time": "2022-12-18T05:56:30.767Z"
   },
   {
    "duration": 43,
    "start_time": "2022-12-18T05:56:30.785Z"
   },
   {
    "duration": 241,
    "start_time": "2022-12-18T05:56:30.830Z"
   },
   {
    "duration": 251,
    "start_time": "2022-12-18T05:56:31.073Z"
   },
   {
    "duration": 245,
    "start_time": "2022-12-18T05:56:31.325Z"
   },
   {
    "duration": 16,
    "start_time": "2022-12-18T05:56:31.571Z"
   },
   {
    "duration": 48,
    "start_time": "2022-12-18T05:56:31.589Z"
   },
   {
    "duration": 3,
    "start_time": "2022-12-18T05:56:31.639Z"
   },
   {
    "duration": 9,
    "start_time": "2022-12-18T05:56:31.644Z"
   },
   {
    "duration": 108,
    "start_time": "2022-12-18T05:56:31.655Z"
   },
   {
    "duration": 0,
    "start_time": "2022-12-18T05:56:31.765Z"
   },
   {
    "duration": 0,
    "start_time": "2022-12-18T05:56:31.766Z"
   },
   {
    "duration": 0,
    "start_time": "2022-12-18T05:56:31.767Z"
   },
   {
    "duration": 0,
    "start_time": "2022-12-18T05:56:31.768Z"
   },
   {
    "duration": 0,
    "start_time": "2022-12-18T05:56:31.769Z"
   },
   {
    "duration": 0,
    "start_time": "2022-12-18T05:56:31.770Z"
   },
   {
    "duration": 20,
    "start_time": "2022-12-18T06:02:52.794Z"
   },
   {
    "duration": 12,
    "start_time": "2022-12-18T06:06:03.064Z"
   },
   {
    "duration": 93,
    "start_time": "2022-12-18T06:06:46.236Z"
   },
   {
    "duration": 14,
    "start_time": "2022-12-18T06:08:35.422Z"
   },
   {
    "duration": 4,
    "start_time": "2022-12-18T06:10:10.493Z"
   },
   {
    "duration": 5,
    "start_time": "2022-12-18T06:10:11.228Z"
   },
   {
    "duration": 9,
    "start_time": "2022-12-18T06:10:12.302Z"
   },
   {
    "duration": 9,
    "start_time": "2022-12-18T06:12:07.363Z"
   },
   {
    "duration": 9,
    "start_time": "2022-12-18T06:12:08.126Z"
   },
   {
    "duration": 8,
    "start_time": "2022-12-18T06:12:09.240Z"
   },
   {
    "duration": 8,
    "start_time": "2022-12-18T06:12:10.130Z"
   },
   {
    "duration": 1637,
    "start_time": "2022-12-18T06:12:11.470Z"
   },
   {
    "duration": 0,
    "start_time": "2022-12-18T06:12:13.109Z"
   },
   {
    "duration": 55,
    "start_time": "2022-12-18T06:42:46.853Z"
   },
   {
    "duration": 1468,
    "start_time": "2022-12-18T06:43:01.266Z"
   },
   {
    "duration": 510,
    "start_time": "2022-12-18T06:43:02.736Z"
   },
   {
    "duration": 14,
    "start_time": "2022-12-18T06:43:03.248Z"
   },
   {
    "duration": 68,
    "start_time": "2022-12-18T06:43:03.263Z"
   },
   {
    "duration": 9,
    "start_time": "2022-12-18T06:43:03.332Z"
   },
   {
    "duration": 27,
    "start_time": "2022-12-18T06:43:03.343Z"
   },
   {
    "duration": 41,
    "start_time": "2022-12-18T06:43:03.372Z"
   },
   {
    "duration": 15,
    "start_time": "2022-12-18T06:43:03.415Z"
   },
   {
    "duration": 29,
    "start_time": "2022-12-18T06:43:03.433Z"
   },
   {
    "duration": 71,
    "start_time": "2022-12-18T06:43:03.465Z"
   },
   {
    "duration": 18,
    "start_time": "2022-12-18T06:43:03.538Z"
   },
   {
    "duration": 6,
    "start_time": "2022-12-18T06:43:03.558Z"
   },
   {
    "duration": 25,
    "start_time": "2022-12-18T06:43:03.565Z"
   },
   {
    "duration": 41,
    "start_time": "2022-12-18T06:43:03.592Z"
   },
   {
    "duration": 8,
    "start_time": "2022-12-18T06:43:03.635Z"
   },
   {
    "duration": 19,
    "start_time": "2022-12-18T06:43:03.645Z"
   },
   {
    "duration": 14,
    "start_time": "2022-12-18T06:43:03.666Z"
   },
   {
    "duration": 12,
    "start_time": "2022-12-18T06:43:03.681Z"
   },
   {
    "duration": 109,
    "start_time": "2022-12-18T06:43:03.695Z"
   },
   {
    "duration": 16,
    "start_time": "2022-12-18T06:43:03.815Z"
   },
   {
    "duration": 49,
    "start_time": "2022-12-18T06:43:03.833Z"
   },
   {
    "duration": 3,
    "start_time": "2022-12-18T06:43:03.884Z"
   },
   {
    "duration": 7,
    "start_time": "2022-12-18T06:43:03.888Z"
   },
   {
    "duration": 38,
    "start_time": "2022-12-18T06:43:03.897Z"
   },
   {
    "duration": 5,
    "start_time": "2022-12-18T06:43:03.938Z"
   },
   {
    "duration": 24,
    "start_time": "2022-12-18T06:43:03.945Z"
   },
   {
    "duration": 8,
    "start_time": "2022-12-18T06:43:03.971Z"
   },
   {
    "duration": 36,
    "start_time": "2022-12-18T06:43:04.017Z"
   },
   {
    "duration": 14,
    "start_time": "2022-12-18T06:43:04.055Z"
   },
   {
    "duration": 18,
    "start_time": "2022-12-18T06:43:04.070Z"
   },
   {
    "duration": 15,
    "start_time": "2022-12-18T06:43:04.090Z"
   },
   {
    "duration": 26,
    "start_time": "2022-12-18T06:43:04.107Z"
   },
   {
    "duration": 23,
    "start_time": "2022-12-18T06:43:04.135Z"
   },
   {
    "duration": 96,
    "start_time": "2022-12-18T06:43:04.160Z"
   },
   {
    "duration": 6,
    "start_time": "2022-12-18T06:43:04.257Z"
   },
   {
    "duration": 69,
    "start_time": "2022-12-18T06:43:04.264Z"
   },
   {
    "duration": 620,
    "start_time": "2022-12-18T06:43:04.335Z"
   },
   {
    "duration": 5,
    "start_time": "2022-12-18T06:43:04.957Z"
   },
   {
    "duration": 28,
    "start_time": "2022-12-18T06:43:04.964Z"
   },
   {
    "duration": 340,
    "start_time": "2022-12-18T06:43:04.993Z"
   },
   {
    "duration": 11,
    "start_time": "2022-12-18T06:43:05.334Z"
   },
   {
    "duration": 14,
    "start_time": "2022-12-18T06:43:05.347Z"
   },
   {
    "duration": 25,
    "start_time": "2022-12-18T06:43:05.362Z"
   },
   {
    "duration": 290,
    "start_time": "2022-12-18T06:43:05.389Z"
   },
   {
    "duration": 268,
    "start_time": "2022-12-18T06:43:05.681Z"
   },
   {
    "duration": 263,
    "start_time": "2022-12-18T06:43:05.950Z"
   },
   {
    "duration": 27,
    "start_time": "2022-12-18T06:43:06.216Z"
   },
   {
    "duration": 37,
    "start_time": "2022-12-18T06:43:06.245Z"
   },
   {
    "duration": 3,
    "start_time": "2022-12-18T06:43:06.284Z"
   },
   {
    "duration": 11,
    "start_time": "2022-12-18T06:43:06.289Z"
   },
   {
    "duration": 112,
    "start_time": "2022-12-18T06:43:06.318Z"
   },
   {
    "duration": 0,
    "start_time": "2022-12-18T06:43:06.437Z"
   },
   {
    "duration": 0,
    "start_time": "2022-12-18T06:43:06.437Z"
   },
   {
    "duration": 0,
    "start_time": "2022-12-18T06:43:06.438Z"
   },
   {
    "duration": 0,
    "start_time": "2022-12-18T06:43:06.439Z"
   },
   {
    "duration": 0,
    "start_time": "2022-12-18T06:43:06.442Z"
   },
   {
    "duration": 0,
    "start_time": "2022-12-18T06:43:06.444Z"
   },
   {
    "duration": 278,
    "start_time": "2022-12-18T06:43:53.969Z"
   },
   {
    "duration": 49,
    "start_time": "2022-12-18T06:47:58.732Z"
   },
   {
    "duration": 777,
    "start_time": "2022-12-18T07:09:03.641Z"
   },
   {
    "duration": 3,
    "start_time": "2022-12-18T07:09:11.651Z"
   },
   {
    "duration": 5,
    "start_time": "2022-12-18T07:09:12.512Z"
   },
   {
    "duration": 720,
    "start_time": "2022-12-18T07:09:13.137Z"
   },
   {
    "duration": 8,
    "start_time": "2022-12-18T07:09:35.033Z"
   },
   {
    "duration": 123,
    "start_time": "2022-12-18T07:09:35.043Z"
   },
   {
    "duration": 10,
    "start_time": "2022-12-18T07:09:35.168Z"
   },
   {
    "duration": 21,
    "start_time": "2022-12-18T07:09:35.181Z"
   },
   {
    "duration": 7,
    "start_time": "2022-12-18T07:09:35.204Z"
   },
   {
    "duration": 32,
    "start_time": "2022-12-18T07:09:35.213Z"
   },
   {
    "duration": 57,
    "start_time": "2022-12-18T07:09:35.247Z"
   },
   {
    "duration": 22,
    "start_time": "2022-12-18T07:09:35.305Z"
   },
   {
    "duration": 26,
    "start_time": "2022-12-18T07:09:35.329Z"
   },
   {
    "duration": 27,
    "start_time": "2022-12-18T07:09:35.358Z"
   },
   {
    "duration": 42,
    "start_time": "2022-12-18T07:09:35.386Z"
   },
   {
    "duration": 6,
    "start_time": "2022-12-18T07:09:35.430Z"
   },
   {
    "duration": 20,
    "start_time": "2022-12-18T07:09:35.438Z"
   },
   {
    "duration": 12,
    "start_time": "2022-12-18T07:09:35.460Z"
   },
   {
    "duration": 13,
    "start_time": "2022-12-18T07:09:35.473Z"
   },
   {
    "duration": 11,
    "start_time": "2022-12-18T07:09:35.516Z"
   },
   {
    "duration": 13,
    "start_time": "2022-12-18T07:09:35.529Z"
   },
   {
    "duration": 15,
    "start_time": "2022-12-18T07:09:35.544Z"
   },
   {
    "duration": 107,
    "start_time": "2022-12-18T07:09:35.561Z"
   },
   {
    "duration": 13,
    "start_time": "2022-12-18T07:09:35.670Z"
   },
   {
    "duration": 80,
    "start_time": "2022-12-18T07:09:35.684Z"
   },
   {
    "duration": 4,
    "start_time": "2022-12-18T07:09:35.766Z"
   },
   {
    "duration": 15,
    "start_time": "2022-12-18T07:09:35.772Z"
   },
   {
    "duration": 34,
    "start_time": "2022-12-18T07:09:35.790Z"
   },
   {
    "duration": 7,
    "start_time": "2022-12-18T07:09:35.826Z"
   },
   {
    "duration": 38,
    "start_time": "2022-12-18T07:09:35.835Z"
   },
   {
    "duration": 9,
    "start_time": "2022-12-18T07:09:35.875Z"
   },
   {
    "duration": 63,
    "start_time": "2022-12-18T07:09:35.888Z"
   },
   {
    "duration": 20,
    "start_time": "2022-12-18T07:09:35.953Z"
   },
   {
    "duration": 41,
    "start_time": "2022-12-18T07:09:35.975Z"
   },
   {
    "duration": 8,
    "start_time": "2022-12-18T07:09:36.018Z"
   },
   {
    "duration": 24,
    "start_time": "2022-12-18T07:09:36.028Z"
   },
   {
    "duration": 12,
    "start_time": "2022-12-18T07:09:36.054Z"
   },
   {
    "duration": 123,
    "start_time": "2022-12-18T07:09:36.068Z"
   },
   {
    "duration": 9,
    "start_time": "2022-12-18T07:09:36.193Z"
   },
   {
    "duration": 89,
    "start_time": "2022-12-18T07:09:36.208Z"
   },
   {
    "duration": 342,
    "start_time": "2022-12-18T07:09:36.300Z"
   },
   {
    "duration": 4,
    "start_time": "2022-12-18T07:09:36.644Z"
   },
   {
    "duration": 46,
    "start_time": "2022-12-18T07:09:36.650Z"
   },
   {
    "duration": 237,
    "start_time": "2022-12-18T07:09:36.698Z"
   },
   {
    "duration": 13,
    "start_time": "2022-12-18T07:09:36.937Z"
   },
   {
    "duration": 19,
    "start_time": "2022-12-18T07:09:36.952Z"
   },
   {
    "duration": 44,
    "start_time": "2022-12-18T07:09:36.973Z"
   },
   {
    "duration": 265,
    "start_time": "2022-12-18T07:09:37.019Z"
   },
   {
    "duration": 363,
    "start_time": "2022-12-18T07:09:37.285Z"
   },
   {
    "duration": 291,
    "start_time": "2022-12-18T07:09:37.650Z"
   },
   {
    "duration": 17,
    "start_time": "2022-12-18T07:09:37.943Z"
   },
   {
    "duration": 54,
    "start_time": "2022-12-18T07:09:37.962Z"
   },
   {
    "duration": 2,
    "start_time": "2022-12-18T07:09:38.018Z"
   },
   {
    "duration": 9,
    "start_time": "2022-12-18T07:09:38.022Z"
   },
   {
    "duration": 702,
    "start_time": "2022-12-18T07:09:43.745Z"
   },
   {
    "duration": 5,
    "start_time": "2022-12-18T07:10:13.064Z"
   },
   {
    "duration": 764,
    "start_time": "2022-12-18T07:10:13.865Z"
   },
   {
    "duration": 47,
    "start_time": "2022-12-18T10:12:31.926Z"
   },
   {
    "duration": 1473,
    "start_time": "2022-12-18T10:12:44.645Z"
   },
   {
    "duration": 467,
    "start_time": "2022-12-18T10:12:46.120Z"
   },
   {
    "duration": 16,
    "start_time": "2022-12-18T10:12:46.589Z"
   },
   {
    "duration": 75,
    "start_time": "2022-12-18T10:12:46.607Z"
   },
   {
    "duration": 8,
    "start_time": "2022-12-18T10:12:46.683Z"
   },
   {
    "duration": 32,
    "start_time": "2022-12-18T10:12:46.693Z"
   },
   {
    "duration": 41,
    "start_time": "2022-12-18T10:12:46.727Z"
   },
   {
    "duration": 11,
    "start_time": "2022-12-18T10:12:46.777Z"
   },
   {
    "duration": 30,
    "start_time": "2022-12-18T10:12:46.790Z"
   },
   {
    "duration": 70,
    "start_time": "2022-12-18T10:12:46.822Z"
   },
   {
    "duration": 18,
    "start_time": "2022-12-18T10:12:46.894Z"
   },
   {
    "duration": 8,
    "start_time": "2022-12-18T10:12:46.914Z"
   },
   {
    "duration": 39,
    "start_time": "2022-12-18T10:12:46.923Z"
   },
   {
    "duration": 22,
    "start_time": "2022-12-18T10:12:46.964Z"
   },
   {
    "duration": 22,
    "start_time": "2022-12-18T10:12:46.988Z"
   },
   {
    "duration": 17,
    "start_time": "2022-12-18T10:12:47.012Z"
   },
   {
    "duration": 32,
    "start_time": "2022-12-18T10:12:47.031Z"
   },
   {
    "duration": 30,
    "start_time": "2022-12-18T10:12:47.064Z"
   },
   {
    "duration": 104,
    "start_time": "2022-12-18T10:12:47.095Z"
   },
   {
    "duration": 11,
    "start_time": "2022-12-18T10:12:47.201Z"
   },
   {
    "duration": 63,
    "start_time": "2022-12-18T10:12:47.214Z"
   },
   {
    "duration": 3,
    "start_time": "2022-12-18T10:12:47.279Z"
   },
   {
    "duration": 39,
    "start_time": "2022-12-18T10:12:47.284Z"
   },
   {
    "duration": 39,
    "start_time": "2022-12-18T10:12:47.325Z"
   },
   {
    "duration": 8,
    "start_time": "2022-12-18T10:12:47.367Z"
   },
   {
    "duration": 51,
    "start_time": "2022-12-18T10:12:47.377Z"
   },
   {
    "duration": 7,
    "start_time": "2022-12-18T10:12:47.430Z"
   },
   {
    "duration": 41,
    "start_time": "2022-12-18T10:12:47.441Z"
   },
   {
    "duration": 21,
    "start_time": "2022-12-18T10:12:47.484Z"
   },
   {
    "duration": 29,
    "start_time": "2022-12-18T10:12:47.507Z"
   },
   {
    "duration": 19,
    "start_time": "2022-12-18T10:12:47.538Z"
   },
   {
    "duration": 39,
    "start_time": "2022-12-18T10:12:47.559Z"
   },
   {
    "duration": 12,
    "start_time": "2022-12-18T10:12:47.600Z"
   },
   {
    "duration": 115,
    "start_time": "2022-12-18T10:12:47.614Z"
   },
   {
    "duration": 7,
    "start_time": "2022-12-18T10:12:47.731Z"
   },
   {
    "duration": 79,
    "start_time": "2022-12-18T10:12:47.740Z"
   },
   {
    "duration": 391,
    "start_time": "2022-12-18T10:12:47.821Z"
   },
   {
    "duration": 14,
    "start_time": "2022-12-18T10:12:48.214Z"
   },
   {
    "duration": 60,
    "start_time": "2022-12-18T10:12:48.229Z"
   },
   {
    "duration": 299,
    "start_time": "2022-12-18T10:12:48.291Z"
   },
   {
    "duration": 12,
    "start_time": "2022-12-18T10:12:48.592Z"
   },
   {
    "duration": 47,
    "start_time": "2022-12-18T10:13:04.531Z"
   },
   {
    "duration": 107,
    "start_time": "2022-12-18T10:13:12.844Z"
   },
   {
    "duration": 34,
    "start_time": "2022-12-18T10:13:29.522Z"
   },
   {
    "duration": 23,
    "start_time": "2022-12-18T10:15:22.064Z"
   },
   {
    "duration": 20,
    "start_time": "2022-12-18T10:26:25.163Z"
   },
   {
    "duration": 20,
    "start_time": "2022-12-18T10:27:45.158Z"
   },
   {
    "duration": 32,
    "start_time": "2022-12-18T10:28:08.863Z"
   },
   {
    "duration": 30,
    "start_time": "2022-12-18T10:28:17.106Z"
   },
   {
    "duration": 18,
    "start_time": "2022-12-18T10:34:41.323Z"
   },
   {
    "duration": 13,
    "start_time": "2022-12-18T10:34:57.749Z"
   },
   {
    "duration": 21,
    "start_time": "2022-12-18T11:32:38.118Z"
   },
   {
    "duration": 289,
    "start_time": "2022-12-18T11:32:42.179Z"
   },
   {
    "duration": 262,
    "start_time": "2022-12-18T11:32:54.119Z"
   },
   {
    "duration": 18,
    "start_time": "2022-12-18T11:33:29.132Z"
   },
   {
    "duration": 344,
    "start_time": "2022-12-18T11:33:30.219Z"
   },
   {
    "duration": 269,
    "start_time": "2022-12-18T11:34:00.772Z"
   },
   {
    "duration": 241,
    "start_time": "2022-12-18T11:34:06.814Z"
   },
   {
    "duration": 20,
    "start_time": "2022-12-18T11:34:45.911Z"
   },
   {
    "duration": 258,
    "start_time": "2022-12-18T11:34:48.864Z"
   },
   {
    "duration": 247,
    "start_time": "2022-12-18T11:34:50.319Z"
   },
   {
    "duration": 249,
    "start_time": "2022-12-18T11:37:26.045Z"
   },
   {
    "duration": 12,
    "start_time": "2022-12-18T11:51:36.757Z"
   },
   {
    "duration": 17,
    "start_time": "2022-12-18T11:51:42.999Z"
   },
   {
    "duration": 29,
    "start_time": "2022-12-18T11:53:13.459Z"
   },
   {
    "duration": 18,
    "start_time": "2022-12-18T11:55:06.749Z"
   },
   {
    "duration": 3,
    "start_time": "2022-12-18T11:58:06.919Z"
   },
   {
    "duration": 5,
    "start_time": "2022-12-18T11:58:10.038Z"
   },
   {
    "duration": 9,
    "start_time": "2022-12-18T11:58:32.036Z"
   },
   {
    "duration": 11,
    "start_time": "2022-12-18T11:58:34.709Z"
   },
   {
    "duration": 9,
    "start_time": "2022-12-18T11:58:53.759Z"
   },
   {
    "duration": 10,
    "start_time": "2022-12-18T11:58:56.011Z"
   },
   {
    "duration": 791,
    "start_time": "2022-12-18T11:59:25.049Z"
   },
   {
    "duration": 797,
    "start_time": "2022-12-18T11:59:25.939Z"
   },
   {
    "duration": 673,
    "start_time": "2022-12-18T11:59:54.474Z"
   },
   {
    "duration": 1285,
    "start_time": "2022-12-18T13:06:26.767Z"
   },
   {
    "duration": 177,
    "start_time": "2022-12-18T13:06:28.054Z"
   },
   {
    "duration": 13,
    "start_time": "2022-12-18T13:06:28.233Z"
   },
   {
    "duration": 99,
    "start_time": "2022-12-18T13:06:28.247Z"
   },
   {
    "duration": 7,
    "start_time": "2022-12-18T13:06:28.515Z"
   },
   {
    "duration": 30,
    "start_time": "2022-12-18T13:06:28.907Z"
   },
   {
    "duration": 46,
    "start_time": "2022-12-18T13:06:29.311Z"
   },
   {
    "duration": 9,
    "start_time": "2022-12-18T13:06:29.692Z"
   },
   {
    "duration": 15,
    "start_time": "2022-12-18T13:06:30.082Z"
   },
   {
    "duration": 56,
    "start_time": "2022-12-18T13:06:30.466Z"
   },
   {
    "duration": 20,
    "start_time": "2022-12-18T13:06:31.019Z"
   },
   {
    "duration": 7,
    "start_time": "2022-12-18T13:06:31.466Z"
   },
   {
    "duration": 20,
    "start_time": "2022-12-18T13:06:32.418Z"
   },
   {
    "duration": 10,
    "start_time": "2022-12-18T13:06:32.638Z"
   },
   {
    "duration": 7,
    "start_time": "2022-12-18T13:06:33.281Z"
   },
   {
    "duration": 13,
    "start_time": "2022-12-18T13:06:33.615Z"
   },
   {
    "duration": 11,
    "start_time": "2022-12-18T13:06:34.162Z"
   },
   {
    "duration": 12,
    "start_time": "2022-12-18T13:06:34.889Z"
   },
   {
    "duration": 76,
    "start_time": "2022-12-18T13:06:35.258Z"
   },
   {
    "duration": 13,
    "start_time": "2022-12-18T13:06:35.520Z"
   },
   {
    "duration": 39,
    "start_time": "2022-12-18T13:06:35.704Z"
   },
   {
    "duration": 4,
    "start_time": "2022-12-18T13:06:35.881Z"
   },
   {
    "duration": 4,
    "start_time": "2022-12-18T13:06:36.273Z"
   },
   {
    "duration": 18,
    "start_time": "2022-12-18T13:06:36.658Z"
   },
   {
    "duration": 5,
    "start_time": "2022-12-18T13:06:36.912Z"
   },
   {
    "duration": 23,
    "start_time": "2022-12-18T13:06:37.146Z"
   },
   {
    "duration": 8,
    "start_time": "2022-12-18T13:06:37.369Z"
   },
   {
    "duration": 27,
    "start_time": "2022-12-18T13:06:37.613Z"
   },
   {
    "duration": 11,
    "start_time": "2022-12-18T13:06:37.849Z"
   },
   {
    "duration": 14,
    "start_time": "2022-12-18T13:06:38.319Z"
   },
   {
    "duration": 5,
    "start_time": "2022-12-18T13:06:38.722Z"
   },
   {
    "duration": 15,
    "start_time": "2022-12-18T13:06:39.057Z"
   },
   {
    "duration": 10,
    "start_time": "2022-12-18T13:06:39.714Z"
   },
   {
    "duration": 84,
    "start_time": "2022-12-18T13:06:39.939Z"
   },
   {
    "duration": 6,
    "start_time": "2022-12-18T13:06:40.816Z"
   },
   {
    "duration": 47,
    "start_time": "2022-12-18T13:06:41.146Z"
   },
   {
    "duration": 402,
    "start_time": "2022-12-18T13:06:41.346Z"
   },
   {
    "duration": 4,
    "start_time": "2022-12-18T13:06:43.616Z"
   },
   {
    "duration": 25,
    "start_time": "2022-12-18T13:06:46.735Z"
   },
   {
    "duration": 227,
    "start_time": "2022-12-18T13:06:47.977Z"
   },
   {
    "duration": 10,
    "start_time": "2022-12-18T13:06:49.614Z"
   },
   {
    "duration": 11,
    "start_time": "2022-12-18T13:06:51.250Z"
   },
   {
    "duration": 15,
    "start_time": "2022-12-18T13:06:53.041Z"
   },
   {
    "duration": 229,
    "start_time": "2022-12-18T13:06:53.656Z"
   },
   {
    "duration": 212,
    "start_time": "2022-12-18T13:06:54.386Z"
   },
   {
    "duration": 282,
    "start_time": "2022-12-18T13:06:54.883Z"
   },
   {
    "duration": 10,
    "start_time": "2022-12-18T13:06:56.211Z"
   },
   {
    "duration": 15,
    "start_time": "2022-12-18T13:06:56.522Z"
   },
   {
    "duration": 3,
    "start_time": "2022-12-18T13:06:58.121Z"
   },
   {
    "duration": 4,
    "start_time": "2022-12-18T13:06:58.577Z"
   },
   {
    "duration": 1739,
    "start_time": "2022-12-18T13:06:58.978Z"
   },
   {
    "duration": 6,
    "start_time": "2022-12-18T13:08:19.638Z"
   },
   {
    "duration": 1605,
    "start_time": "2022-12-18T13:08:21.107Z"
   },
   {
    "duration": 4,
    "start_time": "2022-12-18T13:09:01.507Z"
   },
   {
    "duration": 31,
    "start_time": "2022-12-18T13:09:02.434Z"
   },
   {
    "duration": 26,
    "start_time": "2022-12-18T13:09:24.283Z"
   },
   {
    "duration": 4,
    "start_time": "2022-12-18T13:09:31.188Z"
   },
   {
    "duration": 29,
    "start_time": "2022-12-18T13:09:31.771Z"
   },
   {
    "duration": 19,
    "start_time": "2022-12-18T13:11:56.903Z"
   },
   {
    "duration": 98,
    "start_time": "2022-12-18T13:14:03.566Z"
   },
   {
    "duration": 5,
    "start_time": "2022-12-18T13:18:05.763Z"
   },
   {
    "duration": 19,
    "start_time": "2022-12-18T13:18:24.448Z"
   },
   {
    "duration": 4,
    "start_time": "2022-12-18T13:18:42.637Z"
   },
   {
    "duration": 39,
    "start_time": "2022-12-18T13:18:46.369Z"
   },
   {
    "duration": 9,
    "start_time": "2022-12-18T13:20:40.887Z"
   },
   {
    "duration": 11,
    "start_time": "2022-12-18T13:20:41.635Z"
   },
   {
    "duration": 3,
    "start_time": "2022-12-18T13:21:00.175Z"
   },
   {
    "duration": 6,
    "start_time": "2022-12-18T13:21:01.146Z"
   },
   {
    "duration": 10,
    "start_time": "2022-12-18T13:21:07.055Z"
   },
   {
    "duration": 11,
    "start_time": "2022-12-18T13:21:10.976Z"
   },
   {
    "duration": 13,
    "start_time": "2022-12-18T13:53:29.075Z"
   },
   {
    "duration": 5,
    "start_time": "2022-12-18T14:12:13.270Z"
   },
   {
    "duration": 4,
    "start_time": "2022-12-18T14:12:16.035Z"
   },
   {
    "duration": 8,
    "start_time": "2022-12-18T14:12:16.838Z"
   },
   {
    "duration": 6,
    "start_time": "2022-12-18T14:14:11.383Z"
   },
   {
    "duration": 676,
    "start_time": "2022-12-18T14:16:21.849Z"
   },
   {
    "duration": 27,
    "start_time": "2022-12-18T14:18:04.740Z"
   },
   {
    "duration": 7,
    "start_time": "2022-12-18T14:18:55.101Z"
   },
   {
    "duration": 27,
    "start_time": "2022-12-18T14:18:56.174Z"
   },
   {
    "duration": 5,
    "start_time": "2022-12-18T14:19:51.280Z"
   },
   {
    "duration": 3,
    "start_time": "2022-12-18T14:19:52.066Z"
   },
   {
    "duration": 8,
    "start_time": "2022-12-18T14:19:52.757Z"
   },
   {
    "duration": 21,
    "start_time": "2022-12-18T14:19:53.524Z"
   },
   {
    "duration": 8,
    "start_time": "2022-12-18T14:19:58.249Z"
   },
   {
    "duration": 21,
    "start_time": "2022-12-18T14:19:59.299Z"
   },
   {
    "duration": 6,
    "start_time": "2022-12-18T14:20:11.953Z"
   },
   {
    "duration": 20,
    "start_time": "2022-12-18T14:20:12.788Z"
   },
   {
    "duration": 6,
    "start_time": "2022-12-18T14:20:53.275Z"
   },
   {
    "duration": 22,
    "start_time": "2022-12-18T14:20:54.167Z"
   },
   {
    "duration": 6,
    "start_time": "2022-12-18T14:21:39.142Z"
   },
   {
    "duration": 19,
    "start_time": "2022-12-18T14:21:39.838Z"
   },
   {
    "duration": 3,
    "start_time": "2022-12-18T14:21:48.305Z"
   },
   {
    "duration": 5,
    "start_time": "2022-12-18T14:21:49.255Z"
   },
   {
    "duration": 38,
    "start_time": "2022-12-18T14:25:27.639Z"
   },
   {
    "duration": 19,
    "start_time": "2022-12-18T14:26:21.690Z"
   },
   {
    "duration": 41,
    "start_time": "2022-12-18T14:26:37.417Z"
   },
   {
    "duration": 40,
    "start_time": "2022-12-18T14:26:52.791Z"
   },
   {
    "duration": 21,
    "start_time": "2022-12-18T14:27:00.446Z"
   },
   {
    "duration": 21,
    "start_time": "2022-12-18T14:30:12.648Z"
   },
   {
    "duration": 3,
    "start_time": "2022-12-18T14:30:13.391Z"
   },
   {
    "duration": 5,
    "start_time": "2022-12-18T14:31:02.796Z"
   },
   {
    "duration": 30,
    "start_time": "2022-12-18T14:31:04.653Z"
   },
   {
    "duration": 3,
    "start_time": "2022-12-18T14:31:04.963Z"
   },
   {
    "duration": 5,
    "start_time": "2022-12-18T14:31:51.390Z"
   },
   {
    "duration": 29,
    "start_time": "2022-12-18T14:31:52.142Z"
   },
   {
    "duration": 4,
    "start_time": "2022-12-18T14:32:24.242Z"
   },
   {
    "duration": 21,
    "start_time": "2022-12-18T14:32:29.305Z"
   },
   {
    "duration": 4,
    "start_time": "2022-12-18T14:32:56.638Z"
   },
   {
    "duration": 21,
    "start_time": "2022-12-18T14:32:59.410Z"
   },
   {
    "duration": 6,
    "start_time": "2022-12-18T14:33:28.430Z"
   },
   {
    "duration": 26,
    "start_time": "2022-12-18T14:33:30.942Z"
   },
   {
    "duration": 5,
    "start_time": "2022-12-18T14:34:08.180Z"
   },
   {
    "duration": 32,
    "start_time": "2022-12-18T14:34:29.187Z"
   },
   {
    "duration": 28,
    "start_time": "2022-12-18T14:34:39.535Z"
   },
   {
    "duration": 5,
    "start_time": "2022-12-18T14:36:16.295Z"
   },
   {
    "duration": 27,
    "start_time": "2022-12-18T14:36:16.971Z"
   },
   {
    "duration": 24,
    "start_time": "2022-12-18T14:36:17.976Z"
   },
   {
    "duration": 4,
    "start_time": "2022-12-18T14:36:51.079Z"
   },
   {
    "duration": 9,
    "start_time": "2022-12-18T14:37:17.412Z"
   },
   {
    "duration": 12,
    "start_time": "2022-12-18T14:37:18.443Z"
   },
   {
    "duration": 65,
    "start_time": "2022-12-18T14:38:56.101Z"
   },
   {
    "duration": 8,
    "start_time": "2022-12-18T14:41:30.958Z"
   },
   {
    "duration": 9,
    "start_time": "2022-12-18T14:41:31.773Z"
   },
   {
    "duration": 11,
    "start_time": "2022-12-18T14:42:06.832Z"
   },
   {
    "duration": 10,
    "start_time": "2022-12-18T14:42:14.600Z"
   },
   {
    "duration": 11,
    "start_time": "2022-12-18T14:42:42.177Z"
   },
   {
    "duration": 9,
    "start_time": "2022-12-18T14:42:50.892Z"
   },
   {
    "duration": 23,
    "start_time": "2022-12-18T14:43:06.540Z"
   },
   {
    "duration": 46,
    "start_time": "2022-12-18T14:43:32.750Z"
   },
   {
    "duration": 4,
    "start_time": "2022-12-18T14:45:50.194Z"
   },
   {
    "duration": 24,
    "start_time": "2022-12-18T14:45:51.722Z"
   },
   {
    "duration": 3,
    "start_time": "2022-12-18T14:45:55.453Z"
   },
   {
    "duration": 9,
    "start_time": "2022-12-18T14:45:56.416Z"
   },
   {
    "duration": 24,
    "start_time": "2022-12-18T14:50:00.057Z"
   },
   {
    "duration": 8,
    "start_time": "2022-12-18T14:50:10.673Z"
   },
   {
    "duration": 56,
    "start_time": "2022-12-18T14:50:14.297Z"
   },
   {
    "duration": 7,
    "start_time": "2022-12-18T14:50:18.671Z"
   },
   {
    "duration": 113,
    "start_time": "2022-12-18T14:50:20.246Z"
   },
   {
    "duration": 3,
    "start_time": "2022-12-18T14:50:28.065Z"
   },
   {
    "duration": 5,
    "start_time": "2022-12-18T14:50:28.956Z"
   },
   {
    "duration": 37,
    "start_time": "2022-12-18T14:50:39.647Z"
   },
   {
    "duration": 1247,
    "start_time": "2022-12-18T18:19:33.656Z"
   },
   {
    "duration": 450,
    "start_time": "2022-12-18T18:19:34.905Z"
   },
   {
    "duration": 13,
    "start_time": "2022-12-18T18:19:35.356Z"
   },
   {
    "duration": 67,
    "start_time": "2022-12-18T18:19:35.371Z"
   },
   {
    "duration": 8,
    "start_time": "2022-12-18T18:19:35.439Z"
   },
   {
    "duration": 28,
    "start_time": "2022-12-18T18:19:35.448Z"
   },
   {
    "duration": 38,
    "start_time": "2022-12-18T18:19:35.477Z"
   },
   {
    "duration": 10,
    "start_time": "2022-12-18T18:19:35.516Z"
   },
   {
    "duration": 18,
    "start_time": "2022-12-18T18:19:35.527Z"
   },
   {
    "duration": 70,
    "start_time": "2022-12-18T18:19:35.547Z"
   },
   {
    "duration": 18,
    "start_time": "2022-12-18T18:19:35.619Z"
   },
   {
    "duration": 6,
    "start_time": "2022-12-18T18:19:35.639Z"
   },
   {
    "duration": 23,
    "start_time": "2022-12-18T18:19:35.646Z"
   },
   {
    "duration": 31,
    "start_time": "2022-12-18T18:19:35.670Z"
   },
   {
    "duration": 8,
    "start_time": "2022-12-18T18:19:35.703Z"
   },
   {
    "duration": 16,
    "start_time": "2022-12-18T18:19:35.712Z"
   },
   {
    "duration": 11,
    "start_time": "2022-12-18T18:19:35.729Z"
   },
   {
    "duration": 18,
    "start_time": "2022-12-18T18:19:35.742Z"
   },
   {
    "duration": 92,
    "start_time": "2022-12-18T18:19:35.761Z"
   },
   {
    "duration": 9,
    "start_time": "2022-12-18T18:19:35.854Z"
   },
   {
    "duration": 56,
    "start_time": "2022-12-18T18:19:35.865Z"
   },
   {
    "duration": 4,
    "start_time": "2022-12-18T18:19:35.923Z"
   },
   {
    "duration": 9,
    "start_time": "2022-12-18T18:19:35.929Z"
   },
   {
    "duration": 30,
    "start_time": "2022-12-18T18:19:35.940Z"
   },
   {
    "duration": 6,
    "start_time": "2022-12-18T18:19:35.972Z"
   },
   {
    "duration": 42,
    "start_time": "2022-12-18T18:19:35.980Z"
   },
   {
    "duration": 7,
    "start_time": "2022-12-18T18:19:36.024Z"
   },
   {
    "duration": 40,
    "start_time": "2022-12-18T18:19:36.035Z"
   },
   {
    "duration": 12,
    "start_time": "2022-12-18T18:19:36.077Z"
   },
   {
    "duration": 14,
    "start_time": "2022-12-18T18:19:36.098Z"
   },
   {
    "duration": 8,
    "start_time": "2022-12-18T18:19:36.113Z"
   },
   {
    "duration": 14,
    "start_time": "2022-12-18T18:19:36.122Z"
   },
   {
    "duration": 10,
    "start_time": "2022-12-18T18:19:36.137Z"
   },
   {
    "duration": 114,
    "start_time": "2022-12-18T18:19:36.148Z"
   },
   {
    "duration": 5,
    "start_time": "2022-12-18T18:19:36.264Z"
   },
   {
    "duration": 57,
    "start_time": "2022-12-18T18:19:36.270Z"
   },
   {
    "duration": 320,
    "start_time": "2022-12-18T18:19:36.329Z"
   },
   {
    "duration": 4,
    "start_time": "2022-12-18T18:19:36.650Z"
   },
   {
    "duration": 27,
    "start_time": "2022-12-18T18:19:36.655Z"
   },
   {
    "duration": 216,
    "start_time": "2022-12-18T18:19:36.684Z"
   },
   {
    "duration": 11,
    "start_time": "2022-12-18T18:19:36.902Z"
   },
   {
    "duration": 12,
    "start_time": "2022-12-18T18:19:36.914Z"
   },
   {
    "duration": 13,
    "start_time": "2022-12-18T18:19:36.927Z"
   },
   {
    "duration": 264,
    "start_time": "2022-12-18T18:19:36.942Z"
   },
   {
    "duration": 208,
    "start_time": "2022-12-18T18:19:37.207Z"
   },
   {
    "duration": 280,
    "start_time": "2022-12-18T18:19:37.417Z"
   },
   {
    "duration": 10,
    "start_time": "2022-12-18T18:19:37.698Z"
   },
   {
    "duration": 17,
    "start_time": "2022-12-18T18:19:37.709Z"
   },
   {
    "duration": 8,
    "start_time": "2022-12-18T18:19:37.727Z"
   },
   {
    "duration": 7,
    "start_time": "2022-12-18T18:19:37.737Z"
   },
   {
    "duration": 22,
    "start_time": "2022-12-18T18:19:37.745Z"
   },
   {
    "duration": 2,
    "start_time": "2022-12-18T18:19:37.768Z"
   },
   {
    "duration": 29,
    "start_time": "2022-12-18T18:19:37.772Z"
   },
   {
    "duration": 108,
    "start_time": "2022-12-18T18:19:37.803Z"
   },
   {
    "duration": 0,
    "start_time": "2022-12-18T18:19:37.912Z"
   },
   {
    "duration": 0,
    "start_time": "2022-12-18T18:19:37.914Z"
   },
   {
    "duration": 0,
    "start_time": "2022-12-18T18:19:37.915Z"
   },
   {
    "duration": 0,
    "start_time": "2022-12-18T18:19:37.916Z"
   },
   {
    "duration": 0,
    "start_time": "2022-12-18T18:19:37.917Z"
   },
   {
    "duration": 0,
    "start_time": "2022-12-18T18:19:37.918Z"
   },
   {
    "duration": 0,
    "start_time": "2022-12-18T18:19:37.920Z"
   },
   {
    "duration": 0,
    "start_time": "2022-12-18T18:19:37.921Z"
   },
   {
    "duration": 0,
    "start_time": "2022-12-18T18:19:37.922Z"
   },
   {
    "duration": 0,
    "start_time": "2022-12-18T18:19:37.923Z"
   },
   {
    "duration": 0,
    "start_time": "2022-12-18T18:19:37.924Z"
   },
   {
    "duration": 0,
    "start_time": "2022-12-18T18:19:37.925Z"
   },
   {
    "duration": 21,
    "start_time": "2022-12-18T18:36:30.319Z"
   },
   {
    "duration": 25,
    "start_time": "2022-12-18T18:36:53.210Z"
   },
   {
    "duration": 4,
    "start_time": "2022-12-18T18:40:15.653Z"
   },
   {
    "duration": 18,
    "start_time": "2022-12-18T18:40:16.866Z"
   },
   {
    "duration": 10,
    "start_time": "2022-12-18T18:47:59.343Z"
   },
   {
    "duration": 20,
    "start_time": "2022-12-18T18:51:06.793Z"
   },
   {
    "duration": 858,
    "start_time": "2022-12-18T18:51:45.367Z"
   },
   {
    "duration": 4,
    "start_time": "2022-12-18T18:52:14.626Z"
   },
   {
    "duration": 18,
    "start_time": "2022-12-18T18:52:15.576Z"
   },
   {
    "duration": 19,
    "start_time": "2022-12-18T18:52:16.711Z"
   },
   {
    "duration": 12,
    "start_time": "2022-12-18T18:52:18.106Z"
   },
   {
    "duration": 38,
    "start_time": "2022-12-18T18:54:17.894Z"
   },
   {
    "duration": 11,
    "start_time": "2022-12-18T18:54:49.466Z"
   },
   {
    "duration": 32,
    "start_time": "2022-12-18T18:55:12.566Z"
   },
   {
    "duration": 25,
    "start_time": "2022-12-18T18:55:53.286Z"
   },
   {
    "duration": 17,
    "start_time": "2022-12-18T18:56:55.950Z"
   },
   {
    "duration": 7,
    "start_time": "2022-12-18T19:15:52.491Z"
   },
   {
    "duration": 18,
    "start_time": "2022-12-18T19:16:00.285Z"
   },
   {
    "duration": 24,
    "start_time": "2022-12-18T19:18:24.697Z"
   },
   {
    "duration": 22,
    "start_time": "2022-12-18T19:18:40.075Z"
   },
   {
    "duration": 31,
    "start_time": "2022-12-18T19:19:04.758Z"
   },
   {
    "duration": 6,
    "start_time": "2022-12-18T19:27:25.451Z"
   },
   {
    "duration": 28,
    "start_time": "2022-12-18T19:27:27.441Z"
   },
   {
    "duration": 18,
    "start_time": "2022-12-18T19:29:42.090Z"
   },
   {
    "duration": 26,
    "start_time": "2022-12-18T19:30:17.834Z"
   },
   {
    "duration": 6,
    "start_time": "2022-12-18T19:31:36.959Z"
   },
   {
    "duration": 46,
    "start_time": "2022-12-18T19:31:37.792Z"
   },
   {
    "duration": 6,
    "start_time": "2022-12-18T19:32:10.445Z"
   },
   {
    "duration": 6,
    "start_time": "2022-12-18T19:44:18.693Z"
   },
   {
    "duration": 28,
    "start_time": "2022-12-18T19:44:19.456Z"
   },
   {
    "duration": 22,
    "start_time": "2022-12-18T19:45:56.168Z"
   },
   {
    "duration": 12,
    "start_time": "2022-12-18T19:59:01.113Z"
   },
   {
    "duration": 11,
    "start_time": "2022-12-18T19:59:22.509Z"
   },
   {
    "duration": 22,
    "start_time": "2022-12-18T19:59:38.509Z"
   },
   {
    "duration": 4,
    "start_time": "2022-12-18T20:03:10.594Z"
   },
   {
    "duration": 16,
    "start_time": "2022-12-18T20:03:11.962Z"
   },
   {
    "duration": 4,
    "start_time": "2022-12-18T20:03:21.212Z"
   },
   {
    "duration": 28,
    "start_time": "2022-12-18T20:03:22.095Z"
   },
   {
    "duration": 20,
    "start_time": "2022-12-18T20:03:38.310Z"
   },
   {
    "duration": 22,
    "start_time": "2022-12-18T20:03:51.993Z"
   },
   {
    "duration": 44,
    "start_time": "2022-12-18T20:03:57.869Z"
   },
   {
    "duration": 12,
    "start_time": "2022-12-18T20:04:19.103Z"
   },
   {
    "duration": 31,
    "start_time": "2022-12-18T20:04:27.052Z"
   },
   {
    "duration": 14,
    "start_time": "2022-12-18T20:04:33.279Z"
   },
   {
    "duration": 6,
    "start_time": "2022-12-18T20:05:12.303Z"
   },
   {
    "duration": 26,
    "start_time": "2022-12-18T20:05:13.312Z"
   },
   {
    "duration": 1189,
    "start_time": "2022-12-18T20:06:32.462Z"
   },
   {
    "duration": 457,
    "start_time": "2022-12-18T20:06:33.653Z"
   },
   {
    "duration": 14,
    "start_time": "2022-12-18T20:06:34.112Z"
   },
   {
    "duration": 53,
    "start_time": "2022-12-18T20:06:34.128Z"
   },
   {
    "duration": 8,
    "start_time": "2022-12-18T20:06:34.183Z"
   },
   {
    "duration": 34,
    "start_time": "2022-12-18T20:06:34.193Z"
   },
   {
    "duration": 42,
    "start_time": "2022-12-18T20:06:34.228Z"
   },
   {
    "duration": 10,
    "start_time": "2022-12-18T20:06:34.271Z"
   },
   {
    "duration": 27,
    "start_time": "2022-12-18T20:06:34.283Z"
   },
   {
    "duration": 58,
    "start_time": "2022-12-18T20:06:34.312Z"
   },
   {
    "duration": 33,
    "start_time": "2022-12-18T20:06:34.372Z"
   },
   {
    "duration": 5,
    "start_time": "2022-12-18T20:06:34.407Z"
   },
   {
    "duration": 25,
    "start_time": "2022-12-18T20:06:34.414Z"
   },
   {
    "duration": 10,
    "start_time": "2022-12-18T20:06:34.440Z"
   },
   {
    "duration": 7,
    "start_time": "2022-12-18T20:06:34.452Z"
   },
   {
    "duration": 38,
    "start_time": "2022-12-18T20:06:34.461Z"
   },
   {
    "duration": 12,
    "start_time": "2022-12-18T20:06:34.500Z"
   },
   {
    "duration": 14,
    "start_time": "2022-12-18T20:06:34.513Z"
   },
   {
    "duration": 126,
    "start_time": "2022-12-18T20:06:34.528Z"
   },
   {
    "duration": 12,
    "start_time": "2022-12-18T20:06:34.656Z"
   },
   {
    "duration": 67,
    "start_time": "2022-12-18T20:06:34.669Z"
   },
   {
    "duration": 4,
    "start_time": "2022-12-18T20:06:34.738Z"
   },
   {
    "duration": 7,
    "start_time": "2022-12-18T20:06:34.744Z"
   },
   {
    "duration": 30,
    "start_time": "2022-12-18T20:06:34.753Z"
   },
   {
    "duration": 16,
    "start_time": "2022-12-18T20:06:34.784Z"
   },
   {
    "duration": 29,
    "start_time": "2022-12-18T20:06:34.801Z"
   },
   {
    "duration": 7,
    "start_time": "2022-12-18T20:06:34.831Z"
   },
   {
    "duration": 27,
    "start_time": "2022-12-18T20:06:34.841Z"
   },
   {
    "duration": 32,
    "start_time": "2022-12-18T20:06:34.869Z"
   },
   {
    "duration": 20,
    "start_time": "2022-12-18T20:06:34.902Z"
   },
   {
    "duration": 9,
    "start_time": "2022-12-18T20:06:34.924Z"
   },
   {
    "duration": 17,
    "start_time": "2022-12-18T20:06:34.935Z"
   },
   {
    "duration": 9,
    "start_time": "2022-12-18T20:06:34.953Z"
   },
   {
    "duration": 109,
    "start_time": "2022-12-18T20:06:34.963Z"
   },
   {
    "duration": 5,
    "start_time": "2022-12-18T20:06:35.074Z"
   },
   {
    "duration": 64,
    "start_time": "2022-12-18T20:06:35.080Z"
   },
   {
    "duration": 345,
    "start_time": "2022-12-18T20:06:35.145Z"
   },
   {
    "duration": 4,
    "start_time": "2022-12-18T20:06:35.496Z"
   },
   {
    "duration": 29,
    "start_time": "2022-12-18T20:06:35.502Z"
   },
   {
    "duration": 239,
    "start_time": "2022-12-18T20:06:35.533Z"
   },
   {
    "duration": 11,
    "start_time": "2022-12-18T20:06:35.774Z"
   },
   {
    "duration": 19,
    "start_time": "2022-12-18T20:06:35.786Z"
   },
   {
    "duration": 15,
    "start_time": "2022-12-18T20:06:35.806Z"
   },
   {
    "duration": 246,
    "start_time": "2022-12-18T20:06:35.822Z"
   },
   {
    "duration": 235,
    "start_time": "2022-12-18T20:06:36.070Z"
   },
   {
    "duration": 294,
    "start_time": "2022-12-18T20:06:36.306Z"
   },
   {
    "duration": 10,
    "start_time": "2022-12-18T20:06:36.602Z"
   },
   {
    "duration": 19,
    "start_time": "2022-12-18T20:06:36.613Z"
   },
   {
    "duration": 9,
    "start_time": "2022-12-18T20:06:36.634Z"
   },
   {
    "duration": 5,
    "start_time": "2022-12-18T20:06:47.324Z"
   },
   {
    "duration": 17,
    "start_time": "2022-12-18T20:06:50.533Z"
   },
   {
    "duration": 20,
    "start_time": "2022-12-18T20:07:12.370Z"
   },
   {
    "duration": 13,
    "start_time": "2022-12-18T20:07:19.698Z"
   },
   {
    "duration": 3,
    "start_time": "2022-12-18T20:07:31.113Z"
   },
   {
    "duration": 16,
    "start_time": "2022-12-18T20:07:34.047Z"
   },
   {
    "duration": 104,
    "start_time": "2022-12-18T20:13:20.764Z"
   },
   {
    "duration": 676,
    "start_time": "2022-12-18T20:13:43.601Z"
   },
   {
    "duration": 3,
    "start_time": "2022-12-18T20:14:06.071Z"
   },
   {
    "duration": 18,
    "start_time": "2022-12-18T20:14:06.853Z"
   },
   {
    "duration": 20,
    "start_time": "2022-12-18T20:14:19.096Z"
   },
   {
    "duration": 12,
    "start_time": "2022-12-18T20:14:36.463Z"
   },
   {
    "duration": 38,
    "start_time": "2022-12-18T20:14:46.852Z"
   },
   {
    "duration": 11,
    "start_time": "2022-12-18T20:15:05.708Z"
   },
   {
    "duration": 34,
    "start_time": "2022-12-18T20:15:11.316Z"
   },
   {
    "duration": 24,
    "start_time": "2022-12-18T20:15:22.214Z"
   },
   {
    "duration": 2,
    "start_time": "2022-12-18T20:15:28.687Z"
   },
   {
    "duration": 21,
    "start_time": "2022-12-18T20:15:36.141Z"
   },
   {
    "duration": 35,
    "start_time": "2022-12-18T20:17:08.131Z"
   },
   {
    "duration": 15,
    "start_time": "2022-12-18T20:17:09.391Z"
   },
   {
    "duration": 3,
    "start_time": "2022-12-18T20:17:52.157Z"
   },
   {
    "duration": 15,
    "start_time": "2022-12-18T20:17:53.177Z"
   },
   {
    "duration": 20,
    "start_time": "2022-12-18T20:17:54.072Z"
   },
   {
    "duration": 13,
    "start_time": "2022-12-18T20:17:59.573Z"
   },
   {
    "duration": 57,
    "start_time": "2022-12-18T20:18:00.976Z"
   },
   {
    "duration": 11,
    "start_time": "2022-12-18T20:18:02.011Z"
   },
   {
    "duration": 41,
    "start_time": "2022-12-18T20:18:03.787Z"
   },
   {
    "duration": 25,
    "start_time": "2022-12-18T20:18:09.671Z"
   },
   {
    "duration": 6,
    "start_time": "2022-12-18T20:18:31.178Z"
   },
   {
    "duration": 28,
    "start_time": "2022-12-18T20:18:32.016Z"
   },
   {
    "duration": 7,
    "start_time": "2022-12-18T20:24:49.421Z"
   },
   {
    "duration": 56,
    "start_time": "2022-12-18T20:24:50.740Z"
   },
   {
    "duration": 390,
    "start_time": "2022-12-18T20:25:06.391Z"
   },
   {
    "duration": 32,
    "start_time": "2022-12-18T20:25:20.621Z"
   },
   {
    "duration": 47,
    "start_time": "2022-12-18T20:26:27.467Z"
   },
   {
    "duration": 6,
    "start_time": "2022-12-18T20:27:03.173Z"
   },
   {
    "duration": 290,
    "start_time": "2022-12-18T20:27:11.094Z"
   },
   {
    "duration": 6,
    "start_time": "2022-12-18T20:32:51.241Z"
   },
   {
    "duration": 8,
    "start_time": "2022-12-18T20:37:00.517Z"
   },
   {
    "duration": 30,
    "start_time": "2022-12-18T20:38:32.627Z"
   },
   {
    "duration": 10,
    "start_time": "2022-12-19T06:03:52.874Z"
   },
   {
    "duration": 1259,
    "start_time": "2022-12-19T06:04:08.117Z"
   },
   {
    "duration": 473,
    "start_time": "2022-12-19T06:04:09.378Z"
   },
   {
    "duration": 14,
    "start_time": "2022-12-19T06:04:09.853Z"
   },
   {
    "duration": 64,
    "start_time": "2022-12-19T06:04:09.869Z"
   },
   {
    "duration": 7,
    "start_time": "2022-12-19T06:04:09.934Z"
   },
   {
    "duration": 26,
    "start_time": "2022-12-19T06:04:09.942Z"
   },
   {
    "duration": 42,
    "start_time": "2022-12-19T06:04:09.969Z"
   },
   {
    "duration": 10,
    "start_time": "2022-12-19T06:04:10.012Z"
   },
   {
    "duration": 19,
    "start_time": "2022-12-19T06:04:10.023Z"
   },
   {
    "duration": 72,
    "start_time": "2022-12-19T06:04:10.045Z"
   },
   {
    "duration": 16,
    "start_time": "2022-12-19T06:04:10.119Z"
   },
   {
    "duration": 6,
    "start_time": "2022-12-19T06:04:10.136Z"
   },
   {
    "duration": 27,
    "start_time": "2022-12-19T06:04:10.143Z"
   },
   {
    "duration": 9,
    "start_time": "2022-12-19T06:04:10.171Z"
   },
   {
    "duration": 33,
    "start_time": "2022-12-19T06:04:10.182Z"
   },
   {
    "duration": 11,
    "start_time": "2022-12-19T06:04:10.216Z"
   },
   {
    "duration": 19,
    "start_time": "2022-12-19T06:04:10.229Z"
   },
   {
    "duration": 17,
    "start_time": "2022-12-19T06:04:10.250Z"
   },
   {
    "duration": 90,
    "start_time": "2022-12-19T06:04:10.268Z"
   },
   {
    "duration": 10,
    "start_time": "2022-12-19T06:04:10.359Z"
   },
   {
    "duration": 54,
    "start_time": "2022-12-19T06:04:10.371Z"
   },
   {
    "duration": 3,
    "start_time": "2022-12-19T06:04:10.426Z"
   },
   {
    "duration": 10,
    "start_time": "2022-12-19T06:04:10.431Z"
   },
   {
    "duration": 20,
    "start_time": "2022-12-19T06:04:10.442Z"
   },
   {
    "duration": 4,
    "start_time": "2022-12-19T06:04:10.463Z"
   },
   {
    "duration": 21,
    "start_time": "2022-12-19T06:04:10.469Z"
   },
   {
    "duration": 27,
    "start_time": "2022-12-19T06:04:10.492Z"
   },
   {
    "duration": 27,
    "start_time": "2022-12-19T06:04:10.523Z"
   },
   {
    "duration": 11,
    "start_time": "2022-12-19T06:04:10.552Z"
   },
   {
    "duration": 28,
    "start_time": "2022-12-19T06:04:10.565Z"
   },
   {
    "duration": 5,
    "start_time": "2022-12-19T06:04:10.595Z"
   },
   {
    "duration": 14,
    "start_time": "2022-12-19T06:04:10.615Z"
   },
   {
    "duration": 10,
    "start_time": "2022-12-19T06:04:10.630Z"
   },
   {
    "duration": 101,
    "start_time": "2022-12-19T06:04:10.641Z"
   },
   {
    "duration": 6,
    "start_time": "2022-12-19T06:04:10.743Z"
   },
   {
    "duration": 67,
    "start_time": "2022-12-19T06:04:10.750Z"
   },
   {
    "duration": 322,
    "start_time": "2022-12-19T06:04:10.818Z"
   },
   {
    "duration": 4,
    "start_time": "2022-12-19T06:04:11.141Z"
   },
   {
    "duration": 31,
    "start_time": "2022-12-19T06:04:11.146Z"
   },
   {
    "duration": 224,
    "start_time": "2022-12-19T06:04:11.179Z"
   },
   {
    "duration": 12,
    "start_time": "2022-12-19T06:04:11.404Z"
   },
   {
    "duration": 11,
    "start_time": "2022-12-19T06:04:11.417Z"
   },
   {
    "duration": 14,
    "start_time": "2022-12-19T06:04:11.429Z"
   },
   {
    "duration": 267,
    "start_time": "2022-12-19T06:04:11.444Z"
   },
   {
    "duration": 217,
    "start_time": "2022-12-19T06:04:11.713Z"
   },
   {
    "duration": 328,
    "start_time": "2022-12-19T06:04:11.932Z"
   },
   {
    "duration": 10,
    "start_time": "2022-12-19T06:04:12.262Z"
   },
   {
    "duration": 15,
    "start_time": "2022-12-19T06:04:12.274Z"
   },
   {
    "duration": 27,
    "start_time": "2022-12-19T06:04:12.291Z"
   },
   {
    "duration": 4,
    "start_time": "2022-12-19T06:04:12.319Z"
   },
   {
    "duration": 19,
    "start_time": "2022-12-19T06:04:12.324Z"
   },
   {
    "duration": 2,
    "start_time": "2022-12-19T06:04:12.344Z"
   },
   {
    "duration": 18,
    "start_time": "2022-12-19T06:04:12.348Z"
   },
   {
    "duration": 22,
    "start_time": "2022-12-19T06:04:12.367Z"
   },
   {
    "duration": 30,
    "start_time": "2022-12-19T06:04:12.391Z"
   },
   {
    "duration": 38,
    "start_time": "2022-12-19T06:04:12.423Z"
   },
   {
    "duration": 11,
    "start_time": "2022-12-19T06:04:12.462Z"
   },
   {
    "duration": 54,
    "start_time": "2022-12-19T06:04:12.475Z"
   },
   {
    "duration": 26,
    "start_time": "2022-12-19T06:04:12.530Z"
   },
   {
    "duration": 6,
    "start_time": "2022-12-19T06:04:12.557Z"
   },
   {
    "duration": 363,
    "start_time": "2022-12-19T06:04:12.564Z"
   },
   {
    "duration": 120,
    "start_time": "2022-12-19T06:04:12.928Z"
   },
   {
    "duration": 0,
    "start_time": "2022-12-19T06:04:13.049Z"
   },
   {
    "duration": 0,
    "start_time": "2022-12-19T06:04:13.050Z"
   },
   {
    "duration": 0,
    "start_time": "2022-12-19T06:04:13.052Z"
   },
   {
    "duration": 0,
    "start_time": "2022-12-19T06:04:13.053Z"
   },
   {
    "duration": 0,
    "start_time": "2022-12-19T06:04:13.054Z"
   },
   {
    "duration": 0,
    "start_time": "2022-12-19T06:04:13.055Z"
   },
   {
    "duration": 0,
    "start_time": "2022-12-19T06:04:13.056Z"
   },
   {
    "duration": 0,
    "start_time": "2022-12-19T06:04:13.058Z"
   },
   {
    "duration": 0,
    "start_time": "2022-12-19T06:04:13.059Z"
   },
   {
    "duration": 0,
    "start_time": "2022-12-19T06:04:13.060Z"
   },
   {
    "duration": 0,
    "start_time": "2022-12-19T06:04:13.061Z"
   },
   {
    "duration": 0,
    "start_time": "2022-12-19T06:04:13.062Z"
   },
   {
    "duration": 0,
    "start_time": "2022-12-19T06:04:13.063Z"
   },
   {
    "duration": 6,
    "start_time": "2022-12-19T06:04:30.042Z"
   },
   {
    "duration": 258,
    "start_time": "2022-12-19T06:04:42.721Z"
   },
   {
    "duration": 10,
    "start_time": "2022-12-19T06:05:11.216Z"
   },
   {
    "duration": 24,
    "start_time": "2022-12-19T06:05:17.593Z"
   },
   {
    "duration": 22,
    "start_time": "2022-12-19T06:08:58.289Z"
   },
   {
    "duration": 16,
    "start_time": "2022-12-19T06:10:51.648Z"
   },
   {
    "duration": 21,
    "start_time": "2022-12-19T06:11:10.576Z"
   },
   {
    "duration": 51,
    "start_time": "2022-12-19T06:13:18.177Z"
   },
   {
    "duration": 40,
    "start_time": "2022-12-19T06:13:24.503Z"
   },
   {
    "duration": 262,
    "start_time": "2022-12-19T06:13:33.363Z"
   },
   {
    "duration": 4,
    "start_time": "2022-12-19T06:16:23.285Z"
   },
   {
    "duration": 24,
    "start_time": "2022-12-19T06:16:23.943Z"
   },
   {
    "duration": 4,
    "start_time": "2022-12-19T06:16:30.967Z"
   },
   {
    "duration": 17,
    "start_time": "2022-12-19T06:16:32.838Z"
   },
   {
    "duration": 98,
    "start_time": "2022-12-19T06:16:39.119Z"
   },
   {
    "duration": 76,
    "start_time": "2022-12-19T06:17:22.829Z"
   },
   {
    "duration": 82,
    "start_time": "2022-12-19T06:17:29.078Z"
   },
   {
    "duration": 66,
    "start_time": "2022-12-19T06:18:10.200Z"
   },
   {
    "duration": 152,
    "start_time": "2022-12-19T06:19:32.167Z"
   },
   {
    "duration": 58,
    "start_time": "2022-12-19T06:22:57.846Z"
   },
   {
    "duration": 71,
    "start_time": "2022-12-19T06:24:17.549Z"
   },
   {
    "duration": 95,
    "start_time": "2022-12-19T06:24:30.571Z"
   },
   {
    "duration": 4,
    "start_time": "2022-12-19T06:24:59.566Z"
   },
   {
    "duration": 24,
    "start_time": "2022-12-19T06:25:00.110Z"
   },
   {
    "duration": 4,
    "start_time": "2022-12-19T06:25:16.485Z"
   },
   {
    "duration": 16,
    "start_time": "2022-12-19T06:25:17.493Z"
   },
   {
    "duration": 23,
    "start_time": "2022-12-19T06:26:30.446Z"
   },
   {
    "duration": 20,
    "start_time": "2022-12-19T06:27:00.917Z"
   },
   {
    "duration": 15,
    "start_time": "2022-12-19T06:27:05.868Z"
   },
   {
    "duration": 48,
    "start_time": "2022-12-19T06:27:05.924Z"
   },
   {
    "duration": 43,
    "start_time": "2022-12-19T06:27:17.511Z"
   },
   {
    "duration": 14,
    "start_time": "2022-12-19T06:27:22.466Z"
   },
   {
    "duration": 35,
    "start_time": "2022-12-19T06:27:22.527Z"
   },
   {
    "duration": 34,
    "start_time": "2022-12-19T06:27:34.959Z"
   },
   {
    "duration": 748,
    "start_time": "2022-12-19T06:27:35.021Z"
   },
   {
    "duration": 3478,
    "start_time": "2022-12-19T06:34:19.112Z"
   },
   {
    "duration": 16,
    "start_time": "2022-12-19T06:35:21.149Z"
   },
   {
    "duration": 37,
    "start_time": "2022-12-19T06:35:22.933Z"
   },
   {
    "duration": 19,
    "start_time": "2022-12-19T06:39:22.307Z"
   },
   {
    "duration": 53,
    "start_time": "2022-12-19T06:39:34.168Z"
   },
   {
    "duration": 18,
    "start_time": "2022-12-19T06:39:34.231Z"
   },
   {
    "duration": 18,
    "start_time": "2022-12-19T06:39:40.369Z"
   },
   {
    "duration": 35,
    "start_time": "2022-12-19T06:39:40.427Z"
   },
   {
    "duration": 26,
    "start_time": "2022-12-19T06:39:43.850Z"
   },
   {
    "duration": 7,
    "start_time": "2022-12-19T06:39:43.923Z"
   },
   {
    "duration": 7,
    "start_time": "2022-12-19T06:44:25.364Z"
   },
   {
    "duration": 72,
    "start_time": "2022-12-19T06:44:26.165Z"
   },
   {
    "duration": 6,
    "start_time": "2022-12-19T06:45:50.429Z"
   },
   {
    "duration": 350,
    "start_time": "2022-12-19T06:45:51.446Z"
   },
   {
    "duration": 341,
    "start_time": "2022-12-19T06:45:55.646Z"
   },
   {
    "duration": 23,
    "start_time": "2022-12-19T06:46:05.358Z"
   },
   {
    "duration": 48,
    "start_time": "2022-12-19T06:47:13.180Z"
   },
   {
    "duration": 7,
    "start_time": "2022-12-19T06:47:22.003Z"
   },
   {
    "duration": 4,
    "start_time": "2022-12-19T06:52:49.573Z"
   },
   {
    "duration": 6,
    "start_time": "2022-12-19T06:52:49.617Z"
   },
   {
    "duration": 7,
    "start_time": "2022-12-19T06:52:50.564Z"
   },
   {
    "duration": 1278,
    "start_time": "2022-12-19T06:53:00.061Z"
   },
   {
    "duration": 535,
    "start_time": "2022-12-19T06:53:01.341Z"
   },
   {
    "duration": 14,
    "start_time": "2022-12-19T06:53:01.878Z"
   },
   {
    "duration": 73,
    "start_time": "2022-12-19T06:53:01.894Z"
   },
   {
    "duration": 8,
    "start_time": "2022-12-19T06:53:01.969Z"
   },
   {
    "duration": 32,
    "start_time": "2022-12-19T06:53:01.978Z"
   },
   {
    "duration": 42,
    "start_time": "2022-12-19T06:53:02.012Z"
   },
   {
    "duration": 11,
    "start_time": "2022-12-19T06:53:02.056Z"
   },
   {
    "duration": 25,
    "start_time": "2022-12-19T06:53:02.069Z"
   },
   {
    "duration": 77,
    "start_time": "2022-12-19T06:53:02.097Z"
   },
   {
    "duration": 17,
    "start_time": "2022-12-19T06:53:02.176Z"
   },
   {
    "duration": 21,
    "start_time": "2022-12-19T06:53:02.195Z"
   },
   {
    "duration": 22,
    "start_time": "2022-12-19T06:53:02.218Z"
   },
   {
    "duration": 10,
    "start_time": "2022-12-19T06:53:02.241Z"
   },
   {
    "duration": 7,
    "start_time": "2022-12-19T06:53:02.253Z"
   },
   {
    "duration": 14,
    "start_time": "2022-12-19T06:53:02.261Z"
   },
   {
    "duration": 39,
    "start_time": "2022-12-19T06:53:02.276Z"
   },
   {
    "duration": 20,
    "start_time": "2022-12-19T06:53:02.317Z"
   },
   {
    "duration": 105,
    "start_time": "2022-12-19T06:53:02.339Z"
   },
   {
    "duration": 10,
    "start_time": "2022-12-19T06:53:02.445Z"
   },
   {
    "duration": 66,
    "start_time": "2022-12-19T06:53:02.457Z"
   },
   {
    "duration": 3,
    "start_time": "2022-12-19T06:53:02.525Z"
   },
   {
    "duration": 7,
    "start_time": "2022-12-19T06:53:02.530Z"
   },
   {
    "duration": 20,
    "start_time": "2022-12-19T06:53:02.539Z"
   },
   {
    "duration": 5,
    "start_time": "2022-12-19T06:53:02.560Z"
   },
   {
    "duration": 26,
    "start_time": "2022-12-19T06:53:02.566Z"
   },
   {
    "duration": 8,
    "start_time": "2022-12-19T06:53:02.616Z"
   },
   {
    "duration": 30,
    "start_time": "2022-12-19T06:53:02.628Z"
   },
   {
    "duration": 14,
    "start_time": "2022-12-19T06:53:02.660Z"
   },
   {
    "duration": 44,
    "start_time": "2022-12-19T06:53:02.675Z"
   },
   {
    "duration": 7,
    "start_time": "2022-12-19T06:53:02.721Z"
   },
   {
    "duration": 18,
    "start_time": "2022-12-19T06:53:02.729Z"
   },
   {
    "duration": 10,
    "start_time": "2022-12-19T06:53:02.748Z"
   },
   {
    "duration": 114,
    "start_time": "2022-12-19T06:53:02.759Z"
   },
   {
    "duration": 5,
    "start_time": "2022-12-19T06:53:02.875Z"
   },
   {
    "duration": 68,
    "start_time": "2022-12-19T06:53:02.881Z"
   },
   {
    "duration": 383,
    "start_time": "2022-12-19T06:53:02.951Z"
   },
   {
    "duration": 3,
    "start_time": "2022-12-19T06:53:03.336Z"
   },
   {
    "duration": 31,
    "start_time": "2022-12-19T06:53:03.341Z"
   },
   {
    "duration": 247,
    "start_time": "2022-12-19T06:53:03.374Z"
   },
   {
    "duration": 11,
    "start_time": "2022-12-19T06:53:03.623Z"
   },
   {
    "duration": 10,
    "start_time": "2022-12-19T06:53:03.636Z"
   },
   {
    "duration": 15,
    "start_time": "2022-12-19T06:53:03.648Z"
   },
   {
    "duration": 282,
    "start_time": "2022-12-19T06:53:03.665Z"
   },
   {
    "duration": 242,
    "start_time": "2022-12-19T06:53:03.949Z"
   },
   {
    "duration": 316,
    "start_time": "2022-12-19T06:53:04.192Z"
   },
   {
    "duration": 15,
    "start_time": "2022-12-19T06:53:04.509Z"
   },
   {
    "duration": 23,
    "start_time": "2022-12-19T06:53:04.526Z"
   },
   {
    "duration": 10,
    "start_time": "2022-12-19T06:53:04.550Z"
   },
   {
    "duration": 5,
    "start_time": "2022-12-19T06:53:08.688Z"
   },
   {
    "duration": 19,
    "start_time": "2022-12-19T06:53:11.276Z"
   },
   {
    "duration": 3,
    "start_time": "2022-12-19T06:53:16.187Z"
   },
   {
    "duration": 3,
    "start_time": "2022-12-19T06:53:40.396Z"
   },
   {
    "duration": 17,
    "start_time": "2022-12-19T06:53:44.844Z"
   },
   {
    "duration": 54,
    "start_time": "2022-12-19T06:54:03.068Z"
   },
   {
    "duration": 21,
    "start_time": "2022-12-19T06:54:13.740Z"
   },
   {
    "duration": 7,
    "start_time": "2022-12-19T06:54:39.069Z"
   },
   {
    "duration": 361,
    "start_time": "2022-12-19T06:54:39.845Z"
   },
   {
    "duration": 129,
    "start_time": "2022-12-19T06:54:41.283Z"
   },
   {
    "duration": 72,
    "start_time": "2022-12-19T06:54:49.220Z"
   },
   {
    "duration": 76,
    "start_time": "2022-12-19T06:55:04.595Z"
   },
   {
    "duration": 8,
    "start_time": "2022-12-19T06:55:57.518Z"
   },
   {
    "duration": 314,
    "start_time": "2022-12-19T06:55:58.848Z"
   },
   {
    "duration": 72,
    "start_time": "2022-12-19T06:56:03.196Z"
   },
   {
    "duration": 0,
    "start_time": "2022-12-19T06:56:03.270Z"
   },
   {
    "duration": 324,
    "start_time": "2022-12-19T06:56:16.851Z"
   },
   {
    "duration": 6,
    "start_time": "2022-12-19T07:02:43.170Z"
   },
   {
    "duration": 308,
    "start_time": "2022-12-19T07:02:47.152Z"
   },
   {
    "duration": 10,
    "start_time": "2022-12-19T07:04:15.539Z"
   },
   {
    "duration": 9,
    "start_time": "2022-12-19T07:04:23.483Z"
   },
   {
    "duration": 3,
    "start_time": "2022-12-19T07:08:50.376Z"
   },
   {
    "duration": 4,
    "start_time": "2022-12-19T07:09:17.226Z"
   },
   {
    "duration": 6,
    "start_time": "2022-12-19T07:09:17.731Z"
   },
   {
    "duration": 1972,
    "start_time": "2022-12-19T07:09:23.299Z"
   },
   {
    "duration": 11,
    "start_time": "2022-12-19T07:13:09.473Z"
   },
   {
    "duration": 8,
    "start_time": "2022-12-19T07:13:21.081Z"
   },
   {
    "duration": 8,
    "start_time": "2022-12-19T07:13:32.729Z"
   },
   {
    "duration": 54,
    "start_time": "2022-12-19T07:14:29.513Z"
   },
   {
    "duration": 8,
    "start_time": "2022-12-19T07:15:16.526Z"
   },
   {
    "duration": 9,
    "start_time": "2022-12-19T07:16:11.883Z"
   },
   {
    "duration": 84,
    "start_time": "2022-12-19T07:16:45.345Z"
   },
   {
    "duration": 12,
    "start_time": "2022-12-19T07:16:55.023Z"
   },
   {
    "duration": 12,
    "start_time": "2022-12-19T07:17:05.176Z"
   },
   {
    "duration": 19,
    "start_time": "2022-12-19T07:19:22.645Z"
   },
   {
    "duration": 7,
    "start_time": "2022-12-19T07:20:25.928Z"
   },
   {
    "duration": 18,
    "start_time": "2022-12-19T07:20:26.840Z"
   },
   {
    "duration": 34,
    "start_time": "2022-12-19T07:20:28.645Z"
   },
   {
    "duration": 6,
    "start_time": "2022-12-19T07:21:21.330Z"
   },
   {
    "duration": 20,
    "start_time": "2022-12-19T07:21:22.119Z"
   },
   {
    "duration": 23,
    "start_time": "2022-12-19T07:21:22.747Z"
   },
   {
    "duration": 6,
    "start_time": "2022-12-19T07:21:44.999Z"
   },
   {
    "duration": 18,
    "start_time": "2022-12-19T07:21:45.687Z"
   },
   {
    "duration": 24,
    "start_time": "2022-12-19T07:21:46.184Z"
   },
   {
    "duration": 9,
    "start_time": "2022-12-19T07:22:06.412Z"
   },
   {
    "duration": 26,
    "start_time": "2022-12-19T07:22:07.008Z"
   },
   {
    "duration": 114,
    "start_time": "2022-12-19T07:22:07.440Z"
   },
   {
    "duration": 4,
    "start_time": "2022-12-19T07:22:28.137Z"
   },
   {
    "duration": 21,
    "start_time": "2022-12-19T07:22:28.832Z"
   },
   {
    "duration": 3,
    "start_time": "2022-12-19T07:22:34.143Z"
   },
   {
    "duration": 28,
    "start_time": "2022-12-19T07:22:35.440Z"
   },
   {
    "duration": 44,
    "start_time": "2022-12-19T07:22:45.533Z"
   },
   {
    "duration": 20,
    "start_time": "2022-12-19T07:22:48.248Z"
   },
   {
    "duration": 62,
    "start_time": "2022-12-19T07:22:53.576Z"
   },
   {
    "duration": 20,
    "start_time": "2022-12-19T07:22:54.375Z"
   },
   {
    "duration": 37,
    "start_time": "2022-12-19T07:22:55.222Z"
   },
   {
    "duration": 27,
    "start_time": "2022-12-19T07:22:55.264Z"
   },
   {
    "duration": 8,
    "start_time": "2022-12-19T07:23:02.790Z"
   },
   {
    "duration": 25,
    "start_time": "2022-12-19T07:23:02.838Z"
   },
   {
    "duration": 8,
    "start_time": "2022-12-19T07:23:35.880Z"
   },
   {
    "duration": 16,
    "start_time": "2022-12-19T07:23:47.150Z"
   },
   {
    "duration": 18,
    "start_time": "2022-12-19T07:24:02.088Z"
   },
   {
    "duration": 8,
    "start_time": "2022-12-19T07:24:12.944Z"
   },
   {
    "duration": 7,
    "start_time": "2022-12-19T07:25:34.989Z"
   },
   {
    "duration": 9,
    "start_time": "2022-12-19T07:25:35.471Z"
   },
   {
    "duration": 353,
    "start_time": "2022-12-19T07:25:38.551Z"
   },
   {
    "duration": 10,
    "start_time": "2022-12-19T07:25:50.344Z"
   },
   {
    "duration": 18,
    "start_time": "2022-12-19T07:26:01.505Z"
   },
   {
    "duration": 12,
    "start_time": "2022-12-19T07:26:08.871Z"
   },
   {
    "duration": 9,
    "start_time": "2022-12-19T07:26:19.909Z"
   },
   {
    "duration": 7,
    "start_time": "2022-12-19T07:27:42.583Z"
   },
   {
    "duration": 9,
    "start_time": "2022-12-19T07:27:43.302Z"
   },
   {
    "duration": 9,
    "start_time": "2022-12-19T07:28:44.456Z"
   },
   {
    "duration": 7,
    "start_time": "2022-12-19T07:29:59.807Z"
   },
   {
    "duration": 12,
    "start_time": "2022-12-19T07:30:10.919Z"
   },
   {
    "duration": 11,
    "start_time": "2022-12-19T07:30:26.335Z"
   },
   {
    "duration": 7,
    "start_time": "2022-12-19T07:30:35.798Z"
   },
   {
    "duration": 8,
    "start_time": "2022-12-19T07:30:36.999Z"
   },
   {
    "duration": 15,
    "start_time": "2022-12-19T07:30:44.579Z"
   },
   {
    "duration": 1166,
    "start_time": "2022-12-19T07:31:28.646Z"
   },
   {
    "duration": 117,
    "start_time": "2022-12-19T07:31:29.816Z"
   },
   {
    "duration": 15,
    "start_time": "2022-12-19T07:31:29.935Z"
   },
   {
    "duration": 18,
    "start_time": "2022-12-19T07:31:29.953Z"
   },
   {
    "duration": 7,
    "start_time": "2022-12-19T07:31:29.973Z"
   },
   {
    "duration": 41,
    "start_time": "2022-12-19T07:31:29.982Z"
   },
   {
    "duration": 44,
    "start_time": "2022-12-19T07:31:30.025Z"
   },
   {
    "duration": 26,
    "start_time": "2022-12-19T07:31:30.071Z"
   },
   {
    "duration": 34,
    "start_time": "2022-12-19T07:31:30.099Z"
   },
   {
    "duration": 77,
    "start_time": "2022-12-19T07:31:30.137Z"
   },
   {
    "duration": 19,
    "start_time": "2022-12-19T07:31:30.216Z"
   },
   {
    "duration": 29,
    "start_time": "2022-12-19T07:31:30.237Z"
   },
   {
    "duration": 60,
    "start_time": "2022-12-19T07:31:30.268Z"
   },
   {
    "duration": 32,
    "start_time": "2022-12-19T07:31:30.330Z"
   },
   {
    "duration": 75,
    "start_time": "2022-12-19T07:31:30.364Z"
   },
   {
    "duration": 79,
    "start_time": "2022-12-19T07:31:30.441Z"
   },
   {
    "duration": 59,
    "start_time": "2022-12-19T07:31:30.521Z"
   },
   {
    "duration": 66,
    "start_time": "2022-12-19T07:31:30.582Z"
   },
   {
    "duration": 108,
    "start_time": "2022-12-19T07:31:30.649Z"
   },
   {
    "duration": 11,
    "start_time": "2022-12-19T07:31:30.758Z"
   },
   {
    "duration": 100,
    "start_time": "2022-12-19T07:31:30.771Z"
   },
   {
    "duration": 3,
    "start_time": "2022-12-19T07:31:30.873Z"
   },
   {
    "duration": 43,
    "start_time": "2022-12-19T07:31:30.878Z"
   },
   {
    "duration": 53,
    "start_time": "2022-12-19T07:31:30.922Z"
   },
   {
    "duration": 37,
    "start_time": "2022-12-19T07:31:30.977Z"
   },
   {
    "duration": 51,
    "start_time": "2022-12-19T07:31:31.016Z"
   },
   {
    "duration": 36,
    "start_time": "2022-12-19T07:31:31.069Z"
   },
   {
    "duration": 45,
    "start_time": "2022-12-19T07:31:31.109Z"
   },
   {
    "duration": 13,
    "start_time": "2022-12-19T07:31:31.155Z"
   },
   {
    "duration": 49,
    "start_time": "2022-12-19T07:31:31.170Z"
   },
   {
    "duration": 39,
    "start_time": "2022-12-19T07:31:31.220Z"
   },
   {
    "duration": 21,
    "start_time": "2022-12-19T07:31:31.260Z"
   },
   {
    "duration": 26,
    "start_time": "2022-12-19T07:31:31.283Z"
   },
   {
    "duration": 112,
    "start_time": "2022-12-19T07:31:31.311Z"
   },
   {
    "duration": 6,
    "start_time": "2022-12-19T07:31:31.425Z"
   },
   {
    "duration": 75,
    "start_time": "2022-12-19T07:31:31.433Z"
   },
   {
    "duration": 368,
    "start_time": "2022-12-19T07:31:31.509Z"
   },
   {
    "duration": 5,
    "start_time": "2022-12-19T07:31:31.879Z"
   },
   {
    "duration": 40,
    "start_time": "2022-12-19T07:31:31.886Z"
   },
   {
    "duration": 275,
    "start_time": "2022-12-19T07:31:31.928Z"
   },
   {
    "duration": 22,
    "start_time": "2022-12-19T07:31:32.205Z"
   },
   {
    "duration": 11,
    "start_time": "2022-12-19T07:31:32.229Z"
   },
   {
    "duration": 21,
    "start_time": "2022-12-19T07:31:32.242Z"
   },
   {
    "duration": 307,
    "start_time": "2022-12-19T07:31:32.265Z"
   },
   {
    "duration": 254,
    "start_time": "2022-12-19T07:31:32.574Z"
   },
   {
    "duration": 334,
    "start_time": "2022-12-19T07:31:32.829Z"
   },
   {
    "duration": 12,
    "start_time": "2022-12-19T07:31:33.164Z"
   },
   {
    "duration": 23,
    "start_time": "2022-12-19T07:31:33.177Z"
   },
   {
    "duration": 23,
    "start_time": "2022-12-19T07:31:33.202Z"
   },
   {
    "duration": 4,
    "start_time": "2022-12-19T07:31:35.956Z"
   },
   {
    "duration": 21,
    "start_time": "2022-12-19T07:31:37.910Z"
   },
   {
    "duration": 4,
    "start_time": "2022-12-19T07:31:39.989Z"
   },
   {
    "duration": 19,
    "start_time": "2022-12-19T07:31:41.070Z"
   },
   {
    "duration": 56,
    "start_time": "2022-12-19T07:31:45.286Z"
   },
   {
    "duration": 19,
    "start_time": "2022-12-19T07:31:47.702Z"
   },
   {
    "duration": 7,
    "start_time": "2022-12-19T07:31:56.620Z"
   },
   {
    "duration": 106,
    "start_time": "2022-12-19T07:31:58.230Z"
   },
   {
    "duration": 15,
    "start_time": "2022-12-19T07:32:08.432Z"
   },
   {
    "duration": 9,
    "start_time": "2022-12-19T07:32:19.014Z"
   },
   {
    "duration": 10,
    "start_time": "2022-12-19T07:33:39.686Z"
   },
   {
    "duration": 10,
    "start_time": "2022-12-19T07:33:55.950Z"
   },
   {
    "duration": 60,
    "start_time": "2022-12-19T07:34:26.078Z"
   },
   {
    "duration": 19,
    "start_time": "2022-12-19T07:34:26.923Z"
   },
   {
    "duration": 37,
    "start_time": "2022-12-19T07:34:26.966Z"
   },
   {
    "duration": 10,
    "start_time": "2022-12-19T07:34:28.022Z"
   },
   {
    "duration": 37,
    "start_time": "2022-12-19T07:42:31.580Z"
   },
   {
    "duration": 74,
    "start_time": "2022-12-19T07:42:33.846Z"
   },
   {
    "duration": 10,
    "start_time": "2022-12-19T07:42:44.169Z"
   },
   {
    "duration": 10,
    "start_time": "2022-12-19T07:43:27.395Z"
   },
   {
    "duration": 10,
    "start_time": "2022-12-19T07:46:44.828Z"
   },
   {
    "duration": 15,
    "start_time": "2022-12-19T07:47:05.646Z"
   },
   {
    "duration": 41,
    "start_time": "2022-12-19T07:47:18.534Z"
   },
   {
    "duration": 1171,
    "start_time": "2022-12-19T07:53:31.610Z"
   },
   {
    "duration": 102,
    "start_time": "2022-12-19T07:53:32.783Z"
   },
   {
    "duration": 13,
    "start_time": "2022-12-19T07:53:32.887Z"
   },
   {
    "duration": 20,
    "start_time": "2022-12-19T07:53:32.902Z"
   },
   {
    "duration": 6,
    "start_time": "2022-12-19T07:53:32.924Z"
   },
   {
    "duration": 25,
    "start_time": "2022-12-19T07:53:32.932Z"
   },
   {
    "duration": 40,
    "start_time": "2022-12-19T07:53:32.958Z"
   },
   {
    "duration": 20,
    "start_time": "2022-12-19T07:53:32.999Z"
   },
   {
    "duration": 22,
    "start_time": "2022-12-19T07:53:33.021Z"
   },
   {
    "duration": 55,
    "start_time": "2022-12-19T07:53:33.045Z"
   },
   {
    "duration": 29,
    "start_time": "2022-12-19T07:53:33.101Z"
   },
   {
    "duration": 6,
    "start_time": "2022-12-19T07:53:33.131Z"
   },
   {
    "duration": 22,
    "start_time": "2022-12-19T07:53:33.138Z"
   },
   {
    "duration": 9,
    "start_time": "2022-12-19T07:53:33.161Z"
   },
   {
    "duration": 9,
    "start_time": "2022-12-19T07:53:33.172Z"
   },
   {
    "duration": 37,
    "start_time": "2022-12-19T07:53:33.182Z"
   },
   {
    "duration": 10,
    "start_time": "2022-12-19T07:53:33.221Z"
   },
   {
    "duration": 11,
    "start_time": "2022-12-19T07:53:33.232Z"
   },
   {
    "duration": 94,
    "start_time": "2022-12-19T07:53:33.244Z"
   },
   {
    "duration": 9,
    "start_time": "2022-12-19T07:53:33.340Z"
   },
   {
    "duration": 40,
    "start_time": "2022-12-19T07:53:33.351Z"
   },
   {
    "duration": 23,
    "start_time": "2022-12-19T07:53:33.393Z"
   },
   {
    "duration": 4,
    "start_time": "2022-12-19T07:53:33.417Z"
   },
   {
    "duration": 23,
    "start_time": "2022-12-19T07:53:33.422Z"
   },
   {
    "duration": 4,
    "start_time": "2022-12-19T07:53:33.447Z"
   },
   {
    "duration": 35,
    "start_time": "2022-12-19T07:53:33.452Z"
   },
   {
    "duration": 8,
    "start_time": "2022-12-19T07:53:33.488Z"
   },
   {
    "duration": 27,
    "start_time": "2022-12-19T07:53:33.515Z"
   },
   {
    "duration": 11,
    "start_time": "2022-12-19T07:53:33.544Z"
   },
   {
    "duration": 18,
    "start_time": "2022-12-19T07:53:33.556Z"
   },
   {
    "duration": 6,
    "start_time": "2022-12-19T07:53:33.575Z"
   },
   {
    "duration": 36,
    "start_time": "2022-12-19T07:53:33.583Z"
   },
   {
    "duration": 10,
    "start_time": "2022-12-19T07:53:33.620Z"
   },
   {
    "duration": 99,
    "start_time": "2022-12-19T07:53:33.632Z"
   },
   {
    "duration": 5,
    "start_time": "2022-12-19T07:53:33.732Z"
   },
   {
    "duration": 51,
    "start_time": "2022-12-19T07:53:33.739Z"
   },
   {
    "duration": 356,
    "start_time": "2022-12-19T07:53:33.792Z"
   },
   {
    "duration": 4,
    "start_time": "2022-12-19T07:53:34.150Z"
   },
   {
    "duration": 29,
    "start_time": "2022-12-19T07:53:34.155Z"
   },
   {
    "duration": 219,
    "start_time": "2022-12-19T07:53:34.186Z"
   },
   {
    "duration": 17,
    "start_time": "2022-12-19T07:53:34.407Z"
   },
   {
    "duration": 11,
    "start_time": "2022-12-19T07:53:34.426Z"
   },
   {
    "duration": 15,
    "start_time": "2022-12-19T07:53:34.438Z"
   },
   {
    "duration": 234,
    "start_time": "2022-12-19T07:53:34.454Z"
   },
   {
    "duration": 235,
    "start_time": "2022-12-19T07:53:34.690Z"
   },
   {
    "duration": 299,
    "start_time": "2022-12-19T07:53:34.927Z"
   },
   {
    "duration": 10,
    "start_time": "2022-12-19T07:53:35.227Z"
   },
   {
    "duration": 25,
    "start_time": "2022-12-19T07:53:35.239Z"
   },
   {
    "duration": 12,
    "start_time": "2022-12-19T07:53:35.265Z"
   },
   {
    "duration": 4,
    "start_time": "2022-12-19T07:53:35.279Z"
   },
   {
    "duration": 32,
    "start_time": "2022-12-19T07:53:35.285Z"
   },
   {
    "duration": 6,
    "start_time": "2022-12-19T07:53:35.319Z"
   },
   {
    "duration": 4,
    "start_time": "2022-12-19T07:53:38.493Z"
   },
   {
    "duration": 8,
    "start_time": "2022-12-19T07:54:39.085Z"
   },
   {
    "duration": 3,
    "start_time": "2022-12-19T07:54:56.122Z"
   },
   {
    "duration": 6,
    "start_time": "2022-12-19T07:54:56.170Z"
   },
   {
    "duration": 6,
    "start_time": "2022-12-19T07:55:00.755Z"
   },
   {
    "duration": 176,
    "start_time": "2022-12-19T07:55:05.293Z"
   },
   {
    "duration": 11,
    "start_time": "2022-12-19T07:59:24.660Z"
   },
   {
    "duration": 14,
    "start_time": "2022-12-19T07:59:40.254Z"
   },
   {
    "duration": 9,
    "start_time": "2022-12-19T07:59:58.220Z"
   },
   {
    "duration": 10,
    "start_time": "2022-12-19T08:00:11.979Z"
   },
   {
    "duration": 8,
    "start_time": "2022-12-19T08:00:20.133Z"
   },
   {
    "duration": 8,
    "start_time": "2022-12-19T08:00:45.970Z"
   },
   {
    "duration": 12,
    "start_time": "2022-12-19T08:00:53.467Z"
   },
   {
    "duration": 12,
    "start_time": "2022-12-19T08:01:02.993Z"
   },
   {
    "duration": 11,
    "start_time": "2022-12-19T08:01:16.855Z"
   },
   {
    "duration": 22,
    "start_time": "2022-12-19T08:02:30.310Z"
   },
   {
    "duration": 26,
    "start_time": "2022-12-19T08:02:55.452Z"
   },
   {
    "duration": 19,
    "start_time": "2022-12-19T08:02:56.996Z"
   },
   {
    "duration": 3,
    "start_time": "2022-12-19T08:03:00.179Z"
   },
   {
    "duration": 7,
    "start_time": "2022-12-19T08:03:04.532Z"
   },
   {
    "duration": 3,
    "start_time": "2022-12-19T08:03:12.897Z"
   },
   {
    "duration": 5,
    "start_time": "2022-12-19T08:03:14.546Z"
   },
   {
    "duration": 1154,
    "start_time": "2022-12-19T08:03:21.077Z"
   },
   {
    "duration": 53,
    "start_time": "2022-12-19T08:06:06.420Z"
   },
   {
    "duration": 7,
    "start_time": "2022-12-19T08:06:42.796Z"
   },
   {
    "duration": 2,
    "start_time": "2022-12-19T08:06:43.691Z"
   },
   {
    "duration": 5,
    "start_time": "2022-12-19T08:06:45.587Z"
   },
   {
    "duration": 50,
    "start_time": "2022-12-19T08:06:56.209Z"
   },
   {
    "duration": 1503,
    "start_time": "2022-12-19T08:10:18.197Z"
   },
   {
    "duration": 20,
    "start_time": "2022-12-19T08:10:34.170Z"
   },
   {
    "duration": 43,
    "start_time": "2022-12-19T08:10:59.363Z"
   },
   {
    "duration": 8,
    "start_time": "2022-12-19T08:11:26.578Z"
   },
   {
    "duration": 8,
    "start_time": "2022-12-19T08:12:35.210Z"
   },
   {
    "duration": 8,
    "start_time": "2022-12-19T08:12:53.019Z"
   },
   {
    "duration": 49,
    "start_time": "2022-12-19T08:16:05.210Z"
   },
   {
    "duration": 4,
    "start_time": "2022-12-19T08:16:15.978Z"
   },
   {
    "duration": 5,
    "start_time": "2022-12-19T08:16:17.186Z"
   },
   {
    "duration": 44,
    "start_time": "2022-12-19T08:16:22.531Z"
   },
   {
    "duration": 9,
    "start_time": "2022-12-19T08:16:26.722Z"
   },
   {
    "duration": 8,
    "start_time": "2022-12-19T08:16:39.312Z"
   },
   {
    "duration": 44,
    "start_time": "2022-12-19T08:17:18.874Z"
   },
   {
    "duration": 45,
    "start_time": "2022-12-19T08:18:07.747Z"
   },
   {
    "duration": 1210,
    "start_time": "2022-12-19T09:56:13.276Z"
   },
   {
    "duration": 470,
    "start_time": "2022-12-19T09:56:14.488Z"
   },
   {
    "duration": 15,
    "start_time": "2022-12-19T09:56:14.959Z"
   },
   {
    "duration": 64,
    "start_time": "2022-12-19T09:56:14.976Z"
   },
   {
    "duration": 7,
    "start_time": "2022-12-19T09:56:15.043Z"
   },
   {
    "duration": 26,
    "start_time": "2022-12-19T09:56:15.052Z"
   },
   {
    "duration": 42,
    "start_time": "2022-12-19T09:56:15.080Z"
   },
   {
    "duration": 10,
    "start_time": "2022-12-19T09:56:15.123Z"
   },
   {
    "duration": 19,
    "start_time": "2022-12-19T09:56:15.134Z"
   },
   {
    "duration": 71,
    "start_time": "2022-12-19T09:56:15.155Z"
   },
   {
    "duration": 17,
    "start_time": "2022-12-19T09:56:15.227Z"
   },
   {
    "duration": 6,
    "start_time": "2022-12-19T09:56:15.245Z"
   },
   {
    "duration": 28,
    "start_time": "2022-12-19T09:56:15.253Z"
   },
   {
    "duration": 35,
    "start_time": "2022-12-19T09:56:15.284Z"
   },
   {
    "duration": 11,
    "start_time": "2022-12-19T09:56:15.321Z"
   },
   {
    "duration": 16,
    "start_time": "2022-12-19T09:56:15.333Z"
   },
   {
    "duration": 15,
    "start_time": "2022-12-19T09:56:15.350Z"
   },
   {
    "duration": 16,
    "start_time": "2022-12-19T09:56:15.366Z"
   },
   {
    "duration": 110,
    "start_time": "2022-12-19T09:56:15.383Z"
   },
   {
    "duration": 26,
    "start_time": "2022-12-19T09:56:15.495Z"
   },
   {
    "duration": 45,
    "start_time": "2022-12-19T09:56:15.522Z"
   },
   {
    "duration": 4,
    "start_time": "2022-12-19T09:56:15.568Z"
   },
   {
    "duration": 7,
    "start_time": "2022-12-19T09:56:15.574Z"
   },
   {
    "duration": 44,
    "start_time": "2022-12-19T09:56:15.583Z"
   },
   {
    "duration": 6,
    "start_time": "2022-12-19T09:56:15.628Z"
   },
   {
    "duration": 25,
    "start_time": "2022-12-19T09:56:15.635Z"
   },
   {
    "duration": 6,
    "start_time": "2022-12-19T09:56:15.662Z"
   },
   {
    "duration": 53,
    "start_time": "2022-12-19T09:56:15.670Z"
   },
   {
    "duration": 12,
    "start_time": "2022-12-19T09:56:15.724Z"
   },
   {
    "duration": 17,
    "start_time": "2022-12-19T09:56:15.738Z"
   },
   {
    "duration": 9,
    "start_time": "2022-12-19T09:56:15.756Z"
   },
   {
    "duration": 18,
    "start_time": "2022-12-19T09:56:15.767Z"
   },
   {
    "duration": 31,
    "start_time": "2022-12-19T09:56:15.786Z"
   },
   {
    "duration": 102,
    "start_time": "2022-12-19T09:56:15.818Z"
   },
   {
    "duration": 6,
    "start_time": "2022-12-19T09:56:15.921Z"
   },
   {
    "duration": 61,
    "start_time": "2022-12-19T09:56:15.928Z"
   },
   {
    "duration": 382,
    "start_time": "2022-12-19T09:56:15.991Z"
   },
   {
    "duration": 4,
    "start_time": "2022-12-19T09:56:16.375Z"
   },
   {
    "duration": 35,
    "start_time": "2022-12-19T09:56:16.381Z"
   },
   {
    "duration": 259,
    "start_time": "2022-12-19T09:56:16.418Z"
   },
   {
    "duration": 15,
    "start_time": "2022-12-19T09:56:16.682Z"
   },
   {
    "duration": 27,
    "start_time": "2022-12-19T09:56:16.699Z"
   },
   {
    "duration": 19,
    "start_time": "2022-12-19T09:56:16.728Z"
   },
   {
    "duration": 274,
    "start_time": "2022-12-19T09:56:16.749Z"
   },
   {
    "duration": 247,
    "start_time": "2022-12-19T09:56:17.025Z"
   },
   {
    "duration": 306,
    "start_time": "2022-12-19T09:56:17.274Z"
   },
   {
    "duration": 12,
    "start_time": "2022-12-19T09:56:17.582Z"
   },
   {
    "duration": 32,
    "start_time": "2022-12-19T09:56:17.596Z"
   },
   {
    "duration": 12,
    "start_time": "2022-12-19T09:56:17.629Z"
   },
   {
    "duration": 10,
    "start_time": "2022-12-19T09:56:17.643Z"
   },
   {
    "duration": 24,
    "start_time": "2022-12-19T09:56:17.654Z"
   },
   {
    "duration": 37,
    "start_time": "2022-12-19T09:56:17.679Z"
   },
   {
    "duration": 26,
    "start_time": "2022-12-19T09:56:17.717Z"
   },
   {
    "duration": 15,
    "start_time": "2022-12-19T09:56:17.744Z"
   },
   {
    "duration": 19,
    "start_time": "2022-12-19T09:56:17.761Z"
   },
   {
    "duration": 17,
    "start_time": "2022-12-19T09:56:17.782Z"
   },
   {
    "duration": 20,
    "start_time": "2022-12-19T09:56:17.800Z"
   },
   {
    "duration": 446,
    "start_time": "2022-12-19T09:56:17.822Z"
   },
   {
    "duration": 147,
    "start_time": "2022-12-19T09:56:18.269Z"
   },
   {
    "duration": 0,
    "start_time": "2022-12-19T09:56:18.417Z"
   },
   {
    "duration": 0,
    "start_time": "2022-12-19T09:56:18.418Z"
   },
   {
    "duration": 0,
    "start_time": "2022-12-19T09:56:18.419Z"
   },
   {
    "duration": 0,
    "start_time": "2022-12-19T09:56:18.420Z"
   },
   {
    "duration": 0,
    "start_time": "2022-12-19T09:56:18.421Z"
   },
   {
    "duration": 0,
    "start_time": "2022-12-19T09:56:18.422Z"
   },
   {
    "duration": 0,
    "start_time": "2022-12-19T09:56:18.423Z"
   },
   {
    "duration": 2,
    "start_time": "2022-12-19T10:01:51.713Z"
   },
   {
    "duration": 8,
    "start_time": "2022-12-19T10:01:52.224Z"
   },
   {
    "duration": 3,
    "start_time": "2022-12-19T10:01:52.804Z"
   },
   {
    "duration": 6,
    "start_time": "2022-12-19T10:01:53.033Z"
   },
   {
    "duration": 457,
    "start_time": "2022-12-19T10:01:53.307Z"
   },
   {
    "duration": 3,
    "start_time": "2022-12-19T10:02:03.744Z"
   },
   {
    "duration": 7,
    "start_time": "2022-12-19T10:02:04.693Z"
   },
   {
    "duration": 16,
    "start_time": "2022-12-19T10:02:04.702Z"
   },
   {
    "duration": 7,
    "start_time": "2022-12-19T10:02:04.719Z"
   },
   {
    "duration": 411,
    "start_time": "2022-12-19T10:02:04.946Z"
   },
   {
    "duration": 43,
    "start_time": "2022-12-19T10:02:07.880Z"
   },
   {
    "duration": 14,
    "start_time": "2022-12-19T10:04:01.634Z"
   },
   {
    "duration": 10,
    "start_time": "2022-12-19T10:04:08.346Z"
   },
   {
    "duration": 9,
    "start_time": "2022-12-19T10:05:41.875Z"
   },
   {
    "duration": 8,
    "start_time": "2022-12-19T10:06:00.460Z"
   },
   {
    "duration": 51,
    "start_time": "2022-12-19T10:09:10.115Z"
   },
   {
    "duration": 44,
    "start_time": "2022-12-19T10:09:52.436Z"
   },
   {
    "duration": 13,
    "start_time": "2022-12-19T10:15:35.096Z"
   },
   {
    "duration": 15,
    "start_time": "2022-12-19T10:15:50.628Z"
   },
   {
    "duration": 29,
    "start_time": "2022-12-19T10:16:10.977Z"
   },
   {
    "duration": 29,
    "start_time": "2022-12-19T10:18:03.094Z"
   },
   {
    "duration": 28,
    "start_time": "2022-12-19T10:18:35.059Z"
   },
   {
    "duration": 35,
    "start_time": "2022-12-19T10:18:51.483Z"
   },
   {
    "duration": 36,
    "start_time": "2022-12-19T10:19:34.203Z"
   },
   {
    "duration": 41,
    "start_time": "2022-12-19T10:19:52.595Z"
   },
   {
    "duration": 19,
    "start_time": "2022-12-19T10:28:54.601Z"
   },
   {
    "duration": 32,
    "start_time": "2022-12-19T10:29:07.914Z"
   },
   {
    "duration": 25,
    "start_time": "2022-12-19T10:29:08.036Z"
   },
   {
    "duration": 45,
    "start_time": "2022-12-19T10:30:41.350Z"
   },
   {
    "duration": 52,
    "start_time": "2022-12-19T10:31:22.755Z"
   },
   {
    "duration": 56,
    "start_time": "2022-12-19T10:31:30.152Z"
   },
   {
    "duration": 16,
    "start_time": "2022-12-19T10:31:47.858Z"
   },
   {
    "duration": 17,
    "start_time": "2022-12-19T10:32:00.234Z"
   },
   {
    "duration": 16,
    "start_time": "2022-12-19T10:32:38.614Z"
   },
   {
    "duration": 4,
    "start_time": "2022-12-19T10:33:58.345Z"
   },
   {
    "duration": 51,
    "start_time": "2022-12-19T10:34:22.023Z"
   },
   {
    "duration": 7,
    "start_time": "2022-12-19T10:34:23.938Z"
   },
   {
    "duration": 3,
    "start_time": "2022-12-19T10:34:29.685Z"
   },
   {
    "duration": 6,
    "start_time": "2022-12-19T10:34:31.179Z"
   },
   {
    "duration": 9,
    "start_time": "2022-12-19T10:34:37.003Z"
   },
   {
    "duration": 9,
    "start_time": "2022-12-19T10:34:38.153Z"
   },
   {
    "duration": 13,
    "start_time": "2022-12-19T10:34:39.500Z"
   },
   {
    "duration": 469,
    "start_time": "2022-12-19T10:34:46.361Z"
   },
   {
    "duration": 15,
    "start_time": "2022-12-19T10:45:44.641Z"
   },
   {
    "duration": 2,
    "start_time": "2022-12-19T10:46:03.456Z"
   },
   {
    "duration": 7,
    "start_time": "2022-12-19T10:46:07.387Z"
   },
   {
    "duration": 2,
    "start_time": "2022-12-19T10:46:08.096Z"
   },
   {
    "duration": 8,
    "start_time": "2022-12-19T10:46:08.632Z"
   },
   {
    "duration": 18,
    "start_time": "2022-12-19T10:46:10.919Z"
   },
   {
    "duration": 21,
    "start_time": "2022-12-19T10:46:13.395Z"
   },
   {
    "duration": 12,
    "start_time": "2022-12-19T10:46:14.600Z"
   },
   {
    "duration": 10,
    "start_time": "2022-12-19T10:46:25.212Z"
   },
   {
    "duration": 13,
    "start_time": "2022-12-19T10:46:42.815Z"
   },
   {
    "duration": 47,
    "start_time": "2022-12-19T10:46:46.497Z"
   },
   {
    "duration": 3,
    "start_time": "2022-12-19T10:47:19.255Z"
   },
   {
    "duration": 44,
    "start_time": "2022-12-19T10:47:25.803Z"
   },
   {
    "duration": 11,
    "start_time": "2022-12-19T10:47:26.561Z"
   },
   {
    "duration": 4,
    "start_time": "2022-12-19T10:47:28.015Z"
   },
   {
    "duration": 6,
    "start_time": "2022-12-19T10:47:28.207Z"
   },
   {
    "duration": 25,
    "start_time": "2022-12-19T10:47:31.407Z"
   },
   {
    "duration": 19,
    "start_time": "2022-12-19T10:47:38.335Z"
   },
   {
    "duration": 9,
    "start_time": "2022-12-19T10:59:07.260Z"
   },
   {
    "duration": 51,
    "start_time": "2022-12-19T11:01:27.800Z"
   },
   {
    "duration": 58,
    "start_time": "2022-12-19T11:01:39.015Z"
   },
   {
    "duration": 51,
    "start_time": "2022-12-19T11:02:54.835Z"
   },
   {
    "duration": 1251,
    "start_time": "2022-12-19T11:03:12.531Z"
   },
   {
    "duration": 168,
    "start_time": "2022-12-19T11:03:13.784Z"
   },
   {
    "duration": 14,
    "start_time": "2022-12-19T11:03:13.953Z"
   },
   {
    "duration": 20,
    "start_time": "2022-12-19T11:03:13.969Z"
   },
   {
    "duration": 8,
    "start_time": "2022-12-19T11:03:13.990Z"
   },
   {
    "duration": 48,
    "start_time": "2022-12-19T11:03:14.000Z"
   },
   {
    "duration": 44,
    "start_time": "2022-12-19T11:03:14.050Z"
   },
   {
    "duration": 28,
    "start_time": "2022-12-19T11:03:14.095Z"
   },
   {
    "duration": 22,
    "start_time": "2022-12-19T11:03:14.126Z"
   },
   {
    "duration": 81,
    "start_time": "2022-12-19T11:03:14.151Z"
   },
   {
    "duration": 19,
    "start_time": "2022-12-19T11:03:14.233Z"
   },
   {
    "duration": 7,
    "start_time": "2022-12-19T11:03:14.253Z"
   },
   {
    "duration": 36,
    "start_time": "2022-12-19T11:03:14.261Z"
   },
   {
    "duration": 28,
    "start_time": "2022-12-19T11:03:14.299Z"
   },
   {
    "duration": 20,
    "start_time": "2022-12-19T11:03:14.329Z"
   },
   {
    "duration": 27,
    "start_time": "2022-12-19T11:03:14.350Z"
   },
   {
    "duration": 15,
    "start_time": "2022-12-19T11:03:14.379Z"
   },
   {
    "duration": 30,
    "start_time": "2022-12-19T11:03:14.396Z"
   },
   {
    "duration": 104,
    "start_time": "2022-12-19T11:03:14.428Z"
   },
   {
    "duration": 9,
    "start_time": "2022-12-19T11:03:14.534Z"
   },
   {
    "duration": 61,
    "start_time": "2022-12-19T11:03:14.545Z"
   },
   {
    "duration": 4,
    "start_time": "2022-12-19T11:03:14.607Z"
   },
   {
    "duration": 14,
    "start_time": "2022-12-19T11:03:14.612Z"
   },
   {
    "duration": 37,
    "start_time": "2022-12-19T11:03:14.627Z"
   },
   {
    "duration": 4,
    "start_time": "2022-12-19T11:03:14.665Z"
   },
   {
    "duration": 28,
    "start_time": "2022-12-19T11:03:14.671Z"
   },
   {
    "duration": 8,
    "start_time": "2022-12-19T11:03:14.701Z"
   },
   {
    "duration": 34,
    "start_time": "2022-12-19T11:03:14.717Z"
   },
   {
    "duration": 14,
    "start_time": "2022-12-19T11:03:14.753Z"
   },
   {
    "duration": 20,
    "start_time": "2022-12-19T11:03:14.769Z"
   },
   {
    "duration": 35,
    "start_time": "2022-12-19T11:03:14.791Z"
   },
   {
    "duration": 18,
    "start_time": "2022-12-19T11:03:14.827Z"
   },
   {
    "duration": 10,
    "start_time": "2022-12-19T11:03:14.847Z"
   },
   {
    "duration": 117,
    "start_time": "2022-12-19T11:03:14.858Z"
   },
   {
    "duration": 6,
    "start_time": "2022-12-19T11:03:14.977Z"
   },
   {
    "duration": 75,
    "start_time": "2022-12-19T11:03:14.985Z"
   },
   {
    "duration": 409,
    "start_time": "2022-12-19T11:03:15.062Z"
   },
   {
    "duration": 4,
    "start_time": "2022-12-19T11:03:15.473Z"
   },
   {
    "duration": 51,
    "start_time": "2022-12-19T11:03:15.478Z"
   },
   {
    "duration": 265,
    "start_time": "2022-12-19T11:03:15.530Z"
   },
   {
    "duration": 27,
    "start_time": "2022-12-19T11:03:15.797Z"
   },
   {
    "duration": 14,
    "start_time": "2022-12-19T11:03:15.831Z"
   },
   {
    "duration": 26,
    "start_time": "2022-12-19T11:03:15.847Z"
   },
   {
    "duration": 282,
    "start_time": "2022-12-19T11:03:15.875Z"
   },
   {
    "duration": 284,
    "start_time": "2022-12-19T11:03:16.158Z"
   },
   {
    "duration": 359,
    "start_time": "2022-12-19T11:03:16.444Z"
   },
   {
    "duration": 18,
    "start_time": "2022-12-19T11:03:16.805Z"
   },
   {
    "duration": 38,
    "start_time": "2022-12-19T11:03:16.825Z"
   },
   {
    "duration": 15,
    "start_time": "2022-12-19T11:03:16.865Z"
   },
   {
    "duration": 14,
    "start_time": "2022-12-19T11:03:16.882Z"
   },
   {
    "duration": 37,
    "start_time": "2022-12-19T11:03:16.898Z"
   },
   {
    "duration": 14,
    "start_time": "2022-12-19T11:03:16.936Z"
   },
   {
    "duration": 16,
    "start_time": "2022-12-19T11:03:16.952Z"
   },
   {
    "duration": 17,
    "start_time": "2022-12-19T11:03:16.970Z"
   },
   {
    "duration": 67,
    "start_time": "2022-12-19T11:03:16.989Z"
   },
   {
    "duration": 0,
    "start_time": "2022-12-19T11:03:17.058Z"
   },
   {
    "duration": 0,
    "start_time": "2022-12-19T11:03:17.060Z"
   },
   {
    "duration": 0,
    "start_time": "2022-12-19T11:03:17.061Z"
   },
   {
    "duration": 0,
    "start_time": "2022-12-19T11:03:17.063Z"
   },
   {
    "duration": 0,
    "start_time": "2022-12-19T11:03:17.064Z"
   },
   {
    "duration": 0,
    "start_time": "2022-12-19T11:03:17.066Z"
   },
   {
    "duration": 0,
    "start_time": "2022-12-19T11:03:17.067Z"
   },
   {
    "duration": 0,
    "start_time": "2022-12-19T11:03:17.069Z"
   },
   {
    "duration": 0,
    "start_time": "2022-12-19T11:03:17.070Z"
   },
   {
    "duration": 0,
    "start_time": "2022-12-19T11:03:17.072Z"
   },
   {
    "duration": 0,
    "start_time": "2022-12-19T11:03:17.073Z"
   },
   {
    "duration": 0,
    "start_time": "2022-12-19T11:03:17.075Z"
   },
   {
    "duration": 0,
    "start_time": "2022-12-19T11:03:17.077Z"
   },
   {
    "duration": 0,
    "start_time": "2022-12-19T11:03:17.078Z"
   },
   {
    "duration": 0,
    "start_time": "2022-12-19T11:03:17.079Z"
   },
   {
    "duration": 0,
    "start_time": "2022-12-19T11:03:17.081Z"
   },
   {
    "duration": 8,
    "start_time": "2022-12-19T11:03:39.934Z"
   },
   {
    "duration": 190,
    "start_time": "2022-12-19T11:03:39.944Z"
   },
   {
    "duration": 14,
    "start_time": "2022-12-19T11:03:40.136Z"
   },
   {
    "duration": 47,
    "start_time": "2022-12-19T11:03:40.153Z"
   },
   {
    "duration": 11,
    "start_time": "2022-12-19T11:03:40.202Z"
   },
   {
    "duration": 44,
    "start_time": "2022-12-19T11:03:40.214Z"
   },
   {
    "duration": 41,
    "start_time": "2022-12-19T11:03:40.260Z"
   },
   {
    "duration": 10,
    "start_time": "2022-12-19T11:03:40.303Z"
   },
   {
    "duration": 35,
    "start_time": "2022-12-19T11:03:40.314Z"
   },
   {
    "duration": 25,
    "start_time": "2022-12-19T11:03:40.352Z"
   },
   {
    "duration": 17,
    "start_time": "2022-12-19T11:03:40.379Z"
   },
   {
    "duration": 23,
    "start_time": "2022-12-19T11:03:40.398Z"
   },
   {
    "duration": 23,
    "start_time": "2022-12-19T11:03:40.422Z"
   },
   {
    "duration": 10,
    "start_time": "2022-12-19T11:03:40.447Z"
   },
   {
    "duration": 8,
    "start_time": "2022-12-19T11:03:40.459Z"
   },
   {
    "duration": 14,
    "start_time": "2022-12-19T11:03:40.469Z"
   },
   {
    "duration": 39,
    "start_time": "2022-12-19T11:03:40.485Z"
   },
   {
    "duration": 23,
    "start_time": "2022-12-19T11:03:40.529Z"
   },
   {
    "duration": 89,
    "start_time": "2022-12-19T11:03:40.554Z"
   },
   {
    "duration": 11,
    "start_time": "2022-12-19T11:03:40.644Z"
   },
   {
    "duration": 67,
    "start_time": "2022-12-19T11:03:40.656Z"
   },
   {
    "duration": 4,
    "start_time": "2022-12-19T11:03:40.725Z"
   },
   {
    "duration": 11,
    "start_time": "2022-12-19T11:03:40.730Z"
   },
   {
    "duration": 31,
    "start_time": "2022-12-19T11:03:40.742Z"
   },
   {
    "duration": 6,
    "start_time": "2022-12-19T11:03:40.775Z"
   },
   {
    "duration": 33,
    "start_time": "2022-12-19T11:03:40.783Z"
   },
   {
    "duration": 8,
    "start_time": "2022-12-19T11:03:40.831Z"
   },
   {
    "duration": 30,
    "start_time": "2022-12-19T11:03:40.845Z"
   },
   {
    "duration": 13,
    "start_time": "2022-12-19T11:03:40.877Z"
   },
   {
    "duration": 42,
    "start_time": "2022-12-19T11:03:40.891Z"
   },
   {
    "duration": 9,
    "start_time": "2022-12-19T11:03:40.935Z"
   },
   {
    "duration": 17,
    "start_time": "2022-12-19T11:03:40.946Z"
   },
   {
    "duration": 15,
    "start_time": "2022-12-19T11:03:40.965Z"
   },
   {
    "duration": 120,
    "start_time": "2022-12-19T11:03:40.982Z"
   },
   {
    "duration": 16,
    "start_time": "2022-12-19T11:03:41.103Z"
   },
   {
    "duration": 56,
    "start_time": "2022-12-19T11:03:41.121Z"
   },
   {
    "duration": 334,
    "start_time": "2022-12-19T11:03:41.179Z"
   },
   {
    "duration": 11,
    "start_time": "2022-12-19T11:03:41.518Z"
   },
   {
    "duration": 32,
    "start_time": "2022-12-19T11:03:41.532Z"
   },
   {
    "duration": 243,
    "start_time": "2022-12-19T11:03:41.566Z"
   },
   {
    "duration": 15,
    "start_time": "2022-12-19T11:03:41.816Z"
   },
   {
    "duration": 16,
    "start_time": "2022-12-19T11:03:41.836Z"
   },
   {
    "duration": 18,
    "start_time": "2022-12-19T11:03:41.854Z"
   },
   {
    "duration": 324,
    "start_time": "2022-12-19T11:03:41.874Z"
   },
   {
    "duration": 288,
    "start_time": "2022-12-19T11:03:42.200Z"
   },
   {
    "duration": 270,
    "start_time": "2022-12-19T11:03:42.491Z"
   },
   {
    "duration": 11,
    "start_time": "2022-12-19T11:03:42.762Z"
   },
   {
    "duration": 24,
    "start_time": "2022-12-19T11:03:42.775Z"
   },
   {
    "duration": 30,
    "start_time": "2022-12-19T11:03:42.801Z"
   },
   {
    "duration": 8,
    "start_time": "2022-12-19T11:03:42.833Z"
   },
   {
    "duration": 25,
    "start_time": "2022-12-19T11:03:42.842Z"
   },
   {
    "duration": 13,
    "start_time": "2022-12-19T11:03:42.869Z"
   },
   {
    "duration": 41,
    "start_time": "2022-12-19T11:03:42.884Z"
   },
   {
    "duration": 3,
    "start_time": "2022-12-19T11:03:42.926Z"
   },
   {
    "duration": 14,
    "start_time": "2022-12-19T11:03:42.930Z"
   },
   {
    "duration": 158,
    "start_time": "2022-12-19T11:03:42.946Z"
   },
   {
    "duration": 0,
    "start_time": "2022-12-19T11:03:43.106Z"
   },
   {
    "duration": 0,
    "start_time": "2022-12-19T11:03:43.108Z"
   },
   {
    "duration": 0,
    "start_time": "2022-12-19T11:03:43.118Z"
   },
   {
    "duration": 0,
    "start_time": "2022-12-19T11:03:43.119Z"
   },
   {
    "duration": 0,
    "start_time": "2022-12-19T11:03:43.126Z"
   },
   {
    "duration": 0,
    "start_time": "2022-12-19T11:03:43.127Z"
   },
   {
    "duration": 0,
    "start_time": "2022-12-19T11:03:43.128Z"
   },
   {
    "duration": 0,
    "start_time": "2022-12-19T11:03:43.128Z"
   },
   {
    "duration": 0,
    "start_time": "2022-12-19T11:03:43.129Z"
   },
   {
    "duration": 0,
    "start_time": "2022-12-19T11:03:43.130Z"
   },
   {
    "duration": 0,
    "start_time": "2022-12-19T11:03:43.131Z"
   },
   {
    "duration": 0,
    "start_time": "2022-12-19T11:03:43.132Z"
   },
   {
    "duration": 0,
    "start_time": "2022-12-19T11:03:43.132Z"
   },
   {
    "duration": 0,
    "start_time": "2022-12-19T11:03:43.133Z"
   },
   {
    "duration": 53,
    "start_time": "2022-12-19T11:04:27.079Z"
   },
   {
    "duration": 1273,
    "start_time": "2022-12-19T11:04:40.000Z"
   },
   {
    "duration": 125,
    "start_time": "2022-12-19T11:04:41.275Z"
   },
   {
    "duration": 25,
    "start_time": "2022-12-19T11:04:41.401Z"
   },
   {
    "duration": 26,
    "start_time": "2022-12-19T11:04:41.433Z"
   },
   {
    "duration": 8,
    "start_time": "2022-12-19T11:04:41.461Z"
   },
   {
    "duration": 30,
    "start_time": "2022-12-19T11:04:41.471Z"
   },
   {
    "duration": 52,
    "start_time": "2022-12-19T11:04:41.503Z"
   },
   {
    "duration": 15,
    "start_time": "2022-12-19T11:04:41.557Z"
   },
   {
    "duration": 46,
    "start_time": "2022-12-19T11:04:41.574Z"
   },
   {
    "duration": 95,
    "start_time": "2022-12-19T11:04:41.624Z"
   },
   {
    "duration": 26,
    "start_time": "2022-12-19T11:04:41.724Z"
   },
   {
    "duration": 6,
    "start_time": "2022-12-19T11:04:41.752Z"
   },
   {
    "duration": 40,
    "start_time": "2022-12-19T11:04:41.760Z"
   },
   {
    "duration": 22,
    "start_time": "2022-12-19T11:04:41.801Z"
   },
   {
    "duration": 7,
    "start_time": "2022-12-19T11:04:41.830Z"
   },
   {
    "duration": 14,
    "start_time": "2022-12-19T11:04:41.839Z"
   },
   {
    "duration": 21,
    "start_time": "2022-12-19T11:04:41.855Z"
   },
   {
    "duration": 25,
    "start_time": "2022-12-19T11:04:41.878Z"
   },
   {
    "duration": 96,
    "start_time": "2022-12-19T11:04:41.905Z"
   },
   {
    "duration": 28,
    "start_time": "2022-12-19T11:04:42.003Z"
   },
   {
    "duration": 47,
    "start_time": "2022-12-19T11:04:42.033Z"
   },
   {
    "duration": 4,
    "start_time": "2022-12-19T11:04:42.082Z"
   },
   {
    "duration": 8,
    "start_time": "2022-12-19T11:04:42.087Z"
   },
   {
    "duration": 35,
    "start_time": "2022-12-19T11:04:42.098Z"
   },
   {
    "duration": 9,
    "start_time": "2022-12-19T11:04:42.135Z"
   },
   {
    "duration": 32,
    "start_time": "2022-12-19T11:04:42.146Z"
   },
   {
    "duration": 7,
    "start_time": "2022-12-19T11:04:42.180Z"
   },
   {
    "duration": 59,
    "start_time": "2022-12-19T11:04:42.191Z"
   },
   {
    "duration": 13,
    "start_time": "2022-12-19T11:04:42.252Z"
   },
   {
    "duration": 17,
    "start_time": "2022-12-19T11:04:42.266Z"
   },
   {
    "duration": 7,
    "start_time": "2022-12-19T11:04:42.284Z"
   },
   {
    "duration": 23,
    "start_time": "2022-12-19T11:04:42.315Z"
   },
   {
    "duration": 11,
    "start_time": "2022-12-19T11:04:42.340Z"
   },
   {
    "duration": 123,
    "start_time": "2022-12-19T11:04:42.353Z"
   },
   {
    "duration": 7,
    "start_time": "2022-12-19T11:04:42.478Z"
   },
   {
    "duration": 92,
    "start_time": "2022-12-19T11:04:42.487Z"
   },
   {
    "duration": 410,
    "start_time": "2022-12-19T11:04:42.581Z"
   },
   {
    "duration": 5,
    "start_time": "2022-12-19T11:04:42.993Z"
   },
   {
    "duration": 41,
    "start_time": "2022-12-19T11:04:43.000Z"
   },
   {
    "duration": 282,
    "start_time": "2022-12-19T11:04:43.042Z"
   },
   {
    "duration": 15,
    "start_time": "2022-12-19T11:04:43.329Z"
   },
   {
    "duration": 17,
    "start_time": "2022-12-19T11:04:43.347Z"
   },
   {
    "duration": 18,
    "start_time": "2022-12-19T11:04:43.366Z"
   },
   {
    "duration": 277,
    "start_time": "2022-12-19T11:04:43.386Z"
   },
   {
    "duration": 276,
    "start_time": "2022-12-19T11:04:43.665Z"
   },
   {
    "duration": 341,
    "start_time": "2022-12-19T11:04:43.943Z"
   },
   {
    "duration": 11,
    "start_time": "2022-12-19T11:04:44.285Z"
   },
   {
    "duration": 63,
    "start_time": "2022-12-19T11:04:44.298Z"
   },
   {
    "duration": 16,
    "start_time": "2022-12-19T11:04:44.363Z"
   },
   {
    "duration": 14,
    "start_time": "2022-12-19T11:04:44.381Z"
   },
   {
    "duration": 52,
    "start_time": "2022-12-19T11:04:44.396Z"
   },
   {
    "duration": 12,
    "start_time": "2022-12-19T11:04:44.450Z"
   },
   {
    "duration": 17,
    "start_time": "2022-12-19T11:04:44.464Z"
   },
   {
    "duration": 10,
    "start_time": "2022-12-19T11:04:44.482Z"
   },
   {
    "duration": 9,
    "start_time": "2022-12-19T11:05:13.681Z"
   },
   {
    "duration": 187,
    "start_time": "2022-12-19T11:05:13.693Z"
   },
   {
    "duration": 3,
    "start_time": "2022-12-19T11:05:33.765Z"
   },
   {
    "duration": 6,
    "start_time": "2022-12-19T11:05:35.836Z"
   },
   {
    "duration": 8,
    "start_time": "2022-12-19T11:05:39.486Z"
   },
   {
    "duration": 12,
    "start_time": "2022-12-19T11:05:53.846Z"
   },
   {
    "duration": 8,
    "start_time": "2022-12-19T11:05:54.870Z"
   },
   {
    "duration": 482,
    "start_time": "2022-12-19T11:05:56.110Z"
   },
   {
    "duration": 17,
    "start_time": "2022-12-19T11:07:46.762Z"
   },
   {
    "duration": 58,
    "start_time": "2022-12-19T11:08:20.536Z"
   },
   {
    "duration": 23,
    "start_time": "2022-12-19T11:11:44.865Z"
   },
   {
    "duration": 18,
    "start_time": "2022-12-19T11:12:07.487Z"
   },
   {
    "duration": 19,
    "start_time": "2022-12-19T11:12:19.127Z"
   },
   {
    "duration": 17,
    "start_time": "2022-12-19T11:12:20.527Z"
   },
   {
    "duration": 2,
    "start_time": "2022-12-19T11:12:24.120Z"
   },
   {
    "duration": 3,
    "start_time": "2022-12-19T11:12:59.608Z"
   },
   {
    "duration": 49,
    "start_time": "2022-12-19T11:13:01.608Z"
   },
   {
    "duration": 54,
    "start_time": "2022-12-19T11:13:02.944Z"
   },
   {
    "duration": 3,
    "start_time": "2022-12-19T11:13:04.226Z"
   },
   {
    "duration": 5,
    "start_time": "2022-12-19T11:13:05.048Z"
   },
   {
    "duration": 18,
    "start_time": "2022-12-19T11:13:06.279Z"
   },
   {
    "duration": 17,
    "start_time": "2022-12-19T11:13:07.447Z"
   },
   {
    "duration": 8,
    "start_time": "2022-12-19T11:14:54.576Z"
   },
   {
    "duration": 55,
    "start_time": "2022-12-19T11:15:17.783Z"
   },
   {
    "duration": 30,
    "start_time": "2022-12-19T11:15:34.769Z"
   },
   {
    "duration": 76,
    "start_time": "2022-12-19T11:16:04.086Z"
   },
   {
    "duration": 17,
    "start_time": "2022-12-19T11:16:13.193Z"
   },
   {
    "duration": 28,
    "start_time": "2022-12-19T11:16:22.366Z"
   },
   {
    "duration": 7,
    "start_time": "2022-12-19T11:21:49.695Z"
   },
   {
    "duration": 28,
    "start_time": "2022-12-19T11:21:52.536Z"
   },
   {
    "duration": 7,
    "start_time": "2022-12-19T11:27:21.498Z"
   },
   {
    "duration": 870,
    "start_time": "2022-12-19T11:27:22.993Z"
   },
   {
    "duration": 812,
    "start_time": "2022-12-19T11:27:34.240Z"
   },
   {
    "duration": 0,
    "start_time": "2022-12-19T11:27:35.054Z"
   },
   {
    "duration": 10,
    "start_time": "2022-12-19T11:29:34.394Z"
   },
   {
    "duration": 27,
    "start_time": "2022-12-19T11:29:35.361Z"
   },
   {
    "duration": 3,
    "start_time": "2022-12-19T11:29:38.783Z"
   },
   {
    "duration": 5,
    "start_time": "2022-12-19T11:29:39.402Z"
   },
   {
    "duration": 17,
    "start_time": "2022-12-19T11:29:41.986Z"
   },
   {
    "duration": 17,
    "start_time": "2022-12-19T11:29:42.721Z"
   },
   {
    "duration": 7,
    "start_time": "2022-12-19T11:29:48.529Z"
   },
   {
    "duration": 548,
    "start_time": "2022-12-19T11:29:48.577Z"
   },
   {
    "duration": 431,
    "start_time": "2022-12-19T11:29:56.962Z"
   },
   {
    "duration": 43,
    "start_time": "2022-12-19T11:32:05.526Z"
   },
   {
    "duration": 12,
    "start_time": "2022-12-19T11:32:12.936Z"
   },
   {
    "duration": 31,
    "start_time": "2022-12-19T11:32:13.672Z"
   },
   {
    "duration": 11,
    "start_time": "2022-12-19T11:32:20.057Z"
   },
   {
    "duration": 9,
    "start_time": "2022-12-19T11:32:33.904Z"
   },
   {
    "duration": 513,
    "start_time": "2022-12-19T11:33:14.290Z"
   },
   {
    "duration": 448,
    "start_time": "2022-12-19T11:33:28.049Z"
   },
   {
    "duration": 3,
    "start_time": "2022-12-19T11:34:58.513Z"
   },
   {
    "duration": 88,
    "start_time": "2022-12-19T11:35:01.455Z"
   },
   {
    "duration": 26,
    "start_time": "2022-12-19T11:35:01.689Z"
   },
   {
    "duration": 4,
    "start_time": "2022-12-19T11:35:02.065Z"
   },
   {
    "duration": 5,
    "start_time": "2022-12-19T11:35:02.280Z"
   },
   {
    "duration": 11,
    "start_time": "2022-12-19T11:35:02.924Z"
   },
   {
    "duration": 29,
    "start_time": "2022-12-19T11:35:03.159Z"
   },
   {
    "duration": 12,
    "start_time": "2022-12-19T11:35:03.413Z"
   },
   {
    "duration": 518,
    "start_time": "2022-12-19T11:35:03.711Z"
   },
   {
    "duration": 461,
    "start_time": "2022-12-19T11:35:04.231Z"
   },
   {
    "duration": 593,
    "start_time": "2022-12-19T11:35:13.887Z"
   },
   {
    "duration": 507,
    "start_time": "2022-12-19T11:35:15.400Z"
   },
   {
    "duration": 3,
    "start_time": "2022-12-19T11:36:10.361Z"
   },
   {
    "duration": 8,
    "start_time": "2022-12-19T11:36:11.200Z"
   },
   {
    "duration": 28,
    "start_time": "2022-12-19T11:36:11.342Z"
   },
   {
    "duration": 3,
    "start_time": "2022-12-19T11:36:11.516Z"
   },
   {
    "duration": 5,
    "start_time": "2022-12-19T11:36:11.687Z"
   },
   {
    "duration": 16,
    "start_time": "2022-12-19T11:36:12.208Z"
   },
   {
    "duration": 45,
    "start_time": "2022-12-19T11:36:12.390Z"
   },
   {
    "duration": 8,
    "start_time": "2022-12-19T11:36:12.540Z"
   },
   {
    "duration": 503,
    "start_time": "2022-12-19T11:36:12.701Z"
   },
   {
    "duration": 447,
    "start_time": "2022-12-19T11:36:13.215Z"
   },
   {
    "duration": 13,
    "start_time": "2022-12-19T11:38:08.608Z"
   },
   {
    "duration": 102,
    "start_time": "2022-12-19T12:25:41.649Z"
   },
   {
    "duration": 14,
    "start_time": "2022-12-19T12:33:06.954Z"
   },
   {
    "duration": 6,
    "start_time": "2022-12-19T12:33:33.529Z"
   },
   {
    "duration": 738,
    "start_time": "2022-12-19T12:33:39.857Z"
   },
   {
    "duration": 31,
    "start_time": "2022-12-19T12:34:58.427Z"
   },
   {
    "duration": 12,
    "start_time": "2022-12-19T12:35:04.482Z"
   },
   {
    "duration": 21,
    "start_time": "2022-12-19T12:42:10.170Z"
   },
   {
    "duration": 4,
    "start_time": "2022-12-19T12:43:18.304Z"
   },
   {
    "duration": 6,
    "start_time": "2022-12-19T12:43:24.657Z"
   },
   {
    "duration": 6,
    "start_time": "2022-12-19T12:47:35.655Z"
   },
   {
    "duration": 5,
    "start_time": "2022-12-19T12:47:42.000Z"
   },
   {
    "duration": 18,
    "start_time": "2022-12-19T12:51:25.575Z"
   },
   {
    "duration": 875,
    "start_time": "2022-12-19T12:52:00.080Z"
   },
   {
    "duration": 14,
    "start_time": "2022-12-19T12:52:17.792Z"
   },
   {
    "duration": 16,
    "start_time": "2022-12-19T13:00:36.552Z"
   },
   {
    "duration": 19,
    "start_time": "2022-12-19T13:00:50.855Z"
   },
   {
    "duration": 43,
    "start_time": "2022-12-19T13:41:18.497Z"
   },
   {
    "duration": 1451,
    "start_time": "2022-12-19T13:41:25.290Z"
   },
   {
    "duration": 456,
    "start_time": "2022-12-19T13:41:26.743Z"
   },
   {
    "duration": 15,
    "start_time": "2022-12-19T13:41:27.200Z"
   },
   {
    "duration": 59,
    "start_time": "2022-12-19T13:41:27.217Z"
   },
   {
    "duration": 7,
    "start_time": "2022-12-19T13:41:27.278Z"
   },
   {
    "duration": 27,
    "start_time": "2022-12-19T13:41:27.286Z"
   },
   {
    "duration": 37,
    "start_time": "2022-12-19T13:41:27.315Z"
   },
   {
    "duration": 9,
    "start_time": "2022-12-19T13:41:27.354Z"
   },
   {
    "duration": 40,
    "start_time": "2022-12-19T13:41:27.364Z"
   },
   {
    "duration": 58,
    "start_time": "2022-12-19T13:41:27.406Z"
   },
   {
    "duration": 35,
    "start_time": "2022-12-19T13:41:27.466Z"
   },
   {
    "duration": 6,
    "start_time": "2022-12-19T13:41:27.502Z"
   },
   {
    "duration": 46,
    "start_time": "2022-12-19T13:41:27.509Z"
   },
   {
    "duration": 11,
    "start_time": "2022-12-19T13:41:27.558Z"
   },
   {
    "duration": 24,
    "start_time": "2022-12-19T13:41:27.571Z"
   },
   {
    "duration": 25,
    "start_time": "2022-12-19T13:41:27.596Z"
   },
   {
    "duration": 17,
    "start_time": "2022-12-19T13:41:27.622Z"
   },
   {
    "duration": 18,
    "start_time": "2022-12-19T13:41:27.640Z"
   },
   {
    "duration": 81,
    "start_time": "2022-12-19T13:41:27.659Z"
   },
   {
    "duration": 11,
    "start_time": "2022-12-19T13:41:27.742Z"
   },
   {
    "duration": 62,
    "start_time": "2022-12-19T13:41:27.754Z"
   },
   {
    "duration": 4,
    "start_time": "2022-12-19T13:41:27.817Z"
   },
   {
    "duration": 19,
    "start_time": "2022-12-19T13:41:27.822Z"
   },
   {
    "duration": 35,
    "start_time": "2022-12-19T13:41:27.843Z"
   },
   {
    "duration": 7,
    "start_time": "2022-12-19T13:41:27.879Z"
   },
   {
    "duration": 27,
    "start_time": "2022-12-19T13:41:27.897Z"
   },
   {
    "duration": 13,
    "start_time": "2022-12-19T13:41:27.925Z"
   },
   {
    "duration": 38,
    "start_time": "2022-12-19T13:41:27.939Z"
   },
   {
    "duration": 24,
    "start_time": "2022-12-19T13:41:27.979Z"
   },
   {
    "duration": 17,
    "start_time": "2022-12-19T13:41:28.005Z"
   },
   {
    "duration": 8,
    "start_time": "2022-12-19T13:41:28.023Z"
   },
   {
    "duration": 19,
    "start_time": "2022-12-19T13:41:28.032Z"
   },
   {
    "duration": 9,
    "start_time": "2022-12-19T13:41:28.052Z"
   },
   {
    "duration": 114,
    "start_time": "2022-12-19T13:41:28.063Z"
   },
   {
    "duration": 6,
    "start_time": "2022-12-19T13:41:28.178Z"
   },
   {
    "duration": 61,
    "start_time": "2022-12-19T13:41:28.185Z"
   },
   {
    "duration": 359,
    "start_time": "2022-12-19T13:41:28.248Z"
   },
   {
    "duration": 4,
    "start_time": "2022-12-19T13:41:28.609Z"
   },
   {
    "duration": 55,
    "start_time": "2022-12-19T13:41:28.615Z"
   },
   {
    "duration": 229,
    "start_time": "2022-12-19T13:41:28.672Z"
   },
   {
    "duration": 11,
    "start_time": "2022-12-19T13:41:28.905Z"
   },
   {
    "duration": 81,
    "start_time": "2022-12-19T13:41:28.917Z"
   },
   {
    "duration": 0,
    "start_time": "2022-12-19T13:41:28.999Z"
   },
   {
    "duration": 0,
    "start_time": "2022-12-19T13:41:29.000Z"
   },
   {
    "duration": 0,
    "start_time": "2022-12-19T13:41:29.001Z"
   },
   {
    "duration": 0,
    "start_time": "2022-12-19T13:41:29.002Z"
   },
   {
    "duration": 0,
    "start_time": "2022-12-19T13:41:29.004Z"
   },
   {
    "duration": 0,
    "start_time": "2022-12-19T13:41:29.005Z"
   },
   {
    "duration": 0,
    "start_time": "2022-12-19T13:41:29.006Z"
   },
   {
    "duration": 0,
    "start_time": "2022-12-19T13:41:29.007Z"
   },
   {
    "duration": 0,
    "start_time": "2022-12-19T13:41:29.008Z"
   },
   {
    "duration": 0,
    "start_time": "2022-12-19T13:41:29.009Z"
   },
   {
    "duration": 0,
    "start_time": "2022-12-19T13:41:29.010Z"
   },
   {
    "duration": 0,
    "start_time": "2022-12-19T13:41:29.011Z"
   },
   {
    "duration": 0,
    "start_time": "2022-12-19T13:41:29.013Z"
   },
   {
    "duration": 0,
    "start_time": "2022-12-19T13:41:29.015Z"
   },
   {
    "duration": 0,
    "start_time": "2022-12-19T13:41:29.016Z"
   },
   {
    "duration": 0,
    "start_time": "2022-12-19T13:41:29.017Z"
   },
   {
    "duration": 0,
    "start_time": "2022-12-19T13:41:29.018Z"
   },
   {
    "duration": 0,
    "start_time": "2022-12-19T13:41:29.019Z"
   },
   {
    "duration": 0,
    "start_time": "2022-12-19T13:41:29.020Z"
   },
   {
    "duration": 0,
    "start_time": "2022-12-19T13:41:29.021Z"
   },
   {
    "duration": 0,
    "start_time": "2022-12-19T13:41:29.022Z"
   },
   {
    "duration": 0,
    "start_time": "2022-12-19T13:41:29.023Z"
   },
   {
    "duration": 0,
    "start_time": "2022-12-19T13:41:29.024Z"
   },
   {
    "duration": 0,
    "start_time": "2022-12-19T13:41:29.025Z"
   },
   {
    "duration": 0,
    "start_time": "2022-12-19T13:41:29.026Z"
   },
   {
    "duration": 10,
    "start_time": "2022-12-19T13:41:53.154Z"
   },
   {
    "duration": 17,
    "start_time": "2022-12-19T13:42:05.530Z"
   },
   {
    "duration": 749,
    "start_time": "2022-12-19T13:44:33.371Z"
   },
   {
    "duration": 158,
    "start_time": "2022-12-19T13:46:38.019Z"
   },
   {
    "duration": 21,
    "start_time": "2022-12-19T13:47:49.434Z"
   },
   {
    "duration": 28,
    "start_time": "2022-12-19T13:48:00.122Z"
   },
   {
    "duration": 16,
    "start_time": "2022-12-19T13:48:12.818Z"
   },
   {
    "duration": 1203,
    "start_time": "2022-12-19T14:11:46.858Z"
   },
   {
    "duration": 106,
    "start_time": "2022-12-19T14:11:48.063Z"
   },
   {
    "duration": 13,
    "start_time": "2022-12-19T14:11:48.171Z"
   },
   {
    "duration": 19,
    "start_time": "2022-12-19T14:11:48.186Z"
   },
   {
    "duration": 7,
    "start_time": "2022-12-19T14:11:48.206Z"
   },
   {
    "duration": 26,
    "start_time": "2022-12-19T14:11:48.214Z"
   },
   {
    "duration": 57,
    "start_time": "2022-12-19T14:11:48.242Z"
   },
   {
    "duration": 12,
    "start_time": "2022-12-19T14:11:48.302Z"
   },
   {
    "duration": 17,
    "start_time": "2022-12-19T14:11:48.316Z"
   },
   {
    "duration": 75,
    "start_time": "2022-12-19T14:11:48.336Z"
   },
   {
    "duration": 16,
    "start_time": "2022-12-19T14:11:48.413Z"
   },
   {
    "duration": 5,
    "start_time": "2022-12-19T14:11:48.430Z"
   },
   {
    "duration": 27,
    "start_time": "2022-12-19T14:11:48.437Z"
   },
   {
    "duration": 10,
    "start_time": "2022-12-19T14:11:48.465Z"
   },
   {
    "duration": 6,
    "start_time": "2022-12-19T14:11:48.496Z"
   },
   {
    "duration": 18,
    "start_time": "2022-12-19T14:11:48.503Z"
   },
   {
    "duration": 12,
    "start_time": "2022-12-19T14:11:48.523Z"
   },
   {
    "duration": 19,
    "start_time": "2022-12-19T14:11:48.537Z"
   },
   {
    "duration": 100,
    "start_time": "2022-12-19T14:11:48.557Z"
   },
   {
    "duration": 10,
    "start_time": "2022-12-19T14:11:48.659Z"
   },
   {
    "duration": 61,
    "start_time": "2022-12-19T14:11:48.670Z"
   },
   {
    "duration": 3,
    "start_time": "2022-12-19T14:11:48.733Z"
   },
   {
    "duration": 11,
    "start_time": "2022-12-19T14:11:48.737Z"
   },
   {
    "duration": 20,
    "start_time": "2022-12-19T14:11:48.750Z"
   },
   {
    "duration": 5,
    "start_time": "2022-12-19T14:11:48.771Z"
   },
   {
    "duration": 22,
    "start_time": "2022-12-19T14:11:48.797Z"
   },
   {
    "duration": 6,
    "start_time": "2022-12-19T14:11:48.821Z"
   },
   {
    "duration": 37,
    "start_time": "2022-12-19T14:11:48.831Z"
   },
   {
    "duration": 11,
    "start_time": "2022-12-19T14:11:48.870Z"
   },
   {
    "duration": 13,
    "start_time": "2022-12-19T14:11:48.897Z"
   },
   {
    "duration": 22,
    "start_time": "2022-12-19T14:11:48.911Z"
   },
   {
    "duration": 15,
    "start_time": "2022-12-19T14:11:48.935Z"
   },
   {
    "duration": 10,
    "start_time": "2022-12-19T14:11:48.951Z"
   },
   {
    "duration": 112,
    "start_time": "2022-12-19T14:11:48.962Z"
   },
   {
    "duration": 5,
    "start_time": "2022-12-19T14:11:49.076Z"
   },
   {
    "duration": 65,
    "start_time": "2022-12-19T14:11:49.083Z"
   },
   {
    "duration": 351,
    "start_time": "2022-12-19T14:11:49.150Z"
   },
   {
    "duration": 4,
    "start_time": "2022-12-19T14:11:49.502Z"
   },
   {
    "duration": 28,
    "start_time": "2022-12-19T14:11:49.508Z"
   },
   {
    "duration": 235,
    "start_time": "2022-12-19T14:11:49.538Z"
   },
   {
    "duration": 11,
    "start_time": "2022-12-19T14:11:49.774Z"
   },
   {
    "duration": 11,
    "start_time": "2022-12-19T14:11:49.796Z"
   },
   {
    "duration": 15,
    "start_time": "2022-12-19T14:11:49.808Z"
   },
   {
    "duration": 281,
    "start_time": "2022-12-19T14:11:49.825Z"
   },
   {
    "duration": 251,
    "start_time": "2022-12-19T14:11:50.108Z"
   },
   {
    "duration": 311,
    "start_time": "2022-12-19T14:11:50.360Z"
   },
   {
    "duration": 10,
    "start_time": "2022-12-19T14:11:50.673Z"
   },
   {
    "duration": 17,
    "start_time": "2022-12-19T14:11:50.696Z"
   },
   {
    "duration": 11,
    "start_time": "2022-12-19T14:11:50.715Z"
   },
   {
    "duration": 8,
    "start_time": "2022-12-19T14:11:50.727Z"
   },
   {
    "duration": 23,
    "start_time": "2022-12-19T14:11:50.736Z"
   },
   {
    "duration": 41,
    "start_time": "2022-12-19T14:11:50.760Z"
   },
   {
    "duration": 15,
    "start_time": "2022-12-19T14:11:50.803Z"
   },
   {
    "duration": 4,
    "start_time": "2022-12-19T14:11:50.819Z"
   },
   {
    "duration": 12,
    "start_time": "2022-12-19T14:11:50.824Z"
   },
   {
    "duration": 42,
    "start_time": "2022-12-19T14:11:50.838Z"
   },
   {
    "duration": 15,
    "start_time": "2022-12-19T14:11:50.881Z"
   },
   {
    "duration": 6,
    "start_time": "2022-12-19T14:11:50.897Z"
   },
   {
    "duration": 110,
    "start_time": "2022-12-19T14:11:50.904Z"
   },
   {
    "duration": 0,
    "start_time": "2022-12-19T14:11:51.015Z"
   },
   {
    "duration": 0,
    "start_time": "2022-12-19T14:11:51.016Z"
   },
   {
    "duration": 0,
    "start_time": "2022-12-19T14:11:51.017Z"
   },
   {
    "duration": 0,
    "start_time": "2022-12-19T14:11:51.018Z"
   },
   {
    "duration": 0,
    "start_time": "2022-12-19T14:11:51.019Z"
   },
   {
    "duration": 0,
    "start_time": "2022-12-19T14:11:51.020Z"
   },
   {
    "duration": 0,
    "start_time": "2022-12-19T14:11:51.021Z"
   },
   {
    "duration": 104,
    "start_time": "2022-12-19T14:23:07.615Z"
   },
   {
    "duration": 5448,
    "start_time": "2022-12-19T14:26:13.132Z"
   },
   {
    "duration": 15,
    "start_time": "2022-12-19T14:26:32.014Z"
   },
   {
    "duration": 11,
    "start_time": "2022-12-19T14:28:25.118Z"
   },
   {
    "duration": 57,
    "start_time": "2022-12-19T14:28:25.951Z"
   },
   {
    "duration": 55,
    "start_time": "2022-12-19T14:34:01.560Z"
   },
   {
    "duration": 1154,
    "start_time": "2022-12-19T14:34:41.891Z"
   },
   {
    "duration": 101,
    "start_time": "2022-12-19T14:34:43.047Z"
   },
   {
    "duration": 14,
    "start_time": "2022-12-19T14:34:43.150Z"
   },
   {
    "duration": 18,
    "start_time": "2022-12-19T14:34:43.165Z"
   },
   {
    "duration": 12,
    "start_time": "2022-12-19T14:34:43.185Z"
   },
   {
    "duration": 36,
    "start_time": "2022-12-19T14:34:43.199Z"
   },
   {
    "duration": 71,
    "start_time": "2022-12-19T14:34:43.237Z"
   },
   {
    "duration": 9,
    "start_time": "2022-12-19T14:34:43.309Z"
   },
   {
    "duration": 17,
    "start_time": "2022-12-19T14:34:43.320Z"
   },
   {
    "duration": 80,
    "start_time": "2022-12-19T14:34:43.338Z"
   },
   {
    "duration": 17,
    "start_time": "2022-12-19T14:34:43.420Z"
   },
   {
    "duration": 6,
    "start_time": "2022-12-19T14:34:43.439Z"
   },
   {
    "duration": 30,
    "start_time": "2022-12-19T14:34:43.446Z"
   },
   {
    "duration": 11,
    "start_time": "2022-12-19T14:34:43.499Z"
   },
   {
    "duration": 9,
    "start_time": "2022-12-19T14:34:43.512Z"
   },
   {
    "duration": 12,
    "start_time": "2022-12-19T14:34:43.523Z"
   },
   {
    "duration": 12,
    "start_time": "2022-12-19T14:34:43.537Z"
   },
   {
    "duration": 16,
    "start_time": "2022-12-19T14:34:43.550Z"
   },
   {
    "duration": 111,
    "start_time": "2022-12-19T14:34:43.567Z"
   },
   {
    "duration": 24,
    "start_time": "2022-12-19T14:34:43.680Z"
   },
   {
    "duration": 43,
    "start_time": "2022-12-19T14:34:43.706Z"
   },
   {
    "duration": 3,
    "start_time": "2022-12-19T14:34:43.751Z"
   },
   {
    "duration": 10,
    "start_time": "2022-12-19T14:34:43.756Z"
   },
   {
    "duration": 42,
    "start_time": "2022-12-19T14:34:43.767Z"
   },
   {
    "duration": 5,
    "start_time": "2022-12-19T14:34:43.810Z"
   },
   {
    "duration": 31,
    "start_time": "2022-12-19T14:34:43.816Z"
   },
   {
    "duration": 6,
    "start_time": "2022-12-19T14:34:43.849Z"
   },
   {
    "duration": 44,
    "start_time": "2022-12-19T14:34:43.857Z"
   },
   {
    "duration": 11,
    "start_time": "2022-12-19T14:34:43.903Z"
   },
   {
    "duration": 21,
    "start_time": "2022-12-19T14:34:43.916Z"
   },
   {
    "duration": 6,
    "start_time": "2022-12-19T14:34:43.939Z"
   },
   {
    "duration": 17,
    "start_time": "2022-12-19T14:34:43.946Z"
   },
   {
    "duration": 38,
    "start_time": "2022-12-19T14:34:43.965Z"
   },
   {
    "duration": 101,
    "start_time": "2022-12-19T14:34:44.004Z"
   },
   {
    "duration": 7,
    "start_time": "2022-12-19T14:34:44.107Z"
   },
   {
    "duration": 54,
    "start_time": "2022-12-19T14:34:44.116Z"
   },
   {
    "duration": 371,
    "start_time": "2022-12-19T14:34:44.172Z"
   },
   {
    "duration": 4,
    "start_time": "2022-12-19T14:34:44.544Z"
   },
   {
    "duration": 31,
    "start_time": "2022-12-19T14:34:44.550Z"
   },
   {
    "duration": 246,
    "start_time": "2022-12-19T14:34:44.583Z"
   },
   {
    "duration": 12,
    "start_time": "2022-12-19T14:34:44.834Z"
   },
   {
    "duration": 13,
    "start_time": "2022-12-19T14:34:44.847Z"
   },
   {
    "duration": 36,
    "start_time": "2022-12-19T14:34:44.861Z"
   },
   {
    "duration": 295,
    "start_time": "2022-12-19T14:34:44.899Z"
   },
   {
    "duration": 241,
    "start_time": "2022-12-19T14:34:45.196Z"
   },
   {
    "duration": 319,
    "start_time": "2022-12-19T14:34:45.439Z"
   },
   {
    "duration": 11,
    "start_time": "2022-12-19T14:34:45.759Z"
   },
   {
    "duration": 30,
    "start_time": "2022-12-19T14:34:45.772Z"
   },
   {
    "duration": 10,
    "start_time": "2022-12-19T14:34:45.803Z"
   },
   {
    "duration": 4,
    "start_time": "2022-12-19T14:34:45.815Z"
   },
   {
    "duration": 20,
    "start_time": "2022-12-19T14:34:45.821Z"
   },
   {
    "duration": 22,
    "start_time": "2022-12-19T14:34:45.842Z"
   },
   {
    "duration": 44,
    "start_time": "2022-12-19T14:34:45.866Z"
   },
   {
    "duration": 18,
    "start_time": "2022-12-19T14:34:45.912Z"
   },
   {
    "duration": 23,
    "start_time": "2022-12-19T14:34:45.933Z"
   },
   {
    "duration": 46,
    "start_time": "2022-12-19T14:34:45.958Z"
   },
   {
    "duration": 3,
    "start_time": "2022-12-19T14:34:46.006Z"
   },
   {
    "duration": 12,
    "start_time": "2022-12-19T14:34:46.011Z"
   },
   {
    "duration": 105,
    "start_time": "2022-12-19T14:34:46.025Z"
   },
   {
    "duration": 0,
    "start_time": "2022-12-19T14:34:46.132Z"
   },
   {
    "duration": 0,
    "start_time": "2022-12-19T14:34:46.133Z"
   },
   {
    "duration": 0,
    "start_time": "2022-12-19T14:34:46.134Z"
   },
   {
    "duration": 0,
    "start_time": "2022-12-19T14:34:46.135Z"
   },
   {
    "duration": 0,
    "start_time": "2022-12-19T14:34:46.136Z"
   },
   {
    "duration": 0,
    "start_time": "2022-12-19T14:34:46.137Z"
   },
   {
    "duration": 0,
    "start_time": "2022-12-19T14:34:46.138Z"
   },
   {
    "duration": 0,
    "start_time": "2022-12-19T14:34:46.139Z"
   },
   {
    "duration": 0,
    "start_time": "2022-12-19T14:34:46.140Z"
   },
   {
    "duration": 0,
    "start_time": "2022-12-19T14:34:46.141Z"
   },
   {
    "duration": 9,
    "start_time": "2022-12-19T14:35:07.050Z"
   },
   {
    "duration": 8,
    "start_time": "2022-12-19T14:35:07.854Z"
   },
   {
    "duration": 520,
    "start_time": "2022-12-19T14:35:08.332Z"
   },
   {
    "duration": 450,
    "start_time": "2022-12-19T14:35:09.127Z"
   },
   {
    "duration": 5,
    "start_time": "2022-12-19T14:35:28.861Z"
   },
   {
    "duration": 13,
    "start_time": "2022-12-19T14:35:29.277Z"
   },
   {
    "duration": 13,
    "start_time": "2022-12-19T14:35:29.996Z"
   },
   {
    "duration": 5866,
    "start_time": "2022-12-19T14:35:35.880Z"
   },
   {
    "duration": 14,
    "start_time": "2022-12-19T14:35:41.749Z"
   },
   {
    "duration": 0,
    "start_time": "2022-12-19T14:35:41.764Z"
   },
   {
    "duration": 49,
    "start_time": "2022-12-19T14:35:48.341Z"
   },
   {
    "duration": 61,
    "start_time": "2022-12-19T14:37:38.429Z"
   },
   {
    "duration": 1224,
    "start_time": "2022-12-19T17:47:34.147Z"
   },
   {
    "duration": 107,
    "start_time": "2022-12-19T17:47:35.373Z"
   },
   {
    "duration": 16,
    "start_time": "2022-12-19T17:47:35.481Z"
   },
   {
    "duration": 22,
    "start_time": "2022-12-19T17:47:35.499Z"
   },
   {
    "duration": 7,
    "start_time": "2022-12-19T17:47:35.523Z"
   },
   {
    "duration": 25,
    "start_time": "2022-12-19T17:47:35.531Z"
   },
   {
    "duration": 47,
    "start_time": "2022-12-19T17:47:35.557Z"
   },
   {
    "duration": 11,
    "start_time": "2022-12-19T17:47:35.605Z"
   },
   {
    "duration": 24,
    "start_time": "2022-12-19T17:47:35.618Z"
   },
   {
    "duration": 73,
    "start_time": "2022-12-19T17:47:35.645Z"
   },
   {
    "duration": 19,
    "start_time": "2022-12-19T17:47:35.720Z"
   },
   {
    "duration": 7,
    "start_time": "2022-12-19T17:47:35.741Z"
   },
   {
    "duration": 50,
    "start_time": "2022-12-19T17:47:35.749Z"
   },
   {
    "duration": 10,
    "start_time": "2022-12-19T17:47:35.801Z"
   },
   {
    "duration": 10,
    "start_time": "2022-12-19T17:47:35.812Z"
   },
   {
    "duration": 16,
    "start_time": "2022-12-19T17:47:35.823Z"
   },
   {
    "duration": 12,
    "start_time": "2022-12-19T17:47:35.840Z"
   },
   {
    "duration": 17,
    "start_time": "2022-12-19T17:47:35.854Z"
   },
   {
    "duration": 111,
    "start_time": "2022-12-19T17:47:35.897Z"
   },
   {
    "duration": 12,
    "start_time": "2022-12-19T17:47:36.009Z"
   },
   {
    "duration": 74,
    "start_time": "2022-12-19T17:47:36.022Z"
   },
   {
    "duration": 4,
    "start_time": "2022-12-19T17:47:36.099Z"
   },
   {
    "duration": 10,
    "start_time": "2022-12-19T17:47:36.105Z"
   },
   {
    "duration": 27,
    "start_time": "2022-12-19T17:47:36.117Z"
   },
   {
    "duration": 7,
    "start_time": "2022-12-19T17:47:36.146Z"
   },
   {
    "duration": 59,
    "start_time": "2022-12-19T17:47:36.155Z"
   },
   {
    "duration": 9,
    "start_time": "2022-12-19T17:47:36.217Z"
   },
   {
    "duration": 41,
    "start_time": "2022-12-19T17:47:36.230Z"
   },
   {
    "duration": 30,
    "start_time": "2022-12-19T17:47:36.273Z"
   },
   {
    "duration": 13,
    "start_time": "2022-12-19T17:47:36.304Z"
   },
   {
    "duration": 9,
    "start_time": "2022-12-19T17:47:36.319Z"
   },
   {
    "duration": 16,
    "start_time": "2022-12-19T17:47:36.330Z"
   },
   {
    "duration": 10,
    "start_time": "2022-12-19T17:47:36.347Z"
   },
   {
    "duration": 123,
    "start_time": "2022-12-19T17:47:36.359Z"
   },
   {
    "duration": 13,
    "start_time": "2022-12-19T17:47:36.484Z"
   },
   {
    "duration": 74,
    "start_time": "2022-12-19T17:47:36.499Z"
   },
   {
    "duration": 370,
    "start_time": "2022-12-19T17:47:36.575Z"
   },
   {
    "duration": 5,
    "start_time": "2022-12-19T17:47:36.947Z"
   },
   {
    "duration": 30,
    "start_time": "2022-12-19T17:47:36.954Z"
   },
   {
    "duration": 226,
    "start_time": "2022-12-19T17:47:36.997Z"
   },
   {
    "duration": 11,
    "start_time": "2022-12-19T17:47:37.225Z"
   },
   {
    "duration": 13,
    "start_time": "2022-12-19T17:47:37.237Z"
   },
   {
    "duration": 17,
    "start_time": "2022-12-19T17:47:37.251Z"
   },
   {
    "duration": 313,
    "start_time": "2022-12-19T17:47:37.269Z"
   },
   {
    "duration": 237,
    "start_time": "2022-12-19T17:47:37.583Z"
   },
   {
    "duration": 321,
    "start_time": "2022-12-19T17:47:37.822Z"
   },
   {
    "duration": 12,
    "start_time": "2022-12-19T17:47:38.145Z"
   },
   {
    "duration": 40,
    "start_time": "2022-12-19T17:47:38.160Z"
   },
   {
    "duration": 16,
    "start_time": "2022-12-19T17:47:38.202Z"
   },
   {
    "duration": 5,
    "start_time": "2022-12-19T17:47:38.221Z"
   },
   {
    "duration": 22,
    "start_time": "2022-12-19T17:47:38.228Z"
   },
   {
    "duration": 51,
    "start_time": "2022-12-19T17:47:38.252Z"
   },
   {
    "duration": 16,
    "start_time": "2022-12-19T17:47:38.305Z"
   },
   {
    "duration": 12,
    "start_time": "2022-12-19T17:47:38.322Z"
   },
   {
    "duration": 8,
    "start_time": "2022-12-19T17:47:38.336Z"
   },
   {
    "duration": 45,
    "start_time": "2022-12-19T17:47:38.345Z"
   },
   {
    "duration": 6,
    "start_time": "2022-12-19T17:47:38.392Z"
   },
   {
    "duration": 13,
    "start_time": "2022-12-19T17:47:38.400Z"
   },
   {
    "duration": 15,
    "start_time": "2022-12-19T17:47:38.415Z"
   },
   {
    "duration": 9,
    "start_time": "2022-12-19T17:47:38.432Z"
   },
   {
    "duration": 7,
    "start_time": "2022-12-19T17:47:38.443Z"
   },
   {
    "duration": 546,
    "start_time": "2022-12-19T17:47:38.452Z"
   },
   {
    "duration": 469,
    "start_time": "2022-12-19T17:47:39.000Z"
   },
   {
    "duration": 5,
    "start_time": "2022-12-19T17:47:39.470Z"
   },
   {
    "duration": 31,
    "start_time": "2022-12-19T17:47:39.478Z"
   },
   {
    "duration": 18,
    "start_time": "2022-12-19T17:47:39.511Z"
   },
   {
    "duration": 69,
    "start_time": "2022-12-19T17:47:39.531Z"
   },
   {
    "duration": 96,
    "start_time": "2022-12-19T20:41:18.726Z"
   },
   {
    "duration": 63,
    "start_time": "2022-12-19T20:41:29.445Z"
   },
   {
    "duration": 73,
    "start_time": "2022-12-19T20:43:20.085Z"
   },
   {
    "duration": 1199,
    "start_time": "2022-12-19T20:43:49.945Z"
   },
   {
    "duration": 115,
    "start_time": "2022-12-19T20:43:51.146Z"
   },
   {
    "duration": 15,
    "start_time": "2022-12-19T20:43:51.262Z"
   },
   {
    "duration": 27,
    "start_time": "2022-12-19T20:43:51.279Z"
   },
   {
    "duration": 10,
    "start_time": "2022-12-19T20:43:51.315Z"
   },
   {
    "duration": 27,
    "start_time": "2022-12-19T20:43:51.328Z"
   },
   {
    "duration": 40,
    "start_time": "2022-12-19T20:43:51.356Z"
   },
   {
    "duration": 16,
    "start_time": "2022-12-19T20:43:51.397Z"
   },
   {
    "duration": 41,
    "start_time": "2022-12-19T20:43:51.415Z"
   },
   {
    "duration": 69,
    "start_time": "2022-12-19T20:43:51.458Z"
   },
   {
    "duration": 22,
    "start_time": "2022-12-19T20:43:51.529Z"
   },
   {
    "duration": 13,
    "start_time": "2022-12-19T20:43:51.553Z"
   },
   {
    "duration": 36,
    "start_time": "2022-12-19T20:43:51.568Z"
   },
   {
    "duration": 14,
    "start_time": "2022-12-19T20:43:51.608Z"
   },
   {
    "duration": 31,
    "start_time": "2022-12-19T20:43:51.624Z"
   },
   {
    "duration": 16,
    "start_time": "2022-12-19T20:43:51.657Z"
   },
   {
    "duration": 13,
    "start_time": "2022-12-19T20:43:51.675Z"
   },
   {
    "duration": 21,
    "start_time": "2022-12-19T20:43:51.689Z"
   },
   {
    "duration": 108,
    "start_time": "2022-12-19T20:43:51.713Z"
   },
   {
    "duration": 14,
    "start_time": "2022-12-19T20:43:51.824Z"
   },
   {
    "duration": 41,
    "start_time": "2022-12-19T20:43:51.839Z"
   },
   {
    "duration": 4,
    "start_time": "2022-12-19T20:43:51.882Z"
   },
   {
    "duration": 54,
    "start_time": "2022-12-19T20:43:51.888Z"
   },
   {
    "duration": 33,
    "start_time": "2022-12-19T20:43:51.944Z"
   },
   {
    "duration": 5,
    "start_time": "2022-12-19T20:43:51.979Z"
   },
   {
    "duration": 35,
    "start_time": "2022-12-19T20:43:51.985Z"
   },
   {
    "duration": 10,
    "start_time": "2022-12-19T20:43:52.023Z"
   },
   {
    "duration": 28,
    "start_time": "2022-12-19T20:43:52.036Z"
   },
   {
    "duration": 10,
    "start_time": "2022-12-19T20:43:52.066Z"
   },
   {
    "duration": 26,
    "start_time": "2022-12-19T20:43:52.078Z"
   },
   {
    "duration": 64,
    "start_time": "2022-12-19T20:43:52.105Z"
   },
   {
    "duration": 35,
    "start_time": "2022-12-19T20:43:52.170Z"
   },
   {
    "duration": 29,
    "start_time": "2022-12-19T20:43:52.207Z"
   },
   {
    "duration": 117,
    "start_time": "2022-12-19T20:43:52.238Z"
   },
   {
    "duration": 6,
    "start_time": "2022-12-19T20:43:52.356Z"
   },
   {
    "duration": 76,
    "start_time": "2022-12-19T20:43:52.364Z"
   },
   {
    "duration": 415,
    "start_time": "2022-12-19T20:43:52.442Z"
   },
   {
    "duration": 5,
    "start_time": "2022-12-19T20:43:52.859Z"
   },
   {
    "duration": 48,
    "start_time": "2022-12-19T20:43:52.865Z"
   },
   {
    "duration": 259,
    "start_time": "2022-12-19T20:43:52.915Z"
   },
   {
    "duration": 11,
    "start_time": "2022-12-19T20:43:53.176Z"
   },
   {
    "duration": 17,
    "start_time": "2022-12-19T20:43:53.189Z"
   },
   {
    "duration": 38,
    "start_time": "2022-12-19T20:43:53.211Z"
   },
   {
    "duration": 262,
    "start_time": "2022-12-19T20:43:53.250Z"
   },
   {
    "duration": 256,
    "start_time": "2022-12-19T20:43:53.513Z"
   },
   {
    "duration": 354,
    "start_time": "2022-12-19T20:43:53.770Z"
   },
   {
    "duration": 12,
    "start_time": "2022-12-19T20:43:54.125Z"
   },
   {
    "duration": 16,
    "start_time": "2022-12-19T20:43:54.139Z"
   },
   {
    "duration": 12,
    "start_time": "2022-12-19T20:43:54.156Z"
   },
   {
    "duration": 25,
    "start_time": "2022-12-19T20:43:54.170Z"
   },
   {
    "duration": 24,
    "start_time": "2022-12-19T20:43:54.201Z"
   },
   {
    "duration": 24,
    "start_time": "2022-12-19T20:43:54.227Z"
   },
   {
    "duration": 16,
    "start_time": "2022-12-19T20:43:54.252Z"
   },
   {
    "duration": 16,
    "start_time": "2022-12-19T20:43:54.269Z"
   },
   {
    "duration": 43,
    "start_time": "2022-12-19T20:43:54.286Z"
   },
   {
    "duration": 35,
    "start_time": "2022-12-19T20:43:54.331Z"
   },
   {
    "duration": 3,
    "start_time": "2022-12-19T20:43:54.368Z"
   },
   {
    "duration": 9,
    "start_time": "2022-12-19T20:43:54.372Z"
   },
   {
    "duration": 12,
    "start_time": "2022-12-19T20:43:54.382Z"
   },
   {
    "duration": 36,
    "start_time": "2022-12-19T20:43:54.395Z"
   },
   {
    "duration": 4,
    "start_time": "2022-12-19T20:43:54.433Z"
   },
   {
    "duration": 571,
    "start_time": "2022-12-19T20:43:54.439Z"
   },
   {
    "duration": 474,
    "start_time": "2022-12-19T20:43:55.012Z"
   },
   {
    "duration": 13,
    "start_time": "2022-12-19T20:43:55.488Z"
   },
   {
    "duration": 87,
    "start_time": "2022-12-19T20:43:55.506Z"
   },
   {
    "duration": 78,
    "start_time": "2022-12-19T20:43:55.594Z"
   },
   {
    "duration": 81,
    "start_time": "2022-12-19T20:43:55.673Z"
   }
  ],
  "kernelspec": {
   "display_name": "Python 3 (ipykernel)",
   "language": "python",
   "name": "python3"
  },
  "language_info": {
   "codemirror_mode": {
    "name": "ipython",
    "version": 3
   },
   "file_extension": ".py",
   "mimetype": "text/x-python",
   "name": "python",
   "nbconvert_exporter": "python",
   "pygments_lexer": "ipython3",
   "version": "3.9.5"
  },
  "toc": {
   "base_numbering": 1,
   "nav_menu": {},
   "number_sections": true,
   "sideBar": true,
   "skip_h1_title": true,
   "title_cell": "Table of Contents",
   "title_sidebar": "Contents",
   "toc_cell": false,
   "toc_position": {},
   "toc_section_display": true,
   "toc_window_display": false
  }
 },
 "nbformat": 4,
 "nbformat_minor": 2
}
